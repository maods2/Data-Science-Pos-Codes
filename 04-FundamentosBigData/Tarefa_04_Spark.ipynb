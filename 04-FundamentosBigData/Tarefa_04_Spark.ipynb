{
 "cells": [
  {
   "cell_type": "code",
   "execution_count": 1,
   "metadata": {},
   "outputs": [],
   "source": [
    "#Fundamentos em Big Data\n",
    "#Tarefa 04 Spark\n",
    "#Grupo 03\n",
    "#11/02/2021"
   ]
  },
  {
   "cell_type": "code",
   "execution_count": 2,
   "metadata": {},
   "outputs": [],
   "source": [
    "from pyspark.sql import SparkSession\n",
    "import pyspark.sql.functions as F\n",
    "from pyspark.sql.types import StringType\n",
    "from pyspark.sql.types import IntegerType"
   ]
  },
  {
   "cell_type": "code",
   "execution_count": 3,
   "metadata": {},
   "outputs": [],
   "source": [
    "spark = SparkSession.builder \\\n",
    "                    .appName(\"Tarefa_04\") \\\n",
    "                    .config(\"spark.some.config.option\", \"some-value\") \\\n",
    "                    .getOrCreate()"
   ]
  },
  {
   "cell_type": "code",
   "execution_count": 4,
   "metadata": {},
   "outputs": [],
   "source": [
    "df = spark.read.csv('DNPBA2017.csv', header=True)"
   ]
  },
  {
   "cell_type": "code",
   "execution_count": 14,
   "metadata": {},
   "outputs": [
    {
     "name": "stdout",
     "output_type": "stream",
     "text": [
      "CPU times: user 2.73 ms, sys: 0 ns, total: 2.73 ms\n",
      "Wall time: 44.8 ms\n"
     ]
    }
   ],
   "source": [
    "%%time\n",
    "#Gere um subset com todas as mães que tem mais que 40 anos.\n",
    "df2 = df.filter(F.col('IDADEMAE')>40)"
   ]
  },
  {
   "cell_type": "code",
   "execution_count": 22,
   "metadata": {},
   "outputs": [
    {
     "name": "stdout",
     "output_type": "stream",
     "text": [
      "+-------+------------------+\n",
      "|summary|          IDADEMAE|\n",
      "+-------+------------------+\n",
      "|  count|              3735|\n",
      "|   mean| 42.41472556894244|\n",
      "| stddev|1.7832907490020273|\n",
      "|    min|                41|\n",
      "|    max|                61|\n",
      "+-------+------------------+\n",
      "\n"
     ]
    }
   ],
   "source": [
    "df2.filter(F.col('IDADEMAE')!='NA').describe('IDADEMAE').show()"
   ]
  },
  {
   "cell_type": "code",
   "execution_count": 13,
   "metadata": {},
   "outputs": [
    {
     "name": "stdout",
     "output_type": "stream",
     "text": [
      "+-------+------------------+\n",
      "|summary|            ESCMAE|\n",
      "+-------+------------------+\n",
      "|  count|            201501|\n",
      "|   mean|3.9631912496712176|\n",
      "| stddev| 1.096835035129217|\n",
      "|    min|                 1|\n",
      "|    max|                 9|\n",
      "+-------+------------------+\n",
      "\n",
      "CPU times: user 5.28 ms, sys: 138 µs, total: 5.42 ms\n",
      "Wall time: 1.44 s\n"
     ]
    }
   ],
   "source": [
    "%%time\n",
    "#Obtenha estatísticas descritivas do atributo de escolaridade da mãe (min, max, avg, std)\n",
    "df.filter(F.col('ESCMAE')!='NA').describe('ESCMAE').show()"
   ]
  },
  {
   "cell_type": "code",
   "execution_count": 25,
   "metadata": {},
   "outputs": [
    {
     "name": "stdout",
     "output_type": "stream",
     "text": [
      "+----------+-----+\n",
      "|CODMUNNASC|count|\n",
      "+----------+-----+\n",
      "|    150380|    1|\n",
      "|    170700|    6|\n",
      "|    171820|    2|\n",
      "|    171890|    1|\n",
      "|    172100|    9|\n",
      "|    210340|    1|\n",
      "|    220110|    1|\n",
      "|    220190|    2|\n",
      "|    220290|   11|\n",
      "|    220300|    1|\n",
      "|    220320|    2|\n",
      "|    220390|    3|\n",
      "|    220800|    1|\n",
      "|    221060|   74|\n",
      "|    221100|    3|\n",
      "|    230030|    1|\n",
      "|    230190|    1|\n",
      "|    230250|    1|\n",
      "|    230370|    1|\n",
      "|    230440|    4|\n",
      "+----------+-----+\n",
      "only showing top 20 rows\n",
      "\n",
      "CPU times: user 1.94 ms, sys: 8.42 ms, total: 10.4 ms\n",
      "Wall time: 2.3 s\n"
     ]
    }
   ],
   "source": [
    "%%time\n",
    "#Faça uma agregação para saber a quantidade de crianças nascidas em cada município da Bahia.\n",
    "df.groupBy('CODMUNNASC').count().orderBy('CODMUNNASC').show()"
   ]
  },
  {
   "cell_type": "code",
   "execution_count": 40,
   "metadata": {},
   "outputs": [
    {
     "name": "stdout",
     "output_type": "stream",
     "text": [
      "CPU times: user 4.22 ms, sys: 782 µs, total: 5 ms\n",
      "Wall time: 50.3 ms\n"
     ]
    }
   ],
   "source": [
    "%%time\n",
    "#Gere um subset com todas as mães entre 20 e 50 anos que tiveram filhos no primeiro dia do ano.\n",
    "df3 = df.where(F.substring(F.col('DTNASC'), 1, 4)=='0101').filter(F.col('IDADEMAE').between(20, 50))"
   ]
  }
 ],
 "metadata": {
  "kernelspec": {
   "display_name": "Python 3",
   "language": "python",
   "name": "python3"
  },
  "language_info": {
   "codemirror_mode": {
    "name": "ipython",
    "version": 3
   },
   "file_extension": ".py",
   "mimetype": "text/x-python",
   "name": "python",
   "nbconvert_exporter": "python",
   "pygments_lexer": "ipython3",
   "version": "3.8.5"
  }
 },
 "nbformat": 4,
 "nbformat_minor": 2
}
