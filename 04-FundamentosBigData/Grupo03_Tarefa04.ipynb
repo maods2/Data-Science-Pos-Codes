{
 "cells": [
  {
   "cell_type": "markdown",
   "metadata": {},
   "source": [
    "### Chamada de bibliotecas"
   ]
  },
  {
   "cell_type": "code",
   "execution_count": 1,
   "metadata": {},
   "outputs": [],
   "source": [
    "from pyspark.sql import SparkSession\n",
    "import pyspark.sql.functions as F\n",
    "from pyspark.sql.types import StringType\n",
    "from pyspark.sql.types import IntegerType\n",
    "from pyspark.sql.types import DoubleType\n",
    "import pandas as pd"
   ]
  },
  {
   "cell_type": "markdown",
   "metadata": {},
   "source": [
    "# ROTEIRO PARA LINKAGE"
   ]
  },
  {
   "cell_type": "markdown",
   "metadata": {},
   "source": [
    "### Lendo e visualizando as bases"
   ]
  },
  {
   "cell_type": "code",
   "execution_count": 2,
   "metadata": {},
   "outputs": [],
   "source": [
    "datasetA = spark.read.csv('hdfs://node5:9000/raw/csv/base_sintetica_ascii_a.csv', header=True, sep=',')\n",
    "datasetB = spark.read.csv('hdfs://node5:9000/raw/csv/base_sintetica_ascii_b.csv', header=True, sep=',')"
   ]
  },
  {
   "cell_type": "code",
   "execution_count": 3,
   "metadata": {},
   "outputs": [
    {
     "name": "stdout",
     "output_type": "stream",
     "text": [
      "540\n",
      "143\n",
      "+---+--------------+---------+---------+--------------+----------+--------------------+--------------------+------+-----+--------------------+--------------------+------+---------+--------------+----+\n",
      "| id|        bairro|      cep|   cidade|           cpf| data_nasc|               email|            endereco|estado|idade|                 mae|                nome|numero|    signo|tipo_sanguineo|_c15|\n",
      "+---+--------------+---------+---------+--------------+----------+--------------------+--------------------+------+-----+--------------------+--------------------+------+---------+--------------+----+\n",
      "|  0|   Vila Sarney|65090-677| Sao Luis|097.627.958-49|10/09/1948|vicenteolivermont...|2a Travessa do Ri...|    MA|   71|     Louise Beatriz |Vicente Oliver Mo...|   738|   Virgem|           AB-|null|\n",
      "|  1|Vila Sao Jorge|75044-220| Anapolis|685.096.335-09|24/04/1995|miguelbernardogon...|  Praca Joao Salomao|    GO|   24|     Raquel Barbara |Miguel Bernardo G...|   805|    Touro|            A-|null|\n",
      "|  2|   Cabralzinho|68906-846|   Macapa|956.997.968-27|13/03/1984|ericktheomarcosvi...|    Alameda Calcoene|    AP|   35|Maite Valentina R...|Erick Theo Marcos...|   669|   Peixes|            B+|null|\n",
      "|  3|     Mae Luiza|59014-227|    Natal|631.875.885-22|27/09/1965|mariorobertoisaac...|1a Rua Sao Francisco|    RN|   54|Alicia Cristiane ...|Mario Roberto Isa...|   978|    Libra|           AB+|null|\n",
      "|  4| Jardim Monaco|86702-790|Arapongas|397.480.478-14|24/11/1965|eeliasandersonmat...|Rua Mariquita-dos...|    PR|   54|     Tatiane Josefa |Elias Anderson Ma...|   558|Sagitario|            A+|null|\n",
      "+---+--------------+---------+---------+--------------+----------+--------------------+--------------------+------+-----+--------------------+--------------------+------+---------+--------------+----+\n",
      "\n",
      "+---+---------+-------------+--------------+----------+--------------------+------+--------------------+--------------------+--------------+\n",
      "| id|      cep|       cidade|           cpf| data_nasc|            endereco|estado|                 mae|                nome|tipo_sanguineo|\n",
      "+---+---------+-------------+--------------+----------+--------------------+------+--------------------+--------------------+--------------+\n",
      "| 01|69304-350|    Boa Vista|506.865.202-46|22/11/1965|Avenida Mario Hom...|    RR|Isabelle Marcia A...|Felipe Bruno dos ...|           AB-|\n",
      "| 02|78132-360|Varzea Grande|325.828.867-42|      null|      Rua Rio Cuiaba|    MT|       Alana Isadora|Marcio Heitor Sil...|           AB-|\n",
      "| 03|88810-336|     Criciuma|284.536.218-88|23/09/1961|Rua Romeu Lopes d...|    SC|  Caroline Gabriela |Theo Mario Victor...|            A-|\n",
      "| 04|60874-405|    Fortaleza|390.375.925-20|11/05/1981|                null|    CE|       Tereza Bruna |Pietro Henrique d...|           AB-|\n",
      "| 05|79106-140| Campo Grande|756.005.387-40|14/12/1941|     Rua Pato Branco|    MS|      Alice Leticia |Kaique Thiago de ...|            A-|\n",
      "+---+---------+-------------+--------------+----------+--------------------+------+--------------------+--------------------+--------------+\n",
      "\n"
     ]
    }
   ],
   "source": [
    "print(datasetA.count())\n",
    "print(datasetB.count())\n",
    "datasetA.limit(5).show()\n",
    "datasetB.limit(5).show()"
   ]
  },
  {
   "cell_type": "markdown",
   "metadata": {},
   "source": [
    "### Criando colunas com codigos foneticos"
   ]
  },
  {
   "cell_type": "code",
   "execution_count": 4,
   "metadata": {},
   "outputs": [],
   "source": [
    "#!pip install jellyfish"
   ]
  },
  {
   "cell_type": "code",
   "execution_count": 5,
   "metadata": {},
   "outputs": [],
   "source": [
    "import jellyfish"
   ]
  },
  {
   "cell_type": "code",
   "execution_count": 6,
   "metadata": {},
   "outputs": [],
   "source": [
    "def criaMetaphone(col):\n",
    "    return jellyfish.metaphone(col)\n",
    "udf_criaMetaphone = F.udf(criaMetaphone, StringType())"
   ]
  },
  {
   "cell_type": "code",
   "execution_count": 7,
   "metadata": {},
   "outputs": [
    {
     "name": "stdout",
     "output_type": "stream",
     "text": [
      "+---+--------------+---------+--------+--------------+----------+--------------------+--------------------+------+-----+--------------------+--------------------+------+------+--------------+----+-------------------+--------------+\n",
      "| id|        bairro|      cep|  cidade|           cpf| data_nasc|               email|            endereco|estado|idade|                 mae|                nome|numero| signo|tipo_sanguineo|_c15|    phonetic_nome_a|phonetic_mae_a|\n",
      "+---+--------------+---------+--------+--------------+----------+--------------------+--------------------+------+-----+--------------------+--------------------+------+------+--------------+----+-------------------+--------------+\n",
      "|  0|   Vila Sarney|65090-677|Sao Luis|097.627.958-49|10/09/1948|vicenteolivermont...|2a Travessa do Ri...|    MA|   71|     Louise Beatriz |Vicente Oliver Mo...|   738|Virgem|           AB-|null|     FSNT OLFR MNTR|      LS BTRS |\n",
      "|  1|Vila Sao Jorge|75044-220|Anapolis|685.096.335-09|24/04/1995|miguelbernardogon...|  Praca Joao Salomao|    GO|   24|     Raquel Barbara |Miguel Bernardo G...|   805| Touro|            A-|null|   MKL BRNRT KNKLFS|     RKL BRBR |\n",
      "|  2|   Cabralzinho|68906-846|  Macapa|956.997.968-27|13/03/1984|ericktheomarcosvi...|    Alameda Calcoene|    AP|   35|Maite Valentina R...|Erick Theo Marcos...|   669|Peixes|            B+|null|ERK 0 MRKS FNSS KMS|  MT FLNTN RS |\n",
      "+---+--------------+---------+--------+--------------+----------+--------------------+--------------------+------+-----+--------------------+--------------------+------+------+--------------+----+-------------------+--------------+\n",
      "\n"
     ]
    }
   ],
   "source": [
    "datasetA = datasetA.withColumn('phonetic_nome_a', udf_criaMetaphone(F.col('nome')))\n",
    "datasetA = datasetA.withColumn('phonetic_mae_a', udf_criaMetaphone(F.col('mae')))\n",
    "\n",
    "datasetA.limit(3).show()"
   ]
  },
  {
   "cell_type": "code",
   "execution_count": 8,
   "metadata": {},
   "outputs": [],
   "source": [
    "datasetB = datasetB.fillna({'nome':' '})"
   ]
  },
  {
   "cell_type": "code",
   "execution_count": 9,
   "metadata": {},
   "outputs": [
    {
     "name": "stdout",
     "output_type": "stream",
     "text": [
      "+---+---------+-------------+--------------+----------+--------------------+------+--------------------+--------------------+--------------+---------------+---------------+\n",
      "| id|      cep|       cidade|           cpf| data_nasc|            endereco|estado|                 mae|                nome|tipo_sanguineo|phonetic_nome_b| phonetic_mae_b|\n",
      "+---+---------+-------------+--------------+----------+--------------------+------+--------------------+--------------------+--------------+---------------+---------------+\n",
      "| 01|69304-350|    Boa Vista|506.865.202-46|22/11/1965|Avenida Mario Hom...|    RR|Isabelle Marcia A...|Felipe Bruno dos ...|           AB-|FLP BRN TS SNTS|ISBL MRX ANTNL |\n",
      "| 02|78132-360|Varzea Grande|325.828.867-42|      null|      Rua Rio Cuiaba|    MT|       Alana Isadora|Marcio Heitor Sil...|           AB-|   MRS HTR SLFR|       ALN ISTR|\n",
      "| 03|88810-336|     Criciuma|284.536.218-88|23/09/1961|Rua Romeu Lopes d...|    SC|  Caroline Gabriela |Theo Mario Victor...|            A-| 0 MR FKTR BRBS|     KRLN KBRL |\n",
      "+---+---------+-------------+--------------+----------+--------------------+------+--------------------+--------------------+--------------+---------------+---------------+\n",
      "\n"
     ]
    }
   ],
   "source": [
    "datasetB = datasetB.withColumn('phonetic_nome_b', udf_criaMetaphone(F.col('nome')))\n",
    "datasetB = datasetB.withColumn('phonetic_mae_b', udf_criaMetaphone(F.col('mae')))\n",
    "\n",
    "\n",
    "datasetB.limit(3).show()"
   ]
  },
  {
   "cell_type": "markdown",
   "metadata": {},
   "source": [
    "### Criando coluna com último e primeiro nome"
   ]
  },
  {
   "cell_type": "code",
   "execution_count": 10,
   "metadata": {},
   "outputs": [],
   "source": [
    "def criaUltimoNome(col):\n",
    "    return col.split(' ')[-1]\n",
    "udf_criaUltimoNome = F.udf(criaUltimoNome, StringType())\n",
    "\n",
    "def criaPrimeiroNome(col):\n",
    "    return col.split(' ')[0]\n",
    "udf_criaUltimoNome = F.udf(criaUltimoNome, StringType())"
   ]
  },
  {
   "cell_type": "code",
   "execution_count": 11,
   "metadata": {},
   "outputs": [
    {
     "name": "stdout",
     "output_type": "stream",
     "text": [
      "+---+--------------+---------+--------+--------------+----------+--------------------+--------------------+------+-----+--------------------+--------------------+------+------+--------------+----+-------------------+--------------+-------------+---------------+\n",
      "| id|        bairro|      cep|  cidade|           cpf| data_nasc|               email|            endereco|estado|idade|                 mae|                nome|numero| signo|tipo_sanguineo|_c15|    phonetic_nome_a|phonetic_mae_a|ultimo_nome_a|primeiro_nome_a|\n",
      "+---+--------------+---------+--------+--------------+----------+--------------------+--------------------+------+-----+--------------------+--------------------+------+------+--------------+----+-------------------+--------------+-------------+---------------+\n",
      "|  0|   Vila Sarney|65090-677|Sao Luis|097.627.958-49|10/09/1948|vicenteolivermont...|2a Travessa do Ri...|    MA|   71|     Louise Beatriz |Vicente Oliver Mo...|   738|Virgem|           AB-|null|     FSNT OLFR MNTR|      LS BTRS |     Monteiro|       Monteiro|\n",
      "|  1|Vila Sao Jorge|75044-220|Anapolis|685.096.335-09|24/04/1995|miguelbernardogon...|  Praca Joao Salomao|    GO|   24|     Raquel Barbara |Miguel Bernardo G...|   805| Touro|            A-|null|   MKL BRNRT KNKLFS|     RKL BRBR |    Goncalves|      Goncalves|\n",
      "|  2|   Cabralzinho|68906-846|  Macapa|956.997.968-27|13/03/1984|ericktheomarcosvi...|    Alameda Calcoene|    AP|   35|Maite Valentina R...|Erick Theo Marcos...|   669|Peixes|            B+|null|ERK 0 MRKS FNSS KMS|  MT FLNTN RS |        Gomes|          Gomes|\n",
      "+---+--------------+---------+--------+--------------+----------+--------------------+--------------------+------+-----+--------------------+--------------------+------+------+--------------+----+-------------------+--------------+-------------+---------------+\n",
      "\n",
      "+---+---------+-------------+--------------+----------+--------------------+------+--------------------+--------------------+--------------+---------------+---------------+-------------+---------------+\n",
      "| id|      cep|       cidade|           cpf| data_nasc|            endereco|estado|                 mae|                nome|tipo_sanguineo|phonetic_nome_b| phonetic_mae_b|ultimo_nome_b|primeiro_nome_b|\n",
      "+---+---------+-------------+--------------+----------+--------------------+------+--------------------+--------------------+--------------+---------------+---------------+-------------+---------------+\n",
      "| 01|69304-350|    Boa Vista|506.865.202-46|22/11/1965|Avenida Mario Hom...|    RR|Isabelle Marcia A...|Felipe Bruno dos ...|           AB-|FLP BRN TS SNTS|ISBL MRX ANTNL |       Santos|         Santos|\n",
      "| 02|78132-360|Varzea Grande|325.828.867-42|      null|      Rua Rio Cuiaba|    MT|       Alana Isadora|Marcio Heitor Sil...|           AB-|   MRS HTR SLFR|       ALN ISTR|     Silveira|       Silveira|\n",
      "| 03|88810-336|     Criciuma|284.536.218-88|23/09/1961|Rua Romeu Lopes d...|    SC|  Caroline Gabriela |Theo Mario Victor...|            A-| 0 MR FKTR BRBS|     KRLN KBRL |      Barbosa|        Barbosa|\n",
      "+---+---------+-------------+--------------+----------+--------------------+------+--------------------+--------------------+--------------+---------------+---------------+-------------+---------------+\n",
      "\n"
     ]
    }
   ],
   "source": [
    "datasetA = datasetA.withColumn('ultimo_nome_a', udf_criaUltimoNome(F.col('nome')))\n",
    "datasetB = datasetB.withColumn('ultimo_nome_b', udf_criaUltimoNome(F.col('nome')))\n",
    "\n",
    "datasetA = datasetA.withColumn('primeiro_nome_a', udf_criaUltimoNome(F.col('nome')))\n",
    "datasetB = datasetB.withColumn('primeiro_nome_b', udf_criaUltimoNome(F.col('nome')))\n",
    "\n",
    "datasetA.limit(3).show()\n",
    "datasetB.limit(3).show()"
   ]
  },
  {
   "cell_type": "code",
   "execution_count": 12,
   "metadata": {},
   "outputs": [
    {
     "name": "stdout",
     "output_type": "stream",
     "text": [
      "+---+--------------+---------+--------+--------------+----------+--------------------+--------------------+------+-----+--------------------+--------------------+------+------+--------------+----+-------------------+--------------+-------------+---------------+\n",
      "| id|        bairro|      cep|  cidade|           cpf| data_nasc|               email|            endereco|estado|idade|                 mae|                nome|numero| signo|tipo_sanguineo|_c15|    phonetic_nome_a|phonetic_mae_a|ultimo_nome_a|primeiro_nome_a|\n",
      "+---+--------------+---------+--------+--------------+----------+--------------------+--------------------+------+-----+--------------------+--------------------+------+------+--------------+----+-------------------+--------------+-------------+---------------+\n",
      "|  0|   Vila Sarney|65090-677|Sao Luis|097.627.958-49|10/09/1948|vicenteolivermont...|2a Travessa do Ri...|    MA|   71|     Louise Beatriz |Vicente Oliver Mo...|   738|Virgem|           AB-|null|     FSNT OLFR MNTR|      LS BTRS |     Monteiro|       Monteiro|\n",
      "|  1|Vila Sao Jorge|75044-220|Anapolis|685.096.335-09|24/04/1995|miguelbernardogon...|  Praca Joao Salomao|    GO|   24|     Raquel Barbara |Miguel Bernardo G...|   805| Touro|            A-|null|   MKL BRNRT KNKLFS|     RKL BRBR |    Goncalves|      Goncalves|\n",
      "|  2|   Cabralzinho|68906-846|  Macapa|956.997.968-27|13/03/1984|ericktheomarcosvi...|    Alameda Calcoene|    AP|   35|Maite Valentina R...|Erick Theo Marcos...|   669|Peixes|            B+|null|ERK 0 MRKS FNSS KMS|  MT FLNTN RS |        Gomes|          Gomes|\n",
      "+---+--------------+---------+--------+--------------+----------+--------------------+--------------------+------+-----+--------------------+--------------------+------+------+--------------+----+-------------------+--------------+-------------+---------------+\n",
      "\n"
     ]
    }
   ],
   "source": [
    "datasetA.limit(3).show()"
   ]
  },
  {
   "cell_type": "code",
   "execution_count": 13,
   "metadata": {},
   "outputs": [],
   "source": [
    "datasetA = datasetA.withColumnRenamed('id','id_a')\n",
    "datasetA = datasetA.withColumnRenamed('cep','cep_a')\n",
    "datasetA = datasetA.withColumnRenamed('cidade','cidade_a')\n",
    "datasetA = datasetA.withColumnRenamed('cpf','cpf_a')\n",
    "datasetA = datasetA.withColumnRenamed('data_nasc','data_nasc_a')\n",
    "datasetA = datasetA.withColumnRenamed('endereco','endereco_a')\n",
    "datasetA = datasetA.withColumnRenamed('estado','estado_a')\n",
    "datasetA = datasetA.withColumnRenamed('mae','mae_a')\n",
    "datasetA = datasetA.withColumnRenamed('nome','nome_a')\n",
    "datasetA = datasetA.withColumnRenamed('tipo_sanguineo','tipo_sanguineo_a')\n",
    "datasetA = datasetA.withColumnRenamed('phonetic_nome','phonetic_nome_a')\n",
    "datasetA = datasetA.withColumnRenamed('phonetic_mae','phonetic_mae_a')\n",
    "datasetA = datasetA.withColumnRenamed('ultimo_nome','ultimo_nome_a')\n",
    "datasetA = datasetA.withColumnRenamed('primeiro_nome','primeiro_nome_a')\n",
    "\n",
    "\n",
    "datasetB = datasetB.withColumnRenamed('id','id_b')\n",
    "datasetB = datasetB.withColumnRenamed('cep','cep_b')\n",
    "datasetB = datasetB.withColumnRenamed('cidade','cidade_b')\n",
    "datasetB = datasetB.withColumnRenamed('cpf','cpf_b')\n",
    "datasetB = datasetB.withColumnRenamed('data_nasc','data_nasc_b')\n",
    "datasetB = datasetB.withColumnRenamed('endereco','endereco_b')\n",
    "datasetB = datasetB.withColumnRenamed('estado','estado_b')\n",
    "datasetB = datasetB.withColumnRenamed('mae','mae_b')\n",
    "datasetB = datasetB.withColumnRenamed('nome','nome_b')\n",
    "datasetB = datasetB.withColumnRenamed('tipo_sanguineo','tipo_sanguineo_b')\n",
    "datasetB = datasetB.withColumnRenamed('phonetic_nome','phonetic_nome_b')\n",
    "datasetB = datasetB.withColumnRenamed('phonetic_mae','phonetic_mae_b')\n",
    "datasetB = datasetB.withColumnRenamed('ultimo_nome','ultimo_nome_b')\n",
    "datasetB = datasetB.withColumnRenamed('primeiro_nome','primeiro_nome_b')"
   ]
  },
  {
   "cell_type": "markdown",
   "metadata": {},
   "source": [
    "### Separando atributos para linkage"
   ]
  },
  {
   "cell_type": "code",
   "execution_count": 14,
   "metadata": {},
   "outputs": [],
   "source": [
    "datasetA = datasetA.select(['id_a', 'cep_a', 'cidade_a','cpf_a', 'data_nasc_a','endereco_a', 'estado_a', 'mae_a','nome_a', 'tipo_sanguineo_a', 'phonetic_nome_a', \n",
    "'phonetic_mae_a', 'ultimo_nome_a' , 'primeiro_nome_a'])\n",
    "datasetB = datasetB.select(['id_b', 'cep_b', 'cidade_b', 'cpf_b', 'data_nasc_b', 'endereco_b', 'estado_b', 'mae_b', 'nome_b', 'tipo_sanguineo_b' ,'phonetic_nome_b',\n",
    "'phonetic_mae_b', 'ultimo_nome_b', 'primeiro_nome_b'])"
   ]
  },
  {
   "cell_type": "markdown",
   "metadata": {},
   "source": [
    "### Criando dataset de comparação"
   ]
  },
  {
   "cell_type": "code",
   "execution_count": 15,
   "metadata": {},
   "outputs": [],
   "source": [
    "dataset_linkage = datasetA.crossJoin(datasetB)"
   ]
  },
  {
   "cell_type": "code",
   "execution_count": 16,
   "metadata": {},
   "outputs": [
    {
     "name": "stdout",
     "output_type": "stream",
     "text": [
      "+----+---------+--------+--------------+-----------+--------------------+--------+---------------+--------------------+----------------+---------------+--------------+-------------+---------------+----+---------+-------------+--------------+-----------+--------------------+--------+--------------------+--------------------+----------------+---------------+---------------+-------------+---------------+\n",
      "|id_a|    cep_a|cidade_a|         cpf_a|data_nasc_a|          endereco_a|estado_a|          mae_a|              nome_a|tipo_sanguineo_a|phonetic_nome_a|phonetic_mae_a|ultimo_nome_a|primeiro_nome_a|id_b|    cep_b|     cidade_b|         cpf_b|data_nasc_b|          endereco_b|estado_b|               mae_b|              nome_b|tipo_sanguineo_b|phonetic_nome_b| phonetic_mae_b|ultimo_nome_b|primeiro_nome_b|\n",
      "+----+---------+--------+--------------+-----------+--------------------+--------+---------------+--------------------+----------------+---------------+--------------+-------------+---------------+----+---------+-------------+--------------+-----------+--------------------+--------+--------------------+--------------------+----------------+---------------+---------------+-------------+---------------+\n",
      "|   0|65090-677|Sao Luis|097.627.958-49| 10/09/1948|2a Travessa do Ri...|      MA|Louise Beatriz |Vicente Oliver Mo...|             AB-| FSNT OLFR MNTR|      LS BTRS |     Monteiro|       Monteiro|  01|69304-350|    Boa Vista|506.865.202-46| 22/11/1965|Avenida Mario Hom...|      RR|Isabelle Marcia A...|Felipe Bruno dos ...|             AB-|FLP BRN TS SNTS|ISBL MRX ANTNL |       Santos|         Santos|\n",
      "|   0|65090-677|Sao Luis|097.627.958-49| 10/09/1948|2a Travessa do Ri...|      MA|Louise Beatriz |Vicente Oliver Mo...|             AB-| FSNT OLFR MNTR|      LS BTRS |     Monteiro|       Monteiro|  02|78132-360|Varzea Grande|325.828.867-42|       null|      Rua Rio Cuiaba|      MT|       Alana Isadora|Marcio Heitor Sil...|             AB-|   MRS HTR SLFR|       ALN ISTR|     Silveira|       Silveira|\n",
      "|   0|65090-677|Sao Luis|097.627.958-49| 10/09/1948|2a Travessa do Ri...|      MA|Louise Beatriz |Vicente Oliver Mo...|             AB-| FSNT OLFR MNTR|      LS BTRS |     Monteiro|       Monteiro|  03|88810-336|     Criciuma|284.536.218-88| 23/09/1961|Rua Romeu Lopes d...|      SC|  Caroline Gabriela |Theo Mario Victor...|              A-| 0 MR FKTR BRBS|     KRLN KBRL |      Barbosa|        Barbosa|\n",
      "|   0|65090-677|Sao Luis|097.627.958-49| 10/09/1948|2a Travessa do Ri...|      MA|Louise Beatriz |Vicente Oliver Mo...|             AB-| FSNT OLFR MNTR|      LS BTRS |     Monteiro|       Monteiro|  04|60874-405|    Fortaleza|390.375.925-20| 11/05/1981|                null|      CE|       Tereza Bruna |Pietro Henrique d...|             AB-|  PTR HNRK T PL|       TRS BRN |        Paula|          Paula|\n",
      "|   0|65090-677|Sao Luis|097.627.958-49| 10/09/1948|2a Travessa do Ri...|      MA|Louise Beatriz |Vicente Oliver Mo...|             AB-| FSNT OLFR MNTR|      LS BTRS |     Monteiro|       Monteiro|  05|79106-140| Campo Grande|756.005.387-40| 14/12/1941|     Rua Pato Branco|      MS|      Alice Leticia |Kaique Thiago de ...|              A-|     KK 0K T PL|       ALS LTX |        Paula|          Paula|\n",
      "+----+---------+--------+--------------+-----------+--------------------+--------+---------------+--------------------+----------------+---------------+--------------+-------------+---------------+----+---------+-------------+--------------+-----------+--------------------+--------+--------------------+--------------------+----------------+---------------+---------------+-------------+---------------+\n",
      "\n"
     ]
    }
   ],
   "source": [
    "dataset_linkage.count()\n",
    "dataset_linkage.limit(5).show()"
   ]
  },
  {
   "cell_type": "markdown",
   "metadata": {},
   "source": [
    "### Criando função de comparação"
   ]
  },
  {
   "cell_type": "code",
   "execution_count": 17,
   "metadata": {},
   "outputs": [],
   "source": [
    "import sys\n",
    "if sys.version_info[0] >= 3:\n",
    "    unicode = str"
   ]
  },
  {
   "cell_type": "code",
   "execution_count": 18,
   "metadata": {},
   "outputs": [],
   "source": [
    "def compare( id_a, cep_a, cidade_a, cpf_a , data_nasc_a , endereco_a, estado_a, mae_a, nome_a, tipo_sanguineo_a, phonetic_nome_a, \n",
    "    phonetic_mae_a, ultimo_nome_a , primeiro_nome_a, \n",
    "            id_b, cep_b, cidade_b, cpf_b, data_nasc_b, endereco_b, estado_b, mae_b, nome_b, tipo_sanguineo_b ,phonetic_nome_b,\n",
    "    phonetic_mae_b, ultimo_nome_b, primeiro_nome_b):\n",
    "    sim = 0\n",
    "    \n",
    "    # Comparando atributos nominais\n",
    "    sim_nominais = jellyfish.jaro_winkler(unicode(primeiro_nome_a), unicode(primeiro_nome_b))\n",
    "    sim_nominais += jellyfish.jaro_winkler(unicode(ultimo_nome_a), unicode(ultimo_nome_b))\n",
    "    sim_nominais += jellyfish.jaro_winkler(unicode(phonetic_nome_a), unicode(phonetic_nome_b))\n",
    "    sim_nominais += jellyfish.jaro_winkler(unicode(phonetic_mae_a), unicode(phonetic_mae_b))\n",
    "    \n",
    "    sim_nominais += jellyfish.jaro_winkler(unicode(cidade_a), unicode(cidade_b))\n",
    "\n",
    "    sim_nominais += jellyfish.jaro_winkler(unicode( endereco_a), unicode(endereco_b ))\n",
    "    sim_nominais += jellyfish.jaro_winkler(unicode( estado_a), unicode( estado_b))\n",
    "    sim_nominais += jellyfish.jaro_winkler(unicode(mae_a ), unicode(mae_b ))\n",
    "    sim_nominais += jellyfish.jaro_winkler(unicode( nome_a), unicode( nome_b))\n",
    "    sim_nominais += jellyfish.jaro_winkler(unicode( tipo_sanguineo_a), unicode( tipo_sanguineo_b ))\n",
    "\n",
    "    \n",
    "    # Comparando categorias\n",
    "    # Note que Hamming é uma distancia, então para saber a similiarade, precisamos\n",
    "    # encontrar o complemento da medida. \n",
    "    sim_cat = 1 - (jellyfish.hamming_distance(unicode(data_nasc_a), unicode(data_nasc_b)))\n",
    "       \n",
    "    sim_cat += 1 - (jellyfish.hamming_distance(unicode( cpf_a), unicode(cpf_a )))\n",
    "\n",
    "    sim_cat += 1 - (jellyfish.hamming_distance(unicode( cep_a ), unicode( cep_b )))\n",
    "    \n",
    "    # Media aritmetica simples\n",
    "    sim = str(abs(float(sim_nominais + sim_cat)/7))\n",
    "    \n",
    "    return sim\n",
    "udf_compare = F.udf(compare, StringType())"
   ]
  },
  {
   "cell_type": "code",
   "execution_count": 19,
   "metadata": {},
   "outputs": [],
   "source": [
    "result_linkage = dataset_linkage.withColumn('similaridade', udf_compare( F.col('id_a'), F.col('cep_a'), F.col('cidade_a'), F.col('cpf_a'), F.col('data_nasc_a'), F.col('endereco_a'), F.col('estado_a'), F.col('mae_a'), F.col('nome_a'), F.col('tipo_sanguineo_a'), F.col('phonetic_nome_a'), F.col('phonetic_mae_a'), F.col('ultimo_nome_a'), F.col('primeiro_nome_a'), \n",
    "                                                                        F.col('id_b'),F.col('cep_b'), F.col('cidade_b'), F.col('cpf_b'), F.col('data_nasc_b'), F.col('endereco_b'), F.col('estado_b'), F.col('mae_b'), F.col('nome_b'), F.col('tipo_sanguineo_b'), F.col('phonetic_nome_b'), F.col('phonetic_mae_b'), F.col('ultimo_nome_b'), F.col('primeiro_nome_b')))"
   ]
  },
  {
   "cell_type": "markdown",
   "metadata": {},
   "source": [
    "### Rodando comparação"
   ]
  },
  {
   "cell_type": "code",
   "execution_count": 20,
   "metadata": {},
   "outputs": [
    {
     "name": "stdout",
     "output_type": "stream",
     "text": [
      "+----+----+-------------------+\n",
      "|id_a|id_b|       similaridade|\n",
      "+----+----+-------------------+\n",
      "|   0|  01| 0.6406754984912334|\n",
      "|   0|  02|  1.261807481683258|\n",
      "|   0|  03|0.49203985991770666|\n",
      "|   0|  04| 0.5407525589202609|\n",
      "|   0|  05| 0.6180216091706777|\n",
      "|   0|  06| 0.4062373437838956|\n",
      "|   0|  07| 0.4807294327480663|\n",
      "|   0|  08|0.10634696566373579|\n",
      "|   0|  09| 0.9409161117235652|\n",
      "|   0|  10| 1.2809133166458706|\n",
      "|   0|  11| 0.5070947918774006|\n",
      "|   0|  12| 0.7047443814524561|\n",
      "|   0|  13| 0.7301802006570001|\n",
      "|   0|  14| 0.4757095279750895|\n",
      "|   0|  15|0.38775698484747323|\n",
      "|   0|  16|0.16254377552514207|\n",
      "|   0|  17| 0.1833121311482362|\n",
      "|   0|  18| 0.4297843403433465|\n",
      "|   0|  19| 0.5555817957060194|\n",
      "|   0|  20| 0.5135951993529507|\n",
      "+----+----+-------------------+\n",
      "only showing top 20 rows\n",
      "\n"
     ]
    }
   ],
   "source": [
    "result_linkage.select(['id_a', 'id_b', 'similaridade']).show()"
   ]
  },
  {
   "cell_type": "code",
   "execution_count": 21,
   "metadata": {},
   "outputs": [],
   "source": [
    "datamart = result_linkage.orderBy(['similaridade'], ascending=False).dropDuplicates(['id_b'])"
   ]
  },
  {
   "cell_type": "code",
   "execution_count": 22,
   "metadata": {},
   "outputs": [
    {
     "data": {
      "text/plain": [
       "143"
      ]
     },
     "execution_count": 22,
     "metadata": {},
     "output_type": "execute_result"
    }
   ],
   "source": [
    "datamart.count()"
   ]
  },
  {
   "cell_type": "code",
   "execution_count": 23,
   "metadata": {
    "scrolled": false
   },
   "outputs": [
    {
     "name": "stdout",
     "output_type": "stream",
     "text": [
      "+----+--------------------+----+--------------------+------------------+\n",
      "|id_a|              nome_a|id_b|              nome_b|      similaridade|\n",
      "+----+--------------------+----+--------------------+------------------+\n",
      "|  20|Luan Caue Anthony...|  07|Luan Caue Anthony...|1.5714285714285714|\n",
      "| 355|Danilo Thiago Yur...| 125|   Samuel Noah Lopes|1.1120690676865321|\n",
      "| 381|Raul Miguel Ryan ...| 124|Danilo Severino d...|1.1169485822436134|\n",
      "|  63|Alexandre Bruno M...|  51|Alexandre Bruno M...|1.8571428571428572|\n",
      "|  28|Leandro Cesar Jor...|  15|Leandro Cesar Jor...|1.7817460317460316|\n",
      "|  66| Ricardo Igor Barros|  54| Ricardo Igor Barros|1.7142857142857142|\n",
      "| 294|Levi Nelson Noah ...| 132|Rodrigo Erick Rob...|1.2291639919499207|\n",
      "| 298|Cesar Isaac Luis ...| 101| Isaac Luiz Aparicio|1.0867532761274468|\n",
      "|  24|Gabriel Caua Marc...|  11|Gabriel Caua Marc...|1.7142857142857142|\n",
      "|  99|Kaue Francisco Be...| 138|Heitor Leonardo C...| 1.061084779208718|\n",
      "| 294|Levi Nelson Noah ...|  29|Calebe Osvaldo Ba...|1.3609100319969885|\n",
      "| 458|Anderson Gustavo ...|  69|Anderson Gustavo ...|1.8571428571428572|\n",
      "|  36|Caleb Augusto Igo...| 112|Marcos Yago Lucca...|1.1935020239642087|\n",
      "| 525|   Kaue Cesar Moraes|  42|   Kaue Cesar Moraes|1.8571428571428572|\n",
      "| 462|Elias Pedro Geral...|  73|Elias Pedro Geral...|1.8571428571428572|\n",
      "| 476|Benedito Kaique S...|  87|Benedito Kaique S...| 1.846382189239332|\n",
      "|  76|Marcelo Benedito ...|  64|Marcelo Benedito ...|1.8571428571428572|\n",
      "| 381|Raul Miguel Ryan ...| 113|        Claudio Rosa| 1.235138036566608|\n",
      "| 381|Raul Miguel Ryan ...|  30|Miguel Francisco ...| 1.413253482966552|\n",
      "| 517|    Enzo Diogo Pinto|  34|    Enzo Diogo Pinto|1.8015873015873016|\n",
      "+----+--------------------+----+--------------------+------------------+\n",
      "only showing top 20 rows\n",
      "\n"
     ]
    }
   ],
   "source": [
    "\n",
    "datamart.select(['id_a', 'nome_a', 'id_b', 'nome_b', 'similaridade']).show()"
   ]
  },
  {
   "cell_type": "markdown",
   "metadata": {},
   "source": [
    "# CALCULADORA DE ACURÁCIA"
   ]
  },
  {
   "cell_type": "code",
   "execution_count": 24,
   "metadata": {},
   "outputs": [],
   "source": [
    "# Let us consider a cuttoff point set as 0.85\n",
    "cutoff = 1.0\n",
    "\n",
    "# sorting and deduplicating the resulting dataset\n",
    "data = datamart.withColumn('similaridade', F.col('similaridade').cast(DoubleType()))\n",
    "data = datamart.orderBy('similaridade').dropDuplicates(['id_b'])\n",
    "data = datamart.withColumn('match', F.when(F.col('similaridade') >= cutoff, '1').otherwise('0'))"
   ]
  },
  {
   "cell_type": "code",
   "execution_count": 25,
   "metadata": {},
   "outputs": [],
   "source": [
    "def inspect_pairs(cpf_a, cpf_b, match):\n",
    "    if match == '1':\n",
    "        if cpf_a == cpf_b:\n",
    "            return \"TP\"\n",
    "        else:\n",
    "            return \"FP\"\n",
    "    else:\n",
    "        if cpf_a != cpf_b:\n",
    "            return \"TN\"\n",
    "        else: \n",
    "            return \"FN\"\n",
    "udf_inspect_pairs = F.udf(inspect_pairs, StringType())"
   ]
  },
  {
   "cell_type": "code",
   "execution_count": 26,
   "metadata": {},
   "outputs": [],
   "source": [
    "data = data.withColumn('perf', udf_inspect_pairs(F.col('cpf_a'), F.col('cpf_b'), F.col('match')))"
   ]
  },
  {
   "cell_type": "code",
   "execution_count": 27,
   "metadata": {},
   "outputs": [
    {
     "name": "stdout",
     "output_type": "stream",
     "text": [
      "+----+------------------+-----+\n",
      "|perf|      similaridade|match|\n",
      "+----+------------------+-----+\n",
      "|  TP|1.5714285714285714|    1|\n",
      "|  FP|1.1120690676865321|    1|\n",
      "|  FP|1.1169485822436134|    1|\n",
      "|  TP|1.8571428571428572|    1|\n",
      "|  TP|1.7817460317460316|    1|\n",
      "|  TP|1.7142857142857142|    1|\n",
      "|  FP|1.2291639919499207|    1|\n",
      "|  FP|1.0867532761274468|    1|\n",
      "|  TP|1.7142857142857142|    1|\n",
      "|  FP| 1.061084779208718|    1|\n",
      "|  FP|1.3609100319969885|    1|\n",
      "|  TP|1.8571428571428572|    1|\n",
      "|  FP|1.1935020239642087|    1|\n",
      "|  TP|1.8571428571428572|    1|\n",
      "|  TP|1.8571428571428572|    1|\n",
      "|  TP| 1.846382189239332|    1|\n",
      "|  TP|1.8571428571428572|    1|\n",
      "|  FP| 1.235138036566608|    1|\n",
      "|  FP| 1.413253482966552|    1|\n",
      "|  TP|1.8015873015873016|    1|\n",
      "+----+------------------+-----+\n",
      "only showing top 20 rows\n",
      "\n"
     ]
    }
   ],
   "source": [
    "data.select('perf','similaridade','match').show()"
   ]
  },
  {
   "cell_type": "code",
   "execution_count": 28,
   "metadata": {},
   "outputs": [
    {
     "name": "stdout",
     "output_type": "stream",
     "text": [
      "81 1 61 0\n"
     ]
    }
   ],
   "source": [
    "dic_results = {}\n",
    "TP = data.filter(F.col('perf') == \"TP\").count()\n",
    "TN = data.filter(F.col('perf') == \"TN\").count()\n",
    "FP = data.filter(F.col('perf') == \"FP\").count()\n",
    "FN = data.filter(F.col('perf') == \"FN\").count()\n",
    "\n",
    "print(TP, TN, FP, FN)"
   ]
  },
  {
   "cell_type": "code",
   "execution_count": 29,
   "metadata": {},
   "outputs": [],
   "source": [
    "dic_results['accuracy'] =  float(TP + TN) / (FP + TP + FN + TN)\n",
    "dic_results['ppv'] = float(TP) / (TP + FP)\n",
    "dic_results['npv'] = float(TN) / (TN + FN)\n",
    "dic_results['sens'] = float(TP) / (TP + FN)\n",
    "dic_results['spec'] = float(TN) / (TN + FP)"
   ]
  },
  {
   "cell_type": "code",
   "execution_count": 30,
   "metadata": {},
   "outputs": [],
   "source": [
    "final_results = pd.DataFrame(dic_results, index=[0])"
   ]
  },
  {
   "cell_type": "code",
   "execution_count": 31,
   "metadata": {},
   "outputs": [
    {
     "data": {
      "text/html": [
       "<div>\n",
       "<style scoped>\n",
       "    .dataframe tbody tr th:only-of-type {\n",
       "        vertical-align: middle;\n",
       "    }\n",
       "\n",
       "    .dataframe tbody tr th {\n",
       "        vertical-align: top;\n",
       "    }\n",
       "\n",
       "    .dataframe thead th {\n",
       "        text-align: right;\n",
       "    }\n",
       "</style>\n",
       "<table border=\"1\" class=\"dataframe\">\n",
       "  <thead>\n",
       "    <tr style=\"text-align: right;\">\n",
       "      <th></th>\n",
       "      <th>accuracy</th>\n",
       "      <th>ppv</th>\n",
       "      <th>npv</th>\n",
       "      <th>sens</th>\n",
       "      <th>spec</th>\n",
       "    </tr>\n",
       "  </thead>\n",
       "  <tbody>\n",
       "    <tr>\n",
       "      <th>0</th>\n",
       "      <td>0.573427</td>\n",
       "      <td>0.570423</td>\n",
       "      <td>1.0</td>\n",
       "      <td>1.0</td>\n",
       "      <td>0.016129</td>\n",
       "    </tr>\n",
       "  </tbody>\n",
       "</table>\n",
       "</div>"
      ],
      "text/plain": [
       "   accuracy       ppv  npv  sens      spec\n",
       "0  0.573427  0.570423  1.0   1.0  0.016129"
      ]
     },
     "execution_count": 31,
     "metadata": {},
     "output_type": "execute_result"
    }
   ],
   "source": [
    "final_results"
   ]
  },
  {
   "cell_type": "code",
   "execution_count": null,
   "metadata": {},
   "outputs": [],
   "source": []
  }
 ],
 "metadata": {
  "kernelspec": {
   "display_name": "Python 3",
   "language": "python",
   "name": "python3"
  },
  "language_info": {
   "codemirror_mode": {
    "name": "ipython",
    "version": 3
   },
   "file_extension": ".py",
   "mimetype": "text/x-python",
   "name": "python",
   "nbconvert_exporter": "python",
   "pygments_lexer": "ipython3",
   "version": "3.8.5"
  }
 },
 "nbformat": 4,
 "nbformat_minor": 4
}
