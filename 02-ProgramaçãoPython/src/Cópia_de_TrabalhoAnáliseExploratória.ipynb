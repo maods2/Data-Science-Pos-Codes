{
  "nbformat": 4,
  "nbformat_minor": 0,
  "metadata": {
    "colab": {
      "name": "Cópia de TrabalhoAnáliseExploratória.ipynb",
      "provenance": [],
      "collapsed_sections": []
    },
    "kernelspec": {
      "name": "python3",
      "display_name": "Python 3"
    }
  },
  "cells": [
    {
      "cell_type": "markdown",
      "metadata": {
        "id": "DuEuuSF2BST-"
      },
      "source": [
        "# Trabalho Materia Python\n",
        "\n",
        "Aluno: Matheus Augusto Oliveira dos Santos\n"
      ]
    },
    {
      "cell_type": "code",
      "metadata": {
        "id": "eWUf1F0zwJBH"
      },
      "source": [
        "import numpy as np\n",
        "import pandas as pd\n",
        "pd.set_option(\"display.precision\", 2)\n",
        "import matplotlib.pyplot as plt\n",
        "import seaborn as sns"
      ],
      "execution_count": null,
      "outputs": []
    },
    {
      "cell_type": "code",
      "metadata": {
        "id": "yinwyykJwVEM"
      },
      "source": [
        "\n",
        "file_name = \"https://raw.githubusercontent.com/rajeevratan84/datascienceforbusiness/master/hr_data.csv\"\n",
        "df_data = pd.read_csv(file_name)\n",
        "\n",
        "file_name = \"https://raw.githubusercontent.com/rajeevratan84/datascienceforbusiness/master/employee_satisfaction_evaluation.xlsx\"\n",
        "satis_lvl = pd.read_excel(file_name)"
      ],
      "execution_count": null,
      "outputs": []
    },
    {
      "cell_type": "code",
      "metadata": {
        "colab": {
          "base_uri": "https://localhost:8080/",
          "height": 204
        },
        "id": "jeZNlpNmwrtK",
        "outputId": "62919770-4f80-4808-d2e5-89156f027eb7"
      },
      "source": [
        "df_data.head()"
      ],
      "execution_count": null,
      "outputs": [
        {
          "output_type": "execute_result",
          "data": {
            "text/html": [
              "<div>\n",
              "<style scoped>\n",
              "    .dataframe tbody tr th:only-of-type {\n",
              "        vertical-align: middle;\n",
              "    }\n",
              "\n",
              "    .dataframe tbody tr th {\n",
              "        vertical-align: top;\n",
              "    }\n",
              "\n",
              "    .dataframe thead th {\n",
              "        text-align: right;\n",
              "    }\n",
              "</style>\n",
              "<table border=\"1\" class=\"dataframe\">\n",
              "  <thead>\n",
              "    <tr style=\"text-align: right;\">\n",
              "      <th></th>\n",
              "      <th>employee_id</th>\n",
              "      <th>number_project</th>\n",
              "      <th>average_montly_hours</th>\n",
              "      <th>time_spend_company</th>\n",
              "      <th>Work_accident</th>\n",
              "      <th>left</th>\n",
              "      <th>promotion_last_5years</th>\n",
              "      <th>department</th>\n",
              "      <th>salary</th>\n",
              "    </tr>\n",
              "  </thead>\n",
              "  <tbody>\n",
              "    <tr>\n",
              "      <th>0</th>\n",
              "      <td>1003</td>\n",
              "      <td>2</td>\n",
              "      <td>157</td>\n",
              "      <td>3</td>\n",
              "      <td>0</td>\n",
              "      <td>1</td>\n",
              "      <td>0</td>\n",
              "      <td>sales</td>\n",
              "      <td>low</td>\n",
              "    </tr>\n",
              "    <tr>\n",
              "      <th>1</th>\n",
              "      <td>1005</td>\n",
              "      <td>5</td>\n",
              "      <td>262</td>\n",
              "      <td>6</td>\n",
              "      <td>0</td>\n",
              "      <td>1</td>\n",
              "      <td>0</td>\n",
              "      <td>sales</td>\n",
              "      <td>medium</td>\n",
              "    </tr>\n",
              "    <tr>\n",
              "      <th>2</th>\n",
              "      <td>1486</td>\n",
              "      <td>7</td>\n",
              "      <td>272</td>\n",
              "      <td>4</td>\n",
              "      <td>0</td>\n",
              "      <td>1</td>\n",
              "      <td>0</td>\n",
              "      <td>sales</td>\n",
              "      <td>medium</td>\n",
              "    </tr>\n",
              "    <tr>\n",
              "      <th>3</th>\n",
              "      <td>1038</td>\n",
              "      <td>5</td>\n",
              "      <td>223</td>\n",
              "      <td>5</td>\n",
              "      <td>0</td>\n",
              "      <td>1</td>\n",
              "      <td>0</td>\n",
              "      <td>sales</td>\n",
              "      <td>low</td>\n",
              "    </tr>\n",
              "    <tr>\n",
              "      <th>4</th>\n",
              "      <td>1057</td>\n",
              "      <td>2</td>\n",
              "      <td>159</td>\n",
              "      <td>3</td>\n",
              "      <td>0</td>\n",
              "      <td>1</td>\n",
              "      <td>0</td>\n",
              "      <td>sales</td>\n",
              "      <td>low</td>\n",
              "    </tr>\n",
              "  </tbody>\n",
              "</table>\n",
              "</div>"
            ],
            "text/plain": [
              "   employee_id  number_project  ...  department  salary\n",
              "0         1003               2  ...       sales     low\n",
              "1         1005               5  ...       sales  medium\n",
              "2         1486               7  ...       sales  medium\n",
              "3         1038               5  ...       sales     low\n",
              "4         1057               2  ...       sales     low\n",
              "\n",
              "[5 rows x 9 columns]"
            ]
          },
          "metadata": {
            "tags": []
          },
          "execution_count": 3
        }
      ]
    },
    {
      "cell_type": "code",
      "metadata": {
        "colab": {
          "base_uri": "https://localhost:8080/",
          "height": 204
        },
        "id": "7PLe2nr456tQ",
        "outputId": "c207bdc8-9e76-4a16-8e7a-1ff9bca74d01"
      },
      "source": [
        "df_data.tail()"
      ],
      "execution_count": null,
      "outputs": [
        {
          "output_type": "execute_result",
          "data": {
            "text/html": [
              "<div>\n",
              "<style scoped>\n",
              "    .dataframe tbody tr th:only-of-type {\n",
              "        vertical-align: middle;\n",
              "    }\n",
              "\n",
              "    .dataframe tbody tr th {\n",
              "        vertical-align: top;\n",
              "    }\n",
              "\n",
              "    .dataframe thead th {\n",
              "        text-align: right;\n",
              "    }\n",
              "</style>\n",
              "<table border=\"1\" class=\"dataframe\">\n",
              "  <thead>\n",
              "    <tr style=\"text-align: right;\">\n",
              "      <th></th>\n",
              "      <th>employee_id</th>\n",
              "      <th>number_project</th>\n",
              "      <th>average_montly_hours</th>\n",
              "      <th>time_spend_company</th>\n",
              "      <th>Work_accident</th>\n",
              "      <th>left</th>\n",
              "      <th>promotion_last_5years</th>\n",
              "      <th>department</th>\n",
              "      <th>salary</th>\n",
              "    </tr>\n",
              "  </thead>\n",
              "  <tbody>\n",
              "    <tr>\n",
              "      <th>14994</th>\n",
              "      <td>87670</td>\n",
              "      <td>2</td>\n",
              "      <td>151</td>\n",
              "      <td>3</td>\n",
              "      <td>0</td>\n",
              "      <td>1</td>\n",
              "      <td>0</td>\n",
              "      <td>support</td>\n",
              "      <td>low</td>\n",
              "    </tr>\n",
              "    <tr>\n",
              "      <th>14995</th>\n",
              "      <td>87673</td>\n",
              "      <td>2</td>\n",
              "      <td>160</td>\n",
              "      <td>3</td>\n",
              "      <td>0</td>\n",
              "      <td>1</td>\n",
              "      <td>0</td>\n",
              "      <td>support</td>\n",
              "      <td>low</td>\n",
              "    </tr>\n",
              "    <tr>\n",
              "      <th>14996</th>\n",
              "      <td>87679</td>\n",
              "      <td>2</td>\n",
              "      <td>143</td>\n",
              "      <td>3</td>\n",
              "      <td>0</td>\n",
              "      <td>1</td>\n",
              "      <td>0</td>\n",
              "      <td>support</td>\n",
              "      <td>low</td>\n",
              "    </tr>\n",
              "    <tr>\n",
              "      <th>14997</th>\n",
              "      <td>87681</td>\n",
              "      <td>6</td>\n",
              "      <td>280</td>\n",
              "      <td>4</td>\n",
              "      <td>0</td>\n",
              "      <td>1</td>\n",
              "      <td>0</td>\n",
              "      <td>support</td>\n",
              "      <td>low</td>\n",
              "    </tr>\n",
              "    <tr>\n",
              "      <th>14998</th>\n",
              "      <td>87684</td>\n",
              "      <td>2</td>\n",
              "      <td>158</td>\n",
              "      <td>3</td>\n",
              "      <td>0</td>\n",
              "      <td>1</td>\n",
              "      <td>0</td>\n",
              "      <td>support</td>\n",
              "      <td>low</td>\n",
              "    </tr>\n",
              "  </tbody>\n",
              "</table>\n",
              "</div>"
            ],
            "text/plain": [
              "       employee_id  number_project  ...  department  salary\n",
              "14994        87670               2  ...     support     low\n",
              "14995        87673               2  ...     support     low\n",
              "14996        87679               2  ...     support     low\n",
              "14997        87681               6  ...     support     low\n",
              "14998        87684               2  ...     support     low\n",
              "\n",
              "[5 rows x 9 columns]"
            ]
          },
          "metadata": {
            "tags": []
          },
          "execution_count": 4
        }
      ]
    },
    {
      "cell_type": "code",
      "metadata": {
        "colab": {
          "base_uri": "https://localhost:8080/",
          "height": 204
        },
        "id": "ljsXVpKzxZ_L",
        "outputId": "f8581e09-2370-419e-bb17-027b049fae0a"
      },
      "source": [
        "satis_lvl.head()"
      ],
      "execution_count": null,
      "outputs": [
        {
          "output_type": "execute_result",
          "data": {
            "text/html": [
              "<div>\n",
              "<style scoped>\n",
              "    .dataframe tbody tr th:only-of-type {\n",
              "        vertical-align: middle;\n",
              "    }\n",
              "\n",
              "    .dataframe tbody tr th {\n",
              "        vertical-align: top;\n",
              "    }\n",
              "\n",
              "    .dataframe thead th {\n",
              "        text-align: right;\n",
              "    }\n",
              "</style>\n",
              "<table border=\"1\" class=\"dataframe\">\n",
              "  <thead>\n",
              "    <tr style=\"text-align: right;\">\n",
              "      <th></th>\n",
              "      <th>EMPLOYEE #</th>\n",
              "      <th>satisfaction_level</th>\n",
              "      <th>last_evaluation</th>\n",
              "    </tr>\n",
              "  </thead>\n",
              "  <tbody>\n",
              "    <tr>\n",
              "      <th>0</th>\n",
              "      <td>1003</td>\n",
              "      <td>0.38</td>\n",
              "      <td>0.53</td>\n",
              "    </tr>\n",
              "    <tr>\n",
              "      <th>1</th>\n",
              "      <td>1005</td>\n",
              "      <td>0.80</td>\n",
              "      <td>0.86</td>\n",
              "    </tr>\n",
              "    <tr>\n",
              "      <th>2</th>\n",
              "      <td>1486</td>\n",
              "      <td>0.11</td>\n",
              "      <td>0.88</td>\n",
              "    </tr>\n",
              "    <tr>\n",
              "      <th>3</th>\n",
              "      <td>1038</td>\n",
              "      <td>0.72</td>\n",
              "      <td>0.87</td>\n",
              "    </tr>\n",
              "    <tr>\n",
              "      <th>4</th>\n",
              "      <td>1057</td>\n",
              "      <td>0.37</td>\n",
              "      <td>0.52</td>\n",
              "    </tr>\n",
              "  </tbody>\n",
              "</table>\n",
              "</div>"
            ],
            "text/plain": [
              "   EMPLOYEE #  satisfaction_level  last_evaluation\n",
              "0        1003                0.38             0.53\n",
              "1        1005                0.80             0.86\n",
              "2        1486                0.11             0.88\n",
              "3        1038                0.72             0.87\n",
              "4        1057                0.37             0.52"
            ]
          },
          "metadata": {
            "tags": []
          },
          "execution_count": 5
        }
      ]
    },
    {
      "cell_type": "code",
      "metadata": {
        "colab": {
          "base_uri": "https://localhost:8080/"
        },
        "id": "ceZqpUvb59yq",
        "outputId": "4fc6f823-5806-4900-e355-d7f47fd7f64c"
      },
      "source": [
        "df_data.info()"
      ],
      "execution_count": null,
      "outputs": [
        {
          "output_type": "stream",
          "text": [
            "<class 'pandas.core.frame.DataFrame'>\n",
            "RangeIndex: 14999 entries, 0 to 14998\n",
            "Data columns (total 9 columns):\n",
            " #   Column                 Non-Null Count  Dtype \n",
            "---  ------                 --------------  ----- \n",
            " 0   employee_id            14999 non-null  int64 \n",
            " 1   number_project         14999 non-null  int64 \n",
            " 2   average_montly_hours   14999 non-null  int64 \n",
            " 3   time_spend_company     14999 non-null  int64 \n",
            " 4   Work_accident          14999 non-null  int64 \n",
            " 5   left                   14999 non-null  int64 \n",
            " 6   promotion_last_5years  14999 non-null  int64 \n",
            " 7   department             14999 non-null  object\n",
            " 8   salary                 14999 non-null  object\n",
            "dtypes: int64(7), object(2)\n",
            "memory usage: 1.0+ MB\n"
          ],
          "name": "stdout"
        }
      ]
    },
    {
      "cell_type": "code",
      "metadata": {
        "colab": {
          "base_uri": "https://localhost:8080/"
        },
        "id": "ZzU-8Oz5xcvJ",
        "outputId": "228df880-a2d9-4371-de39-980c6cf522ef"
      },
      "source": [
        "satis_lvl.info()"
      ],
      "execution_count": null,
      "outputs": [
        {
          "output_type": "stream",
          "text": [
            "<class 'pandas.core.frame.DataFrame'>\n",
            "RangeIndex: 14999 entries, 0 to 14998\n",
            "Data columns (total 3 columns):\n",
            " #   Column              Non-Null Count  Dtype  \n",
            "---  ------              --------------  -----  \n",
            " 0   EMPLOYEE #          14999 non-null  int64  \n",
            " 1   satisfaction_level  14972 non-null  float64\n",
            " 2   last_evaluation     14972 non-null  float64\n",
            "dtypes: float64(2), int64(1)\n",
            "memory usage: 351.7 KB\n"
          ],
          "name": "stdout"
        }
      ]
    },
    {
      "cell_type": "markdown",
      "metadata": {
        "id": "j4Hj22d96EiD"
      },
      "source": [
        "## Descriçãdo dos atributos\n",
        "Iremos fazer uma junção de dois datasets e os dois juntos apresentam:\n",
        " - 11 colunas e 14999 linhas\n",
        " - Os dados estão indexados de 0 à 1498\n",
        " \n",
        " <br><br>\n",
        "---\n",
        "<br><br>\n",
        "Dicionário dos dados\n",
        "\n",
        "- employee_id: Identificação única para cada empregado da empresa \n",
        "- number_project: Números de projetos que foram desenvolvidos pelo empregado\n",
        "- average_montly_hours: Média de horas trabalhadas pelo empregado por mês\n",
        "- time_spend_company: Tempo que o empregado trabalha na empresa\n",
        "- Work_accident: Essa variável indica se já ocorreu algum acidente de trabalho com o empregado\n",
        "- left: Váravel mostra se o empregado deixou ou não a empresa\n",
        "- promotion_last_5years: Variável mostra se o empregado recebeu aumento nos últimos cinco anos\n",
        "- department: Deartamento em que o empregado trabalha\n",
        "- salary: Salário do empregado\n",
        "- satisfaction_level: Nível de satisfação do empregado em relação ao seu trabalho\n",
        "- last_evaluation: Qual foi a última avaliação de nível de satisfação do empregado"
      ]
    },
    {
      "cell_type": "markdown",
      "metadata": {
        "id": "dtMvO8gS0lrf"
      },
      "source": [
        "Agora vamos juntar os dois conjunto de dados para dar processeguimento aos estudos:"
      ]
    },
    {
      "cell_type": "code",
      "metadata": {
        "colab": {
          "base_uri": "https://localhost:8080/",
          "height": 204
        },
        "id": "sR8sFp_f0vME",
        "outputId": "0a0d9725-f22b-4398-dd17-40cd280a9385"
      },
      "source": [
        "tabela = df_data.set_index('employee_id').join(satis_lvl.set_index('EMPLOYEE #'))\n",
        "tabela = tabela.reset_index()\n",
        "tabela.head()"
      ],
      "execution_count": null,
      "outputs": [
        {
          "output_type": "execute_result",
          "data": {
            "text/html": [
              "<div>\n",
              "<style scoped>\n",
              "    .dataframe tbody tr th:only-of-type {\n",
              "        vertical-align: middle;\n",
              "    }\n",
              "\n",
              "    .dataframe tbody tr th {\n",
              "        vertical-align: top;\n",
              "    }\n",
              "\n",
              "    .dataframe thead th {\n",
              "        text-align: right;\n",
              "    }\n",
              "</style>\n",
              "<table border=\"1\" class=\"dataframe\">\n",
              "  <thead>\n",
              "    <tr style=\"text-align: right;\">\n",
              "      <th></th>\n",
              "      <th>employee_id</th>\n",
              "      <th>number_project</th>\n",
              "      <th>average_montly_hours</th>\n",
              "      <th>time_spend_company</th>\n",
              "      <th>Work_accident</th>\n",
              "      <th>left</th>\n",
              "      <th>promotion_last_5years</th>\n",
              "      <th>department</th>\n",
              "      <th>salary</th>\n",
              "      <th>satisfaction_level</th>\n",
              "      <th>last_evaluation</th>\n",
              "    </tr>\n",
              "  </thead>\n",
              "  <tbody>\n",
              "    <tr>\n",
              "      <th>0</th>\n",
              "      <td>1003</td>\n",
              "      <td>2</td>\n",
              "      <td>157</td>\n",
              "      <td>3</td>\n",
              "      <td>0</td>\n",
              "      <td>1</td>\n",
              "      <td>0</td>\n",
              "      <td>sales</td>\n",
              "      <td>low</td>\n",
              "      <td>0.38</td>\n",
              "      <td>0.53</td>\n",
              "    </tr>\n",
              "    <tr>\n",
              "      <th>1</th>\n",
              "      <td>1005</td>\n",
              "      <td>5</td>\n",
              "      <td>262</td>\n",
              "      <td>6</td>\n",
              "      <td>0</td>\n",
              "      <td>1</td>\n",
              "      <td>0</td>\n",
              "      <td>sales</td>\n",
              "      <td>medium</td>\n",
              "      <td>0.80</td>\n",
              "      <td>0.86</td>\n",
              "    </tr>\n",
              "    <tr>\n",
              "      <th>2</th>\n",
              "      <td>1486</td>\n",
              "      <td>7</td>\n",
              "      <td>272</td>\n",
              "      <td>4</td>\n",
              "      <td>0</td>\n",
              "      <td>1</td>\n",
              "      <td>0</td>\n",
              "      <td>sales</td>\n",
              "      <td>medium</td>\n",
              "      <td>0.11</td>\n",
              "      <td>0.88</td>\n",
              "    </tr>\n",
              "    <tr>\n",
              "      <th>3</th>\n",
              "      <td>1038</td>\n",
              "      <td>5</td>\n",
              "      <td>223</td>\n",
              "      <td>5</td>\n",
              "      <td>0</td>\n",
              "      <td>1</td>\n",
              "      <td>0</td>\n",
              "      <td>sales</td>\n",
              "      <td>low</td>\n",
              "      <td>0.72</td>\n",
              "      <td>0.87</td>\n",
              "    </tr>\n",
              "    <tr>\n",
              "      <th>4</th>\n",
              "      <td>1057</td>\n",
              "      <td>2</td>\n",
              "      <td>159</td>\n",
              "      <td>3</td>\n",
              "      <td>0</td>\n",
              "      <td>1</td>\n",
              "      <td>0</td>\n",
              "      <td>sales</td>\n",
              "      <td>low</td>\n",
              "      <td>0.37</td>\n",
              "      <td>0.52</td>\n",
              "    </tr>\n",
              "  </tbody>\n",
              "</table>\n",
              "</div>"
            ],
            "text/plain": [
              "   employee_id  number_project  ...  satisfaction_level  last_evaluation\n",
              "0         1003               2  ...                0.38             0.53\n",
              "1         1005               5  ...                0.80             0.86\n",
              "2         1486               7  ...                0.11             0.88\n",
              "3         1038               5  ...                0.72             0.87\n",
              "4         1057               2  ...                0.37             0.52\n",
              "\n",
              "[5 rows x 11 columns]"
            ]
          },
          "metadata": {
            "tags": []
          },
          "execution_count": 8
        }
      ]
    },
    {
      "cell_type": "code",
      "metadata": {
        "colab": {
          "base_uri": "https://localhost:8080/",
          "height": 163
        },
        "id": "sdYdK3LnEv4j",
        "outputId": "01ebba52-2bcb-48a4-da8c-e8ab9abb19b8"
      },
      "source": [
        "tabela.shape()"
      ],
      "execution_count": null,
      "outputs": [
        {
          "output_type": "error",
          "ename": "TypeError",
          "evalue": "ignored",
          "traceback": [
            "\u001b[0;31m---------------------------------------------------------------------------\u001b[0m",
            "\u001b[0;31mTypeError\u001b[0m                                 Traceback (most recent call last)",
            "\u001b[0;32m<ipython-input-9-e4d22317766d>\u001b[0m in \u001b[0;36m<module>\u001b[0;34m()\u001b[0m\n\u001b[0;32m----> 1\u001b[0;31m \u001b[0mtabela\u001b[0m\u001b[0;34m.\u001b[0m\u001b[0mshape\u001b[0m\u001b[0;34m(\u001b[0m\u001b[0;34m)\u001b[0m\u001b[0;34m\u001b[0m\u001b[0;34m\u001b[0m\u001b[0m\n\u001b[0m",
            "\u001b[0;31mTypeError\u001b[0m: 'tuple' object is not callable"
          ]
        }
      ]
    },
    {
      "cell_type": "code",
      "metadata": {
        "id": "r4djHtTi7zAT"
      },
      "source": [
        "['Work_accident','left','promotion_last_5years','department','salary']"
      ],
      "execution_count": null,
      "outputs": []
    },
    {
      "cell_type": "code",
      "metadata": {
        "id": "JqpJwUeY7Oo8"
      },
      "source": [
        "tabela.isnull().sum()"
      ],
      "execution_count": null,
      "outputs": []
    },
    {
      "cell_type": "code",
      "metadata": {
        "id": "0SafH35w6Cck"
      },
      "source": [
        "tabela.isnull().sum() * 100 / len(tabela)"
      ],
      "execution_count": null,
      "outputs": []
    },
    {
      "cell_type": "markdown",
      "metadata": {
        "id": "DvDXRtLdmK7x"
      },
      "source": [
        "Como a quantidade de itens com valores faltantes é bem baixa, vamos preencher os valores faltantes com a media da coluna"
      ]
    },
    {
      "cell_type": "code",
      "metadata": {
        "id": "FkhFnXObm24y"
      },
      "source": [
        "tabela.fillna(tabela.mean(), inplace=True)\n",
        "tabela.isnull().sum() * 100 / len(tabela)"
      ],
      "execution_count": null,
      "outputs": []
    },
    {
      "cell_type": "markdown",
      "metadata": {
        "id": "956NNQUG133i"
      },
      "source": [
        "## Análise univariada"
      ]
    },
    {
      "cell_type": "code",
      "metadata": {
        "id": "Q2oF2m4jZli1"
      },
      "source": [
        "tabela.describe()"
      ],
      "execution_count": null,
      "outputs": []
    },
    {
      "cell_type": "markdown",
      "metadata": {
        "id": "-DfZZL6dLv9e"
      },
      "source": [
        "Podemos perceber pela descrição estatística de algumas colunas:\n",
        "- Em \"num_project\" o valor da média se aproxima do valor do terceiro quartil, o que sugere que essa variável apresente um curva normal\n",
        "- A mesma coisa occore para a média de horas trabalhadas pelo empregado\n",
        "- Pela característica da descrição, podemos notar que as colunas \"work_accident\", \"left\" e \"promotion_last5years\" apresentam dados binários.\n"
      ]
    },
    {
      "cell_type": "code",
      "metadata": {
        "id": "4aFsT4R33fr2"
      },
      "source": [
        "tabela['left'].value_counts() * 100 / len(tabela)"
      ],
      "execution_count": null,
      "outputs": []
    },
    {
      "cell_type": "markdown",
      "metadata": {
        "id": "f69CZoIU3SV0"
      },
      "source": [
        "Dentro desse conjunto de dados podemos percerber que cerca de 23% dos empregados largaram seu empego"
      ]
    },
    {
      "cell_type": "code",
      "metadata": {
        "id": "jy5d6GoQ3zba"
      },
      "source": [
        "features = ['number_project', 'average_montly_hours', 'time_spend_company', 'satisfaction_level','last_evaluation']\n",
        "tabela[features].hist(figsize=(10, 10), bins=20);"
      ],
      "execution_count": null,
      "outputs": []
    },
    {
      "cell_type": "markdown",
      "metadata": {
        "id": "xdY2Ocef4xSZ"
      },
      "source": [
        "A partir dos gráficos acima, podemos perceber:\n",
        "- As variaveis \"number_project\" e \"time_spend_company\" podem ser consideradas como ariáveis discretas\n",
        "- A variável \"average_montly_hours\" apresenta uma distribuição semelhante com uma binomial\n",
        "- As variáveis \"satisfaction_level\" e \"last_evaluation\" apresentam uma distribuição bem semelhantes, o que já era esperado já que as duas variáveis representam o mesmo indicador"
      ]
    },
    {
      "cell_type": "code",
      "metadata": {
        "id": "J3BmKKDw6L03"
      },
      "source": [
        "sns.boxplot(x=tabela[\"satisfaction_level\"])"
      ],
      "execution_count": null,
      "outputs": []
    },
    {
      "cell_type": "markdown",
      "metadata": {
        "id": "hXjTJOYv6cHy"
      },
      "source": [
        "A variável \"sastifaction_level\" tem seus valores dispostos entre 0 e 1, o que facilita a não presença de outliers"
      ]
    },
    {
      "cell_type": "code",
      "metadata": {
        "id": "4pRpC-pe6wcW"
      },
      "source": [
        "sns.boxplot(x=tabela[\"average_montly_hours\"])"
      ],
      "execution_count": null,
      "outputs": []
    },
    {
      "cell_type": "markdown",
      "metadata": {
        "id": "XhwZR4zA68UO"
      },
      "source": [
        "A variável \"average_montly_hours\" apresenta um boxplot com uma distribuição bem simetrica entre suas areas"
      ]
    },
    {
      "cell_type": "code",
      "metadata": {
        "id": "ogWp4i9W7gho"
      },
      "source": [
        "# ['Work_accident','left','promotion_last_5years','department','salary']\n",
        "tabela['Work_accident'] = tabela['Work_accident'].astype('category')\n",
        "tabela['left'] = tabela['left'].astype('category')\n",
        "tabela['promotion_last_5years'] = tabela['promotion_last_5years'].astype('category')\n",
        "tabela['department'] = tabela['department'].astype('category')\n",
        "tabela['salary'] = tabela['salary'].astype('category')\n",
        "tabela.describe(include=['category', 'bool'])"
      ],
      "execution_count": null,
      "outputs": []
    },
    {
      "cell_type": "markdown",
      "metadata": {
        "id": "cNItrd5R8zXv"
      },
      "source": [
        "Com essa análise dos dados categoricos podemos perceber que o departamento que mais apresenta empregados é o de vendas, e tambem outro insight é que a maioria dos empregados recebem um salário que é considerado baixo"
      ]
    },
    {
      "cell_type": "code",
      "metadata": {
        "id": "4t4Jnhoy9Sqr"
      },
      "source": [
        "categorical_features = ['number_project','Work_accident','left','promotion_last_5years','department','salary']\n",
        "tabela[categorical_features]\n",
        "\n",
        "_, axes = plt.subplots(nrows=3, ncols=2, figsize=(15, 10))\n",
        "n = 0\n",
        "for i in range(3):\n",
        "  for j in range(2):\n",
        "    sns.countplot(x=categorical_features[n], data=tabela, ax=axes[i,j])\n",
        "    n += 1;"
      ],
      "execution_count": null,
      "outputs": []
    },
    {
      "cell_type": "markdown",
      "metadata": {
        "id": "HgXfAEtd-Fyr"
      },
      "source": [
        "# Análise bivariada\n",
        "  - Identificar quais atributos são mais correlacionados\n",
        "  -Escolher atributo target, e analisar dados em função dele para ter insights\n",
        "  - Durante esse processo responder 7 perguntas envolvendo:\n",
        "    - 2 atributos categoricos\n",
        "    - 2 atributos continuos\n",
        "    - 1 atributo continuo x 1 atributo categorico\n",
        "    "
      ]
    },
    {
      "cell_type": "code",
      "metadata": {
        "id": "W-Dm_Ucu_Di-"
      },
      "source": [
        "tabela = tabela.drop(columns='employee_id')\n",
        "\n",
        "columns =['department', 'salary']\n",
        "tabelacorr =  tabela.drop(columns=columns)\n",
        "corr = tabelacorr.corr()\n",
        "\n",
        "mask = np.zeros_like(corr, dtype=np.bool)\n",
        "mask[np.triu_indices_from(mask)] = True\n",
        "\n",
        "\n",
        "f, ax = plt.subplots(figsize=(18, 10))\n",
        "\n",
        "\n",
        "\n",
        "sns.heatmap(corr, mask=mask, annot = True, fmt = '.2f', cmap=sns.light_palette(\"navy\", reverse=True))\n",
        "\n",
        "plt.show()"
      ],
      "execution_count": null,
      "outputs": []
    },
    {
      "cell_type": "markdown",
      "metadata": {
        "id": "0bSnP429AMlO"
      },
      "source": [
        "Analisando o resultado da matriz de correlação podemos perceber que não existem correlações fortes entre as variaveis. o que mais se destaca em questão de correlação é a quando consideramos a analise das variáveis \"last_evaluation\" vs \"num_project\" / \"average_montly_hours\". Isso provavelmente ocorre porque quanto mais projetos um empregado tem em desenvolvimento ele tem uma inclinação a sentir-se mais satisfeito, assim como, isso tbm pode criar condições que corroborem com um aumento de horas de trabalho"
      ]
    },
    {
      "cell_type": "code",
      "metadata": {
        "id": "NCLoNEvc_t3x"
      },
      "source": [
        "fig, (ax1, ax2) = plt.subplots(nrows=2, sharey=True, figsize=(20,10))\n",
        "\n",
        "sns.kdeplot(data=tabela, x=\"satisfaction_level\", hue=\"left\",ax=ax1)\n",
        "sns.kdeplot(data=tabela, x=\"last_evaluation\", hue=\"left\",ax=ax2);"
      ],
      "execution_count": null,
      "outputs": []
    },
    {
      "cell_type": "code",
      "metadata": {
        "id": "nlPBQVtuMSCH"
      },
      "source": [
        "fig, (ax1, ax2) = plt.subplots(nrows=2, sharey=True, figsize=(20,10))\n",
        "\n",
        "sns.kdeplot(data=tabela, x=\"time_spend_company\", hue=\"left\",ax=ax1)"
      ],
      "execution_count": null,
      "outputs": []
    },
    {
      "cell_type": "code",
      "metadata": {
        "id": "5wDwS5T7_W2Q"
      },
      "source": [
        "tabela.columns"
      ],
      "execution_count": null,
      "outputs": []
    },
    {
      "cell_type": "markdown",
      "metadata": {
        "id": "jY-bLZ--JwU6"
      },
      "source": [
        "1. O que mais variáveis mais indicam a saída de um empregado da companhia?\n",
        "2. O que explica as principais mudanças de comportamento em empregados que pretendem deixar a companhia?\n",
        "3. Pode-se dizer que promoções impactam na permanência de um empregado na empresa?\n",
        "4. Existe uma grande diferença entre os níveis de satisfação de um empregado que pretende deixar a companhia e outro que pretende permanescer?\n",
        "5. Quais insights podemos ter em relação ao números de projetos que um empregado desenvolve?\n",
        "6. O tempo gasto pelo empregado dentro da empreza diz alguma coisa a respeito da sua permanência ou saida?\n",
        "7. Como as variáveis desse dataset se correlacionam?"
      ]
    },
    {
      "cell_type": "markdown",
      "metadata": {
        "id": "0N_K4H5GFike"
      },
      "source": [
        "### Quais departamentos apresentam um maior índice de saída de empregados?"
      ]
    },
    {
      "cell_type": "markdown",
      "metadata": {
        "id": "QejXKOrpKT2J"
      },
      "source": [
        "Primeiro vamos criar um dataframe com valores absolutos de empregados que sairam e tambem uma coluna com a porcentagem de empregados que saíram considerando o total dentro de um mesmo departamento."
      ]
    },
    {
      "cell_type": "code",
      "metadata": {
        "colab": {
          "base_uri": "https://localhost:8080/",
          "height": 359
        },
        "id": "HTcSpOnmFumZ",
        "outputId": "9f1280c4-794b-4279-d080-a88748ea4375"
      },
      "source": [
        "dep = pd.DataFrame(tabela['department'][tabela['left'] == 1].value_counts())\n",
        "total_dep = pd.DataFrame(tabela['department'].value_counts())\n",
        "\n",
        "\n",
        "\n",
        "\n",
        "dep['department_total'] = total_dep['department'].values\n",
        "dep['percent_left'] = dep['department'] / dep['department_total']\n",
        "dep = dep.reset_index()\n",
        "dep"
      ],
      "execution_count": null,
      "outputs": [
        {
          "output_type": "execute_result",
          "data": {
            "text/html": [
              "<div>\n",
              "<style scoped>\n",
              "    .dataframe tbody tr th:only-of-type {\n",
              "        vertical-align: middle;\n",
              "    }\n",
              "\n",
              "    .dataframe tbody tr th {\n",
              "        vertical-align: top;\n",
              "    }\n",
              "\n",
              "    .dataframe thead th {\n",
              "        text-align: right;\n",
              "    }\n",
              "</style>\n",
              "<table border=\"1\" class=\"dataframe\">\n",
              "  <thead>\n",
              "    <tr style=\"text-align: right;\">\n",
              "      <th></th>\n",
              "      <th>index</th>\n",
              "      <th>department</th>\n",
              "      <th>department_total</th>\n",
              "      <th>percent_left</th>\n",
              "    </tr>\n",
              "  </thead>\n",
              "  <tbody>\n",
              "    <tr>\n",
              "      <th>0</th>\n",
              "      <td>sales</td>\n",
              "      <td>1014</td>\n",
              "      <td>4140</td>\n",
              "      <td>0.24</td>\n",
              "    </tr>\n",
              "    <tr>\n",
              "      <th>1</th>\n",
              "      <td>technical</td>\n",
              "      <td>697</td>\n",
              "      <td>2720</td>\n",
              "      <td>0.26</td>\n",
              "    </tr>\n",
              "    <tr>\n",
              "      <th>2</th>\n",
              "      <td>support</td>\n",
              "      <td>555</td>\n",
              "      <td>2229</td>\n",
              "      <td>0.25</td>\n",
              "    </tr>\n",
              "    <tr>\n",
              "      <th>3</th>\n",
              "      <td>IT</td>\n",
              "      <td>273</td>\n",
              "      <td>1227</td>\n",
              "      <td>0.22</td>\n",
              "    </tr>\n",
              "    <tr>\n",
              "      <th>4</th>\n",
              "      <td>hr</td>\n",
              "      <td>215</td>\n",
              "      <td>902</td>\n",
              "      <td>0.24</td>\n",
              "    </tr>\n",
              "    <tr>\n",
              "      <th>5</th>\n",
              "      <td>accounting</td>\n",
              "      <td>204</td>\n",
              "      <td>858</td>\n",
              "      <td>0.24</td>\n",
              "    </tr>\n",
              "    <tr>\n",
              "      <th>6</th>\n",
              "      <td>marketing</td>\n",
              "      <td>203</td>\n",
              "      <td>787</td>\n",
              "      <td>0.26</td>\n",
              "    </tr>\n",
              "    <tr>\n",
              "      <th>7</th>\n",
              "      <td>product_mng</td>\n",
              "      <td>198</td>\n",
              "      <td>767</td>\n",
              "      <td>0.26</td>\n",
              "    </tr>\n",
              "    <tr>\n",
              "      <th>8</th>\n",
              "      <td>RandD</td>\n",
              "      <td>121</td>\n",
              "      <td>739</td>\n",
              "      <td>0.16</td>\n",
              "    </tr>\n",
              "    <tr>\n",
              "      <th>9</th>\n",
              "      <td>management</td>\n",
              "      <td>91</td>\n",
              "      <td>630</td>\n",
              "      <td>0.14</td>\n",
              "    </tr>\n",
              "  </tbody>\n",
              "</table>\n",
              "</div>"
            ],
            "text/plain": [
              "         index  department  department_total  percent_left\n",
              "0        sales        1014              4140          0.24\n",
              "1    technical         697              2720          0.26\n",
              "2      support         555              2229          0.25\n",
              "3           IT         273              1227          0.22\n",
              "4           hr         215               902          0.24\n",
              "5   accounting         204               858          0.24\n",
              "6    marketing         203               787          0.26\n",
              "7  product_mng         198               767          0.26\n",
              "8        RandD         121               739          0.16\n",
              "9   management          91               630          0.14"
            ]
          },
          "metadata": {
            "tags": []
          },
          "execution_count": 43
        }
      ]
    },
    {
      "cell_type": "code",
      "metadata": {
        "colab": {
          "base_uri": "https://localhost:8080/",
          "height": 405
        },
        "id": "Uh4P_TEhLoGD",
        "outputId": "f13682d0-19fe-45f6-d80f-3b3cedaaf4b0"
      },
      "source": [
        "sns.barplot(x='index',y='department_total',data=dep).set_title('Quantidade de Empregados por departamento')\n",
        "fig1 = plt.gcf()\n",
        "fig1.set_size_inches(20,6)"
      ],
      "execution_count": null,
      "outputs": [
        {
          "output_type": "display_data",
          "data": {
            "image/png": "[encoded data removed]",
            "text/plain": [
              "<Figure size 1440x432 with 1 Axes>"
            ]
          },
          "metadata": {
            "tags": [],
            "needs_background": "light"
          }
        }
      ]
    },
    {
      "cell_type": "code",
      "metadata": {
        "colab": {
          "base_uri": "https://localhost:8080/",
          "height": 404
        },
        "id": "wPLn_CkPGwKB",
        "outputId": "68db3230-3251-4c9f-e419-49d1ed8f0e65"
      },
      "source": [
        "sns.barplot(x='department',y='index',data=dep,palette='Blues_d').set_title('Top 3 Departamento com Evasão (Valor absoluto)')\n",
        "fig1 = plt.gcf()\n",
        "fig1.set_size_inches(20,6)"
      ],
      "execution_count": null,
      "outputs": [
        {
          "output_type": "display_data",
          "data": {
            "image/png": "[encoded data removed]",
            "text/plain": [
              "<Figure size 1440x432 with 1 Axes>"
            ]
          },
          "metadata": {
            "tags": [],
            "needs_background": "light"
          }
        }
      ]
    },
    {
      "cell_type": "code",
      "metadata": {
        "colab": {
          "base_uri": "https://localhost:8080/",
          "height": 405
        },
        "id": "klpjv-CpJkuv",
        "outputId": "08a0e903-ab2e-49f6-e765-dbe3531adf10"
      },
      "source": [
        "sns.barplot(x='percent_left',y='index',data=dep.sort_values(by=['percent_left'], ascending=False),palette='Blues_d').set_title('Top 3 Departamento com Evasão (Valor relativo)')\n",
        "fig1 = plt.gcf()\n",
        "fig1.set_size_inches(20,6)"
      ],
      "execution_count": null,
      "outputs": [
        {
          "output_type": "display_data",
          "data": {
            "image/png": "[encoded data removed]",
            "text/plain": [
              "<Figure size 1440x432 with 1 Axes>"
            ]
          },
          "metadata": {
            "tags": [],
            "needs_background": "light"
          }
        }
      ]
    },
    {
      "cell_type": "markdown",
      "metadata": {
        "id": "fI22CSCaLC3L"
      },
      "source": [
        "**Insights:**\n",
        "- Quando considerammos fazer uma contagem com valores absolutos de quais departamentos estão apresentando uma taxa maior de saída de colaboradores encontramos o \"Sales\", \"technical\" e \"support\". Antes de inferir qualquer possível causa intrísica ao conjunto de dados a esse resultado, observamos que o gráfico de top 3 departamentos com evasão segue a ordem rankiada dos departamentos com maior quantidade de empregados, e isso deixa claro que esse retorno está sendo influenciada pelo quantidade de empregados em cada departamento\n",
        "- Quando realizamos uma análise baseada na evasão relativa à quantidade total de empregados dentro de um departamento, temos um resultado mais factível. Nesse resultado, os departamentos \"product_mng\", \"marketing\" e \"technical\" apresental uma maior porcentagem de evasão de empregados"
      ]
    },
    {
      "cell_type": "code",
      "metadata": {
        "id": "fylzG1tWNiju"
      },
      "source": [
        ""
      ],
      "execution_count": null,
      "outputs": []
    }
  ]
}