{
  "nbformat": 4,
  "nbformat_minor": 0,
  "metadata": {
    "colab": {
      "name": "Cópia de Desafio_kNN.ipynb",
      "provenance": [],
      "collapsed_sections": []
    },
    "kernelspec": {
      "name": "python3",
      "display_name": "Python 3"
    }
  },
  "cells": [
    {
      "cell_type": "markdown",
      "metadata": {
        "id": "h6EzQeruwlFI"
      },
      "source": [
        "\n",
        "Equipe:\n",
        "- Daniel Abreu\n",
        "- Everton Novaes\n",
        "- Matheus Augusto\n",
        "---\n",
        "\n"
      ]
    },
    {
      "cell_type": "markdown",
      "metadata": {
        "id": "lknp4_p9qTL5"
      },
      "source": [
        "#Desafio: implementar o algoritmo de classificação kNN"
      ]
    },
    {
      "cell_type": "markdown",
      "metadata": {
        "id": "QSYEPz3iqm6X"
      },
      "source": [
        "## Funcionamento do kNN\n",
        "\n",
        "O algoritmo kNN está entre os mais simples algoritmos de aprendizado de máquina. Em sua versão original, seu uso é destinado à tarefas de classificação de dados numéricos. \n",
        "\n",
        "A figura abaixo ilustra o processo realizado pelo kNN para predizer o rótulo (ou classe) de uma instância a partir de um conjunto de treinamento:\n",
        "\n",
        "<img src='https://drive.google.com/uc?id=1PRnnAj88I1JYFVxEIA4K9FsQUW6zzq_-'>\n",
        "\n",
        "\n",
        "Em síntese, o processo de predição é composto por 3 etapas, conforme segue:\n",
        "\n",
        "1. Calcular a distância entre a instância x que se deseja rotular e todos os pontos de um conjunto de treinamento dado. Conjuntos de treinamento são conjuntos de instâncias que possuem algum rótulo previamente especificado e são utilizados como exemplos do domínio que se deseja que o modelo aprenda.\n",
        "\n",
        "2. Idenficar quais são os k vizinhos mais próximos. O valor de K é especificado pelo usuário da função. É importante que o valor escolhido não favoreça possíveis empates. Por esse motivo, o valor de k geralmente é um número ímpar diferente do número de classes do domínio (ex: se existem 3 classes possíveis, k deve ser um valor >= 5).\n",
        "\n",
        "3. Contar os votos. O rótulo de x será o rótulo mais comum entre os seus k vizinhos mais próximos"
      ]
    },
    {
      "cell_type": "markdown",
      "metadata": {
        "id": "pbHPYVMsyHjd"
      },
      "source": [
        "## Testando um algoritmo de classificação"
      ]
    },
    {
      "cell_type": "markdown",
      "metadata": {
        "id": "LK2OEfG-yQyh"
      },
      "source": [
        "O processo de testar um algoritmo de classificação pode ser muito simples. Basta selecionar um dataset previamente rotulado e dividí-lo em conjuntos de treinamento e teste. \n",
        "\n",
        "O conjunto de treinamento, como dito antes, serve como base do aprendizado. É dele que o algoritmo tira informações para \"entender\" os padrões de comportamento entre instâncias de uma mesma classe que as diferencia das instâncias de outras classes.\n",
        "\n",
        "O conjunto de testes é utilizado para verficar a capacidade do algoritmo em predizer corretamente um rótulo para uma instância. Para tanto, as instâncias do conjunto de testes são submetidas ao modelo preditivo para que ele as rotule e, em seguida, faz-se a medição da taxa de acerto obtida, também conhecida como acurácia. O cálculo da acurácia a razão entre o número de instâncias preditas corretamente e o tamanho do conjunto e treinamento."
      ]
    },
    {
      "cell_type": "markdown",
      "metadata": {
        "id": "F1Zf3H5JyVE_"
      },
      "source": [
        "## Desafio"
      ]
    },
    {
      "cell_type": "markdown",
      "metadata": {
        "id": "IwijZHwFwzNz"
      },
      "source": [
        "Isto posto, vamos ao desafio. Sua tarefa será desenvolver o algoritmo kNN, aplicá-lo no dataset [Iris](https://pt.wikipedia.org/wiki/Conjunto_de_dados_flor_Iris) e verificar a sua acurácia. O teste de acurácia deve ser realizado com um conjunto de testes composto por 20% do dataset. Lembre-se que essas instâncias não podem compor o conjunto de treinamento.\n",
        "\n",
        "Para tanto, você precisa desenvolver a função que dividirá a base entre conjunto de treinamento e teste, a classe kNN e a função de cálculo de acurácia.\n",
        "\n"
      ]
    },
    {
      "cell_type": "code",
      "metadata": {
        "id": "40pLZXSCD3PK"
      },
      "source": [
        "# Obtendo o dataset iris\n",
        "\n",
        "from sklearn import datasets\n",
        "import numpy as np\n",
        "\n",
        "iris = datasets.load_iris()\n",
        "x = np.array(iris.data) # matriz de instâncias\n",
        "y = np.array(iris.target) # vetor de rótulos"
      ],
      "execution_count": null,
      "outputs": []
    },
    {
      "cell_type": "markdown",
      "metadata": {
        "id": "9tvJtLfRC25r"
      },
      "source": [
        "### A função dividir_treino_teste\n",
        "\n",
        "\n",
        "  A função dividir_treino_teste deve receber como parâmetros a matriz de instâncias e o vetor de rótulos de um dataset qualquer e um valor decimal equivalente ao percentual da base que se deseja separar para compor o conjunto de treinamento.\n",
        "\n",
        "  É importante lembrar que normalmente os datasets vêm ordenados pelos rótulos. Com o dataset iris não é diferente, assim sendo, é necessário desordenar a base antes de realizar a divisão. Se isso não for feito, o conjunto de testes será composto exclusivamente por instâncias da classe 'virginica' (as classes são 0, 1 e 2 que represententam as classes de flores 'setosa', 'versicolor' e 'virginica' respectivamente).\n",
        "\n",
        "  Após reordenar a base (utilize o seed zero), vocês devem calcular o número de instâncias que serão utilizadas para compor o conjunto de treinamento. Em seguida, devem ser criados os seguintes arrays:\n",
        "\n",
        "    1. x_treino: matriz de instâncias do conjunto de treinamento;\n",
        "\n",
        "    2. y_treino: vetor de rótulos das instâncias do conjunto de treinamento;\n",
        "\n",
        "    3. x_teste: matriz de instâncias do conjunto de testes; \n",
        "\n",
        "    4. y_teste: vetor de rótulos das instâncias do conjunto de testes.\n",
        "\n",
        "  Ao final da função os arrays criados devem ser retornados.\n",
        "\n",
        "\n"
      ]
    },
    {
      "cell_type": "code",
      "metadata": {
        "id": "JmexwuBcEQMl"
      },
      "source": [
        "# Insira aqui o código da função 'dividir_treino_teste'\n",
        "\n",
        "def train_test_split(x,y, test_size=0.3):\n",
        "  test_s = round(len(y) * test_size)\n",
        "  train_s = len(y) - test_s\n",
        "  random_order = np.random.permutation(len(y))\n",
        "  new_x = x[random_order]\n",
        "  new_y = y[random_order]\n",
        "\n",
        "  return new_x[:train_s], new_x[-test_s:], new_y[:train_s], new_y[-test_s:]\n"
      ],
      "execution_count": null,
      "outputs": []
    },
    {
      "cell_type": "code",
      "metadata": {
        "id": "gdiBGeV2p2I8"
      },
      "source": [
        "X_train, X_test, y_train, y_test = train_test_split(x,y)"
      ],
      "execution_count": null,
      "outputs": []
    },
    {
      "cell_type": "markdown",
      "metadata": {
        "id": "EIzaK5RKC620"
      },
      "source": [
        "### A classe kNN\n",
        "  **Inicialização:** número de vizinhos mais próximos desejado.\n",
        "\n",
        "  **Função fit:** função responsável por armazenar em variáveis globais a matriz de instâncias (x_treino) e o vetor de rótulos (y_treino) do conjunto de treinamento. Lembre-se que a matriz de instâncias deve possuir o mesmo número de linhas que o vetor de rótulos.\n",
        "\n",
        "  **Função predict:**  função responsável por receber uma matriz de instâncias não classificadas (x_teste) e classificá-las, retornando um vetor de rótulos. Lembre-se que x_teste deve possuir o mesmo número de colunas que x_treino. Lembre-se também que a função predict só pode ser chamada após a função fit ser executada.\n",
        "\n",
        "  Etapas:\n",
        "\n",
        "    1. Iterar sobre x_teste e, em cada iteração, adicionar num vetor 'classes' o rótulo da instância analisada. \n",
        "    O vetor final deve ser um vetor de tamanho equivalente ao número de linhas de x_teste, onde classes[i] \n",
        "    é o rótulo predito da instância x_teste[i];\n",
        "\n",
        "    2. Para cada iteração, deve-se calcular o vetor de distâncias entre a instância de teste (x_teste[i]) \n",
        "    e todas as instâncias do conjunto de treinamento. Utilizem a distância euclidiana;\n",
        "\n",
        "    3. Crie um vetor com os índices de x_teste ordenados da instância mais próxima de i até a mais distânte.\n",
        "\n",
        "    4. Crie um vetor com as classes das k instâncias mais próximas de i em y_treino;\n",
        "\n",
        "    5. Identifique neste vetor qual a classe mais frequente. Essa será a classe de i;\n",
        "\n",
        "    6. Adicione a classe de i no vetor classes e passe para a próxima iteração.\n",
        "\n"
      ]
    },
    {
      "cell_type": "code",
      "metadata": {
        "id": "z7FZrIxaEZ3t"
      },
      "source": [
        "# Insira aqui o código da classe kNN\n",
        "class Cimatec_KNN:\n",
        "  \n",
        "  def __init__(self, k=3):\n",
        "    self.k = k\n",
        "    self.X = None\n",
        "    self.Y = None\n",
        "\n",
        "  def fit(self, x, y):\n",
        "    self.X = x\n",
        "    self.Y = y\n",
        "\n",
        "  def predict(self, x_):\n",
        "    distance = []\n",
        "    zero = 0\n",
        "    one = 0\n",
        "    two = 0\n",
        "\n",
        "    for i in range(self.X.shape[0]):\n",
        "      distance.append(np.sqrt(np.sum((self.X[i] - x_)**2))) \n",
        "    \n",
        "    neighbors = self.Y[np.argsort(distance)][:self.k]\n",
        "    for i in neighbors:\n",
        "      if i == 0:\n",
        "        zero+=1\n",
        "      elif i == 1:\n",
        "        one+=1\n",
        "      else:\n",
        "        two+=1\n",
        "\n",
        "    if zero > one and zero > two:\n",
        "      return 0\n",
        "    elif one > zero and one > two:\n",
        "      return 1\n",
        "    elif two > zero and two > one:\n",
        "      return 2\n",
        "\n",
        "  def accuracy_test(self, x, y):\n",
        "    correct = 0\n",
        "    wrong = 0\n",
        "    for i in range(x.shape[0]):\n",
        "      y_ = self.predict(x[i]) \n",
        "\n",
        "      if y[i] == y_:\n",
        "        correct+=1\n",
        "      else:\n",
        "        wrong+=1\n",
        "    print(\"Model has Accuracy of {}%\".format( correct/len(y)))"
      ],
      "execution_count": null,
      "outputs": []
    },
    {
      "cell_type": "markdown",
      "metadata": {
        "id": "TeqAYFYCDAHZ"
      },
      "source": [
        "### Função \"acurácia\":\n",
        "  Essa função deve receber como parâmetro um vetor de classes preditas e outro vetor de classes preditas (y_teste) e retornar a taxa de acertos. Lembre-se que os dois vetores devem ser unidimensionais e de mesmo tamanho."
      ]
    },
    {
      "cell_type": "code",
      "metadata": {
        "id": "vJ3hZN52Ede2"
      },
      "source": [
        "# Insira aqui o código da função acurácia\n"
      ],
      "execution_count": null,
      "outputs": []
    },
    {
      "cell_type": "markdown",
      "metadata": {
        "id": "tjo9WRpIEm_O"
      },
      "source": [
        "## Agora teste seu algoritmo\n",
        "\n",
        "Utilize as funções e a classe criada para dividir o dataset iris em conjuntos de treino e teste com a proporção 80/20, classifique o conjunto de testes e verifique a acurácia obtida. Considere k = 5."
      ]
    },
    {
      "cell_type": "code",
      "metadata": {
        "id": "oMPVcq4dfFmY"
      },
      "source": [
        "knn = Cimatec_KNN(k=5)\n",
        "knn.fit(X_train,y_train)"
      ],
      "execution_count": null,
      "outputs": []
    },
    {
      "cell_type": "code",
      "metadata": {
        "id": "IyYJfQZbz_nC",
        "outputId": "22b9e3ff-7859-46b3-f3e8-90e5b039f285",
        "colab": {
          "base_uri": "https://localhost:8080/"
        }
      },
      "source": [
        "knn.accuracy_test( X_test, y_test)"
      ],
      "execution_count": null,
      "outputs": [
        {
          "output_type": "stream",
          "text": [
            "Model has Accuracy of 0.9777777777777777%\n"
          ],
          "name": "stdout"
        }
      ]
    },
    {
      "cell_type": "code",
      "metadata": {
        "id": "mzcuIFk90b3b",
        "outputId": "5c239d7a-9168-4dcf-8ba8-67b43f8e660f",
        "colab": {
          "base_uri": "https://localhost:8080/"
        }
      },
      "source": [
        "print(\"Predicted: \", knn.predict(X_test[5]), end=\"\\n\\n\")\n",
        "print(\"True Value: \",y_test[5], end=\"\\n\\n\")"
      ],
      "execution_count": null,
      "outputs": [
        {
          "output_type": "stream",
          "text": [
            "Predicted:  2\n",
            "\n",
            "True Value:  2\n",
            "\n"
          ],
          "name": "stdout"
        }
      ]
    },
    {
      "cell_type": "markdown",
      "metadata": {
        "id": "GqpzpjalFSKl"
      },
      "source": [
        "### Modelo de comparação\n",
        "\n",
        "Segue abaixo o código para utilizar a classe kNN do pacote sklearn. Após finalizar o desafio, você pode executar o código abaixo e verificar se o resultado que você obteve de acurácia bate com o que era esperado. Lembre-se que o kNN não utiliza aleatoriedade em seu processo de classificação, assim sendo, para uma mesma medida de distância, mesmo número de vizinhos e mesmos conjuntos de treinamento e teste, o resultado sempre será o mesmo."
      ]
    },
    {
      "cell_type": "code",
      "metadata": {
        "id": "DyUy9D_5GHjM",
        "outputId": "06ad1a9a-1536-496e-81fa-6fd9db9078c7",
        "colab": {
          "base_uri": "https://localhost:8080/"
        }
      },
      "source": [
        "# Este código só vai funcionar se o seu método de acuracia e os arrays x_treino,\n",
        "# x_teste, y_treino, y_teste e a sua funcao acuracia estiverem carregados em memoria.\n",
        "from sklearn.metrics import accuracy_score\n",
        "from sklearn.neighbors import KNeighborsClassifier\n",
        "\n",
        "neigh = KNeighborsClassifier(n_neighbors=5)\n",
        "neigh.fit(X_train,y_train)\n",
        "predicoes = neigh.predict(X_test)\n",
        "\n",
        "accuracy_score(y_test, predicoes)"
      ],
      "execution_count": null,
      "outputs": [
        {
          "output_type": "execute_result",
          "data": {
            "text/plain": [
              "0.9777777777777777"
            ]
          },
          "metadata": {
            "tags": []
          },
          "execution_count": 127
        }
      ]
    },
    {
      "cell_type": "code",
      "metadata": {
        "id": "9fG9nr01ssAx"
      },
      "source": [
        ""
      ],
      "execution_count": null,
      "outputs": []
    }
  ]
}