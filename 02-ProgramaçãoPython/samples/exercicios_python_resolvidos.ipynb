{
  "nbformat": 4,
  "nbformat_minor": 0,
  "metadata": {
    "colab": {
      "name": "exercicios_python_resolvidos.ipynb",
      "provenance": [],
      "collapsed_sections": []
    },
    "kernelspec": {
      "name": "python3",
      "display_name": "Python 3"
    }
  },
  "cells": [
    {
      "cell_type": "markdown",
      "metadata": {
        "id": "tkqhfFzerom0"
      },
      "source": [
        "#Introdução à linguagem Python"
      ]
    },
    {
      "cell_type": "markdown",
      "metadata": {
        "id": "GKjKyi9YBFua"
      },
      "source": [
        "##Tipos de dados"
      ]
    },
    {
      "cell_type": "code",
      "metadata": {
        "id": "7X8kZwAIBIKR"
      },
      "source": [
        "x = 3\n",
        "print(\"x = 3\")\n",
        "print(type(x))\n",
        "\n",
        "x /= 2\n",
        "print(\"x /= 2\")\n",
        "print(type(x))\n",
        "\n",
        "x//=2\n",
        "print(\"x//=2\")\n",
        "print(type(x))\n",
        "\n",
        "x = int(x)\n",
        "print(\"x = int(x)\")\n",
        "print(type(x))\n",
        "\n",
        "x = \"fim\"\n",
        "print(\"x = ‘fim’\")\n",
        "print(type(x))"
      ],
      "execution_count": null,
      "outputs": []
    },
    {
      "cell_type": "markdown",
      "metadata": {
        "id": "xQA6mVD8nE2U"
      },
      "source": [
        "##Variáveis"
      ]
    },
    {
      "cell_type": "markdown",
      "metadata": {
        "id": "xleeoviie_ss"
      },
      "source": [
        "###Exercício 01: \n",
        "\n",
        "\n"
      ]
    },
    {
      "cell_type": "markdown",
      "metadata": {
        "id": "IZZOJ9w_KfEO"
      },
      "source": [
        "Braian é um professor legal e quer evitar que o aluno João seja reprovado. João tirou 8,55, 5,35, 5 e 1, respectivamente, nas provas P1, P2, P3 e P4. Para isso, ele pode calcular a nota final usando a média aritmética (M.A.), média geométrica (M.G.) ou média harmônica (M.H.) \n",
        "Qual dessas médias dá a maior nota para João? E qual das médias dá a pior nota?"
      ]
    },
    {
      "cell_type": "code",
      "metadata": {
        "id": "a1jigGfje6wA"
      },
      "source": [
        "p1, p2, p3, p4 = 8.66, 5.35, 5, 1\n",
        "\n",
        "ma = (p1 + p2 + p3 + p4)/4\n",
        "\n",
        "mg = (p1 * p2 * p3 * p4)**(1/4)\n",
        "\n",
        "mh = 4/(1/p1 + 1/p2 + 1/p3 + 1/p4)\n",
        "\n",
        "print('ma: {}; mg: {}; mh: {}'.format(ma, mg, mh))\n"
      ],
      "execution_count": null,
      "outputs": []
    },
    {
      "cell_type": "markdown",
      "metadata": {
        "id": "EcJqeJMtztQV"
      },
      "source": [
        "###Exercício 02:\n",
        "\n",
        "\n"
      ]
    },
    {
      "cell_type": "markdown",
      "metadata": {
        "id": "0Q-6vH1pKjhi"
      },
      "source": [
        "Josefa deseja fazer compras na China. Ela quer comprar um celular de USD 299,99, uma chaleira de USD 23,87, um gnomo de jardim de USD 66,66 e 6 adesivos de unicórnio de USD 1,42 cada um. O frete para Salvador é USD 12,34. Considerando o dólar a R$ 5,28 (:/), responda:\n",
        "\n",
        "a. Qual o preço final da compra em reais? Lembre-se que o valor do IOF é de 6,28%.\n",
        "\n",
        "b. Quanto ela pagará apenas de IOF?"
      ]
    },
    {
      "cell_type": "code",
      "metadata": {
        "id": "SzkR_YADKlEJ"
      },
      "source": [
        "valor_total = (299.99+23.87+12.34+1.42*6)*5.28\n",
        "print('a) Valor total: {:.2f}'.format(valor_total*1.0628))\n",
        "print()\n",
        "print('b) Custo com IOF: {:.2f}'.format(valor_total*0.0628))"
      ],
      "execution_count": null,
      "outputs": []
    },
    {
      "cell_type": "markdown",
      "metadata": {
        "id": "dKtG8whpnLcb"
      },
      "source": [
        "##Manipulação de strings"
      ]
    },
    {
      "cell_type": "code",
      "metadata": {
        "id": "oxwj_Np5DrkQ"
      },
      "source": [
        "frase = \"Aprender Python é muito divertido!\"\n",
        "print(frase)\n",
        "print()\n",
        "print(\"frase[0]: {}\".format(frase[0]))\n",
        "print(\"frase[5]: {}\".format(frase[5]))\n",
        "print(\"frase[0:5]: {}\".format(frase[0:5]))\n",
        "print(\"frase[:]: {}\".format(frase[:]))\n",
        "print(\"frase[6:]: {}\".format(frase[6:]))\n",
        "print(\"frase[:6]: {}\".format(frase[:6]))\n",
        "print(\"frase[2:-3]: {}\".format(frase[2:-3]))\n",
        "print(\"frase[0:-7]: {}\".format(frase[0:-7]))\n",
        "print(\"frase[2:-2]: {}\".format(frase[2:-2]))\n"
      ],
      "execution_count": null,
      "outputs": []
    },
    {
      "cell_type": "code",
      "metadata": {
        "id": "sitngz2SE2Vt"
      },
      "source": [
        "help(str.split)"
      ],
      "execution_count": null,
      "outputs": []
    },
    {
      "cell_type": "markdown",
      "metadata": {
        "id": "jiWL54BKLU1Q"
      },
      "source": [
        "###Exercício 3:\n",
        "\n",
        "\n",
        "\n",
        "1.   Dada a frase “Python é muito legal.”, use fatiamento para dividir a frase e armazenar cada palavra em uma variável diferente.\n",
        "2.   Agora que conhecemos atribuição múltipla e o método str.split() refaça o exercício anterior usando essas técnicas.\n",
        "3.   Qual o tamanho dessa frase? \n",
        "4.   Use fatiamento (mais especificamente o passo do fatiamento) para inverter a string “Python”.\n"
      ]
    },
    {
      "cell_type": "code",
      "metadata": {
        "id": "71srd669Lyb6"
      },
      "source": [
        "frase = \"Python é muito legal\""
      ],
      "execution_count": null,
      "outputs": []
    },
    {
      "cell_type": "code",
      "metadata": {
        "id": "Cq-gSm5DL2vg"
      },
      "source": [
        "p1 = frase[:6]\n",
        "p2 = frase[7:8]\n",
        "p3 = frase[9:14]\n",
        "p4 = frase[15:]\n",
        "\n",
        "a = [p1, p2, p3, p4]\n",
        "print(a)"
      ],
      "execution_count": null,
      "outputs": []
    },
    {
      "cell_type": "code",
      "metadata": {
        "id": "1rKmIzzVHNL3"
      },
      "source": [
        "p1, p2, p3, p4 = \"Python é muito legal\".split()\n",
        "a = [p1, p2, p3, p4]\n",
        "print(a)"
      ],
      "execution_count": null,
      "outputs": []
    },
    {
      "cell_type": "code",
      "metadata": {
        "id": "MnogOdoRHZs1"
      },
      "source": [
        "len(frase)"
      ],
      "execution_count": null,
      "outputs": []
    },
    {
      "cell_type": "code",
      "metadata": {
        "id": "2LKEUp7QMvZc"
      },
      "source": [
        "\"Python\"[::-1]"
      ],
      "execution_count": null,
      "outputs": []
    },
    {
      "cell_type": "markdown",
      "metadata": {
        "id": "8uajpnZRnn02"
      },
      "source": [
        "##Listas"
      ]
    },
    {
      "cell_type": "code",
      "metadata": {
        "id": "UEZUSbStm3rD"
      },
      "source": [
        "lista = [100, 200, 300, 400, 500] \n",
        "\n",
        "print(lista)\n",
        "print()\n",
        "print(\"lista[2]: {}\".format(lista[2]))\n",
        "print(\"lista[-1]: {}\".format(lista[-1]))\n",
        "print(\"lista[:]: {}\".format(lista[:]))\n",
        "print(\"lista[:3]: {}\".format(lista[:3]))\n",
        "print(\"lista[2:]: {}\".format(lista[2:]))\n",
        "print(\"lista[2:4]: {}\".format(lista[2:4]))\n",
        "print(\"lista[2:-1]: {}\".format(lista[2:-1]))\n",
        "print(\"lista[::2]: {}\".format(lista[::2]))\n",
        "print(\"lista[10]: {}\".format(lista[10]))\n"
      ],
      "execution_count": null,
      "outputs": []
    },
    {
      "cell_type": "markdown",
      "metadata": {
        "id": "Sas6AM6V-XVD"
      },
      "source": [
        "###Exercício 4\n",
        "\n",
        "\n",
        "\n",
        "\n"
      ]
    },
    {
      "cell_type": "markdown",
      "metadata": {
        "id": "96fJdeZ2f8Os"
      },
      "source": [
        "Dada a lista = [12, -2, 4, 8, 29, 45, 78, 36, -17, 2, 12, 8, -52] faça um programa que:\n",
        "\n",
        "1. imprima o maior e o menor elemento;\n",
        "2. imprima a lista invertida;\n",
        "3. imprima os 5 maiores elementos, com exceção do maior de todos;\n",
        "4. imprima a média dos elementos (pesquisem);\n",
        "5. remova o elemento de menor valor;\n",
        "6. insira um elemento de valor -500 na terceira posição e outro de valor 500 no final da lista.\n"
      ]
    },
    {
      "cell_type": "code",
      "metadata": {
        "id": "lDkh3MAo9n-Z"
      },
      "source": [
        "lista = [12, -2, 4, 8, 29, 45, 78, 36, -17, 2, 12, 8, -52]\n",
        "print(lista)\n",
        "\n",
        "lista_ordenada = lista.copy()\n",
        "lista_ordenada.sort()\n",
        "print(lista_ordenada)\n",
        "\n",
        "print('Menor valor: {} == {}'.format(min(lista), lista_ordenada[0]))\n",
        "print('Menor valor: {} == {}'.format(max(lista), lista_ordenada[-1]))\n",
        "print('Maiores elementos, exceto maior: {}'.format(lista_ordenada[-6:-1]))\n",
        "print('Média: {}'.format(sum(lista)/len(lista)))\n",
        "del lista[lista.index(min(lista))]\n",
        "print('Lista sem o menor valor: {}'.format(lista))\n",
        "lista.insert(3, -500)\n",
        "lista.append(500)\n",
        "print('Lista após inclusão de -500 e 500: {}'.format(lista))"
      ],
      "execution_count": null,
      "outputs": []
    },
    {
      "cell_type": "markdown",
      "metadata": {
        "id": "6w_ZAxYOnqD2"
      },
      "source": [
        "##Dicionários"
      ]
    },
    {
      "cell_type": "markdown",
      "metadata": {
        "id": "wIkiYHxPHv8r"
      },
      "source": [
        "###Exercício 5"
      ]
    },
    {
      "cell_type": "markdown",
      "metadata": {
        "id": "5jd3pWEjIero"
      },
      "source": [
        "Faça um programa utilizando um dict que leia dados de entrada do usuário. O usuário deve entrar com os dados de uma pessoa como nome e cidade onde mora (fique livre para acrescentar outros). Após isso, você deve imprimir os dados como o exemplo abaixo:\n",
        "   \n",
        "\n",
        "*   nome: João\n",
        "*   cidade: São Paulo\n",
        "\n",
        "\n",
        "\n"
      ]
    },
    {
      "cell_type": "code",
      "metadata": {
        "id": "29HXpQeeFGrw"
      },
      "source": [
        "cadastro = {}\n",
        "\n",
        "cadastro['nome'] = input('Informe seu nome: ')\n",
        "cadastro['cidade'] = input('Informe sua cidade: ')\n",
        "\n",
        "print(cadastro)\n"
      ],
      "execution_count": null,
      "outputs": []
    },
    {
      "cell_type": "markdown",
      "metadata": {
        "id": "KywDHLWhIqsk"
      },
      "source": [
        "Utilize o exercício anterior e adicione a pessoa em uma lista. Em seguida, cadastre uma nova pessoa nessa lista. Por fim, você deve imprimir todos os dados de cada pessoa cadastrada."
      ]
    },
    {
      "cell_type": "code",
      "metadata": {
        "id": "7XoKix_BHRlx"
      },
      "source": [
        "dados_pessoas = [cadastro]\n",
        "\n",
        "cadastro2 = {}\n",
        "cadastro2['nome'] = input('Informe seu nome: ')\n",
        "cadastro2['cidade'] = input('Informe sua cidade: ')\n",
        "\n",
        "dados_pessoas.append(cadastro2)\n",
        "\n",
        "print(dados_pessoas)"
      ],
      "execution_count": null,
      "outputs": []
    },
    {
      "cell_type": "markdown",
      "metadata": {
        "id": "i8yyinU7nTXg"
      },
      "source": [
        "##Estruturas de controle"
      ]
    },
    {
      "cell_type": "markdown",
      "metadata": {
        "id": "oLPp2C-lR0B3"
      },
      "source": [
        "### Exercício 6"
      ]
    },
    {
      "cell_type": "markdown",
      "metadata": {
        "id": "lf6aZyHeR_SG"
      },
      "source": [
        "Faça um programa que, dada a idade, peso e horas de sono nas últimas 24h de uma pessoa, determine se ela pode ou não doar sangue. Os requisitos são obrigatórios para doação são:\n",
        "\n",
        "\n",
        "*   Ter entre 16 e 69 anos;\n",
        "*   Pesar mais de 50kg;\n",
        "*   Estar descansado ( 6 horas de sono nas últimas 24 horas).\n"
      ]
    },
    {
      "cell_type": "code",
      "metadata": {
        "id": "EXSXVpEcSdMH"
      },
      "source": [
        "idade = 28\n",
        "peso = 55\n",
        "horas_sono = 6\n",
        "\n",
        "if idade < 16 or idade > 69:\n",
        "  print('Não pode doar, idade não permitida.')\n",
        "elif peso < 50:\n",
        "  print('Não pode doar, peso insuficiente.')\n",
        "elif horas_sono < 6:\n",
        "  print('Não pode doar, vá dormir.')\n",
        "else:\n",
        "  print('Aprovado!')"
      ],
      "execution_count": null,
      "outputs": []
    },
    {
      "cell_type": "markdown",
      "metadata": {
        "id": "YCDXe4L-SLXa"
      },
      "source": [
        "Determine, dados os coeficientes de uma equação de segundo grau, se esta possui duas raízes, uma ou se não possui.\n",
        "\n",
        "Dica:                                                se delta (d = b**2 - 4ac) é maior que 0, possui duas raízes reais; se delta é 0, possui uma raíz, caso delta seja menor que 0, não possui raiz real.\n"
      ]
    },
    {
      "cell_type": "code",
      "metadata": {
        "id": "iPwh8guXTzPq"
      },
      "source": [
        "a = 3\n",
        "b = 5\n",
        "c = 2\n",
        "\n",
        "d = b**2 - 4*a*c\n",
        "\n",
        "\n",
        "if b == 0:\n",
        "  print('Apenas uma raíz.')\n",
        "elif b > 0:\n",
        "  print('Possui mais de uma raíz')\n",
        "else:\n",
        "  print('Não possui as raíz real')"
      ],
      "execution_count": null,
      "outputs": []
    },
    {
      "cell_type": "markdown",
      "metadata": {
        "id": "FXKTlVm9ncmd"
      },
      "source": [
        "##Estruturas de repetição"
      ]
    },
    {
      "cell_type": "markdown",
      "metadata": {
        "id": "b4PkQSPIg0JT"
      },
      "source": [
        "###Exercício 7"
      ]
    },
    {
      "cell_type": "markdown",
      "metadata": {
        "id": "mjtdwpadg3MB"
      },
      "source": [
        "Solicite que o usuário informe um valor N inteiro e apresente a tabuada de N. N deve ser um valor entre 0 e 10 (incluso), se o valor informado estiver fora destes limites,  informar ao usuário.\n"
      ]
    },
    {
      "cell_type": "code",
      "metadata": {
        "id": "gOCd3THohkwT"
      },
      "source": [
        "n = input('Informe o valor de N: ')\n",
        "n = int(n)\n",
        "if n<0 or n>10:\n",
        "  print(\"somente valores entre 0 e 10 são aceitos\")\n",
        "else:\n",
        "  for i in range(1,11):\n",
        "    print(n,' * ', i, ' = ', n*i)\n"
      ],
      "execution_count": null,
      "outputs": []
    },
    {
      "cell_type": "markdown",
      "metadata": {
        "id": "_4jTDw2ug_T9"
      },
      "source": [
        "Dada a lista [2, 8, 3, 13, 7, 24, “str”, [1, 2, 11], 8, True], exiba todos os números primos existentes em seu conteúdo em ordem crescente (incluindo a lista interna).\n"
      ]
    },
    {
      "cell_type": "code",
      "metadata": {
        "id": "LXEI1OVINaG7",
        "colab": {
          "base_uri": "https://localhost:8080/"
        },
        "outputId": "eceee372-6e7b-489d-b2a7-20f033425b1a"
      },
      "source": [
        "lista = [0, 1, -3, 2, 8, 3, 13, 7, 24, \"str\", [1, 2, 11], 8, True]\n",
        "lista_primos = []\n",
        "for i in lista:\n",
        "  n = i\n",
        "  if type(n) is int:\n",
        "    if n in (-1, 0, 1):\n",
        "      print(i, \" não é primo.\")\n",
        "      continue\n",
        "    elif i < 0:\n",
        "      n *= -1\n",
        "    for count in range(2,n):\n",
        "        if (n % count == 0):\n",
        "            print(i, \"não é primo\")\n",
        "            break\n",
        "    if count == n-1:\n",
        "      print(i, \" é primo\")\n",
        "      lista_primos.append(i)\n",
        "\n",
        "  elif type(i) is list:\n",
        "    list_aux = i.copy()\n",
        "    for v in list_aux:\n",
        "      n = v\n",
        "      if type(n) is int:\n",
        "        if n in (-1, 0, 1):\n",
        "          print(v, \" não é primo.\")\n",
        "          continue\n",
        "        elif n < 0:\n",
        "          n *= -1\n",
        "\n",
        "        for count in range(2,n):\n",
        "          if (n % count == 0):\n",
        "            print(v, \"não é primo\")\n",
        "            break\n",
        "        if count == n-1:\n",
        "          print(n, \" é primo\")\n",
        "          lista_primos.append(v)\n",
        "\n",
        "lista_primos.sort()\n",
        "print(\"Números primos: \", lista_primos)"
      ],
      "execution_count": null,
      "outputs": [
        {
          "output_type": "stream",
          "name": "stdout",
          "text": [
            "0  não é primo.\n",
            "1  não é primo.\n",
            "-3  é primo\n",
            "8 não é primo\n",
            "3  é primo\n",
            "13  é primo\n",
            "7  é primo\n",
            "24 não é primo\n",
            "1  não é primo.\n",
            "11  é primo\n",
            "8 não é primo\n",
            "Números primos:  [-3, 3, 7, 11, 13]\n"
          ]
        }
      ]
    },
    {
      "cell_type": "markdown",
      "metadata": {
        "id": "VfPH_N5-g6W8"
      },
      "source": [
        "###Exercício 8"
      ]
    },
    {
      "cell_type": "markdown",
      "metadata": {
        "id": "l4yEauVLhKRi"
      },
      "source": [
        "Escreva um algoritmo que receba dados cadastrais de pessoas (nome, idade e sexo). Ao fim de cada cadastro, o usuário deve ser questionado se deseja realizar um novo cadastro. Quando não houverem mais cadastros a serem realizados, exibir os cadastros realizados e o percentual de homens e mulheres."
      ]
    },
    {
      "cell_type": "code",
      "metadata": {
        "id": "qN3iCQTIhLCG"
      },
      "source": [
        "n_masculino, n_feminino, total = 0, 0, 0\n",
        "cadastros = []\n",
        "while True:\n",
        "    cadastro = {}\n",
        "    cadastro[\"nome\"] = input('Informe o nome: ')\n",
        "    cadastro[\"idade\"] = int(input('Informa a Idade: '))\n",
        "    cadastro[\"sexo\"] = input('Informe o sexo (M ou F): ')\n",
        "\n",
        "    cadastros.append(cadastro)\n",
        "\n",
        "    total += 1\n",
        "    if cadastro[\"sexo\"] == 'M':\n",
        "        n_masculino += 1\n",
        "    else:\n",
        "        n_feminino += 1\n",
        "    \n",
        "    if input('Deseja Encerrar (S ou N) ? ') == 'S':\n",
        "        break\n",
        "\n",
        "print(cadastros)    \n",
        "print('Percentual de Mulheres: ',n_feminino/total*100)\n",
        "print('Percentual de Homens: ',n_masculino/total*100)"
      ],
      "execution_count": null,
      "outputs": []
    },
    {
      "cell_type": "markdown",
      "metadata": {
        "id": "PdvK_EZYK0Mk"
      },
      "source": [
        "Imprima todos os valores da sequência de fibonacci inferiores a 100."
      ]
    },
    {
      "cell_type": "code",
      "metadata": {
        "id": "_EvUqTkcK1zW"
      },
      "source": [
        "penultimo, ultimo = 1, 1\n",
        "\n",
        "print(1)\n",
        "print(1)\n",
        "\n",
        "while (penultimo + ultimo) < 100:\n",
        "  aux = penultimo + ultimo\n",
        "  print(aux)\n",
        "  penultimo = ultimo\n",
        "  ultimo = aux"
      ],
      "execution_count": null,
      "outputs": []
    },
    {
      "cell_type": "markdown",
      "metadata": {
        "id": "FSPRPceDhZ8P"
      },
      "source": [
        "### Exercício 9"
      ]
    },
    {
      "cell_type": "markdown",
      "metadata": {
        "id": "AwaxF39Ij4Rd"
      },
      "source": [
        "Utilizando list comprehension escreva um algoritmo receba a frase “três pratos de trigo para três tigres tristes” e gere uma lista com todas as palavras que não começam com a letra t."
      ]
    },
    {
      "cell_type": "code",
      "metadata": {
        "id": "WjdwWsjAhb08",
        "colab": {
          "base_uri": "https://localhost:8080/",
          "height": 35
        },
        "outputId": "40fac74d-8123-4a1d-d549-2fb97793b005"
      },
      "source": [
        "frase = \"três pratos de trigro para três tigres tristes\"\n",
        "\n",
        "frase_filtrada = [palavra for palavra in frase.split() if palavra[0] != \"t\"]\n",
        "\n",
        "frase_filtrada = ' '.join(frase_filtrada)\n",
        "\n",
        "frase_filtrada"
      ],
      "execution_count": null,
      "outputs": [
        {
          "output_type": "execute_result",
          "data": {
            "application/vnd.google.colaboratory.intrinsic+json": {
              "type": "string"
            },
            "text/plain": [
              "'pratos de para'"
            ]
          },
          "metadata": {},
          "execution_count": 25
        }
      ]
    },
    {
      "cell_type": "markdown",
      "metadata": {
        "id": "BLvXqxXIj7LP"
      },
      "source": [
        "Utilizando list comprehension, escreva um algoritmo que transforme a lista [34.6, -203.4, 44.9, 68.3, -12.2, 44.6, 12.7] em uma lista de inteiros positivos."
      ]
    },
    {
      "cell_type": "code",
      "metadata": {
        "id": "JzJlYFwhkKzt"
      },
      "source": [
        "lista = [34.6, -203.4, 44.9, 68.3, -12.2, 44.6, 12.7]\n",
        "\n",
        "nova_lista = [int(x) if x > 0 else int(-x) for x in lista]\n",
        "\n",
        "nova_lista"
      ],
      "execution_count": null,
      "outputs": []
    },
    {
      "cell_type": "code",
      "metadata": {
        "colab": {
          "base_uri": "https://localhost:8080/"
        },
        "id": "j7g3t7_sgCYv",
        "outputId": "d843b8db-66f4-4d53-f5cb-c6b138d39fe7"
      },
      "source": [
        "lista = [34.6, -203.4, 44.9, 68.3, -12.2, 44.6, 12.7] \n",
        "print([abs(int(x)) for x in lista])"
      ],
      "execution_count": null,
      "outputs": [
        {
          "output_type": "stream",
          "name": "stdout",
          "text": [
            "[34, 203, 44, 68, 12, 44, 12]\n"
          ]
        }
      ]
    },
    {
      "cell_type": "markdown",
      "metadata": {
        "id": "Gr1xPu7vok_e"
      },
      "source": [
        "##Funções"
      ]
    },
    {
      "cell_type": "markdown",
      "metadata": {
        "id": "8j5DtOpTKtUs"
      },
      "source": [
        "### Exercício 10"
      ]
    },
    {
      "cell_type": "code",
      "metadata": {
        "id": "RTNESnRXThBS"
      },
      "source": [
        "def verificar_primo(n):\n",
        "  if n <= 1:\n",
        "      return False\n",
        "  elif n < 0:\n",
        "      n *= -1\n",
        "      \n",
        "  multiplos=0\n",
        "  for count in range(2,n):\n",
        "      if (n % count == 0):\n",
        "          multiplos += 1\n",
        "  if(multiplos==0):      \n",
        "    return True\n",
        "  else:\n",
        "    return False\n",
        "\n",
        "def achar_primos_em_lista(lista):\n",
        "  lista_primos = []\n",
        "  for i in lista:\n",
        "    if type(i) is int:\n",
        "      if verificar_primo(i): lista_primos.append(i)\n",
        "    elif type(i) is list:\n",
        "      lista_primos += achar_primos_em_lista(i)\n",
        "  \n",
        "  lista_primos.sort()\n",
        "  return lista_primos\n",
        "\n"
      ],
      "execution_count": null,
      "outputs": []
    },
    {
      "cell_type": "code",
      "metadata": {
        "id": "nhW_YP0nFI5T",
        "colab": {
          "base_uri": "https://localhost:8080/"
        },
        "outputId": "0324a738-618b-4c9e-97fc-406a90b70ad1"
      },
      "source": [
        "achar_primos_em_lista([[1,2],1,[3,4,[7,9,-3]]])"
      ],
      "execution_count": null,
      "outputs": [
        {
          "output_type": "execute_result",
          "data": {
            "text/plain": [
              "[2, 3, 7]"
            ]
          },
          "metadata": {},
          "execution_count": 29
        }
      ]
    },
    {
      "cell_type": "markdown",
      "metadata": {
        "id": "4kh3KYPKIdyt"
      },
      "source": [
        "#POO\n"
      ]
    },
    {
      "cell_type": "code",
      "metadata": {
        "id": "X1qIEpFBIgUu"
      },
      "source": [
        "from modulo import Potencia,soma\n",
        "x = Potencia(4)\n",
        "x.quadrado()\n",
        "x.raiz()\n",
        "x.custom(2)"
      ],
      "execution_count": null,
      "outputs": []
    },
    {
      "cell_type": "code",
      "metadata": {
        "id": "eHcIfdNxKs1c"
      },
      "source": [
        "soma(1,2)"
      ],
      "execution_count": null,
      "outputs": []
    }
  ]
}