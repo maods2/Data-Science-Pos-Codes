{
  "nbformat": 4,
  "nbformat_minor": 0,
  "metadata": {
    "colab": {
      "name": "Exercicios_numpy_resolvidos.ipynb",
      "provenance": []
    },
    "kernelspec": {
      "name": "python3",
      "display_name": "Python 3"
    }
  },
  "cells": [
    {
      "cell_type": "markdown",
      "metadata": {
        "id": "iywq-R4pxEnp"
      },
      "source": [
        "#Exercícios Numpy\n",
        "\n",
        "Fonte: https://github.com/rougier/numpy-100/blob/master/100_Numpy_exercises.ipynb"
      ]
    },
    {
      "cell_type": "markdown",
      "metadata": {
        "id": "aErQL-LLxuEl"
      },
      "source": [
        "1 - Importe a biblioteca numpy com o alias \"np\""
      ]
    },
    {
      "cell_type": "code",
      "metadata": {
        "id": "vgc-sO3xxtVM"
      },
      "source": [
        "import numpy as np"
      ],
      "execution_count": null,
      "outputs": []
    },
    {
      "cell_type": "markdown",
      "metadata": {
        "id": "BgXpGrIfxIrd"
      },
      "source": [
        "2 - Crie um array qualquer e informe o tamanho deste vetor em memória."
      ]
    },
    {
      "cell_type": "code",
      "metadata": {
        "id": "9-AwirU0w5ZI",
        "colab": {
          "base_uri": "https://localhost:8080/"
        },
        "outputId": "84d8371a-2e60-4e62-ab14-110e566987bd"
      },
      "source": [
        "z = np.zeros((10,10))\n",
        "print(\"%d bytes\" % (z.size * z.itemsize))"
      ],
      "execution_count": null,
      "outputs": [
        {
          "output_type": "stream",
          "text": [
            "800 bytes\n"
          ],
          "name": "stdout"
        }
      ]
    },
    {
      "cell_type": "markdown",
      "metadata": {
        "id": "6EqpIbdXx7t4"
      },
      "source": [
        "3 - Reduza o tamanho do array anterior em memória sem alterar ou excluir nenhum dado e exiba o novo tamanho do array."
      ]
    },
    {
      "cell_type": "code",
      "metadata": {
        "id": "X2dmWLGXx7_i",
        "colab": {
          "base_uri": "https://localhost:8080/"
        },
        "outputId": "5c053099-83ec-48c1-bd2c-8a8f33bb2005"
      },
      "source": [
        "z = np.int16(z)\n",
        "print(\"%d bytes\" % (z.size * z.itemsize))"
      ],
      "execution_count": null,
      "outputs": [
        {
          "output_type": "stream",
          "text": [
            "200 bytes\n"
          ],
          "name": "stdout"
        }
      ]
    },
    {
      "cell_type": "markdown",
      "metadata": {
        "id": "oDUkaPs5xT32"
      },
      "source": [
        "4 - Crie um vetor com valores de 10 a 49"
      ]
    },
    {
      "cell_type": "code",
      "metadata": {
        "id": "PfjXSH3Wxkz5",
        "colab": {
          "base_uri": "https://localhost:8080/"
        },
        "outputId": "127cce97-9a1b-4936-857c-345241ba3bb9"
      },
      "source": [
        "z = np.arange(10,50)\n",
        "print(z)"
      ],
      "execution_count": null,
      "outputs": [
        {
          "output_type": "stream",
          "text": [
            "[10 11 12 13 14 15 16 17 18 19 20 21 22 23 24 25 26 27 28 29 30 31 32 33\n",
            " 34 35 36 37 38 39 40 41 42 43 44 45 46 47 48 49]\n"
          ],
          "name": "stdout"
        }
      ]
    },
    {
      "cell_type": "markdown",
      "metadata": {
        "id": "Tg6QYeiVyhIx"
      },
      "source": [
        "5 - Inverta o vetor anterior"
      ]
    },
    {
      "cell_type": "code",
      "metadata": {
        "id": "4swSmbhryi7x",
        "colab": {
          "base_uri": "https://localhost:8080/",
          "height": 54
        },
        "outputId": "332b1d84-98c9-48ac-b848-edca3b9db80b"
      },
      "source": [
        "z = z[::-1]\n",
        "print(z)"
      ],
      "execution_count": null,
      "outputs": [
        {
          "output_type": "stream",
          "text": [
            "[49 48 47 46 45 44 43 42 41 40 39 38 37 36 35 34 33 32 31 30 29 28 27 26\n",
            " 25 24 23 22 21 20 19 18 17 16 15 14 13 12 11 10]\n"
          ],
          "name": "stdout"
        }
      ]
    },
    {
      "cell_type": "markdown",
      "metadata": {
        "id": "4tUyjQmey6OY"
      },
      "source": [
        "6- Crie uma matriz 3x3 com valores que variam de 0 a 8"
      ]
    },
    {
      "cell_type": "code",
      "metadata": {
        "id": "NtBFyTw-y5W0",
        "colab": {
          "base_uri": "https://localhost:8080/",
          "height": 72
        },
        "outputId": "c4343673-b4f3-4266-af21-eb8f57fccdee"
      },
      "source": [
        "z = np.arange(9).reshape(3, 3)\n",
        "print(z)"
      ],
      "execution_count": null,
      "outputs": [
        {
          "output_type": "stream",
          "text": [
            "[[0 1 2]\n",
            " [3 4 5]\n",
            " [6 7 8]]\n"
          ],
          "name": "stdout"
        }
      ]
    },
    {
      "cell_type": "markdown",
      "metadata": {
        "id": "M4TmxfoKzJ5D"
      },
      "source": [
        "7- Encontre índices de elementos diferentes de zero de [1,2,0,0,4,0] (dica: tem função pronta para isso)"
      ]
    },
    {
      "cell_type": "code",
      "metadata": {
        "id": "WqL9ZjEn1OTM",
        "colab": {
          "base_uri": "https://localhost:8080/",
          "height": 35
        },
        "outputId": "d7796a8f-a7ed-4359-a0cd-9d9cfb4fed0d"
      },
      "source": [
        "nz = np.nonzero([1,2,0,0,4,0])\n",
        "print(nz)"
      ],
      "execution_count": null,
      "outputs": [
        {
          "output_type": "stream",
          "text": [
            "(array([0, 1, 4]),)\n"
          ],
          "name": "stdout"
        }
      ]
    },
    {
      "cell_type": "markdown",
      "metadata": {
        "id": "UlaIfAnl1MCt"
      },
      "source": [
        "8 - Crie uma matriz 10x10 com valores aleatórios e encontre os valores mínimo, máximo, média, moda e desvio padrão."
      ]
    },
    {
      "cell_type": "code",
      "metadata": {
        "id": "YCPjf4gt2YKA",
        "colab": {
          "base_uri": "https://localhost:8080/",
          "height": 108
        },
        "outputId": "dc3d02c1-0ad0-47b6-b87c-216cc304692e"
      },
      "source": [
        "z = np.random.random((10,10))\n",
        "\n",
        "\n",
        "print(\"máximo\", z.max())\n",
        "print(\"mínimo\", z.min())\n",
        "print(\"média\", z.mean())\n",
        "print(\"mediana\", np.quantile(z, 0.5))\n",
        "print(\"desvio padrão\", z.std())\n"
      ],
      "execution_count": null,
      "outputs": [
        {
          "output_type": "stream",
          "text": [
            "máximo 0.9929273709594368\n",
            "mínimo 0.010136167653766903\n",
            "média 0.5274681482737898\n",
            "moda 0.5406014497338846\n",
            "desvio padrão 0.2796829789918641\n"
          ],
          "name": "stdout"
        }
      ]
    },
    {
      "cell_type": "code",
      "metadata": {
        "id": "wFYULWyuL_tV",
        "colab": {
          "base_uri": "https://localhost:8080/"
        },
        "outputId": "95aaf340-8b86-4ea5-da2f-5e4868a090d8"
      },
      "source": [
        "np.random.seed(122)\n",
        "z = np.random.randint(0, 2, size=(2,2))\n",
        "print(z)\n",
        "\n",
        "unique, counts = np.unique(z, return_counts=True)\n",
        "\n",
        "moda = unique[np.where(counts==counts.max())]\n",
        "moda"
      ],
      "execution_count": null,
      "outputs": [
        {
          "output_type": "stream",
          "text": [
            "[[1 0]\n",
            " [0 0]]\n"
          ],
          "name": "stdout"
        },
        {
          "output_type": "execute_result",
          "data": {
            "text/plain": [
              "array([0])"
            ]
          },
          "metadata": {
            "tags": []
          },
          "execution_count": 26
        }
      ]
    },
    {
      "cell_type": "markdown",
      "metadata": {
        "id": "X8AHaSC53LJa"
      },
      "source": [
        "9 - Dada uma matriz 1D, multiplique por 10 todos os elementos que estão entre 3 e 8."
      ]
    },
    {
      "cell_type": "code",
      "metadata": {
        "id": "2agERgEj3KW9",
        "colab": {
          "base_uri": "https://localhost:8080/",
          "height": 35
        },
        "outputId": "d4b2609b-c667-4f2b-b904-70704027e96f"
      },
      "source": [
        "z = np.arange(11)\n",
        "z[(3 < z) & (z < 8)] *= 10\n",
        "print(z)"
      ],
      "execution_count": null,
      "outputs": [
        {
          "output_type": "stream",
          "text": [
            "[ 0  1  2  3 40 50 60 70  8  9 10]\n"
          ],
          "name": "stdout"
        }
      ]
    },
    {
      "cell_type": "markdown",
      "metadata": {
        "id": "9bhK8QwQ9GhN"
      },
      "source": [
        "10 - Crie uma matriz 5x5 com valores de linha variando de 0 a 4"
      ]
    },
    {
      "cell_type": "code",
      "metadata": {
        "id": "iSOe1ymr8-eK",
        "colab": {
          "base_uri": "https://localhost:8080/",
          "height": 108
        },
        "outputId": "7095bf08-228e-403b-a1fc-903925a184f7"
      },
      "source": [
        "z = np.zeros((5,5))\n",
        "z += np.arange(5)\n",
        "print(z)"
      ],
      "execution_count": null,
      "outputs": [
        {
          "output_type": "stream",
          "text": [
            "[[0. 1. 2. 3. 4.]\n",
            " [0. 1. 2. 3. 4.]\n",
            " [0. 1. 2. 3. 4.]\n",
            " [0. 1. 2. 3. 4.]\n",
            " [0. 1. 2. 3. 4.]]\n"
          ],
          "name": "stdout"
        }
      ]
    },
    {
      "cell_type": "markdown",
      "metadata": {
        "id": "D56KlRkr9N3h"
      },
      "source": [
        "11 - Crie um vetor de inteiros aleatórios de tamanho 10 e ordene-o"
      ]
    },
    {
      "cell_type": "code",
      "metadata": {
        "id": "GDFoIqb39OYp",
        "colab": {
          "base_uri": "https://localhost:8080/",
          "height": 54
        },
        "outputId": "aac27b5a-f665-4ab9-9fc0-43bddbf1d865"
      },
      "source": [
        "np.random.seed(0)\n",
        "z = np.random.randint(0,5, size=(10))\n",
        "print(z)\n",
        "z.sort()\n",
        "print(z)"
      ],
      "execution_count": null,
      "outputs": [
        {
          "output_type": "stream",
          "text": [
            "[4 0 3 3 3 1 3 2 4 0]\n",
            "[0 0 1 2 3 3 3 3 4 4]\n"
          ],
          "name": "stdout"
        }
      ]
    },
    {
      "cell_type": "markdown",
      "metadata": {
        "id": "3eNkXerL9eA4"
      },
      "source": [
        "12 - Crie o mesmo vetor da questão anterior (com o mesmo seed) e exiba a ordem de seus índices (função argsort)"
      ]
    },
    {
      "cell_type": "code",
      "metadata": {
        "id": "0nfcYOaf-JFH",
        "colab": {
          "base_uri": "https://localhost:8080/",
          "height": 54
        },
        "outputId": "6402546a-e1b7-496a-b6e6-ef0dfcbf146f"
      },
      "source": [
        "np.random.seed(0)\n",
        "z = np.random.randint(0,5, size=(10))\n",
        "print(z)\n",
        "\n",
        "print(z.argsort())"
      ],
      "execution_count": null,
      "outputs": [
        {
          "output_type": "stream",
          "text": [
            "[4 0 3 3 3 1 3 2 4 0]\n",
            "[1 9 5 7 2 3 4 6 0 8]\n"
          ],
          "name": "stdout"
        }
      ]
    },
    {
      "cell_type": "markdown",
      "metadata": {
        "id": "JYEzKYQa--M_"
      },
      "source": [
        "13 - Crie um vetor aleatório de tamanho 10 e substitua o valor máximo por 0"
      ]
    },
    {
      "cell_type": "code",
      "metadata": {
        "id": "DKmVOMcw_hNX",
        "colab": {
          "base_uri": "https://localhost:8080/",
          "height": 90
        },
        "outputId": "a9ae502f-69ab-4819-be1c-afbb1d019de7"
      },
      "source": [
        "z = np.random.random(10)\n",
        "print(z)\n",
        "z[z.argmax()] = 0\n",
        "print(z)"
      ],
      "execution_count": null,
      "outputs": [
        {
          "output_type": "stream",
          "text": [
            "[0.3927848  0.83607876 0.33739616 0.64817187 0.36824154 0.95715516\n",
            " 0.14035078 0.87008726 0.47360805 0.80091075]\n",
            "[0.3927848  0.83607876 0.33739616 0.64817187 0.36824154 0.\n",
            " 0.14035078 0.87008726 0.47360805 0.80091075]\n"
          ],
          "name": "stdout"
        }
      ]
    },
    {
      "cell_type": "markdown",
      "metadata": {
        "id": "1iDJBx-o_ger"
      },
      "source": [
        "14 - Crie uma matriz 3x3 e exiba o índice e o valor de cada posição. (dica: consulte as funções np.ndenumerate e np.ndindex)"
      ]
    },
    {
      "cell_type": "code",
      "metadata": {
        "id": "BnGiftso_37h",
        "colab": {
          "base_uri": "https://localhost:8080/",
          "height": 399
        },
        "outputId": "90a633cb-1a10-41b2-fe58-fb08f73b5679"
      },
      "source": [
        "Z = np.arange(9).reshape(3,3)\n",
        "for index, value in np.ndenumerate(Z):\n",
        "    print(index, value)\n",
        "\n",
        "print(\"\\n\\n\")\n",
        "for index in np.ndindex(Z.shape):\n",
        "    print(index, Z[index])"
      ],
      "execution_count": null,
      "outputs": [
        {
          "output_type": "stream",
          "text": [
            "(0, 0) 0\n",
            "(0, 1) 1\n",
            "(0, 2) 2\n",
            "(1, 0) 3\n",
            "(1, 1) 4\n",
            "(1, 2) 5\n",
            "(2, 0) 6\n",
            "(2, 1) 7\n",
            "(2, 2) 8\n",
            "\n",
            "\n",
            "\n",
            "(0, 0) 0\n",
            "(0, 1) 1\n",
            "(0, 2) 2\n",
            "(1, 0) 3\n",
            "(1, 1) 4\n",
            "(1, 2) 5\n",
            "(2, 0) 6\n",
            "(2, 1) 7\n",
            "(2, 2) 8\n"
          ],
          "name": "stdout"
        }
      ]
    },
    {
      "cell_type": "markdown",
      "metadata": {
        "id": "28Ntqd9xBG3N"
      },
      "source": [
        "15- Como ordenar uma matriz pela coluna do meio?"
      ]
    },
    {
      "cell_type": "code",
      "metadata": {
        "id": "-HeexKWjAvOS",
        "colab": {
          "base_uri": "https://localhost:8080/"
        },
        "outputId": "135772c5-99c3-4982-95e7-3f8eb977f758"
      },
      "source": [
        "Z = np.random.randint(0,10,(3,3))\n",
        "print(Z)\n",
        "print(Z[Z[:,2].argsort()])"
      ],
      "execution_count": null,
      "outputs": [
        {
          "output_type": "stream",
          "name": "stdout",
          "text": [
            "[[7 1 8]\n",
            " [0 0 5]\n",
            " [8 6 8]]\n",
            "[[0 0 5]\n",
            " [7 1 8]\n",
            " [8 6 8]]\n"
          ]
        }
      ]
    }
  ]
}