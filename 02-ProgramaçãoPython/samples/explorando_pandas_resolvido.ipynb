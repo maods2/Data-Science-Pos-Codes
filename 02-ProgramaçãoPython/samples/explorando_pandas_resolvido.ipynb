{
  "nbformat": 4,
  "nbformat_minor": 0,
  "metadata": {
    "anaconda-cloud": {},
    "kernelspec": {
      "name": "python3",
      "display_name": "Python 3"
    },
    "colab": {
      "name": "explorando_pandas_resolvido.ipynb",
      "provenance": [],
      "collapsed_sections": [
        "5DCFlDK32VHi",
        "U3ZMeSYoKg3x",
        "EplGY3kY_bDf"
      ]
    }
  },
  "cells": [
    {
      "cell_type": "markdown",
      "metadata": {
        "id": "Vz9O0w4--wZu"
      },
      "source": [
        "# Explorando a biblioteca Pandas\n",
        "\n",
        "Referências:\n",
        "\n",
        "https://github.com/guipsamora/pandas_exercises\n",
        "\n",
        "https://pandas.pydata.org/docs/user_guide/10min.html#min\n",
        "\n",
        "https://pandas.pydata.org/docs/user_guide/cookbook.html#cookbook"
      ]
    },
    {
      "cell_type": "markdown",
      "metadata": {
        "id": "5DCFlDK32VHi"
      },
      "source": [
        "## Obtenção e exploração de bases de dados"
      ]
    },
    {
      "cell_type": "markdown",
      "metadata": {
        "id": "OFuvT05K2VHm"
      },
      "source": [
        "\n",
        "### 1. Importar a biblioteca"
      ]
    },
    {
      "cell_type": "code",
      "metadata": {
        "id": "GaCyk2w-2VHn"
      },
      "source": [
        "import pandas as pd\n",
        "import numpy as np"
      ],
      "execution_count": null,
      "outputs": []
    },
    {
      "cell_type": "markdown",
      "metadata": {
        "id": "IaHYaIXZ2VHt"
      },
      "source": [
        "### 02. Importar os dados "
      ]
    },
    {
      "cell_type": "code",
      "metadata": {
        "id": "QUsRFR6M2VHv"
      },
      "source": [
        "url = 'https://raw.githubusercontent.com/justmarkham/DAT8/master/data/chipotle.tsv'\n",
        "    \n",
        "orders = pd.read_csv(url, sep = '\\t') #é um arquivo separado por tabulação, por isso o separador é um \\t"
      ],
      "execution_count": null,
      "outputs": []
    },
    {
      "cell_type": "markdown",
      "metadata": {
        "id": "4qHcCXxM2VH0"
      },
      "source": [
        "### 03. Verificar os 10 primeiros dados"
      ]
    },
    {
      "cell_type": "code",
      "metadata": {
        "scrolled": false,
        "id": "BOQCp5p62VH1",
        "colab": {
          "base_uri": "https://localhost:8080/",
          "height": 359
        },
        "outputId": "caccfd3d-a9fb-43ce-d3ad-6e57c4d77efc"
      },
      "source": [
        "orders.head(10)"
      ],
      "execution_count": null,
      "outputs": [
        {
          "output_type": "execute_result",
          "data": {
            "text/html": [
              "<div>\n",
              "<style scoped>\n",
              "    .dataframe tbody tr th:only-of-type {\n",
              "        vertical-align: middle;\n",
              "    }\n",
              "\n",
              "    .dataframe tbody tr th {\n",
              "        vertical-align: top;\n",
              "    }\n",
              "\n",
              "    .dataframe thead th {\n",
              "        text-align: right;\n",
              "    }\n",
              "</style>\n",
              "<table border=\"1\" class=\"dataframe\">\n",
              "  <thead>\n",
              "    <tr style=\"text-align: right;\">\n",
              "      <th></th>\n",
              "      <th>order_id</th>\n",
              "      <th>quantity</th>\n",
              "      <th>item_name</th>\n",
              "      <th>choice_description</th>\n",
              "      <th>item_price</th>\n",
              "    </tr>\n",
              "  </thead>\n",
              "  <tbody>\n",
              "    <tr>\n",
              "      <th>0</th>\n",
              "      <td>1</td>\n",
              "      <td>1</td>\n",
              "      <td>Chips and Fresh Tomato Salsa</td>\n",
              "      <td>NaN</td>\n",
              "      <td>$2.39</td>\n",
              "    </tr>\n",
              "    <tr>\n",
              "      <th>1</th>\n",
              "      <td>1</td>\n",
              "      <td>1</td>\n",
              "      <td>Izze</td>\n",
              "      <td>[Clementine]</td>\n",
              "      <td>$3.39</td>\n",
              "    </tr>\n",
              "    <tr>\n",
              "      <th>2</th>\n",
              "      <td>1</td>\n",
              "      <td>1</td>\n",
              "      <td>Nantucket Nectar</td>\n",
              "      <td>[Apple]</td>\n",
              "      <td>$3.39</td>\n",
              "    </tr>\n",
              "    <tr>\n",
              "      <th>3</th>\n",
              "      <td>1</td>\n",
              "      <td>1</td>\n",
              "      <td>Chips and Tomatillo-Green Chili Salsa</td>\n",
              "      <td>NaN</td>\n",
              "      <td>$2.39</td>\n",
              "    </tr>\n",
              "    <tr>\n",
              "      <th>4</th>\n",
              "      <td>2</td>\n",
              "      <td>2</td>\n",
              "      <td>Chicken Bowl</td>\n",
              "      <td>[Tomatillo-Red Chili Salsa (Hot), [Black Beans...</td>\n",
              "      <td>$16.98</td>\n",
              "    </tr>\n",
              "    <tr>\n",
              "      <th>5</th>\n",
              "      <td>3</td>\n",
              "      <td>1</td>\n",
              "      <td>Chicken Bowl</td>\n",
              "      <td>[Fresh Tomato Salsa (Mild), [Rice, Cheese, Sou...</td>\n",
              "      <td>$10.98</td>\n",
              "    </tr>\n",
              "    <tr>\n",
              "      <th>6</th>\n",
              "      <td>3</td>\n",
              "      <td>1</td>\n",
              "      <td>Side of Chips</td>\n",
              "      <td>NaN</td>\n",
              "      <td>$1.69</td>\n",
              "    </tr>\n",
              "    <tr>\n",
              "      <th>7</th>\n",
              "      <td>4</td>\n",
              "      <td>1</td>\n",
              "      <td>Steak Burrito</td>\n",
              "      <td>[Tomatillo Red Chili Salsa, [Fajita Vegetables...</td>\n",
              "      <td>$11.75</td>\n",
              "    </tr>\n",
              "    <tr>\n",
              "      <th>8</th>\n",
              "      <td>4</td>\n",
              "      <td>1</td>\n",
              "      <td>Steak Soft Tacos</td>\n",
              "      <td>[Tomatillo Green Chili Salsa, [Pinto Beans, Ch...</td>\n",
              "      <td>$9.25</td>\n",
              "    </tr>\n",
              "    <tr>\n",
              "      <th>9</th>\n",
              "      <td>5</td>\n",
              "      <td>1</td>\n",
              "      <td>Steak Burrito</td>\n",
              "      <td>[Fresh Tomato Salsa, [Rice, Black Beans, Pinto...</td>\n",
              "      <td>$9.25</td>\n",
              "    </tr>\n",
              "  </tbody>\n",
              "</table>\n",
              "</div>"
            ],
            "text/plain": [
              "   order_id  ...  item_price\n",
              "0         1  ...      $2.39 \n",
              "1         1  ...      $3.39 \n",
              "2         1  ...      $3.39 \n",
              "3         1  ...      $2.39 \n",
              "4         2  ...     $16.98 \n",
              "5         3  ...     $10.98 \n",
              "6         3  ...      $1.69 \n",
              "7         4  ...     $11.75 \n",
              "8         4  ...      $9.25 \n",
              "9         5  ...      $9.25 \n",
              "\n",
              "[10 rows x 5 columns]"
            ]
          },
          "metadata": {
            "tags": []
          },
          "execution_count": 3
        }
      ]
    },
    {
      "cell_type": "markdown",
      "metadata": {
        "id": "O2k17BBru0-6"
      },
      "source": [
        "### 04. Verificar os últimos registros"
      ]
    },
    {
      "cell_type": "code",
      "metadata": {
        "id": "uKHUpRd3u7qi",
        "colab": {
          "base_uri": "https://localhost:8080/",
          "height": 204
        },
        "outputId": "ad17f8d9-2da3-48a5-a822-17cf4f60e849"
      },
      "source": [
        "orders.tail()"
      ],
      "execution_count": null,
      "outputs": [
        {
          "output_type": "execute_result",
          "data": {
            "text/html": [
              "<div>\n",
              "<style scoped>\n",
              "    .dataframe tbody tr th:only-of-type {\n",
              "        vertical-align: middle;\n",
              "    }\n",
              "\n",
              "    .dataframe tbody tr th {\n",
              "        vertical-align: top;\n",
              "    }\n",
              "\n",
              "    .dataframe thead th {\n",
              "        text-align: right;\n",
              "    }\n",
              "</style>\n",
              "<table border=\"1\" class=\"dataframe\">\n",
              "  <thead>\n",
              "    <tr style=\"text-align: right;\">\n",
              "      <th></th>\n",
              "      <th>order_id</th>\n",
              "      <th>quantity</th>\n",
              "      <th>item_name</th>\n",
              "      <th>choice_description</th>\n",
              "      <th>item_price</th>\n",
              "    </tr>\n",
              "  </thead>\n",
              "  <tbody>\n",
              "    <tr>\n",
              "      <th>4617</th>\n",
              "      <td>1833</td>\n",
              "      <td>1</td>\n",
              "      <td>Steak Burrito</td>\n",
              "      <td>[Fresh Tomato Salsa, [Rice, Black Beans, Sour ...</td>\n",
              "      <td>$11.75</td>\n",
              "    </tr>\n",
              "    <tr>\n",
              "      <th>4618</th>\n",
              "      <td>1833</td>\n",
              "      <td>1</td>\n",
              "      <td>Steak Burrito</td>\n",
              "      <td>[Fresh Tomato Salsa, [Rice, Sour Cream, Cheese...</td>\n",
              "      <td>$11.75</td>\n",
              "    </tr>\n",
              "    <tr>\n",
              "      <th>4619</th>\n",
              "      <td>1834</td>\n",
              "      <td>1</td>\n",
              "      <td>Chicken Salad Bowl</td>\n",
              "      <td>[Fresh Tomato Salsa, [Fajita Vegetables, Pinto...</td>\n",
              "      <td>$11.25</td>\n",
              "    </tr>\n",
              "    <tr>\n",
              "      <th>4620</th>\n",
              "      <td>1834</td>\n",
              "      <td>1</td>\n",
              "      <td>Chicken Salad Bowl</td>\n",
              "      <td>[Fresh Tomato Salsa, [Fajita Vegetables, Lettu...</td>\n",
              "      <td>$8.75</td>\n",
              "    </tr>\n",
              "    <tr>\n",
              "      <th>4621</th>\n",
              "      <td>1834</td>\n",
              "      <td>1</td>\n",
              "      <td>Chicken Salad Bowl</td>\n",
              "      <td>[Fresh Tomato Salsa, [Fajita Vegetables, Pinto...</td>\n",
              "      <td>$8.75</td>\n",
              "    </tr>\n",
              "  </tbody>\n",
              "</table>\n",
              "</div>"
            ],
            "text/plain": [
              "      order_id  ...  item_price\n",
              "4617      1833  ...     $11.75 \n",
              "4618      1833  ...     $11.75 \n",
              "4619      1834  ...     $11.25 \n",
              "4620      1834  ...      $8.75 \n",
              "4621      1834  ...      $8.75 \n",
              "\n",
              "[5 rows x 5 columns]"
            ]
          },
          "metadata": {
            "tags": []
          },
          "execution_count": 4
        }
      ]
    },
    {
      "cell_type": "markdown",
      "metadata": {
        "id": "uol4zJ1B2VH7"
      },
      "source": [
        "### 05. Exbir número de linhas e colunas"
      ]
    },
    {
      "cell_type": "code",
      "metadata": {
        "id": "STDbmwCt2VH8",
        "colab": {
          "base_uri": "https://localhost:8080/"
        },
        "outputId": "43aefa1e-0abb-4cba-d92a-05b4919fc867"
      },
      "source": [
        "print(orders.shape)\n",
        "print('linhas: ' + str(orders.shape[0]))\n",
        "print('colunas: '+ str(orders.shape[1]))"
      ],
      "execution_count": null,
      "outputs": [
        {
          "output_type": "stream",
          "text": [
            "(4622, 5)\n",
            "linhas: 4622\n",
            "colunas: 5\n"
          ],
          "name": "stdout"
        }
      ]
    },
    {
      "cell_type": "markdown",
      "metadata": {
        "id": "ZExvRS-Gwh2r"
      },
      "source": [
        "### 06. Tipos de dados"
      ]
    },
    {
      "cell_type": "code",
      "metadata": {
        "id": "3fxVhg_nwpFK",
        "colab": {
          "base_uri": "https://localhost:8080/"
        },
        "outputId": "0d4d9d9b-b2c6-4150-f0d8-dc3da1803931"
      },
      "source": [
        "orders.dtypes"
      ],
      "execution_count": null,
      "outputs": [
        {
          "output_type": "execute_result",
          "data": {
            "text/plain": [
              "order_id               int64\n",
              "quantity               int64\n",
              "item_name             object\n",
              "choice_description    object\n",
              "item_price            object\n",
              "dtype: object"
            ]
          },
          "metadata": {
            "tags": []
          },
          "execution_count": 6
        }
      ]
    },
    {
      "cell_type": "markdown",
      "metadata": {
        "id": "HxK0_KgfwyRA"
      },
      "source": [
        "### 07. Informações sobre indexação dos dados"
      ]
    },
    {
      "cell_type": "code",
      "metadata": {
        "id": "8yIXPZvJwxqL",
        "colab": {
          "base_uri": "https://localhost:8080/"
        },
        "outputId": "b72586ee-7c67-4a0a-a0be-1809ede26cee"
      },
      "source": [
        "orders.index"
      ],
      "execution_count": null,
      "outputs": [
        {
          "output_type": "execute_result",
          "data": {
            "text/plain": [
              "RangeIndex(start=0, stop=4622, step=1)"
            ]
          },
          "metadata": {
            "tags": []
          },
          "execution_count": 7
        }
      ]
    },
    {
      "cell_type": "markdown",
      "metadata": {
        "id": "JOhdfuQ42VIN"
      },
      "source": [
        "### 09. Exibir nome das colunas"
      ]
    },
    {
      "cell_type": "code",
      "metadata": {
        "id": "q_z-vi5F2VIO",
        "colab": {
          "base_uri": "https://localhost:8080/"
        },
        "outputId": "dd35f864-8f4f-422d-bf31-2c1e9cf5796d"
      },
      "source": [
        "orders.columns"
      ],
      "execution_count": null,
      "outputs": [
        {
          "output_type": "execute_result",
          "data": {
            "text/plain": [
              "Index(['order_id', 'quantity', 'item_name', 'choice_description',\n",
              "       'item_price'],\n",
              "      dtype='object')"
            ]
          },
          "metadata": {
            "tags": []
          },
          "execution_count": 8
        }
      ]
    },
    {
      "cell_type": "markdown",
      "metadata": {
        "id": "Z4VdTOajxm_o"
      },
      "source": [
        "### 08. Informações gerais do dataframe"
      ]
    },
    {
      "cell_type": "code",
      "metadata": {
        "id": "EF3Qqx39vw9d",
        "colab": {
          "base_uri": "https://localhost:8080/"
        },
        "outputId": "af8fc184-33a5-4666-902c-7c59a6a40f36"
      },
      "source": [
        "orders.info()"
      ],
      "execution_count": null,
      "outputs": [
        {
          "output_type": "stream",
          "text": [
            "<class 'pandas.core.frame.DataFrame'>\n",
            "RangeIndex: 4622 entries, 0 to 4621\n",
            "Data columns (total 5 columns):\n",
            " #   Column              Non-Null Count  Dtype \n",
            "---  ------              --------------  ----- \n",
            " 0   order_id            4622 non-null   int64 \n",
            " 1   quantity            4622 non-null   int64 \n",
            " 2   item_name           4622 non-null   object\n",
            " 3   choice_description  3376 non-null   object\n",
            " 4   item_price          4622 non-null   object\n",
            "dtypes: int64(2), object(3)\n",
            "memory usage: 180.7+ KB\n"
          ],
          "name": "stdout"
        }
      ]
    },
    {
      "cell_type": "markdown",
      "metadata": {
        "id": "oQXIACxPybLO"
      },
      "source": [
        "### 09. Alterar tipo de dado de uma coluna"
      ]
    },
    {
      "cell_type": "code",
      "metadata": {
        "id": "0B3RkB8wyke8",
        "colab": {
          "base_uri": "https://localhost:8080/"
        },
        "outputId": "f6b548e4-e849-4314-e9b1-dcc1feec811e"
      },
      "source": [
        "#checar tipo de dado\n",
        "orders.item_price.dtype\n",
        " \n",
        "#criar expressão lambda para converter os valores de preço em string para float\n",
        "converter_dolar_float = lambda x: float(x[1:-1])\n",
        " \n",
        "#aplicar lambda para fazer a conversão\n",
        "orders.item_price = orders.item_price.apply(converter_dolar_float)\n",
        "    \n",
        "#exibir o novo tipo da coluna\n",
        "orders.item_price.dtype"
      ],
      "execution_count": null,
      "outputs": [
        {
          "output_type": "execute_result",
          "data": {
            "text/plain": [
              "dtype('float64')"
            ]
          },
          "metadata": {
            "tags": []
          },
          "execution_count": 10
        }
      ]
    },
    {
      "cell_type": "markdown",
      "metadata": {
        "id": "x18fSQeW2VIs"
      },
      "source": [
        "### 10. Quantos itens foram vendidos no total?"
      ]
    },
    {
      "cell_type": "code",
      "metadata": {
        "id": "PaCbMqUC2VIs",
        "colab": {
          "base_uri": "https://localhost:8080/"
        },
        "outputId": "418cc5d8-598e-40c6-993f-c2fa1cdf2432"
      },
      "source": [
        "total_items_orders = orders.quantity.sum()\n",
        "total_items_orders"
      ],
      "execution_count": null,
      "outputs": [
        {
          "output_type": "execute_result",
          "data": {
            "text/plain": [
              "4972"
            ]
          },
          "metadata": {
            "tags": []
          },
          "execution_count": 11
        }
      ]
    },
    {
      "cell_type": "markdown",
      "metadata": {
        "id": "Eg8EPaGe2VJB"
      },
      "source": [
        "### 11. Qual a receita total obtida?"
      ]
    },
    {
      "cell_type": "code",
      "metadata": {
        "id": "B5Vkl2KvW3k8"
      },
      "source": [
        "a = orders.apply(lambda x: x[1] * x[4], axis=1)"
      ],
      "execution_count": null,
      "outputs": []
    },
    {
      "cell_type": "code",
      "metadata": {
        "id": "SGDeovX0Xra3",
        "colab": {
          "base_uri": "https://localhost:8080/"
        },
        "outputId": "5a2eda7e-37ad-4045-b2f3-70296ba232d4"
      },
      "source": [
        "a"
      ],
      "execution_count": null,
      "outputs": [
        {
          "output_type": "execute_result",
          "data": {
            "text/plain": [
              "0        2.39\n",
              "1        3.39\n",
              "2        3.39\n",
              "3        2.39\n",
              "4       33.96\n",
              "        ...  \n",
              "4617    11.75\n",
              "4618    11.75\n",
              "4619    11.25\n",
              "4620     8.75\n",
              "4621     8.75\n",
              "Length: 4622, dtype: float64"
            ]
          },
          "metadata": {
            "tags": []
          },
          "execution_count": 13
        }
      ]
    },
    {
      "cell_type": "code",
      "metadata": {
        "id": "lrQLp7NRYElI",
        "colab": {
          "base_uri": "https://localhost:8080/"
        },
        "outputId": "e2ef0124-28a8-4e01-a2f7-7e4ae3f5d51b"
      },
      "source": [
        "(orders.quantity * orders.item_price).sum()"
      ],
      "execution_count": null,
      "outputs": [
        {
          "output_type": "execute_result",
          "data": {
            "text/plain": [
              "39237.02"
            ]
          },
          "metadata": {
            "tags": []
          },
          "execution_count": 14
        }
      ]
    },
    {
      "cell_type": "code",
      "metadata": {
        "id": "FTiWTBl8sCyr",
        "colab": {
          "base_uri": "https://localhost:8080/",
          "height": 419
        },
        "outputId": "171610f6-b695-4851-b293-7d231c70b87e"
      },
      "source": [
        "orders"
      ],
      "execution_count": null,
      "outputs": [
        {
          "output_type": "execute_result",
          "data": {
            "text/html": [
              "<div>\n",
              "<style scoped>\n",
              "    .dataframe tbody tr th:only-of-type {\n",
              "        vertical-align: middle;\n",
              "    }\n",
              "\n",
              "    .dataframe tbody tr th {\n",
              "        vertical-align: top;\n",
              "    }\n",
              "\n",
              "    .dataframe thead th {\n",
              "        text-align: right;\n",
              "    }\n",
              "</style>\n",
              "<table border=\"1\" class=\"dataframe\">\n",
              "  <thead>\n",
              "    <tr style=\"text-align: right;\">\n",
              "      <th></th>\n",
              "      <th>order_id</th>\n",
              "      <th>quantity</th>\n",
              "      <th>item_name</th>\n",
              "      <th>choice_description</th>\n",
              "      <th>item_price</th>\n",
              "    </tr>\n",
              "  </thead>\n",
              "  <tbody>\n",
              "    <tr>\n",
              "      <th>0</th>\n",
              "      <td>1</td>\n",
              "      <td>1</td>\n",
              "      <td>Chips and Fresh Tomato Salsa</td>\n",
              "      <td>NaN</td>\n",
              "      <td>2.39</td>\n",
              "    </tr>\n",
              "    <tr>\n",
              "      <th>1</th>\n",
              "      <td>1</td>\n",
              "      <td>1</td>\n",
              "      <td>Izze</td>\n",
              "      <td>[Clementine]</td>\n",
              "      <td>3.39</td>\n",
              "    </tr>\n",
              "    <tr>\n",
              "      <th>2</th>\n",
              "      <td>1</td>\n",
              "      <td>1</td>\n",
              "      <td>Nantucket Nectar</td>\n",
              "      <td>[Apple]</td>\n",
              "      <td>3.39</td>\n",
              "    </tr>\n",
              "    <tr>\n",
              "      <th>3</th>\n",
              "      <td>1</td>\n",
              "      <td>1</td>\n",
              "      <td>Chips and Tomatillo-Green Chili Salsa</td>\n",
              "      <td>NaN</td>\n",
              "      <td>2.39</td>\n",
              "    </tr>\n",
              "    <tr>\n",
              "      <th>4</th>\n",
              "      <td>2</td>\n",
              "      <td>2</td>\n",
              "      <td>Chicken Bowl</td>\n",
              "      <td>[Tomatillo-Red Chili Salsa (Hot), [Black Beans...</td>\n",
              "      <td>16.98</td>\n",
              "    </tr>\n",
              "    <tr>\n",
              "      <th>...</th>\n",
              "      <td>...</td>\n",
              "      <td>...</td>\n",
              "      <td>...</td>\n",
              "      <td>...</td>\n",
              "      <td>...</td>\n",
              "    </tr>\n",
              "    <tr>\n",
              "      <th>4617</th>\n",
              "      <td>1833</td>\n",
              "      <td>1</td>\n",
              "      <td>Steak Burrito</td>\n",
              "      <td>[Fresh Tomato Salsa, [Rice, Black Beans, Sour ...</td>\n",
              "      <td>11.75</td>\n",
              "    </tr>\n",
              "    <tr>\n",
              "      <th>4618</th>\n",
              "      <td>1833</td>\n",
              "      <td>1</td>\n",
              "      <td>Steak Burrito</td>\n",
              "      <td>[Fresh Tomato Salsa, [Rice, Sour Cream, Cheese...</td>\n",
              "      <td>11.75</td>\n",
              "    </tr>\n",
              "    <tr>\n",
              "      <th>4619</th>\n",
              "      <td>1834</td>\n",
              "      <td>1</td>\n",
              "      <td>Chicken Salad Bowl</td>\n",
              "      <td>[Fresh Tomato Salsa, [Fajita Vegetables, Pinto...</td>\n",
              "      <td>11.25</td>\n",
              "    </tr>\n",
              "    <tr>\n",
              "      <th>4620</th>\n",
              "      <td>1834</td>\n",
              "      <td>1</td>\n",
              "      <td>Chicken Salad Bowl</td>\n",
              "      <td>[Fresh Tomato Salsa, [Fajita Vegetables, Lettu...</td>\n",
              "      <td>8.75</td>\n",
              "    </tr>\n",
              "    <tr>\n",
              "      <th>4621</th>\n",
              "      <td>1834</td>\n",
              "      <td>1</td>\n",
              "      <td>Chicken Salad Bowl</td>\n",
              "      <td>[Fresh Tomato Salsa, [Fajita Vegetables, Pinto...</td>\n",
              "      <td>8.75</td>\n",
              "    </tr>\n",
              "  </tbody>\n",
              "</table>\n",
              "<p>4622 rows × 5 columns</p>\n",
              "</div>"
            ],
            "text/plain": [
              "      order_id  ...  item_price\n",
              "0            1  ...        2.39\n",
              "1            1  ...        3.39\n",
              "2            1  ...        3.39\n",
              "3            1  ...        2.39\n",
              "4            2  ...       16.98\n",
              "...        ...  ...         ...\n",
              "4617      1833  ...       11.75\n",
              "4618      1833  ...       11.75\n",
              "4619      1834  ...       11.25\n",
              "4620      1834  ...        8.75\n",
              "4621      1834  ...        8.75\n",
              "\n",
              "[4622 rows x 5 columns]"
            ]
          },
          "metadata": {
            "tags": []
          },
          "execution_count": 15
        }
      ]
    },
    {
      "cell_type": "code",
      "metadata": {
        "id": "aVlAznvPoxP4",
        "colab": {
          "base_uri": "https://localhost:8080/"
        },
        "outputId": "56e1de2c-4012-4ead-fba1-e9e2d97e8520"
      },
      "source": [
        "orders.apply(lambda x: x[1]*x[4], axis=1)"
      ],
      "execution_count": null,
      "outputs": [
        {
          "output_type": "execute_result",
          "data": {
            "text/plain": [
              "0        2.39\n",
              "1        3.39\n",
              "2        3.39\n",
              "3        2.39\n",
              "4       33.96\n",
              "        ...  \n",
              "4617    11.75\n",
              "4618    11.75\n",
              "4619    11.25\n",
              "4620     8.75\n",
              "4621     8.75\n",
              "Length: 4622, dtype: float64"
            ]
          },
          "metadata": {
            "tags": []
          },
          "execution_count": 16
        }
      ]
    },
    {
      "cell_type": "code",
      "metadata": {
        "id": "9QK5RnJh2VJC",
        "colab": {
          "base_uri": "https://localhost:8080/"
        },
        "outputId": "88253e4a-b7e5-4bdc-b1f9-31ef79a76f3d"
      },
      "source": [
        "receita = (orders['quantity']* orders['item_price']).sum()\n",
        "\n",
        "print('A receita foi de: U$' + str(np.round(receita,2)))"
      ],
      "execution_count": null,
      "outputs": [
        {
          "output_type": "stream",
          "text": [
            "A receita foi de: U$39237.02\n"
          ],
          "name": "stdout"
        }
      ]
    },
    {
      "cell_type": "markdown",
      "metadata": {
        "id": "q6Uqpzh12VJG"
      },
      "source": [
        "### 12. Quantos pedidos foram realizados?"
      ]
    },
    {
      "cell_type": "code",
      "metadata": {
        "id": "X_zlgERe2VJH",
        "colab": {
          "base_uri": "https://localhost:8080/"
        },
        "outputId": "8a9ed2f9-66c4-4f08-8035-8c179b8373af"
      },
      "source": [
        "orders.order_id.nunique()"
      ],
      "execution_count": null,
      "outputs": [
        {
          "output_type": "execute_result",
          "data": {
            "text/plain": [
              "1834"
            ]
          },
          "metadata": {
            "tags": []
          },
          "execution_count": 18
        }
      ]
    },
    {
      "cell_type": "markdown",
      "metadata": {
        "id": "msbyyQ4Z2VJV"
      },
      "source": [
        "### 13. Qual são os 5 produtos mais populares entre os clientes?"
      ]
    },
    {
      "cell_type": "code",
      "metadata": {
        "id": "8wp2IoE12VJV",
        "colab": {
          "base_uri": "https://localhost:8080/"
        },
        "outputId": "19ef52a0-3d13-441c-cfe3-971f4051a08c"
      },
      "source": [
        "#Solução 1\n",
        "\n",
        "orders.item_name.value_counts().index[0:5]"
      ],
      "execution_count": null,
      "outputs": [
        {
          "output_type": "execute_result",
          "data": {
            "text/plain": [
              "Index(['Chicken Bowl', 'Chicken Burrito', 'Chips and Guacamole',\n",
              "       'Steak Burrito', 'Canned Soft Drink'],\n",
              "      dtype='object')"
            ]
          },
          "metadata": {
            "tags": []
          },
          "execution_count": 19
        }
      ]
    },
    {
      "cell_type": "code",
      "metadata": {
        "id": "F9FY491r7z-A",
        "colab": {
          "base_uri": "https://localhost:8080/"
        },
        "outputId": "9607fb3d-55e7-43cb-9c1d-783f7c8ff36c"
      },
      "source": [
        "#Solução 2\n",
        "\n",
        "orders.item_name.value_counts().head()"
      ],
      "execution_count": null,
      "outputs": [
        {
          "output_type": "execute_result",
          "data": {
            "text/plain": [
              "Chicken Bowl           726\n",
              "Chicken Burrito        553\n",
              "Chips and Guacamole    479\n",
              "Steak Burrito          368\n",
              "Canned Soft Drink      301\n",
              "Name: item_name, dtype: int64"
            ]
          },
          "metadata": {
            "tags": []
          },
          "execution_count": 20
        }
      ]
    },
    {
      "cell_type": "markdown",
      "metadata": {
        "id": "Ux1IhEsL8VtH"
      },
      "source": [
        "### 14. Sumarizar distribuição dos dados da base"
      ]
    },
    {
      "cell_type": "code",
      "metadata": {
        "id": "ejdlQ3jW8as8",
        "colab": {
          "base_uri": "https://localhost:8080/",
          "height": 297
        },
        "outputId": "f73483df-5e71-4921-9220-0589e8c8ed1c"
      },
      "source": [
        "orders.describe()"
      ],
      "execution_count": null,
      "outputs": [
        {
          "output_type": "execute_result",
          "data": {
            "text/html": [
              "<div>\n",
              "<style scoped>\n",
              "    .dataframe tbody tr th:only-of-type {\n",
              "        vertical-align: middle;\n",
              "    }\n",
              "\n",
              "    .dataframe tbody tr th {\n",
              "        vertical-align: top;\n",
              "    }\n",
              "\n",
              "    .dataframe thead th {\n",
              "        text-align: right;\n",
              "    }\n",
              "</style>\n",
              "<table border=\"1\" class=\"dataframe\">\n",
              "  <thead>\n",
              "    <tr style=\"text-align: right;\">\n",
              "      <th></th>\n",
              "      <th>order_id</th>\n",
              "      <th>quantity</th>\n",
              "      <th>item_price</th>\n",
              "    </tr>\n",
              "  </thead>\n",
              "  <tbody>\n",
              "    <tr>\n",
              "      <th>count</th>\n",
              "      <td>4622.000000</td>\n",
              "      <td>4622.000000</td>\n",
              "      <td>4622.000000</td>\n",
              "    </tr>\n",
              "    <tr>\n",
              "      <th>mean</th>\n",
              "      <td>927.254868</td>\n",
              "      <td>1.075725</td>\n",
              "      <td>7.464336</td>\n",
              "    </tr>\n",
              "    <tr>\n",
              "      <th>std</th>\n",
              "      <td>528.890796</td>\n",
              "      <td>0.410186</td>\n",
              "      <td>4.245557</td>\n",
              "    </tr>\n",
              "    <tr>\n",
              "      <th>min</th>\n",
              "      <td>1.000000</td>\n",
              "      <td>1.000000</td>\n",
              "      <td>1.090000</td>\n",
              "    </tr>\n",
              "    <tr>\n",
              "      <th>25%</th>\n",
              "      <td>477.250000</td>\n",
              "      <td>1.000000</td>\n",
              "      <td>3.390000</td>\n",
              "    </tr>\n",
              "    <tr>\n",
              "      <th>50%</th>\n",
              "      <td>926.000000</td>\n",
              "      <td>1.000000</td>\n",
              "      <td>8.750000</td>\n",
              "    </tr>\n",
              "    <tr>\n",
              "      <th>75%</th>\n",
              "      <td>1393.000000</td>\n",
              "      <td>1.000000</td>\n",
              "      <td>9.250000</td>\n",
              "    </tr>\n",
              "    <tr>\n",
              "      <th>max</th>\n",
              "      <td>1834.000000</td>\n",
              "      <td>15.000000</td>\n",
              "      <td>44.250000</td>\n",
              "    </tr>\n",
              "  </tbody>\n",
              "</table>\n",
              "</div>"
            ],
            "text/plain": [
              "          order_id     quantity   item_price\n",
              "count  4622.000000  4622.000000  4622.000000\n",
              "mean    927.254868     1.075725     7.464336\n",
              "std     528.890796     0.410186     4.245557\n",
              "min       1.000000     1.000000     1.090000\n",
              "25%     477.250000     1.000000     3.390000\n",
              "50%     926.000000     1.000000     8.750000\n",
              "75%    1393.000000     1.000000     9.250000\n",
              "max    1834.000000    15.000000    44.250000"
            ]
          },
          "metadata": {
            "tags": []
          },
          "execution_count": 21
        }
      ]
    },
    {
      "cell_type": "code",
      "metadata": {
        "id": "6KrTWYS88nms",
        "colab": {
          "base_uri": "https://localhost:8080/",
          "height": 390
        },
        "outputId": "f85637c7-b4eb-4b82-947a-413299f02c76"
      },
      "source": [
        "orders.describe(include=\"all\")"
      ],
      "execution_count": null,
      "outputs": [
        {
          "output_type": "execute_result",
          "data": {
            "text/html": [
              "<div>\n",
              "<style scoped>\n",
              "    .dataframe tbody tr th:only-of-type {\n",
              "        vertical-align: middle;\n",
              "    }\n",
              "\n",
              "    .dataframe tbody tr th {\n",
              "        vertical-align: top;\n",
              "    }\n",
              "\n",
              "    .dataframe thead th {\n",
              "        text-align: right;\n",
              "    }\n",
              "</style>\n",
              "<table border=\"1\" class=\"dataframe\">\n",
              "  <thead>\n",
              "    <tr style=\"text-align: right;\">\n",
              "      <th></th>\n",
              "      <th>order_id</th>\n",
              "      <th>quantity</th>\n",
              "      <th>item_name</th>\n",
              "      <th>choice_description</th>\n",
              "      <th>item_price</th>\n",
              "    </tr>\n",
              "  </thead>\n",
              "  <tbody>\n",
              "    <tr>\n",
              "      <th>count</th>\n",
              "      <td>4622.000000</td>\n",
              "      <td>4622.000000</td>\n",
              "      <td>4622</td>\n",
              "      <td>3376</td>\n",
              "      <td>4622.000000</td>\n",
              "    </tr>\n",
              "    <tr>\n",
              "      <th>unique</th>\n",
              "      <td>NaN</td>\n",
              "      <td>NaN</td>\n",
              "      <td>50</td>\n",
              "      <td>1043</td>\n",
              "      <td>NaN</td>\n",
              "    </tr>\n",
              "    <tr>\n",
              "      <th>top</th>\n",
              "      <td>NaN</td>\n",
              "      <td>NaN</td>\n",
              "      <td>Chicken Bowl</td>\n",
              "      <td>[Diet Coke]</td>\n",
              "      <td>NaN</td>\n",
              "    </tr>\n",
              "    <tr>\n",
              "      <th>freq</th>\n",
              "      <td>NaN</td>\n",
              "      <td>NaN</td>\n",
              "      <td>726</td>\n",
              "      <td>134</td>\n",
              "      <td>NaN</td>\n",
              "    </tr>\n",
              "    <tr>\n",
              "      <th>mean</th>\n",
              "      <td>927.254868</td>\n",
              "      <td>1.075725</td>\n",
              "      <td>NaN</td>\n",
              "      <td>NaN</td>\n",
              "      <td>7.464336</td>\n",
              "    </tr>\n",
              "    <tr>\n",
              "      <th>std</th>\n",
              "      <td>528.890796</td>\n",
              "      <td>0.410186</td>\n",
              "      <td>NaN</td>\n",
              "      <td>NaN</td>\n",
              "      <td>4.245557</td>\n",
              "    </tr>\n",
              "    <tr>\n",
              "      <th>min</th>\n",
              "      <td>1.000000</td>\n",
              "      <td>1.000000</td>\n",
              "      <td>NaN</td>\n",
              "      <td>NaN</td>\n",
              "      <td>1.090000</td>\n",
              "    </tr>\n",
              "    <tr>\n",
              "      <th>25%</th>\n",
              "      <td>477.250000</td>\n",
              "      <td>1.000000</td>\n",
              "      <td>NaN</td>\n",
              "      <td>NaN</td>\n",
              "      <td>3.390000</td>\n",
              "    </tr>\n",
              "    <tr>\n",
              "      <th>50%</th>\n",
              "      <td>926.000000</td>\n",
              "      <td>1.000000</td>\n",
              "      <td>NaN</td>\n",
              "      <td>NaN</td>\n",
              "      <td>8.750000</td>\n",
              "    </tr>\n",
              "    <tr>\n",
              "      <th>75%</th>\n",
              "      <td>1393.000000</td>\n",
              "      <td>1.000000</td>\n",
              "      <td>NaN</td>\n",
              "      <td>NaN</td>\n",
              "      <td>9.250000</td>\n",
              "    </tr>\n",
              "    <tr>\n",
              "      <th>max</th>\n",
              "      <td>1834.000000</td>\n",
              "      <td>15.000000</td>\n",
              "      <td>NaN</td>\n",
              "      <td>NaN</td>\n",
              "      <td>44.250000</td>\n",
              "    </tr>\n",
              "  </tbody>\n",
              "</table>\n",
              "</div>"
            ],
            "text/plain": [
              "           order_id     quantity     item_name choice_description   item_price\n",
              "count   4622.000000  4622.000000          4622               3376  4622.000000\n",
              "unique          NaN          NaN            50               1043          NaN\n",
              "top             NaN          NaN  Chicken Bowl        [Diet Coke]          NaN\n",
              "freq            NaN          NaN           726                134          NaN\n",
              "mean     927.254868     1.075725           NaN                NaN     7.464336\n",
              "std      528.890796     0.410186           NaN                NaN     4.245557\n",
              "min        1.000000     1.000000           NaN                NaN     1.090000\n",
              "25%      477.250000     1.000000           NaN                NaN     3.390000\n",
              "50%      926.000000     1.000000           NaN                NaN     8.750000\n",
              "75%     1393.000000     1.000000           NaN                NaN     9.250000\n",
              "max     1834.000000    15.000000           NaN                NaN    44.250000"
            ]
          },
          "metadata": {
            "tags": []
          },
          "execution_count": 22
        }
      ]
    },
    {
      "cell_type": "markdown",
      "metadata": {
        "id": "HVZ0IlAq9E-o"
      },
      "source": [
        "### 15. Sumarizar uma coluna em específico"
      ]
    },
    {
      "cell_type": "code",
      "metadata": {
        "id": "fhE_VcI19Ic8",
        "colab": {
          "base_uri": "https://localhost:8080/"
        },
        "outputId": "ce3175bc-ab32-4e01-b8ea-eb8d5ba28bb9"
      },
      "source": [
        "orders.item_price.describe()"
      ],
      "execution_count": null,
      "outputs": [
        {
          "output_type": "execute_result",
          "data": {
            "text/plain": [
              "count    4622.000000\n",
              "mean        7.464336\n",
              "std         4.245557\n",
              "min         1.090000\n",
              "25%         3.390000\n",
              "50%         8.750000\n",
              "75%         9.250000\n",
              "max        44.250000\n",
              "Name: item_price, dtype: float64"
            ]
          },
          "metadata": {
            "tags": []
          },
          "execution_count": 23
        }
      ]
    },
    {
      "cell_type": "markdown",
      "metadata": {
        "id": "EW2j5lp0l3gB"
      },
      "source": [
        "### 16. Checar números de dados ausentes por coluna"
      ]
    },
    {
      "cell_type": "code",
      "metadata": {
        "id": "WzhahDKymBYN",
        "colab": {
          "base_uri": "https://localhost:8080/",
          "height": 419
        },
        "outputId": "f14e3cfb-850a-49e3-c436-1c50800d8b44"
      },
      "source": [
        "orders.isnull()"
      ],
      "execution_count": null,
      "outputs": [
        {
          "output_type": "execute_result",
          "data": {
            "text/html": [
              "<div>\n",
              "<style scoped>\n",
              "    .dataframe tbody tr th:only-of-type {\n",
              "        vertical-align: middle;\n",
              "    }\n",
              "\n",
              "    .dataframe tbody tr th {\n",
              "        vertical-align: top;\n",
              "    }\n",
              "\n",
              "    .dataframe thead th {\n",
              "        text-align: right;\n",
              "    }\n",
              "</style>\n",
              "<table border=\"1\" class=\"dataframe\">\n",
              "  <thead>\n",
              "    <tr style=\"text-align: right;\">\n",
              "      <th></th>\n",
              "      <th>order_id</th>\n",
              "      <th>quantity</th>\n",
              "      <th>item_name</th>\n",
              "      <th>choice_description</th>\n",
              "      <th>item_price</th>\n",
              "    </tr>\n",
              "  </thead>\n",
              "  <tbody>\n",
              "    <tr>\n",
              "      <th>0</th>\n",
              "      <td>False</td>\n",
              "      <td>False</td>\n",
              "      <td>False</td>\n",
              "      <td>True</td>\n",
              "      <td>False</td>\n",
              "    </tr>\n",
              "    <tr>\n",
              "      <th>1</th>\n",
              "      <td>False</td>\n",
              "      <td>False</td>\n",
              "      <td>False</td>\n",
              "      <td>False</td>\n",
              "      <td>False</td>\n",
              "    </tr>\n",
              "    <tr>\n",
              "      <th>2</th>\n",
              "      <td>False</td>\n",
              "      <td>False</td>\n",
              "      <td>False</td>\n",
              "      <td>False</td>\n",
              "      <td>False</td>\n",
              "    </tr>\n",
              "    <tr>\n",
              "      <th>3</th>\n",
              "      <td>False</td>\n",
              "      <td>False</td>\n",
              "      <td>False</td>\n",
              "      <td>True</td>\n",
              "      <td>False</td>\n",
              "    </tr>\n",
              "    <tr>\n",
              "      <th>4</th>\n",
              "      <td>False</td>\n",
              "      <td>False</td>\n",
              "      <td>False</td>\n",
              "      <td>False</td>\n",
              "      <td>False</td>\n",
              "    </tr>\n",
              "    <tr>\n",
              "      <th>...</th>\n",
              "      <td>...</td>\n",
              "      <td>...</td>\n",
              "      <td>...</td>\n",
              "      <td>...</td>\n",
              "      <td>...</td>\n",
              "    </tr>\n",
              "    <tr>\n",
              "      <th>4617</th>\n",
              "      <td>False</td>\n",
              "      <td>False</td>\n",
              "      <td>False</td>\n",
              "      <td>False</td>\n",
              "      <td>False</td>\n",
              "    </tr>\n",
              "    <tr>\n",
              "      <th>4618</th>\n",
              "      <td>False</td>\n",
              "      <td>False</td>\n",
              "      <td>False</td>\n",
              "      <td>False</td>\n",
              "      <td>False</td>\n",
              "    </tr>\n",
              "    <tr>\n",
              "      <th>4619</th>\n",
              "      <td>False</td>\n",
              "      <td>False</td>\n",
              "      <td>False</td>\n",
              "      <td>False</td>\n",
              "      <td>False</td>\n",
              "    </tr>\n",
              "    <tr>\n",
              "      <th>4620</th>\n",
              "      <td>False</td>\n",
              "      <td>False</td>\n",
              "      <td>False</td>\n",
              "      <td>False</td>\n",
              "      <td>False</td>\n",
              "    </tr>\n",
              "    <tr>\n",
              "      <th>4621</th>\n",
              "      <td>False</td>\n",
              "      <td>False</td>\n",
              "      <td>False</td>\n",
              "      <td>False</td>\n",
              "      <td>False</td>\n",
              "    </tr>\n",
              "  </tbody>\n",
              "</table>\n",
              "<p>4622 rows × 5 columns</p>\n",
              "</div>"
            ],
            "text/plain": [
              "      order_id  quantity  item_name  choice_description  item_price\n",
              "0        False     False      False                True       False\n",
              "1        False     False      False               False       False\n",
              "2        False     False      False               False       False\n",
              "3        False     False      False                True       False\n",
              "4        False     False      False               False       False\n",
              "...        ...       ...        ...                 ...         ...\n",
              "4617     False     False      False               False       False\n",
              "4618     False     False      False               False       False\n",
              "4619     False     False      False               False       False\n",
              "4620     False     False      False               False       False\n",
              "4621     False     False      False               False       False\n",
              "\n",
              "[4622 rows x 5 columns]"
            ]
          },
          "metadata": {
            "tags": []
          },
          "execution_count": 24
        }
      ]
    },
    {
      "cell_type": "code",
      "metadata": {
        "id": "AzCpxupLmJSW",
        "colab": {
          "base_uri": "https://localhost:8080/"
        },
        "outputId": "d1289ce7-a517-4ef9-cfb8-a0141b687401"
      },
      "source": [
        "orders.isnull().sum()"
      ],
      "execution_count": null,
      "outputs": [
        {
          "output_type": "execute_result",
          "data": {
            "text/plain": [
              "order_id                 0\n",
              "quantity                 0\n",
              "item_name                0\n",
              "choice_description    1246\n",
              "item_price               0\n",
              "dtype: int64"
            ]
          },
          "metadata": {
            "tags": []
          },
          "execution_count": 25
        }
      ]
    },
    {
      "cell_type": "markdown",
      "metadata": {
        "id": "sTEFU4CdtmCO"
      },
      "source": [
        "### 17. Exibir percentual de dados ausentes por coluna"
      ]
    },
    {
      "cell_type": "code",
      "metadata": {
        "id": "swHdk7UcrX0U",
        "colab": {
          "base_uri": "https://localhost:8080/"
        },
        "outputId": "e778a82c-3670-4455-fde1-48c82dce156f"
      },
      "source": [
        "orders.isnull().sum()/orders.shape[0]"
      ],
      "execution_count": null,
      "outputs": [
        {
          "output_type": "execute_result",
          "data": {
            "text/plain": [
              "order_id              0.00000\n",
              "quantity              0.00000\n",
              "item_name             0.00000\n",
              "choice_description    0.26958\n",
              "item_price            0.00000\n",
              "dtype: float64"
            ]
          },
          "metadata": {
            "tags": []
          },
          "execution_count": 26
        }
      ]
    },
    {
      "cell_type": "markdown",
      "metadata": {
        "id": "fXoPlDnfrWoU"
      },
      "source": [
        "### 18. Substituir valores ausentes da coluna 'choice_description' por '-'"
      ]
    },
    {
      "cell_type": "code",
      "metadata": {
        "id": "Mq5dgIjFmRtS"
      },
      "source": [
        "orders.choice_description = orders.choice_description.fillna('-')"
      ],
      "execution_count": null,
      "outputs": []
    },
    {
      "cell_type": "code",
      "metadata": {
        "id": "Wax4RBYrmngO",
        "colab": {
          "base_uri": "https://localhost:8080/"
        },
        "outputId": "848f6cbe-1855-4d22-a3a2-fc0a55cac166"
      },
      "source": [
        "orders.isnull().sum()"
      ],
      "execution_count": null,
      "outputs": [
        {
          "output_type": "execute_result",
          "data": {
            "text/plain": [
              "order_id              0\n",
              "quantity              0\n",
              "item_name             0\n",
              "choice_description    0\n",
              "item_price            0\n",
              "dtype: int64"
            ]
          },
          "metadata": {
            "tags": []
          },
          "execution_count": 28
        }
      ]
    },
    {
      "cell_type": "code",
      "metadata": {
        "id": "WEQPX-HOmgsC",
        "colab": {
          "base_uri": "https://localhost:8080/",
          "height": 204
        },
        "outputId": "d8ac5d42-6872-4245-ff07-823d4faee103"
      },
      "source": [
        "orders.head()"
      ],
      "execution_count": null,
      "outputs": [
        {
          "output_type": "execute_result",
          "data": {
            "text/html": [
              "<div>\n",
              "<style scoped>\n",
              "    .dataframe tbody tr th:only-of-type {\n",
              "        vertical-align: middle;\n",
              "    }\n",
              "\n",
              "    .dataframe tbody tr th {\n",
              "        vertical-align: top;\n",
              "    }\n",
              "\n",
              "    .dataframe thead th {\n",
              "        text-align: right;\n",
              "    }\n",
              "</style>\n",
              "<table border=\"1\" class=\"dataframe\">\n",
              "  <thead>\n",
              "    <tr style=\"text-align: right;\">\n",
              "      <th></th>\n",
              "      <th>order_id</th>\n",
              "      <th>quantity</th>\n",
              "      <th>item_name</th>\n",
              "      <th>choice_description</th>\n",
              "      <th>item_price</th>\n",
              "    </tr>\n",
              "  </thead>\n",
              "  <tbody>\n",
              "    <tr>\n",
              "      <th>0</th>\n",
              "      <td>1</td>\n",
              "      <td>1</td>\n",
              "      <td>Chips and Fresh Tomato Salsa</td>\n",
              "      <td>-</td>\n",
              "      <td>2.39</td>\n",
              "    </tr>\n",
              "    <tr>\n",
              "      <th>1</th>\n",
              "      <td>1</td>\n",
              "      <td>1</td>\n",
              "      <td>Izze</td>\n",
              "      <td>[Clementine]</td>\n",
              "      <td>3.39</td>\n",
              "    </tr>\n",
              "    <tr>\n",
              "      <th>2</th>\n",
              "      <td>1</td>\n",
              "      <td>1</td>\n",
              "      <td>Nantucket Nectar</td>\n",
              "      <td>[Apple]</td>\n",
              "      <td>3.39</td>\n",
              "    </tr>\n",
              "    <tr>\n",
              "      <th>3</th>\n",
              "      <td>1</td>\n",
              "      <td>1</td>\n",
              "      <td>Chips and Tomatillo-Green Chili Salsa</td>\n",
              "      <td>-</td>\n",
              "      <td>2.39</td>\n",
              "    </tr>\n",
              "    <tr>\n",
              "      <th>4</th>\n",
              "      <td>2</td>\n",
              "      <td>2</td>\n",
              "      <td>Chicken Bowl</td>\n",
              "      <td>[Tomatillo-Red Chili Salsa (Hot), [Black Beans...</td>\n",
              "      <td>16.98</td>\n",
              "    </tr>\n",
              "  </tbody>\n",
              "</table>\n",
              "</div>"
            ],
            "text/plain": [
              "   order_id  ...  item_price\n",
              "0         1  ...        2.39\n",
              "1         1  ...        3.39\n",
              "2         1  ...        3.39\n",
              "3         1  ...        2.39\n",
              "4         2  ...       16.98\n",
              "\n",
              "[5 rows x 5 columns]"
            ]
          },
          "metadata": {
            "tags": []
          },
          "execution_count": 29
        }
      ]
    },
    {
      "cell_type": "markdown",
      "metadata": {
        "id": "-evRxuLPvMOr"
      },
      "source": [
        "### 19. Remova o valor da coluna 'quantity' das 10 primeiras linhas e substitua as 5 primeiras pela moda e as demais pela média dos valores da coluna."
      ]
    },
    {
      "cell_type": "code",
      "metadata": {
        "id": "-vcEmQEavpe1",
        "colab": {
          "base_uri": "https://localhost:8080/",
          "height": 475
        },
        "outputId": "291cd7ec-1ee9-4d62-8a94-12f6e2327f80"
      },
      "source": [
        "orders.quantity[:10] = np.nan\n",
        "orders.head(11)"
      ],
      "execution_count": null,
      "outputs": [
        {
          "output_type": "stream",
          "text": [
            "/usr/local/lib/python3.6/dist-packages/ipykernel_launcher.py:1: SettingWithCopyWarning: \n",
            "A value is trying to be set on a copy of a slice from a DataFrame\n",
            "\n",
            "See the caveats in the documentation: https://pandas.pydata.org/pandas-docs/stable/user_guide/indexing.html#returning-a-view-versus-a-copy\n",
            "  \"\"\"Entry point for launching an IPython kernel.\n"
          ],
          "name": "stderr"
        },
        {
          "output_type": "execute_result",
          "data": {
            "text/html": [
              "<div>\n",
              "<style scoped>\n",
              "    .dataframe tbody tr th:only-of-type {\n",
              "        vertical-align: middle;\n",
              "    }\n",
              "\n",
              "    .dataframe tbody tr th {\n",
              "        vertical-align: top;\n",
              "    }\n",
              "\n",
              "    .dataframe thead th {\n",
              "        text-align: right;\n",
              "    }\n",
              "</style>\n",
              "<table border=\"1\" class=\"dataframe\">\n",
              "  <thead>\n",
              "    <tr style=\"text-align: right;\">\n",
              "      <th></th>\n",
              "      <th>order_id</th>\n",
              "      <th>quantity</th>\n",
              "      <th>item_name</th>\n",
              "      <th>choice_description</th>\n",
              "      <th>item_price</th>\n",
              "    </tr>\n",
              "  </thead>\n",
              "  <tbody>\n",
              "    <tr>\n",
              "      <th>0</th>\n",
              "      <td>1</td>\n",
              "      <td>NaN</td>\n",
              "      <td>Chips and Fresh Tomato Salsa</td>\n",
              "      <td>-</td>\n",
              "      <td>2.39</td>\n",
              "    </tr>\n",
              "    <tr>\n",
              "      <th>1</th>\n",
              "      <td>1</td>\n",
              "      <td>NaN</td>\n",
              "      <td>Izze</td>\n",
              "      <td>[Clementine]</td>\n",
              "      <td>3.39</td>\n",
              "    </tr>\n",
              "    <tr>\n",
              "      <th>2</th>\n",
              "      <td>1</td>\n",
              "      <td>NaN</td>\n",
              "      <td>Nantucket Nectar</td>\n",
              "      <td>[Apple]</td>\n",
              "      <td>3.39</td>\n",
              "    </tr>\n",
              "    <tr>\n",
              "      <th>3</th>\n",
              "      <td>1</td>\n",
              "      <td>NaN</td>\n",
              "      <td>Chips and Tomatillo-Green Chili Salsa</td>\n",
              "      <td>-</td>\n",
              "      <td>2.39</td>\n",
              "    </tr>\n",
              "    <tr>\n",
              "      <th>4</th>\n",
              "      <td>2</td>\n",
              "      <td>NaN</td>\n",
              "      <td>Chicken Bowl</td>\n",
              "      <td>[Tomatillo-Red Chili Salsa (Hot), [Black Beans...</td>\n",
              "      <td>16.98</td>\n",
              "    </tr>\n",
              "    <tr>\n",
              "      <th>5</th>\n",
              "      <td>3</td>\n",
              "      <td>NaN</td>\n",
              "      <td>Chicken Bowl</td>\n",
              "      <td>[Fresh Tomato Salsa (Mild), [Rice, Cheese, Sou...</td>\n",
              "      <td>10.98</td>\n",
              "    </tr>\n",
              "    <tr>\n",
              "      <th>6</th>\n",
              "      <td>3</td>\n",
              "      <td>NaN</td>\n",
              "      <td>Side of Chips</td>\n",
              "      <td>-</td>\n",
              "      <td>1.69</td>\n",
              "    </tr>\n",
              "    <tr>\n",
              "      <th>7</th>\n",
              "      <td>4</td>\n",
              "      <td>NaN</td>\n",
              "      <td>Steak Burrito</td>\n",
              "      <td>[Tomatillo Red Chili Salsa, [Fajita Vegetables...</td>\n",
              "      <td>11.75</td>\n",
              "    </tr>\n",
              "    <tr>\n",
              "      <th>8</th>\n",
              "      <td>4</td>\n",
              "      <td>NaN</td>\n",
              "      <td>Steak Soft Tacos</td>\n",
              "      <td>[Tomatillo Green Chili Salsa, [Pinto Beans, Ch...</td>\n",
              "      <td>9.25</td>\n",
              "    </tr>\n",
              "    <tr>\n",
              "      <th>9</th>\n",
              "      <td>5</td>\n",
              "      <td>NaN</td>\n",
              "      <td>Steak Burrito</td>\n",
              "      <td>[Fresh Tomato Salsa, [Rice, Black Beans, Pinto...</td>\n",
              "      <td>9.25</td>\n",
              "    </tr>\n",
              "    <tr>\n",
              "      <th>10</th>\n",
              "      <td>5</td>\n",
              "      <td>1.0</td>\n",
              "      <td>Chips and Guacamole</td>\n",
              "      <td>-</td>\n",
              "      <td>4.45</td>\n",
              "    </tr>\n",
              "  </tbody>\n",
              "</table>\n",
              "</div>"
            ],
            "text/plain": [
              "    order_id  ...  item_price\n",
              "0          1  ...        2.39\n",
              "1          1  ...        3.39\n",
              "2          1  ...        3.39\n",
              "3          1  ...        2.39\n",
              "4          2  ...       16.98\n",
              "5          3  ...       10.98\n",
              "6          3  ...        1.69\n",
              "7          4  ...       11.75\n",
              "8          4  ...        9.25\n",
              "9          5  ...        9.25\n",
              "10         5  ...        4.45\n",
              "\n",
              "[11 rows x 5 columns]"
            ]
          },
          "metadata": {
            "tags": []
          },
          "execution_count": 89
        }
      ]
    },
    {
      "cell_type": "code",
      "metadata": {
        "id": "xP3mt2rvwS1v",
        "colab": {
          "base_uri": "https://localhost:8080/"
        },
        "outputId": "592ac387-61bd-41bc-950d-4dee9e32ccef"
      },
      "source": [
        "orders.quantity[:5] = int(orders.quantity.mode())"
      ],
      "execution_count": null,
      "outputs": [
        {
          "output_type": "stream",
          "text": [
            "/usr/local/lib/python3.6/dist-packages/ipykernel_launcher.py:1: SettingWithCopyWarning: \n",
            "A value is trying to be set on a copy of a slice from a DataFrame\n",
            "\n",
            "See the caveats in the documentation: https://pandas.pydata.org/pandas-docs/stable/user_guide/indexing.html#returning-a-view-versus-a-copy\n",
            "  \"\"\"Entry point for launching an IPython kernel.\n"
          ],
          "name": "stderr"
        }
      ]
    },
    {
      "cell_type": "code",
      "metadata": {
        "id": "nR4Im7UwwbbK",
        "colab": {
          "base_uri": "https://localhost:8080/"
        },
        "outputId": "d2023630-f64e-47a6-eea1-3b690d941999"
      },
      "source": [
        "orders.quantity.head(10)"
      ],
      "execution_count": null,
      "outputs": [
        {
          "output_type": "execute_result",
          "data": {
            "text/plain": [
              "0    1.0\n",
              "1    1.0\n",
              "2    1.0\n",
              "3    1.0\n",
              "4    1.0\n",
              "5    1.0\n",
              "6    NaN\n",
              "7    NaN\n",
              "8    NaN\n",
              "9    NaN\n",
              "Name: quantity, dtype: float64"
            ]
          },
          "metadata": {
            "tags": []
          },
          "execution_count": 101
        }
      ]
    },
    {
      "cell_type": "code",
      "metadata": {
        "id": "_68QAKZBwqNP",
        "colab": {
          "base_uri": "https://localhost:8080/"
        },
        "outputId": "29275615-da42-4328-b374-82cbf5040758"
      },
      "source": [
        "orders.quantity[5:10] = round(orders.quantity.mean())"
      ],
      "execution_count": null,
      "outputs": [
        {
          "output_type": "stream",
          "text": [
            "/usr/local/lib/python3.6/dist-packages/ipykernel_launcher.py:1: SettingWithCopyWarning: \n",
            "A value is trying to be set on a copy of a slice from a DataFrame\n",
            "\n",
            "See the caveats in the documentation: https://pandas.pydata.org/pandas-docs/stable/user_guide/indexing.html#returning-a-view-versus-a-copy\n",
            "  \"\"\"Entry point for launching an IPython kernel.\n"
          ],
          "name": "stderr"
        }
      ]
    },
    {
      "cell_type": "code",
      "metadata": {
        "id": "-ChtzFW0w3cQ",
        "colab": {
          "base_uri": "https://localhost:8080/"
        },
        "outputId": "8c15c011-d725-4f98-efce-34b2b0819f92"
      },
      "source": [
        "orders.quantity.head(10)"
      ],
      "execution_count": null,
      "outputs": [
        {
          "output_type": "execute_result",
          "data": {
            "text/plain": [
              "0    1.0\n",
              "1    1.0\n",
              "2    1.0\n",
              "3    1.0\n",
              "4    1.0\n",
              "5    1.0\n",
              "6    1.0\n",
              "7    1.0\n",
              "8    1.0\n",
              "9    1.0\n",
              "Name: quantity, dtype: float64"
            ]
          },
          "metadata": {
            "tags": []
          },
          "execution_count": 34
        }
      ]
    },
    {
      "cell_type": "markdown",
      "metadata": {
        "id": "U3ZMeSYoKg3x"
      },
      "source": [
        "## Filtragem e ordenação\n"
      ]
    },
    {
      "cell_type": "markdown",
      "metadata": {
        "id": "GwBQ8lQdKg3z"
      },
      "source": [
        "### 01. Importar biblioteca"
      ]
    },
    {
      "cell_type": "code",
      "metadata": {
        "id": "vP4VFLlMKg31"
      },
      "source": [
        "import pandas as pd"
      ],
      "execution_count": null,
      "outputs": []
    },
    {
      "cell_type": "markdown",
      "metadata": {
        "id": "bwTpm8TzKg36"
      },
      "source": [
        "### 02. Transformar um dicionário em um dataframe"
      ]
    },
    {
      "cell_type": "code",
      "metadata": {
        "id": "HUzu8rfRKg37"
      },
      "source": [
        "# Create an example dataframe about a fictional army\n",
        "raw_data = {'regiment': ['Nighthawks', 'Nighthawks', 'Nighthawks', 'Nighthawks', 'Dragoons', 'Dragoons', 'Dragoons', 'Dragoons', 'Scouts', 'Scouts', 'Scouts', 'Scouts'],\n",
        "            'company': ['1st', '1st', '2nd', '2nd', '1st', '1st', '2nd', '2nd','1st', '1st', '2nd', '2nd'],\n",
        "            'deaths': [523, 52, 25, 616, 43, 234, 523, 62, 62, 73, 37, 35],\n",
        "            'battles': [5, 42, 2, 2, 4, 7, 8, 3, 4, 7, 8, 9],\n",
        "            'size': [1045, 957, 1099, 1400, 1592, 1006, 987, 849, 973, 1005, 1099, 1523],\n",
        "            'veterans': [1, 5, 62, 26, 73, 37, 949, 48, 48, 435, 63, 345],\n",
        "            'armored': [1, 0, 1, 1, 0, 1, 0, 1, 0, 0, 1, 1],\n",
        "            'deserters': [4, 24, 31, 2, 3, 4, 24, 31, 2, 3, 2, 3],\n",
        "            'origin': ['Arizona', 'California', 'Texas', 'Florida', 'Maine', 'Iowa', 'Alaska', 'Washington', 'Oregon', 'Wyoming', 'Louisana', 'Georgia']}"
      ],
      "execution_count": null,
      "outputs": []
    },
    {
      "cell_type": "code",
      "metadata": {
        "id": "OldoGZPQKg5Z",
        "colab": {
          "base_uri": "https://localhost:8080/"
        },
        "outputId": "2fda4290-fff3-459a-cc06-7bf934fe3a39"
      },
      "source": [
        "army = pd.DataFrame(data=raw_data)\n",
        "army"
      ],
      "execution_count": null,
      "outputs": [
        {
          "output_type": "execute_result",
          "data": {
            "text/html": [
              "<div>\n",
              "<style scoped>\n",
              "    .dataframe tbody tr th:only-of-type {\n",
              "        vertical-align: middle;\n",
              "    }\n",
              "\n",
              "    .dataframe tbody tr th {\n",
              "        vertical-align: top;\n",
              "    }\n",
              "\n",
              "    .dataframe thead th {\n",
              "        text-align: right;\n",
              "    }\n",
              "</style>\n",
              "<table border=\"1\" class=\"dataframe\">\n",
              "  <thead>\n",
              "    <tr style=\"text-align: right;\">\n",
              "      <th></th>\n",
              "      <th>regiment</th>\n",
              "      <th>company</th>\n",
              "      <th>deaths</th>\n",
              "      <th>battles</th>\n",
              "      <th>size</th>\n",
              "      <th>veterans</th>\n",
              "      <th>armored</th>\n",
              "      <th>deserters</th>\n",
              "      <th>origin</th>\n",
              "    </tr>\n",
              "  </thead>\n",
              "  <tbody>\n",
              "    <tr>\n",
              "      <th>0</th>\n",
              "      <td>Nighthawks</td>\n",
              "      <td>1st</td>\n",
              "      <td>523</td>\n",
              "      <td>5</td>\n",
              "      <td>1045</td>\n",
              "      <td>1</td>\n",
              "      <td>1</td>\n",
              "      <td>4</td>\n",
              "      <td>Arizona</td>\n",
              "    </tr>\n",
              "    <tr>\n",
              "      <th>1</th>\n",
              "      <td>Nighthawks</td>\n",
              "      <td>1st</td>\n",
              "      <td>52</td>\n",
              "      <td>42</td>\n",
              "      <td>957</td>\n",
              "      <td>5</td>\n",
              "      <td>0</td>\n",
              "      <td>24</td>\n",
              "      <td>California</td>\n",
              "    </tr>\n",
              "    <tr>\n",
              "      <th>2</th>\n",
              "      <td>Nighthawks</td>\n",
              "      <td>2nd</td>\n",
              "      <td>25</td>\n",
              "      <td>2</td>\n",
              "      <td>1099</td>\n",
              "      <td>62</td>\n",
              "      <td>1</td>\n",
              "      <td>31</td>\n",
              "      <td>Texas</td>\n",
              "    </tr>\n",
              "    <tr>\n",
              "      <th>3</th>\n",
              "      <td>Nighthawks</td>\n",
              "      <td>2nd</td>\n",
              "      <td>616</td>\n",
              "      <td>2</td>\n",
              "      <td>1400</td>\n",
              "      <td>26</td>\n",
              "      <td>1</td>\n",
              "      <td>2</td>\n",
              "      <td>Florida</td>\n",
              "    </tr>\n",
              "    <tr>\n",
              "      <th>4</th>\n",
              "      <td>Dragoons</td>\n",
              "      <td>1st</td>\n",
              "      <td>43</td>\n",
              "      <td>4</td>\n",
              "      <td>1592</td>\n",
              "      <td>73</td>\n",
              "      <td>0</td>\n",
              "      <td>3</td>\n",
              "      <td>Maine</td>\n",
              "    </tr>\n",
              "    <tr>\n",
              "      <th>5</th>\n",
              "      <td>Dragoons</td>\n",
              "      <td>1st</td>\n",
              "      <td>234</td>\n",
              "      <td>7</td>\n",
              "      <td>1006</td>\n",
              "      <td>37</td>\n",
              "      <td>1</td>\n",
              "      <td>4</td>\n",
              "      <td>Iowa</td>\n",
              "    </tr>\n",
              "    <tr>\n",
              "      <th>6</th>\n",
              "      <td>Dragoons</td>\n",
              "      <td>2nd</td>\n",
              "      <td>523</td>\n",
              "      <td>8</td>\n",
              "      <td>987</td>\n",
              "      <td>949</td>\n",
              "      <td>0</td>\n",
              "      <td>24</td>\n",
              "      <td>Alaska</td>\n",
              "    </tr>\n",
              "    <tr>\n",
              "      <th>7</th>\n",
              "      <td>Dragoons</td>\n",
              "      <td>2nd</td>\n",
              "      <td>62</td>\n",
              "      <td>3</td>\n",
              "      <td>849</td>\n",
              "      <td>48</td>\n",
              "      <td>1</td>\n",
              "      <td>31</td>\n",
              "      <td>Washington</td>\n",
              "    </tr>\n",
              "    <tr>\n",
              "      <th>8</th>\n",
              "      <td>Scouts</td>\n",
              "      <td>1st</td>\n",
              "      <td>62</td>\n",
              "      <td>4</td>\n",
              "      <td>973</td>\n",
              "      <td>48</td>\n",
              "      <td>0</td>\n",
              "      <td>2</td>\n",
              "      <td>Oregon</td>\n",
              "    </tr>\n",
              "    <tr>\n",
              "      <th>9</th>\n",
              "      <td>Scouts</td>\n",
              "      <td>1st</td>\n",
              "      <td>73</td>\n",
              "      <td>7</td>\n",
              "      <td>1005</td>\n",
              "      <td>435</td>\n",
              "      <td>0</td>\n",
              "      <td>3</td>\n",
              "      <td>Wyoming</td>\n",
              "    </tr>\n",
              "    <tr>\n",
              "      <th>10</th>\n",
              "      <td>Scouts</td>\n",
              "      <td>2nd</td>\n",
              "      <td>37</td>\n",
              "      <td>8</td>\n",
              "      <td>1099</td>\n",
              "      <td>63</td>\n",
              "      <td>1</td>\n",
              "      <td>2</td>\n",
              "      <td>Louisana</td>\n",
              "    </tr>\n",
              "    <tr>\n",
              "      <th>11</th>\n",
              "      <td>Scouts</td>\n",
              "      <td>2nd</td>\n",
              "      <td>35</td>\n",
              "      <td>9</td>\n",
              "      <td>1523</td>\n",
              "      <td>345</td>\n",
              "      <td>1</td>\n",
              "      <td>3</td>\n",
              "      <td>Georgia</td>\n",
              "    </tr>\n",
              "  </tbody>\n",
              "</table>\n",
              "</div>"
            ],
            "text/plain": [
              "      regiment company  deaths  ...  armored  deserters      origin\n",
              "0   Nighthawks     1st     523  ...        1          4     Arizona\n",
              "1   Nighthawks     1st      52  ...        0         24  California\n",
              "2   Nighthawks     2nd      25  ...        1         31       Texas\n",
              "3   Nighthawks     2nd     616  ...        1          2     Florida\n",
              "4     Dragoons     1st      43  ...        0          3       Maine\n",
              "5     Dragoons     1st     234  ...        1          4        Iowa\n",
              "6     Dragoons     2nd     523  ...        0         24      Alaska\n",
              "7     Dragoons     2nd      62  ...        1         31  Washington\n",
              "8       Scouts     1st      62  ...        0          2      Oregon\n",
              "9       Scouts     1st      73  ...        0          3     Wyoming\n",
              "10      Scouts     2nd      37  ...        1          2    Louisana\n",
              "11      Scouts     2nd      35  ...        1          3     Georgia\n",
              "\n",
              "[12 rows x 9 columns]"
            ]
          },
          "metadata": {
            "tags": []
          },
          "execution_count": 38
        }
      ]
    },
    {
      "cell_type": "markdown",
      "metadata": {
        "id": "u_F35u1RKg4A"
      },
      "source": [
        "### 03. Traduzir nome das colunas"
      ]
    },
    {
      "cell_type": "code",
      "metadata": {
        "id": "-f1iqerFN0YB",
        "colab": {
          "base_uri": "https://localhost:8080/"
        },
        "outputId": "f1697c13-556e-4b8a-a718-889859d91f1f"
      },
      "source": [
        "army.columns"
      ],
      "execution_count": null,
      "outputs": [
        {
          "output_type": "execute_result",
          "data": {
            "text/plain": [
              "Index(['regiment', 'company', 'deaths', 'battles', 'size', 'veterans',\n",
              "       'armored', 'deserters', 'origin'],\n",
              "      dtype='object')"
            ]
          },
          "metadata": {
            "tags": []
          },
          "execution_count": 39
        }
      ]
    },
    {
      "cell_type": "code",
      "metadata": {
        "id": "rhd5xevfN6Yp"
      },
      "source": [
        "army.columns = ['regimento', 'companhia', 'mortes', 'batalhas', 'tamanho', 'veteranos', 'blindados', 'desertores', 'origem']"
      ],
      "execution_count": null,
      "outputs": []
    },
    {
      "cell_type": "code",
      "metadata": {
        "id": "3NzqY_jFOScn",
        "colab": {
          "base_uri": "https://localhost:8080/"
        },
        "outputId": "f6c1d54d-cdd0-4986-d113-7d6f89e94dcd"
      },
      "source": [
        "army.columns"
      ],
      "execution_count": null,
      "outputs": [
        {
          "output_type": "execute_result",
          "data": {
            "text/plain": [
              "Index(['regimento', 'companhia', 'mortes', 'batalhas', 'tamanho', 'veteranos',\n",
              "       'blindados', 'desertores', 'origem'],\n",
              "      dtype='object')"
            ]
          },
          "metadata": {
            "tags": []
          },
          "execution_count": 41
        }
      ]
    },
    {
      "cell_type": "markdown",
      "metadata": {
        "id": "eeU-rTPWKg5f"
      },
      "source": [
        "### 04. Definir a coluna 'origem' como índice"
      ]
    },
    {
      "cell_type": "code",
      "metadata": {
        "id": "n21xqpElKg5g",
        "colab": {
          "base_uri": "https://localhost:8080/"
        },
        "outputId": "e859d3ee-8a20-42c7-aa5c-b5c3434687b9"
      },
      "source": [
        "army.set_index('origem', inplace=True)\n",
        "army"
      ],
      "execution_count": null,
      "outputs": [
        {
          "output_type": "execute_result",
          "data": {
            "text/html": [
              "<div>\n",
              "<style scoped>\n",
              "    .dataframe tbody tr th:only-of-type {\n",
              "        vertical-align: middle;\n",
              "    }\n",
              "\n",
              "    .dataframe tbody tr th {\n",
              "        vertical-align: top;\n",
              "    }\n",
              "\n",
              "    .dataframe thead th {\n",
              "        text-align: right;\n",
              "    }\n",
              "</style>\n",
              "<table border=\"1\" class=\"dataframe\">\n",
              "  <thead>\n",
              "    <tr style=\"text-align: right;\">\n",
              "      <th></th>\n",
              "      <th>regimento</th>\n",
              "      <th>companhia</th>\n",
              "      <th>mortes</th>\n",
              "      <th>batalhas</th>\n",
              "      <th>tamanho</th>\n",
              "      <th>veteranos</th>\n",
              "      <th>blindados</th>\n",
              "      <th>desertores</th>\n",
              "    </tr>\n",
              "    <tr>\n",
              "      <th>origem</th>\n",
              "      <th></th>\n",
              "      <th></th>\n",
              "      <th></th>\n",
              "      <th></th>\n",
              "      <th></th>\n",
              "      <th></th>\n",
              "      <th></th>\n",
              "      <th></th>\n",
              "    </tr>\n",
              "  </thead>\n",
              "  <tbody>\n",
              "    <tr>\n",
              "      <th>Arizona</th>\n",
              "      <td>Nighthawks</td>\n",
              "      <td>1st</td>\n",
              "      <td>523</td>\n",
              "      <td>5</td>\n",
              "      <td>1045</td>\n",
              "      <td>1</td>\n",
              "      <td>1</td>\n",
              "      <td>4</td>\n",
              "    </tr>\n",
              "    <tr>\n",
              "      <th>California</th>\n",
              "      <td>Nighthawks</td>\n",
              "      <td>1st</td>\n",
              "      <td>52</td>\n",
              "      <td>42</td>\n",
              "      <td>957</td>\n",
              "      <td>5</td>\n",
              "      <td>0</td>\n",
              "      <td>24</td>\n",
              "    </tr>\n",
              "    <tr>\n",
              "      <th>Texas</th>\n",
              "      <td>Nighthawks</td>\n",
              "      <td>2nd</td>\n",
              "      <td>25</td>\n",
              "      <td>2</td>\n",
              "      <td>1099</td>\n",
              "      <td>62</td>\n",
              "      <td>1</td>\n",
              "      <td>31</td>\n",
              "    </tr>\n",
              "    <tr>\n",
              "      <th>Florida</th>\n",
              "      <td>Nighthawks</td>\n",
              "      <td>2nd</td>\n",
              "      <td>616</td>\n",
              "      <td>2</td>\n",
              "      <td>1400</td>\n",
              "      <td>26</td>\n",
              "      <td>1</td>\n",
              "      <td>2</td>\n",
              "    </tr>\n",
              "    <tr>\n",
              "      <th>Maine</th>\n",
              "      <td>Dragoons</td>\n",
              "      <td>1st</td>\n",
              "      <td>43</td>\n",
              "      <td>4</td>\n",
              "      <td>1592</td>\n",
              "      <td>73</td>\n",
              "      <td>0</td>\n",
              "      <td>3</td>\n",
              "    </tr>\n",
              "    <tr>\n",
              "      <th>Iowa</th>\n",
              "      <td>Dragoons</td>\n",
              "      <td>1st</td>\n",
              "      <td>234</td>\n",
              "      <td>7</td>\n",
              "      <td>1006</td>\n",
              "      <td>37</td>\n",
              "      <td>1</td>\n",
              "      <td>4</td>\n",
              "    </tr>\n",
              "    <tr>\n",
              "      <th>Alaska</th>\n",
              "      <td>Dragoons</td>\n",
              "      <td>2nd</td>\n",
              "      <td>523</td>\n",
              "      <td>8</td>\n",
              "      <td>987</td>\n",
              "      <td>949</td>\n",
              "      <td>0</td>\n",
              "      <td>24</td>\n",
              "    </tr>\n",
              "    <tr>\n",
              "      <th>Washington</th>\n",
              "      <td>Dragoons</td>\n",
              "      <td>2nd</td>\n",
              "      <td>62</td>\n",
              "      <td>3</td>\n",
              "      <td>849</td>\n",
              "      <td>48</td>\n",
              "      <td>1</td>\n",
              "      <td>31</td>\n",
              "    </tr>\n",
              "    <tr>\n",
              "      <th>Oregon</th>\n",
              "      <td>Scouts</td>\n",
              "      <td>1st</td>\n",
              "      <td>62</td>\n",
              "      <td>4</td>\n",
              "      <td>973</td>\n",
              "      <td>48</td>\n",
              "      <td>0</td>\n",
              "      <td>2</td>\n",
              "    </tr>\n",
              "    <tr>\n",
              "      <th>Wyoming</th>\n",
              "      <td>Scouts</td>\n",
              "      <td>1st</td>\n",
              "      <td>73</td>\n",
              "      <td>7</td>\n",
              "      <td>1005</td>\n",
              "      <td>435</td>\n",
              "      <td>0</td>\n",
              "      <td>3</td>\n",
              "    </tr>\n",
              "    <tr>\n",
              "      <th>Louisana</th>\n",
              "      <td>Scouts</td>\n",
              "      <td>2nd</td>\n",
              "      <td>37</td>\n",
              "      <td>8</td>\n",
              "      <td>1099</td>\n",
              "      <td>63</td>\n",
              "      <td>1</td>\n",
              "      <td>2</td>\n",
              "    </tr>\n",
              "    <tr>\n",
              "      <th>Georgia</th>\n",
              "      <td>Scouts</td>\n",
              "      <td>2nd</td>\n",
              "      <td>35</td>\n",
              "      <td>9</td>\n",
              "      <td>1523</td>\n",
              "      <td>345</td>\n",
              "      <td>1</td>\n",
              "      <td>3</td>\n",
              "    </tr>\n",
              "  </tbody>\n",
              "</table>\n",
              "</div>"
            ],
            "text/plain": [
              "             regimento companhia  mortes  ...  veteranos  blindados  desertores\n",
              "origem                                    ...                                  \n",
              "Arizona     Nighthawks       1st     523  ...          1          1           4\n",
              "California  Nighthawks       1st      52  ...          5          0          24\n",
              "Texas       Nighthawks       2nd      25  ...         62          1          31\n",
              "Florida     Nighthawks       2nd     616  ...         26          1           2\n",
              "Maine         Dragoons       1st      43  ...         73          0           3\n",
              "Iowa          Dragoons       1st     234  ...         37          1           4\n",
              "Alaska        Dragoons       2nd     523  ...        949          0          24\n",
              "Washington    Dragoons       2nd      62  ...         48          1          31\n",
              "Oregon          Scouts       1st      62  ...         48          0           2\n",
              "Wyoming         Scouts       1st      73  ...        435          0           3\n",
              "Louisana        Scouts       2nd      37  ...         63          1           2\n",
              "Georgia         Scouts       2nd      35  ...        345          1           3\n",
              "\n",
              "[12 rows x 8 columns]"
            ]
          },
          "metadata": {
            "tags": []
          },
          "execution_count": 42
        }
      ]
    },
    {
      "cell_type": "markdown",
      "metadata": {
        "id": "6CHfj-VvKg5l"
      },
      "source": [
        "### 05. Exibir o número de veteranos por estado"
      ]
    },
    {
      "cell_type": "code",
      "metadata": {
        "id": "8WDWMVnwKg5m",
        "colab": {
          "base_uri": "https://localhost:8080/"
        },
        "outputId": "a7f9fadf-fa78-4a85-a492-aabd4da6c2a7"
      },
      "source": [
        "army.veteranos"
      ],
      "execution_count": null,
      "outputs": [
        {
          "output_type": "execute_result",
          "data": {
            "text/plain": [
              "origem\n",
              "Arizona         1\n",
              "California      5\n",
              "Texas          62\n",
              "Florida        26\n",
              "Maine          73\n",
              "Iowa           37\n",
              "Alaska        949\n",
              "Washington     48\n",
              "Oregon         48\n",
              "Wyoming       435\n",
              "Louisana       63\n",
              "Georgia       345\n",
              "Name: veteranos, dtype: int64"
            ]
          },
          "metadata": {
            "tags": []
          },
          "execution_count": 43
        }
      ]
    },
    {
      "cell_type": "markdown",
      "metadata": {
        "id": "8FnhmzD3Kg5r"
      },
      "source": [
        "### 06. Exibir o número de veteranos e falecidos por estado ordenados pelo número de mortes em ordem decrescente."
      ]
    },
    {
      "cell_type": "code",
      "metadata": {
        "id": "45CvTRRCKg5s",
        "colab": {
          "base_uri": "https://localhost:8080/"
        },
        "outputId": "ca54d09a-7e6d-4a7c-bc7e-e6a32ebdfd49"
      },
      "source": [
        "army[[ \"mortes\",\"veteranos\"]].sort_values(\"mortes\", ascending=False)"
      ],
      "execution_count": null,
      "outputs": [
        {
          "output_type": "execute_result",
          "data": {
            "text/html": [
              "<div>\n",
              "<style scoped>\n",
              "    .dataframe tbody tr th:only-of-type {\n",
              "        vertical-align: middle;\n",
              "    }\n",
              "\n",
              "    .dataframe tbody tr th {\n",
              "        vertical-align: top;\n",
              "    }\n",
              "\n",
              "    .dataframe thead th {\n",
              "        text-align: right;\n",
              "    }\n",
              "</style>\n",
              "<table border=\"1\" class=\"dataframe\">\n",
              "  <thead>\n",
              "    <tr style=\"text-align: right;\">\n",
              "      <th></th>\n",
              "      <th>mortes</th>\n",
              "      <th>veteranos</th>\n",
              "    </tr>\n",
              "    <tr>\n",
              "      <th>origem</th>\n",
              "      <th></th>\n",
              "      <th></th>\n",
              "    </tr>\n",
              "  </thead>\n",
              "  <tbody>\n",
              "    <tr>\n",
              "      <th>Florida</th>\n",
              "      <td>616</td>\n",
              "      <td>26</td>\n",
              "    </tr>\n",
              "    <tr>\n",
              "      <th>Arizona</th>\n",
              "      <td>523</td>\n",
              "      <td>1</td>\n",
              "    </tr>\n",
              "    <tr>\n",
              "      <th>Alaska</th>\n",
              "      <td>523</td>\n",
              "      <td>949</td>\n",
              "    </tr>\n",
              "    <tr>\n",
              "      <th>Iowa</th>\n",
              "      <td>234</td>\n",
              "      <td>37</td>\n",
              "    </tr>\n",
              "    <tr>\n",
              "      <th>Wyoming</th>\n",
              "      <td>73</td>\n",
              "      <td>435</td>\n",
              "    </tr>\n",
              "    <tr>\n",
              "      <th>Washington</th>\n",
              "      <td>62</td>\n",
              "      <td>48</td>\n",
              "    </tr>\n",
              "    <tr>\n",
              "      <th>Oregon</th>\n",
              "      <td>62</td>\n",
              "      <td>48</td>\n",
              "    </tr>\n",
              "    <tr>\n",
              "      <th>California</th>\n",
              "      <td>52</td>\n",
              "      <td>5</td>\n",
              "    </tr>\n",
              "    <tr>\n",
              "      <th>Maine</th>\n",
              "      <td>43</td>\n",
              "      <td>73</td>\n",
              "    </tr>\n",
              "    <tr>\n",
              "      <th>Louisana</th>\n",
              "      <td>37</td>\n",
              "      <td>63</td>\n",
              "    </tr>\n",
              "    <tr>\n",
              "      <th>Georgia</th>\n",
              "      <td>35</td>\n",
              "      <td>345</td>\n",
              "    </tr>\n",
              "    <tr>\n",
              "      <th>Texas</th>\n",
              "      <td>25</td>\n",
              "      <td>62</td>\n",
              "    </tr>\n",
              "  </tbody>\n",
              "</table>\n",
              "</div>"
            ],
            "text/plain": [
              "            mortes  veteranos\n",
              "origem                       \n",
              "Florida        616         26\n",
              "Arizona        523          1\n",
              "Alaska         523        949\n",
              "Iowa           234         37\n",
              "Wyoming         73        435\n",
              "Washington      62         48\n",
              "Oregon          62         48\n",
              "California      52          5\n",
              "Maine           43         73\n",
              "Louisana        37         63\n",
              "Georgia         35        345\n",
              "Texas           25         62"
            ]
          },
          "metadata": {
            "tags": []
          },
          "execution_count": 44
        }
      ]
    },
    {
      "cell_type": "markdown",
      "metadata": {
        "id": "9TT-ca-IKg54"
      },
      "source": [
        "### 07. Selecionar as colunas 'tamanho', 'veteranos' e 'desertores' dos estados Maine e Alaska."
      ]
    },
    {
      "cell_type": "code",
      "metadata": {
        "id": "QihFgVZcKg57",
        "colab": {
          "base_uri": "https://localhost:8080/"
        },
        "outputId": "1547428d-7bce-499c-b94f-ac3cbff45e3d"
      },
      "source": [
        "army.loc[[\"Maine\", \"Alaska\"], [\"tamanho\", \"veteranos\", \"desertores\"]]"
      ],
      "execution_count": null,
      "outputs": [
        {
          "output_type": "execute_result",
          "data": {
            "text/html": [
              "<div>\n",
              "<style scoped>\n",
              "    .dataframe tbody tr th:only-of-type {\n",
              "        vertical-align: middle;\n",
              "    }\n",
              "\n",
              "    .dataframe tbody tr th {\n",
              "        vertical-align: top;\n",
              "    }\n",
              "\n",
              "    .dataframe thead th {\n",
              "        text-align: right;\n",
              "    }\n",
              "</style>\n",
              "<table border=\"1\" class=\"dataframe\">\n",
              "  <thead>\n",
              "    <tr style=\"text-align: right;\">\n",
              "      <th></th>\n",
              "      <th>tamanho</th>\n",
              "      <th>veteranos</th>\n",
              "      <th>desertores</th>\n",
              "    </tr>\n",
              "    <tr>\n",
              "      <th>origem</th>\n",
              "      <th></th>\n",
              "      <th></th>\n",
              "      <th></th>\n",
              "    </tr>\n",
              "  </thead>\n",
              "  <tbody>\n",
              "    <tr>\n",
              "      <th>Maine</th>\n",
              "      <td>1592</td>\n",
              "      <td>73</td>\n",
              "      <td>3</td>\n",
              "    </tr>\n",
              "    <tr>\n",
              "      <th>Alaska</th>\n",
              "      <td>987</td>\n",
              "      <td>949</td>\n",
              "      <td>24</td>\n",
              "    </tr>\n",
              "  </tbody>\n",
              "</table>\n",
              "</div>"
            ],
            "text/plain": [
              "        tamanho  veteranos  desertores\n",
              "origem                                \n",
              "Maine      1592         73           3\n",
              "Alaska      987        949          24"
            ]
          },
          "metadata": {
            "tags": []
          },
          "execution_count": 45
        }
      ]
    },
    {
      "cell_type": "markdown",
      "metadata": {
        "id": "q8I75u3bKg5_"
      },
      "source": [
        "### 08. Selecionar as linhas de 3 a 7 e as colunas de 3 a 6"
      ]
    },
    {
      "cell_type": "code",
      "metadata": {
        "id": "FPtUKbqJKg6A",
        "colab": {
          "base_uri": "https://localhost:8080/"
        },
        "outputId": "3a65a2b9-d76b-4572-9c0d-e2a8a3ae683a"
      },
      "source": [
        "army.iloc[2:7, 2:6]"
      ],
      "execution_count": null,
      "outputs": [
        {
          "output_type": "execute_result",
          "data": {
            "text/html": [
              "<div>\n",
              "<style scoped>\n",
              "    .dataframe tbody tr th:only-of-type {\n",
              "        vertical-align: middle;\n",
              "    }\n",
              "\n",
              "    .dataframe tbody tr th {\n",
              "        vertical-align: top;\n",
              "    }\n",
              "\n",
              "    .dataframe thead th {\n",
              "        text-align: right;\n",
              "    }\n",
              "</style>\n",
              "<table border=\"1\" class=\"dataframe\">\n",
              "  <thead>\n",
              "    <tr style=\"text-align: right;\">\n",
              "      <th></th>\n",
              "      <th>mortes</th>\n",
              "      <th>batalhas</th>\n",
              "      <th>tamanho</th>\n",
              "      <th>veteranos</th>\n",
              "    </tr>\n",
              "    <tr>\n",
              "      <th>origem</th>\n",
              "      <th></th>\n",
              "      <th></th>\n",
              "      <th></th>\n",
              "      <th></th>\n",
              "    </tr>\n",
              "  </thead>\n",
              "  <tbody>\n",
              "    <tr>\n",
              "      <th>Texas</th>\n",
              "      <td>25</td>\n",
              "      <td>2</td>\n",
              "      <td>1099</td>\n",
              "      <td>62</td>\n",
              "    </tr>\n",
              "    <tr>\n",
              "      <th>Florida</th>\n",
              "      <td>616</td>\n",
              "      <td>2</td>\n",
              "      <td>1400</td>\n",
              "      <td>26</td>\n",
              "    </tr>\n",
              "    <tr>\n",
              "      <th>Maine</th>\n",
              "      <td>43</td>\n",
              "      <td>4</td>\n",
              "      <td>1592</td>\n",
              "      <td>73</td>\n",
              "    </tr>\n",
              "    <tr>\n",
              "      <th>Iowa</th>\n",
              "      <td>234</td>\n",
              "      <td>7</td>\n",
              "      <td>1006</td>\n",
              "      <td>37</td>\n",
              "    </tr>\n",
              "    <tr>\n",
              "      <th>Alaska</th>\n",
              "      <td>523</td>\n",
              "      <td>8</td>\n",
              "      <td>987</td>\n",
              "      <td>949</td>\n",
              "    </tr>\n",
              "  </tbody>\n",
              "</table>\n",
              "</div>"
            ],
            "text/plain": [
              "         mortes  batalhas  tamanho  veteranos\n",
              "origem                                       \n",
              "Texas        25         2     1099         62\n",
              "Florida     616         2     1400         26\n",
              "Maine        43         4     1592         73\n",
              "Iowa        234         7     1006         37\n",
              "Alaska      523         8      987        949"
            ]
          },
          "metadata": {
            "tags": []
          },
          "execution_count": 46
        }
      ]
    },
    {
      "cell_type": "markdown",
      "metadata": {
        "id": "xNMqVdhGKg6F"
      },
      "source": [
        "### 09. Selecionar todas as linas após a 4º com todas as colunas"
      ]
    },
    {
      "cell_type": "code",
      "metadata": {
        "id": "ujjSc6tYKg6G",
        "colab": {
          "base_uri": "https://localhost:8080/"
        },
        "outputId": "c542021f-45eb-41cf-b90d-6a132258006e"
      },
      "source": [
        "army.iloc[4:, :]"
      ],
      "execution_count": null,
      "outputs": [
        {
          "output_type": "execute_result",
          "data": {
            "text/html": [
              "<div>\n",
              "<style scoped>\n",
              "    .dataframe tbody tr th:only-of-type {\n",
              "        vertical-align: middle;\n",
              "    }\n",
              "\n",
              "    .dataframe tbody tr th {\n",
              "        vertical-align: top;\n",
              "    }\n",
              "\n",
              "    .dataframe thead th {\n",
              "        text-align: right;\n",
              "    }\n",
              "</style>\n",
              "<table border=\"1\" class=\"dataframe\">\n",
              "  <thead>\n",
              "    <tr style=\"text-align: right;\">\n",
              "      <th></th>\n",
              "      <th>regimento</th>\n",
              "      <th>companhia</th>\n",
              "      <th>mortes</th>\n",
              "      <th>batalhas</th>\n",
              "      <th>tamanho</th>\n",
              "      <th>veteranos</th>\n",
              "      <th>blindados</th>\n",
              "      <th>desertores</th>\n",
              "    </tr>\n",
              "    <tr>\n",
              "      <th>origem</th>\n",
              "      <th></th>\n",
              "      <th></th>\n",
              "      <th></th>\n",
              "      <th></th>\n",
              "      <th></th>\n",
              "      <th></th>\n",
              "      <th></th>\n",
              "      <th></th>\n",
              "    </tr>\n",
              "  </thead>\n",
              "  <tbody>\n",
              "    <tr>\n",
              "      <th>Maine</th>\n",
              "      <td>Dragoons</td>\n",
              "      <td>1st</td>\n",
              "      <td>43</td>\n",
              "      <td>4</td>\n",
              "      <td>1592</td>\n",
              "      <td>73</td>\n",
              "      <td>0</td>\n",
              "      <td>3</td>\n",
              "    </tr>\n",
              "    <tr>\n",
              "      <th>Iowa</th>\n",
              "      <td>Dragoons</td>\n",
              "      <td>1st</td>\n",
              "      <td>234</td>\n",
              "      <td>7</td>\n",
              "      <td>1006</td>\n",
              "      <td>37</td>\n",
              "      <td>1</td>\n",
              "      <td>4</td>\n",
              "    </tr>\n",
              "    <tr>\n",
              "      <th>Alaska</th>\n",
              "      <td>Dragoons</td>\n",
              "      <td>2nd</td>\n",
              "      <td>523</td>\n",
              "      <td>8</td>\n",
              "      <td>987</td>\n",
              "      <td>949</td>\n",
              "      <td>0</td>\n",
              "      <td>24</td>\n",
              "    </tr>\n",
              "    <tr>\n",
              "      <th>Washington</th>\n",
              "      <td>Dragoons</td>\n",
              "      <td>2nd</td>\n",
              "      <td>62</td>\n",
              "      <td>3</td>\n",
              "      <td>849</td>\n",
              "      <td>48</td>\n",
              "      <td>1</td>\n",
              "      <td>31</td>\n",
              "    </tr>\n",
              "    <tr>\n",
              "      <th>Oregon</th>\n",
              "      <td>Scouts</td>\n",
              "      <td>1st</td>\n",
              "      <td>62</td>\n",
              "      <td>4</td>\n",
              "      <td>973</td>\n",
              "      <td>48</td>\n",
              "      <td>0</td>\n",
              "      <td>2</td>\n",
              "    </tr>\n",
              "    <tr>\n",
              "      <th>Wyoming</th>\n",
              "      <td>Scouts</td>\n",
              "      <td>1st</td>\n",
              "      <td>73</td>\n",
              "      <td>7</td>\n",
              "      <td>1005</td>\n",
              "      <td>435</td>\n",
              "      <td>0</td>\n",
              "      <td>3</td>\n",
              "    </tr>\n",
              "    <tr>\n",
              "      <th>Louisana</th>\n",
              "      <td>Scouts</td>\n",
              "      <td>2nd</td>\n",
              "      <td>37</td>\n",
              "      <td>8</td>\n",
              "      <td>1099</td>\n",
              "      <td>63</td>\n",
              "      <td>1</td>\n",
              "      <td>2</td>\n",
              "    </tr>\n",
              "    <tr>\n",
              "      <th>Georgia</th>\n",
              "      <td>Scouts</td>\n",
              "      <td>2nd</td>\n",
              "      <td>35</td>\n",
              "      <td>9</td>\n",
              "      <td>1523</td>\n",
              "      <td>345</td>\n",
              "      <td>1</td>\n",
              "      <td>3</td>\n",
              "    </tr>\n",
              "  </tbody>\n",
              "</table>\n",
              "</div>"
            ],
            "text/plain": [
              "           regimento companhia  mortes  ...  veteranos  blindados  desertores\n",
              "origem                                  ...                                  \n",
              "Maine       Dragoons       1st      43  ...         73          0           3\n",
              "Iowa        Dragoons       1st     234  ...         37          1           4\n",
              "Alaska      Dragoons       2nd     523  ...        949          0          24\n",
              "Washington  Dragoons       2nd      62  ...         48          1          31\n",
              "Oregon        Scouts       1st      62  ...         48          0           2\n",
              "Wyoming       Scouts       1st      73  ...        435          0           3\n",
              "Louisana      Scouts       2nd      37  ...         63          1           2\n",
              "Georgia       Scouts       2nd      35  ...        345          1           3\n",
              "\n",
              "[8 rows x 8 columns]"
            ]
          },
          "metadata": {
            "tags": []
          },
          "execution_count": 47
        }
      ]
    },
    {
      "cell_type": "markdown",
      "metadata": {
        "id": "jVhJdTF6Kg6N"
      },
      "source": [
        "### 10. Selecionar as 4 primeiras linhas com todas as colunas"
      ]
    },
    {
      "cell_type": "code",
      "metadata": {
        "id": "IIuboGZjKg6O",
        "colab": {
          "base_uri": "https://localhost:8080/"
        },
        "outputId": "0b5f5f37-b45c-4f33-915e-58810942e054"
      },
      "source": [
        "army.iloc[:4, :]"
      ],
      "execution_count": null,
      "outputs": [
        {
          "output_type": "execute_result",
          "data": {
            "text/html": [
              "<div>\n",
              "<style scoped>\n",
              "    .dataframe tbody tr th:only-of-type {\n",
              "        vertical-align: middle;\n",
              "    }\n",
              "\n",
              "    .dataframe tbody tr th {\n",
              "        vertical-align: top;\n",
              "    }\n",
              "\n",
              "    .dataframe thead th {\n",
              "        text-align: right;\n",
              "    }\n",
              "</style>\n",
              "<table border=\"1\" class=\"dataframe\">\n",
              "  <thead>\n",
              "    <tr style=\"text-align: right;\">\n",
              "      <th></th>\n",
              "      <th>regimento</th>\n",
              "      <th>companhia</th>\n",
              "      <th>mortes</th>\n",
              "      <th>batalhas</th>\n",
              "      <th>tamanho</th>\n",
              "      <th>veteranos</th>\n",
              "      <th>blindados</th>\n",
              "      <th>desertores</th>\n",
              "    </tr>\n",
              "    <tr>\n",
              "      <th>origem</th>\n",
              "      <th></th>\n",
              "      <th></th>\n",
              "      <th></th>\n",
              "      <th></th>\n",
              "      <th></th>\n",
              "      <th></th>\n",
              "      <th></th>\n",
              "      <th></th>\n",
              "    </tr>\n",
              "  </thead>\n",
              "  <tbody>\n",
              "    <tr>\n",
              "      <th>Arizona</th>\n",
              "      <td>Nighthawks</td>\n",
              "      <td>1st</td>\n",
              "      <td>523</td>\n",
              "      <td>5</td>\n",
              "      <td>1045</td>\n",
              "      <td>1</td>\n",
              "      <td>1</td>\n",
              "      <td>4</td>\n",
              "    </tr>\n",
              "    <tr>\n",
              "      <th>California</th>\n",
              "      <td>Nighthawks</td>\n",
              "      <td>1st</td>\n",
              "      <td>52</td>\n",
              "      <td>42</td>\n",
              "      <td>957</td>\n",
              "      <td>5</td>\n",
              "      <td>0</td>\n",
              "      <td>24</td>\n",
              "    </tr>\n",
              "    <tr>\n",
              "      <th>Texas</th>\n",
              "      <td>Nighthawks</td>\n",
              "      <td>2nd</td>\n",
              "      <td>25</td>\n",
              "      <td>2</td>\n",
              "      <td>1099</td>\n",
              "      <td>62</td>\n",
              "      <td>1</td>\n",
              "      <td>31</td>\n",
              "    </tr>\n",
              "    <tr>\n",
              "      <th>Florida</th>\n",
              "      <td>Nighthawks</td>\n",
              "      <td>2nd</td>\n",
              "      <td>616</td>\n",
              "      <td>2</td>\n",
              "      <td>1400</td>\n",
              "      <td>26</td>\n",
              "      <td>1</td>\n",
              "      <td>2</td>\n",
              "    </tr>\n",
              "  </tbody>\n",
              "</table>\n",
              "</div>"
            ],
            "text/plain": [
              "             regimento companhia  mortes  ...  veteranos  blindados  desertores\n",
              "origem                                    ...                                  \n",
              "Arizona     Nighthawks       1st     523  ...          1          1           4\n",
              "California  Nighthawks       1st      52  ...          5          0          24\n",
              "Texas       Nighthawks       2nd      25  ...         62          1          31\n",
              "Florida     Nighthawks       2nd     616  ...         26          1           2\n",
              "\n",
              "[4 rows x 8 columns]"
            ]
          },
          "metadata": {
            "tags": []
          },
          "execution_count": 48
        }
      ]
    },
    {
      "cell_type": "markdown",
      "metadata": {
        "id": "Yo-ajA_7Kg6T"
      },
      "source": [
        "### 11. Selecionar da 3º até a 7º coluna"
      ]
    },
    {
      "cell_type": "code",
      "metadata": {
        "id": "X4EDkvcbKg6U",
        "colab": {
          "base_uri": "https://localhost:8080/"
        },
        "outputId": "54a4d193-e35c-4a08-e6b7-131cf577b8e4"
      },
      "source": [
        "army.iloc[:, 2:7]"
      ],
      "execution_count": null,
      "outputs": [
        {
          "output_type": "execute_result",
          "data": {
            "text/html": [
              "<div>\n",
              "<style scoped>\n",
              "    .dataframe tbody tr th:only-of-type {\n",
              "        vertical-align: middle;\n",
              "    }\n",
              "\n",
              "    .dataframe tbody tr th {\n",
              "        vertical-align: top;\n",
              "    }\n",
              "\n",
              "    .dataframe thead th {\n",
              "        text-align: right;\n",
              "    }\n",
              "</style>\n",
              "<table border=\"1\" class=\"dataframe\">\n",
              "  <thead>\n",
              "    <tr style=\"text-align: right;\">\n",
              "      <th></th>\n",
              "      <th>mortes</th>\n",
              "      <th>batalhas</th>\n",
              "      <th>tamanho</th>\n",
              "      <th>veteranos</th>\n",
              "      <th>blindados</th>\n",
              "    </tr>\n",
              "    <tr>\n",
              "      <th>origem</th>\n",
              "      <th></th>\n",
              "      <th></th>\n",
              "      <th></th>\n",
              "      <th></th>\n",
              "      <th></th>\n",
              "    </tr>\n",
              "  </thead>\n",
              "  <tbody>\n",
              "    <tr>\n",
              "      <th>Arizona</th>\n",
              "      <td>523</td>\n",
              "      <td>5</td>\n",
              "      <td>1045</td>\n",
              "      <td>1</td>\n",
              "      <td>1</td>\n",
              "    </tr>\n",
              "    <tr>\n",
              "      <th>California</th>\n",
              "      <td>52</td>\n",
              "      <td>42</td>\n",
              "      <td>957</td>\n",
              "      <td>5</td>\n",
              "      <td>0</td>\n",
              "    </tr>\n",
              "    <tr>\n",
              "      <th>Texas</th>\n",
              "      <td>25</td>\n",
              "      <td>2</td>\n",
              "      <td>1099</td>\n",
              "      <td>62</td>\n",
              "      <td>1</td>\n",
              "    </tr>\n",
              "    <tr>\n",
              "      <th>Florida</th>\n",
              "      <td>616</td>\n",
              "      <td>2</td>\n",
              "      <td>1400</td>\n",
              "      <td>26</td>\n",
              "      <td>1</td>\n",
              "    </tr>\n",
              "    <tr>\n",
              "      <th>Maine</th>\n",
              "      <td>43</td>\n",
              "      <td>4</td>\n",
              "      <td>1592</td>\n",
              "      <td>73</td>\n",
              "      <td>0</td>\n",
              "    </tr>\n",
              "    <tr>\n",
              "      <th>Iowa</th>\n",
              "      <td>234</td>\n",
              "      <td>7</td>\n",
              "      <td>1006</td>\n",
              "      <td>37</td>\n",
              "      <td>1</td>\n",
              "    </tr>\n",
              "    <tr>\n",
              "      <th>Alaska</th>\n",
              "      <td>523</td>\n",
              "      <td>8</td>\n",
              "      <td>987</td>\n",
              "      <td>949</td>\n",
              "      <td>0</td>\n",
              "    </tr>\n",
              "    <tr>\n",
              "      <th>Washington</th>\n",
              "      <td>62</td>\n",
              "      <td>3</td>\n",
              "      <td>849</td>\n",
              "      <td>48</td>\n",
              "      <td>1</td>\n",
              "    </tr>\n",
              "    <tr>\n",
              "      <th>Oregon</th>\n",
              "      <td>62</td>\n",
              "      <td>4</td>\n",
              "      <td>973</td>\n",
              "      <td>48</td>\n",
              "      <td>0</td>\n",
              "    </tr>\n",
              "    <tr>\n",
              "      <th>Wyoming</th>\n",
              "      <td>73</td>\n",
              "      <td>7</td>\n",
              "      <td>1005</td>\n",
              "      <td>435</td>\n",
              "      <td>0</td>\n",
              "    </tr>\n",
              "    <tr>\n",
              "      <th>Louisana</th>\n",
              "      <td>37</td>\n",
              "      <td>8</td>\n",
              "      <td>1099</td>\n",
              "      <td>63</td>\n",
              "      <td>1</td>\n",
              "    </tr>\n",
              "    <tr>\n",
              "      <th>Georgia</th>\n",
              "      <td>35</td>\n",
              "      <td>9</td>\n",
              "      <td>1523</td>\n",
              "      <td>345</td>\n",
              "      <td>1</td>\n",
              "    </tr>\n",
              "  </tbody>\n",
              "</table>\n",
              "</div>"
            ],
            "text/plain": [
              "            mortes  batalhas  tamanho  veteranos  blindados\n",
              "origem                                                     \n",
              "Arizona        523         5     1045          1          1\n",
              "California      52        42      957          5          0\n",
              "Texas           25         2     1099         62          1\n",
              "Florida        616         2     1400         26          1\n",
              "Maine           43         4     1592         73          0\n",
              "Iowa           234         7     1006         37          1\n",
              "Alaska         523         8      987        949          0\n",
              "Washington      62         3      849         48          1\n",
              "Oregon          62         4      973         48          0\n",
              "Wyoming         73         7     1005        435          0\n",
              "Louisana        37         8     1099         63          1\n",
              "Georgia         35         9     1523        345          1"
            ]
          },
          "metadata": {
            "tags": []
          },
          "execution_count": 49
        }
      ]
    },
    {
      "cell_type": "markdown",
      "metadata": {
        "id": "9zG82vswKg6Y"
      },
      "source": [
        "###12. Selecionar as linhas cujo número de mortes seja superior a 50, ordenados pelas colunas \"regimento\" e \"companhia\"\n"
      ]
    },
    {
      "cell_type": "code",
      "metadata": {
        "id": "5nH6lICpKg6Y",
        "colab": {
          "base_uri": "https://localhost:8080/"
        },
        "outputId": "7dae8658-d4f8-4ec5-dc7b-8023ceffbccb"
      },
      "source": [
        "army[army[\"mortes\"] > 50].sort_values([\"regimento\", \"companhia\"])"
      ],
      "execution_count": null,
      "outputs": [
        {
          "output_type": "execute_result",
          "data": {
            "text/html": [
              "<div>\n",
              "<style scoped>\n",
              "    .dataframe tbody tr th:only-of-type {\n",
              "        vertical-align: middle;\n",
              "    }\n",
              "\n",
              "    .dataframe tbody tr th {\n",
              "        vertical-align: top;\n",
              "    }\n",
              "\n",
              "    .dataframe thead th {\n",
              "        text-align: right;\n",
              "    }\n",
              "</style>\n",
              "<table border=\"1\" class=\"dataframe\">\n",
              "  <thead>\n",
              "    <tr style=\"text-align: right;\">\n",
              "      <th></th>\n",
              "      <th>regimento</th>\n",
              "      <th>companhia</th>\n",
              "      <th>mortes</th>\n",
              "      <th>batalhas</th>\n",
              "      <th>tamanho</th>\n",
              "      <th>veteranos</th>\n",
              "      <th>blindados</th>\n",
              "      <th>desertores</th>\n",
              "    </tr>\n",
              "    <tr>\n",
              "      <th>origem</th>\n",
              "      <th></th>\n",
              "      <th></th>\n",
              "      <th></th>\n",
              "      <th></th>\n",
              "      <th></th>\n",
              "      <th></th>\n",
              "      <th></th>\n",
              "      <th></th>\n",
              "    </tr>\n",
              "  </thead>\n",
              "  <tbody>\n",
              "    <tr>\n",
              "      <th>Iowa</th>\n",
              "      <td>Dragoons</td>\n",
              "      <td>1st</td>\n",
              "      <td>234</td>\n",
              "      <td>7</td>\n",
              "      <td>1006</td>\n",
              "      <td>37</td>\n",
              "      <td>1</td>\n",
              "      <td>4</td>\n",
              "    </tr>\n",
              "    <tr>\n",
              "      <th>Alaska</th>\n",
              "      <td>Dragoons</td>\n",
              "      <td>2nd</td>\n",
              "      <td>523</td>\n",
              "      <td>8</td>\n",
              "      <td>987</td>\n",
              "      <td>949</td>\n",
              "      <td>0</td>\n",
              "      <td>24</td>\n",
              "    </tr>\n",
              "    <tr>\n",
              "      <th>Washington</th>\n",
              "      <td>Dragoons</td>\n",
              "      <td>2nd</td>\n",
              "      <td>62</td>\n",
              "      <td>3</td>\n",
              "      <td>849</td>\n",
              "      <td>48</td>\n",
              "      <td>1</td>\n",
              "      <td>31</td>\n",
              "    </tr>\n",
              "    <tr>\n",
              "      <th>Arizona</th>\n",
              "      <td>Nighthawks</td>\n",
              "      <td>1st</td>\n",
              "      <td>523</td>\n",
              "      <td>5</td>\n",
              "      <td>1045</td>\n",
              "      <td>1</td>\n",
              "      <td>1</td>\n",
              "      <td>4</td>\n",
              "    </tr>\n",
              "    <tr>\n",
              "      <th>California</th>\n",
              "      <td>Nighthawks</td>\n",
              "      <td>1st</td>\n",
              "      <td>52</td>\n",
              "      <td>42</td>\n",
              "      <td>957</td>\n",
              "      <td>5</td>\n",
              "      <td>0</td>\n",
              "      <td>24</td>\n",
              "    </tr>\n",
              "    <tr>\n",
              "      <th>Florida</th>\n",
              "      <td>Nighthawks</td>\n",
              "      <td>2nd</td>\n",
              "      <td>616</td>\n",
              "      <td>2</td>\n",
              "      <td>1400</td>\n",
              "      <td>26</td>\n",
              "      <td>1</td>\n",
              "      <td>2</td>\n",
              "    </tr>\n",
              "    <tr>\n",
              "      <th>Oregon</th>\n",
              "      <td>Scouts</td>\n",
              "      <td>1st</td>\n",
              "      <td>62</td>\n",
              "      <td>4</td>\n",
              "      <td>973</td>\n",
              "      <td>48</td>\n",
              "      <td>0</td>\n",
              "      <td>2</td>\n",
              "    </tr>\n",
              "    <tr>\n",
              "      <th>Wyoming</th>\n",
              "      <td>Scouts</td>\n",
              "      <td>1st</td>\n",
              "      <td>73</td>\n",
              "      <td>7</td>\n",
              "      <td>1005</td>\n",
              "      <td>435</td>\n",
              "      <td>0</td>\n",
              "      <td>3</td>\n",
              "    </tr>\n",
              "  </tbody>\n",
              "</table>\n",
              "</div>"
            ],
            "text/plain": [
              "             regimento companhia  mortes  ...  veteranos  blindados  desertores\n",
              "origem                                    ...                                  \n",
              "Iowa          Dragoons       1st     234  ...         37          1           4\n",
              "Alaska        Dragoons       2nd     523  ...        949          0          24\n",
              "Washington    Dragoons       2nd      62  ...         48          1          31\n",
              "Arizona     Nighthawks       1st     523  ...          1          1           4\n",
              "California  Nighthawks       1st      52  ...          5          0          24\n",
              "Florida     Nighthawks       2nd     616  ...         26          1           2\n",
              "Oregon          Scouts       1st      62  ...         48          0           2\n",
              "Wyoming         Scouts       1st      73  ...        435          0           3\n",
              "\n",
              "[8 rows x 8 columns]"
            ]
          },
          "metadata": {
            "tags": []
          },
          "execution_count": 50
        }
      ]
    },
    {
      "cell_type": "markdown",
      "metadata": {
        "id": "vHD3eTgDKg68"
      },
      "source": [
        "### 13. Selecionar as linhas cujo número de mortes seja maior que 50 e menor que 500 e ordená-las do menor número para o maior."
      ]
    },
    {
      "cell_type": "code",
      "metadata": {
        "id": "g5AXvU4RKg69",
        "colab": {
          "base_uri": "https://localhost:8080/"
        },
        "outputId": "ccc7e603-10dd-49c7-ab21-a96cd60ef934"
      },
      "source": [
        "army[(army[\"mortes\"] > 50) & (army[\"mortes\"] < 500)].sort_values(\"mortes\",ascending = True)"
      ],
      "execution_count": null,
      "outputs": [
        {
          "output_type": "execute_result",
          "data": {
            "text/html": [
              "<div>\n",
              "<style scoped>\n",
              "    .dataframe tbody tr th:only-of-type {\n",
              "        vertical-align: middle;\n",
              "    }\n",
              "\n",
              "    .dataframe tbody tr th {\n",
              "        vertical-align: top;\n",
              "    }\n",
              "\n",
              "    .dataframe thead th {\n",
              "        text-align: right;\n",
              "    }\n",
              "</style>\n",
              "<table border=\"1\" class=\"dataframe\">\n",
              "  <thead>\n",
              "    <tr style=\"text-align: right;\">\n",
              "      <th></th>\n",
              "      <th>regimento</th>\n",
              "      <th>companhia</th>\n",
              "      <th>mortes</th>\n",
              "      <th>batalhas</th>\n",
              "      <th>tamanho</th>\n",
              "      <th>veteranos</th>\n",
              "      <th>blindados</th>\n",
              "      <th>desertores</th>\n",
              "    </tr>\n",
              "    <tr>\n",
              "      <th>origem</th>\n",
              "      <th></th>\n",
              "      <th></th>\n",
              "      <th></th>\n",
              "      <th></th>\n",
              "      <th></th>\n",
              "      <th></th>\n",
              "      <th></th>\n",
              "      <th></th>\n",
              "    </tr>\n",
              "  </thead>\n",
              "  <tbody>\n",
              "    <tr>\n",
              "      <th>California</th>\n",
              "      <td>Nighthawks</td>\n",
              "      <td>1st</td>\n",
              "      <td>52</td>\n",
              "      <td>42</td>\n",
              "      <td>957</td>\n",
              "      <td>5</td>\n",
              "      <td>0</td>\n",
              "      <td>24</td>\n",
              "    </tr>\n",
              "    <tr>\n",
              "      <th>Washington</th>\n",
              "      <td>Dragoons</td>\n",
              "      <td>2nd</td>\n",
              "      <td>62</td>\n",
              "      <td>3</td>\n",
              "      <td>849</td>\n",
              "      <td>48</td>\n",
              "      <td>1</td>\n",
              "      <td>31</td>\n",
              "    </tr>\n",
              "    <tr>\n",
              "      <th>Oregon</th>\n",
              "      <td>Scouts</td>\n",
              "      <td>1st</td>\n",
              "      <td>62</td>\n",
              "      <td>4</td>\n",
              "      <td>973</td>\n",
              "      <td>48</td>\n",
              "      <td>0</td>\n",
              "      <td>2</td>\n",
              "    </tr>\n",
              "    <tr>\n",
              "      <th>Wyoming</th>\n",
              "      <td>Scouts</td>\n",
              "      <td>1st</td>\n",
              "      <td>73</td>\n",
              "      <td>7</td>\n",
              "      <td>1005</td>\n",
              "      <td>435</td>\n",
              "      <td>0</td>\n",
              "      <td>3</td>\n",
              "    </tr>\n",
              "    <tr>\n",
              "      <th>Iowa</th>\n",
              "      <td>Dragoons</td>\n",
              "      <td>1st</td>\n",
              "      <td>234</td>\n",
              "      <td>7</td>\n",
              "      <td>1006</td>\n",
              "      <td>37</td>\n",
              "      <td>1</td>\n",
              "      <td>4</td>\n",
              "    </tr>\n",
              "  </tbody>\n",
              "</table>\n",
              "</div>"
            ],
            "text/plain": [
              "             regimento companhia  mortes  ...  veteranos  blindados  desertores\n",
              "origem                                    ...                                  \n",
              "California  Nighthawks       1st      52  ...          5          0          24\n",
              "Washington    Dragoons       2nd      62  ...         48          1          31\n",
              "Oregon          Scouts       1st      62  ...         48          0           2\n",
              "Wyoming         Scouts       1st      73  ...        435          0           3\n",
              "Iowa          Dragoons       1st     234  ...         37          1           4\n",
              "\n",
              "[5 rows x 8 columns]"
            ]
          },
          "metadata": {
            "tags": []
          },
          "execution_count": 51
        }
      ]
    },
    {
      "cell_type": "markdown",
      "metadata": {
        "id": "L61_H5tjKg7B"
      },
      "source": [
        "### 15. Selecionar exércitos de todos os regimentos exceto os \"Dragoons\""
      ]
    },
    {
      "cell_type": "code",
      "metadata": {
        "id": "y-yRhRvHKg7C",
        "colab": {
          "base_uri": "https://localhost:8080/"
        },
        "outputId": "a2fe6080-c4de-4dff-d578-0f0913612bfd"
      },
      "source": [
        "army[army[\"regimento\"] != \"Dragoons\"]"
      ],
      "execution_count": null,
      "outputs": [
        {
          "output_type": "execute_result",
          "data": {
            "text/html": [
              "<div>\n",
              "<style scoped>\n",
              "    .dataframe tbody tr th:only-of-type {\n",
              "        vertical-align: middle;\n",
              "    }\n",
              "\n",
              "    .dataframe tbody tr th {\n",
              "        vertical-align: top;\n",
              "    }\n",
              "\n",
              "    .dataframe thead th {\n",
              "        text-align: right;\n",
              "    }\n",
              "</style>\n",
              "<table border=\"1\" class=\"dataframe\">\n",
              "  <thead>\n",
              "    <tr style=\"text-align: right;\">\n",
              "      <th></th>\n",
              "      <th>regimento</th>\n",
              "      <th>companhia</th>\n",
              "      <th>mortes</th>\n",
              "      <th>batalhas</th>\n",
              "      <th>tamanho</th>\n",
              "      <th>veteranos</th>\n",
              "      <th>blindados</th>\n",
              "      <th>desertores</th>\n",
              "    </tr>\n",
              "    <tr>\n",
              "      <th>origem</th>\n",
              "      <th></th>\n",
              "      <th></th>\n",
              "      <th></th>\n",
              "      <th></th>\n",
              "      <th></th>\n",
              "      <th></th>\n",
              "      <th></th>\n",
              "      <th></th>\n",
              "    </tr>\n",
              "  </thead>\n",
              "  <tbody>\n",
              "    <tr>\n",
              "      <th>Arizona</th>\n",
              "      <td>Nighthawks</td>\n",
              "      <td>1st</td>\n",
              "      <td>523</td>\n",
              "      <td>5</td>\n",
              "      <td>1045</td>\n",
              "      <td>1</td>\n",
              "      <td>1</td>\n",
              "      <td>4</td>\n",
              "    </tr>\n",
              "    <tr>\n",
              "      <th>California</th>\n",
              "      <td>Nighthawks</td>\n",
              "      <td>1st</td>\n",
              "      <td>52</td>\n",
              "      <td>42</td>\n",
              "      <td>957</td>\n",
              "      <td>5</td>\n",
              "      <td>0</td>\n",
              "      <td>24</td>\n",
              "    </tr>\n",
              "    <tr>\n",
              "      <th>Texas</th>\n",
              "      <td>Nighthawks</td>\n",
              "      <td>2nd</td>\n",
              "      <td>25</td>\n",
              "      <td>2</td>\n",
              "      <td>1099</td>\n",
              "      <td>62</td>\n",
              "      <td>1</td>\n",
              "      <td>31</td>\n",
              "    </tr>\n",
              "    <tr>\n",
              "      <th>Florida</th>\n",
              "      <td>Nighthawks</td>\n",
              "      <td>2nd</td>\n",
              "      <td>616</td>\n",
              "      <td>2</td>\n",
              "      <td>1400</td>\n",
              "      <td>26</td>\n",
              "      <td>1</td>\n",
              "      <td>2</td>\n",
              "    </tr>\n",
              "    <tr>\n",
              "      <th>Oregon</th>\n",
              "      <td>Scouts</td>\n",
              "      <td>1st</td>\n",
              "      <td>62</td>\n",
              "      <td>4</td>\n",
              "      <td>973</td>\n",
              "      <td>48</td>\n",
              "      <td>0</td>\n",
              "      <td>2</td>\n",
              "    </tr>\n",
              "    <tr>\n",
              "      <th>Wyoming</th>\n",
              "      <td>Scouts</td>\n",
              "      <td>1st</td>\n",
              "      <td>73</td>\n",
              "      <td>7</td>\n",
              "      <td>1005</td>\n",
              "      <td>435</td>\n",
              "      <td>0</td>\n",
              "      <td>3</td>\n",
              "    </tr>\n",
              "    <tr>\n",
              "      <th>Louisana</th>\n",
              "      <td>Scouts</td>\n",
              "      <td>2nd</td>\n",
              "      <td>37</td>\n",
              "      <td>8</td>\n",
              "      <td>1099</td>\n",
              "      <td>63</td>\n",
              "      <td>1</td>\n",
              "      <td>2</td>\n",
              "    </tr>\n",
              "    <tr>\n",
              "      <th>Georgia</th>\n",
              "      <td>Scouts</td>\n",
              "      <td>2nd</td>\n",
              "      <td>35</td>\n",
              "      <td>9</td>\n",
              "      <td>1523</td>\n",
              "      <td>345</td>\n",
              "      <td>1</td>\n",
              "      <td>3</td>\n",
              "    </tr>\n",
              "  </tbody>\n",
              "</table>\n",
              "</div>"
            ],
            "text/plain": [
              "             regimento companhia  mortes  ...  veteranos  blindados  desertores\n",
              "origem                                    ...                                  \n",
              "Arizona     Nighthawks       1st     523  ...          1          1           4\n",
              "California  Nighthawks       1st      52  ...          5          0          24\n",
              "Texas       Nighthawks       2nd      25  ...         62          1          31\n",
              "Florida     Nighthawks       2nd     616  ...         26          1           2\n",
              "Oregon          Scouts       1st      62  ...         48          0           2\n",
              "Wyoming         Scouts       1st      73  ...        435          0           3\n",
              "Louisana        Scouts       2nd      37  ...         63          1           2\n",
              "Georgia         Scouts       2nd      35  ...        345          1           3\n",
              "\n",
              "[8 rows x 8 columns]"
            ]
          },
          "metadata": {
            "tags": []
          },
          "execution_count": 52
        }
      ]
    },
    {
      "cell_type": "markdown",
      "metadata": {
        "id": "s4w3jZA8Kg7s"
      },
      "source": [
        "### 15. Selecionar as linhas denominadas \"Texas\" e \"Arizona\""
      ]
    },
    {
      "cell_type": "code",
      "metadata": {
        "id": "HjO3WvtVKg7t",
        "colab": {
          "base_uri": "https://localhost:8080/"
        },
        "outputId": "2bd1c7e1-f8a1-4f06-ebd5-d5abad400426"
      },
      "source": [
        "#Solução 01\n",
        "\n",
        "army.loc[[\"Texas\", \"Arizona\"], :]"
      ],
      "execution_count": null,
      "outputs": [
        {
          "output_type": "execute_result",
          "data": {
            "text/html": [
              "<div>\n",
              "<style scoped>\n",
              "    .dataframe tbody tr th:only-of-type {\n",
              "        vertical-align: middle;\n",
              "    }\n",
              "\n",
              "    .dataframe tbody tr th {\n",
              "        vertical-align: top;\n",
              "    }\n",
              "\n",
              "    .dataframe thead th {\n",
              "        text-align: right;\n",
              "    }\n",
              "</style>\n",
              "<table border=\"1\" class=\"dataframe\">\n",
              "  <thead>\n",
              "    <tr style=\"text-align: right;\">\n",
              "      <th></th>\n",
              "      <th>regimento</th>\n",
              "      <th>companhia</th>\n",
              "      <th>mortes</th>\n",
              "      <th>batalhas</th>\n",
              "      <th>tamanho</th>\n",
              "      <th>veteranos</th>\n",
              "      <th>blindados</th>\n",
              "      <th>desertores</th>\n",
              "    </tr>\n",
              "    <tr>\n",
              "      <th>origem</th>\n",
              "      <th></th>\n",
              "      <th></th>\n",
              "      <th></th>\n",
              "      <th></th>\n",
              "      <th></th>\n",
              "      <th></th>\n",
              "      <th></th>\n",
              "      <th></th>\n",
              "    </tr>\n",
              "  </thead>\n",
              "  <tbody>\n",
              "    <tr>\n",
              "      <th>Texas</th>\n",
              "      <td>Nighthawks</td>\n",
              "      <td>2nd</td>\n",
              "      <td>25</td>\n",
              "      <td>2</td>\n",
              "      <td>1099</td>\n",
              "      <td>62</td>\n",
              "      <td>1</td>\n",
              "      <td>31</td>\n",
              "    </tr>\n",
              "    <tr>\n",
              "      <th>Arizona</th>\n",
              "      <td>Nighthawks</td>\n",
              "      <td>1st</td>\n",
              "      <td>523</td>\n",
              "      <td>5</td>\n",
              "      <td>1045</td>\n",
              "      <td>1</td>\n",
              "      <td>1</td>\n",
              "      <td>4</td>\n",
              "    </tr>\n",
              "  </tbody>\n",
              "</table>\n",
              "</div>"
            ],
            "text/plain": [
              "          regimento companhia  mortes  ...  veteranos  blindados  desertores\n",
              "origem                                 ...                                  \n",
              "Texas    Nighthawks       2nd      25  ...         62          1          31\n",
              "Arizona  Nighthawks       1st     523  ...          1          1           4\n",
              "\n",
              "[2 rows x 8 columns]"
            ]
          },
          "metadata": {
            "tags": []
          },
          "execution_count": 53
        }
      ]
    },
    {
      "cell_type": "code",
      "metadata": {
        "id": "PYMD-dqGUSSn",
        "colab": {
          "base_uri": "https://localhost:8080/"
        },
        "outputId": "2dba8f4a-acc5-4906-e3e1-e24ab67f9e05"
      },
      "source": [
        "#Solução 02\n",
        "army[army.index.isin([\"Texas\", \"Arizona\"])]"
      ],
      "execution_count": null,
      "outputs": [
        {
          "output_type": "execute_result",
          "data": {
            "text/html": [
              "<div>\n",
              "<style scoped>\n",
              "    .dataframe tbody tr th:only-of-type {\n",
              "        vertical-align: middle;\n",
              "    }\n",
              "\n",
              "    .dataframe tbody tr th {\n",
              "        vertical-align: top;\n",
              "    }\n",
              "\n",
              "    .dataframe thead th {\n",
              "        text-align: right;\n",
              "    }\n",
              "</style>\n",
              "<table border=\"1\" class=\"dataframe\">\n",
              "  <thead>\n",
              "    <tr style=\"text-align: right;\">\n",
              "      <th></th>\n",
              "      <th>regimento</th>\n",
              "      <th>companhia</th>\n",
              "      <th>mortes</th>\n",
              "      <th>batalhas</th>\n",
              "      <th>tamanho</th>\n",
              "      <th>veteranos</th>\n",
              "      <th>blindados</th>\n",
              "      <th>desertores</th>\n",
              "    </tr>\n",
              "    <tr>\n",
              "      <th>origem</th>\n",
              "      <th></th>\n",
              "      <th></th>\n",
              "      <th></th>\n",
              "      <th></th>\n",
              "      <th></th>\n",
              "      <th></th>\n",
              "      <th></th>\n",
              "      <th></th>\n",
              "    </tr>\n",
              "  </thead>\n",
              "  <tbody>\n",
              "    <tr>\n",
              "      <th>Arizona</th>\n",
              "      <td>Nighthawks</td>\n",
              "      <td>1st</td>\n",
              "      <td>523</td>\n",
              "      <td>5</td>\n",
              "      <td>1045</td>\n",
              "      <td>1</td>\n",
              "      <td>1</td>\n",
              "      <td>4</td>\n",
              "    </tr>\n",
              "    <tr>\n",
              "      <th>Texas</th>\n",
              "      <td>Nighthawks</td>\n",
              "      <td>2nd</td>\n",
              "      <td>25</td>\n",
              "      <td>2</td>\n",
              "      <td>1099</td>\n",
              "      <td>62</td>\n",
              "      <td>1</td>\n",
              "      <td>31</td>\n",
              "    </tr>\n",
              "  </tbody>\n",
              "</table>\n",
              "</div>"
            ],
            "text/plain": [
              "          regimento companhia  mortes  ...  veteranos  blindados  desertores\n",
              "origem                                 ...                                  \n",
              "Arizona  Nighthawks       1st     523  ...          1          1           4\n",
              "Texas    Nighthawks       2nd      25  ...         62          1          31\n",
              "\n",
              "[2 rows x 8 columns]"
            ]
          },
          "metadata": {
            "tags": []
          },
          "execution_count": 54
        }
      ]
    },
    {
      "cell_type": "markdown",
      "metadata": {
        "id": "mfUIALoCKg7x"
      },
      "source": [
        "### 16. Selecionar a 3º célula da linha denominada Arizona."
      ]
    },
    {
      "cell_type": "code",
      "metadata": {
        "id": "4dKSEeS-Kg7y",
        "colab": {
          "base_uri": "https://localhost:8080/"
        },
        "outputId": "f210f67a-6aa2-4629-8903-127b4d311396"
      },
      "source": [
        "army.loc[[\"Arizona\"]].iloc[:, 2]"
      ],
      "execution_count": null,
      "outputs": [
        {
          "output_type": "execute_result",
          "data": {
            "text/plain": [
              "origem\n",
              "Arizona    523\n",
              "Name: mortes, dtype: int64"
            ]
          },
          "metadata": {
            "tags": []
          },
          "execution_count": 55
        }
      ]
    },
    {
      "cell_type": "markdown",
      "metadata": {
        "id": "_c4UB6p9Kg72"
      },
      "source": [
        "### 17. Selecione a 3º célula da coluna \"mortes\""
      ]
    },
    {
      "cell_type": "code",
      "metadata": {
        "id": "c4li55fJKg73",
        "colab": {
          "base_uri": "https://localhost:8080/"
        },
        "outputId": "50b6a157-873d-484a-e77a-cad36c656367"
      },
      "source": [
        "army.loc[:, [\"mortes\"]].iloc[2]"
      ],
      "execution_count": null,
      "outputs": [
        {
          "output_type": "execute_result",
          "data": {
            "text/plain": [
              "mortes    25\n",
              "Name: Texas, dtype: int64"
            ]
          },
          "metadata": {
            "tags": []
          },
          "execution_count": 56
        }
      ]
    },
    {
      "cell_type": "markdown",
      "metadata": {
        "id": "YEqh5HQm-sWU"
      },
      "source": [
        "## Agrupando dados"
      ]
    },
    {
      "cell_type": "markdown",
      "metadata": {
        "id": "FbUWhEmZYNKy"
      },
      "source": [
        "\n",
        "\n",
        "![yjNkiwL.png](data:image/png;base64,iVBORw0KGgoAAAANSUhEUgAAAfQAAAFRCAIAAAANZciAAAAYDGlDQ1BpY20AAHjalXlnUFRds3WfMAGGIeecc85BkJxzBkUYYIAhM2QUCSIKKCooEsSAiIAoJqIYQMyIKIqYUURQ0QdRRCR9Pwzve+/73bp1+8eprrW7V6/uXadO7bMBhM/TEhNjUU6AuPgUpqedpaR/QKAk6QWwggDwgQho08KSEy3c3Z3hf7TvI4AAAAyr0RITY+H/Zlzh9OQwAMQdAELDk8PiAJDzAFhnWCIzBYAQCwCy6SmJKQCE3QDAy/QPCAQg1AMAb+QvvxMAeEN/+QMAwMv09rQCIIwBkNloNGYkAHUaACTTwiJTANjZAIjc8eGMeABeSQCiWVgULRxAOAQAVOPiEsIBhHcAgGLov/FE/hfO0L+cNFrkX/9XLwAAQLZmJCfG0jL/j+P43y0uNvVPDXEAYEuO8XICAH4AJCOMZuMFAIIASGkU3cH5N96QmGLp+RvvYaQ4eAMALwDyMCrV3ue3P5Ua42MBAKIAyFJMgpMnALABoILxoa5uAMANgMqGJVsF/uJE9bOivP1+xziH061tAIATAPVnJnj+iY9KTvP6g2dlRVm5/omPpjm6AwA7AFpMYwL80oBW0mPtPAFAGgBtSUxx9/5dazA+1vV3L+jbCKat52//Jz3ZxutPrZQob/tf/BhnCtPb8xcnJhrBsHX4pQHTjGLa/8HNE2PdnX/lYt7MVE8fAJAFwCLo8T6/ObHicJq106+ZYAfAFmjABDqEQjwsgyQ4gxVY/35KAh3iQRLCIAFiIQGYkhx/VgjvCPcJbwiPCGOEJ3+jrf7EAQPCIeEvHvZvuBdkwSeIBzok/6mGC+NmuAnujJvh5rgZro0b4kZ/1ganO6b/qvqlNRLooPYbsfytPu3f1Qcz8pn/LSf0b8Z/arKFt8CEyD8Rmic032su/cn/V8dEG6I10Z5oS1TCtmPnsBtYL3YL68E6QBK7jHViA9hFrOM/5kf7PRUm0CEZnCAW6JAKTKBD/P9XUerfiN8ouzK7HngCHeIhBmKB8beCL7wFJjD+gyUVJCEUEiAaGOD0t8c/k5bHtXE93BI3xc1wI5DE+XFhUMN1cUPcAl+Lm+B6uNG/7eJ/7UYNIoAGTEgDOiRDDLwDJsSl0DNSAACsEhIzmYzIqBRJi8TEWLqqpEN8mLqqpLamlg74BwRK/nq1v3oCAgAI/71/YdEbAQwkAJCr/8LoIwDdLwDIrP/C5LcCsOMAt0LCUplpvzAcAIAArMABvCAE4iADiqAG2qAPJmAONuAIbuANAbABwiAK4oAJ6bAJ8qAQSmA37INqOARHoRFOwlnogB7ohetwB4bgETyDMZiAjzAD32ERQRASQkV4ECFEApFDVBBtxBAxQ2wQZ8QTCUBCkEgkHklFNiFbkBKkDKlGjiBNyBmkC+lFbiH3kSfIa+Q9Mov8RDGUDeVFxVB5VAM1RC1QJ9QbDUIj0SQ0Cy1AS9FKtA5tQdvRXvQO+ggdQz+icxhgFIwfk8LUMEPMCnPDArEIjIltxoqxCqwOO4V1YzewYWwMm8YWcCLOg0viargJbo/74GF4Er4Z34FX4414O96PD+Ov8Rl8hUAliBJUCMYEB4I/IZKQTigkVBAaCG2Ea4RHhAnCdyKRyE9UIBoQ7YkBxGjiRuIOYi2xlXiFeJ84TpwjkUhCJBWSKcmNRCOlkApJVaQW0mXSA9IE6QeZQpYga5NtyYHkeHI+uYLcTL5EfkCeJC+ycLLIsRizuLGEs2Sy7GKpZ+lmuccywbLIysWqwGrK6s0azZrHWsl6ivUa63PWrxQKRZpiRPGgMCi5lErKacpNymvKAhs3mzKbFdt6tlS2UrbjbFfYnrB9pVKp8lRzaiA1hVpKbaJepb6k/mDnYVdnd2APZ89hr2FvZ3/A/pmDhUOOw4JjA0cWRwXHOY57HNOcLJzynFacNM7NnDWcXZyPOee4eLi0uNy44rh2cDVz3eKa4iZxy3PbcIdzF3Af5b7KPc6D8cjwWPGE8Wzhqee5xjPBS+RV4HXgjeYt4T3JO8g7w8fNp8vny5fBV8N3kW+MH+OX53fgj+XfxX+Wf4T/p4CYgIUAXaBI4JTAA4F5QRFBc0G6YLFgq+AjwZ9CkkI2QjFCe4Q6hF4I48LKwh7C6cIHha8JT4vwipiIhIkUi5wVeSqKiiqLeopuFD0qOiA6JyYuZieWKFYldlVsWpxf3Fw8Wnyv+CXx9xI8EmYSDIm9EpclPkjySVpIxkpWSvZLzkiJStlLpUodkRqUWpRWkPaRzpdulX4hwypjKBMhs1emT2ZGVkLWRXaT7AnZp3IscoZyUXL75W7IzcsryPvJb5PvkJ9SEFRwUMhSOKHwXJGquFYxSbFO8aESUclQKUapVmlIGVXWU45SrlG+p4Kq6KswVGpV7qsSVI1U41XrVB+rsalZqKWpnVB7rc6v7qyer96h/llDViNQY4/GDY0VTT3NWM16zWda3FqOWvla3Vqz2sraYdo12g91qDq2Ojk6nTpfdFV06boHdUf1ePRc9Lbp9ekt6xvoM/VP6b83kDUIMThg8NiQ19DdcIfhTSOCkaVRjlGP0YKxvnGK8Vnjf0zUTGJMmk2m1iisoa+pXzNuKm1KMz1iOmYmaRZidthsbK3UWtraurVvzGXMw80bzCctlCyiLVosPltqWjIt2yznrYytsq2uWGPWdtbF1oM23DY+NtU2L22lbSNtT9jO2OnZbbS7Yk+wd7LfY//YQcwhzKHJYcbRwDHbsd+JzcnLqdrpjbOyM9O52wV1cXQpd3nuKuca79rhBm4ObuVuL9wV3JPcL3gQPdw9ajzeeWp5bvK84cXjFezV7PXd29J7l/czH0WfVJ8+Xw7f9b5NvvN+1n5lfmP+Gv7Z/ncChAMYAZ2BpEDfwIbAuXU26/atm1ivt75w/UiQQlBG0K0NwhtiN1wM5gimBZ8LIYT4hTSHLNHcaHW0uVCH0AOhM2FWYfvDPoabh+8Nf083pZfRJyNMI8oipiJNI8sj30etjaqImmZYMaoZX6Ltow9Fz8e4xRyPWY31i22NI8eFxHXFc8fHxPcniCdkJNxPVEksTBxLMk7alzTDdGI2JCPJQcmdKbwpiSkDqYqpW1Nfp5ml1aT9SPdNP5fBlRGfMZCpnFmUOZllm3VsI74xbGPfJqlNeZteZ1tkH9mMbA7d3Jcjk1OQM5Frl9uYx5oXk3c3XzO/LP/bFr8t3QViBbkF41vttp4oZC9kFj7eZrLt0HZ8O2P7YJFOUVXRSnF48e0SzZKKkqUdYTtu79TaWblztTSidHCX/q6Du4m743eP7Fm7p7GMqyyrbLzcpbx9r+Te4r3f9gXvu1WhW3FoP+v+1P1jlc6VnVWyVburlqqjqh/VWNa0HhA9UHRgvja89sFB84OnDokdKjn08zDj8OgRuyPtdfJ1FUeJR9OOvqv3rb9xzPBYU4NwQ0nD8vH442ONno39TQZNTc2izbtOoCdST7xvWd8ydNL6ZOcptVNHWvlbS07D6dTTH86EnBk563S275zhuVPn5c4faONpK25H2jPbZzqiOsY6Azrvdzl29XWbdLddUL9wvEeqp+Yi38Vdl1gvFVxavZx1ee5K4pXp3sje8b7gvmdX/a8+7PfoH7zmdO3mddvrV29Y3Lh80/Rmzy3jW123DW933NG/0z6gN9B2V+9u26D+YPs9g3udQ0ZD3ffX3L/0YO2D3mHr4esPHR7eeeT66P6Iz8jo4/WPx0bDR6eexD758jTt6eKz3OeE58UvOF9UvBR9WfdK6VXrmP7YxdfWrwfeeL15Nh42/vFt8tuliYJ31HcVkxKTTVPaUz3vbd8PfVj3YeJj4sfF6cJPXJ8OfFb8fP4f838GZvxnJr4wv6zO7vgq9PX4N91vfXPucy+/x31fnC/+IfSjccFw4cZPv5+Ti+lLpKXKZaXl7hWnleercauriTQmDQAAMABAIyIAZo8DUAMAeIYAWNl/nY1+G4YAoACAARUkYQ2EQjkMItyIP9KIomgcOo7RsVm8hKBJGCPWkqLJ1izyrOwUlA2jcrGrcDhwMrmOcL/gFecL5T8riAuFCF8RlRArEv8iGSR1R8ZY9pg8r0Ku4qSyq0qrGrt6mMY5zUVtE51k3UN6/fqvDRaM2IyFTZTXGJpam7muDTSPskizLLSqsG606ba9bffUfsph3gl35nQRdVVw03I39rD0dPBy9fb08fH18/P3DwgIDAxcF7g+MChwg3+wb4gnzSXUNswsXI+uHCERyRNFilpkfI5+HfMw9kZcV/yJhNrEnUmZTFqyRYpQyufU3rT96QkZjpkymctZjze2btqeHbLZIIc9ZyL3Ql5ZftQW0wKegqmtlwrLt0VtX1PEX7Rcgu8w23lyl+Hus3uWyyX2quxTr9Dcr1WpU6VbrVejd0C/1vig7SH64cojo0f56i2OBTXEH89qLGza01xz4lhL68muU1dbH5z+dFbqXOL5oXaljtjOyq727nsXJntWLvFf1rri21vWN9Vvf63m+t0br2/O3CbekRuwuxs+mHwvdsjnvsED8WHW4YWH44/ujlx+3D3a8+Ty095nl563vtjzMvaV5ZjQ2OzroTdd441vayZ2v9s6mTkV9z7kg8tHnWnu6Y+frn+u/6dwJvqL66zuV+lvSnNB3y/90FzY+/PVktCy/0r96ioAoEABEdAGT8iCFniHKCAJyBVUBM1HZ7FE7Ae+nSBFuEZMIamTvpL7WGpZsynhbP5UL3Z/jlDOVK4S7kaeId4f/AoCQYLlQvdEqKLOYjvEByWpUh7Se2SG5CjyNgppig1K95W/qXKqKarrahhpGmnpaCvpiOty6iF63/QnDB4b3jTqMm4yqV5TYrrRLHrtOnNXC0tLAyt1a1kbYVtOO6Ldov2Mw4TjqNOA8yWX0651buXuBR7JnjQvd28zHxVfQT+C3xf/5wE3A8+tO7S+KCh5Q1CwTYgqjYf2I/RFWG94PX17REykS5QGg4vxNfpRTHtsZVxmvH+CfiJ34vuky8zy5PAUvVRC6kjasfTUDJtM3szxrLMbcze5Zotmf9jcnbMzNzrPM996i2mB8Vb9Qs1tKtvliiSKhUq4d1B24juXS7/v+rJ7ds9COWmv4D7FCoP91pXuVeuqI2uYB7Jrtx0sO3Tg8PEjnXUPji4cU2pYf7yksa3pafNKi9RJm1NRrTtPd5z5fE7v/Na2+x3UTtMuRnfVhTs9q5f0Lsdeqe99fpWr3/wa43rJjeabN2+9v0Md0LkbOJh/r2Xo8QPisO7D4EcFI/WP+0ffPWV9pvHc+0Xmy4OvbozNv9EaZ749NzE7qToV+f7oh1fTIp/8Px/4Z+ZL2le1Oe551gX058elCyuM3/vPCgKgCvYQA/vhNkJE7JA9yDhqih7BqNhWnISXEeQJV4jhJG7SLfJ2FldWCdYFykO2Tuox9iqOMs5dXGXc1TzHeNv5bvK/FFgQ4hZWE7EVpYltEt8vcUqyT+qh9ITMJ9lZuRn5KYVRxT6lY8pbVAJVNdQQtQfq9Rrpmo5aklrz2oM6Dbqb9Xz0VQ1Qg1HDk0b5xr4myibLa4ZMj5qlr3U0lzCfsxiwPGa12drXRt2WYPvc7rx9sUOIo74TxWnMuc2lyDXITcud4P7Eo8Uz18vLW877u89N32q/GH+TAErAs8AT67LW2wfxB73dcCY4J8SJJkAbDz0VlhVuS+eiP4toiEyKMmHgjMHo/TEhsUqxX+I643MTbBNZEgeSdjAdk8nJ11LyU81SF9M60pMz1DPeZ9ZnBW8U3vhwU2m2/WZ086Wczbn2eWJ5i/ljW24WnNlaU1iwLW67b5FZsXwJtWRux/OdV0ubd+3dnbcnvYxZnrg3aV9SRdL+pMrEqvhqRk3IAa9ax4POh4IOZx6prbt29PMxvgaD486Nnk0ezetObGw5f3Kx1e50+ZlX51TOp7X1dlA6vboqu5/1SF2MvXTxCk9vdN/VfpFrKdcHb8rfyr79cED5bv7g+JDv/ZHhsIdzI9tHhZ+cfGb+fORl7pjLG6+3u9/Nv987fe2L9/yT1VWAX//IAACI+gDHbAF89wJ4GQEcKwWQawSgrgFwpwJ4GwEqVAXIxURA1iv+/X6IgwWEwhaoh2vwDiEiCogDEoPsRFqR+8g3VAA1QYPRLWgjOoh+xYQxCywK2411Ym9wCq6P0/CdeBc+SeAj2BBSCQ2EUSIb0YKYTjxFnCJJk4JJB0kvydLkKPJp8jKLM8thlu+s7qwnKVRKPOUBmyHbESqFmkYdZ/dg7+XQ5qjnFOLczcXCtZUb5c7nIfAU8XLyVvHJ8Z3jt+YfFUgQJAvWC1kJvRXeJqIm8kg0R0xV7Ll4qYS1xLJkt1SWtJkMQeae7AG5GHlTBW6FD4r9SnXK+Sp0VWc1I3V1DQ1NMy0f7VidLbrVem36wwbfjcSM7UzS1jSZvlorZO5nUWX5ylrRJtX2ur2wQ6TjPqf9zmku5i6rrr1uO9yjPRieBV6nvd/6Cvt5+ZcGDKyjrvcIqtgwGsJB0wm1C/MJD6fnRJyInGJoRefFDMcpxucmPE0yYFYk/0j1S2tJ/5QpkKW50XJTQHbO5q5clryo/LsF+lvrtnFs31w0WWKxo2BnW+nYbvY9rmWn9+ruu7bftfJutX3N9VqPgz8O36y7VH+2YX9jVjOjZd0pi9N8Z16fO9mW07GhK/DCposdlxf6jPrjrhffrLpdP9A6eGno/oPJR+THpk92Pvv2MnCsbZwyQZvs/kCeVvgM/9R+EZ+t/CY61z4ft6D3c2mpfSV4dRUAZMEJkqACeuANQkbUEW8kC6lDbiFfUCHUEo1B96FX0I8YP2aFJWK12AC2iKvg6/FSvBefIygTaIRKwn0ihWhH3ErsJxFJjqRdpFGyLDmZfI1FlCWdZYTViPUwhZWSTplk82e7S7Wi9rAbsrdz6HN0ca7lvM7lxvWEm849y5PPy8vbyLeW7wl/qgCvQLtgoBAq1CIcIMIi0iOaLKYqNiV+XIIhqS75XapXepdMsKyOHKvcW/k+hXrFIqVk5RAVD1UbtTXqBhp6mvpaxtqWOi666/Ti9QsNGgzvGa2Y6K5JMD1lNmtuZFFgOWytYJNj+8zexKHWcdnZ3aXc9bbbkoe6Z7jXQe+nvsJ+6/2PBHxYp7d+S9BwsFxIMq0ndCXclJ4d0RvFwvCNPhYzH+ccfzRhKSmA2ZkilLop7WmGZubGrIsbf2Ybb87LGcyTzs/cMrxVs7B02+ci1+LmksWd5qWbdrXtniuzLq/bx1LB3D9aZVZ99AC5NuHgyGHTIw1HeeuLGojHS5vEm8+3uJwcb804Qzl76Lxu2+2OkM657u09ohfbLvv1on1t/YzrojcGb+Xe0R34MHh0aN0DruHLj8Iew2jNU6NnL15se6U99urNjrcmE9OTB9+7fpib3v5p4R+Hma1fzswOfp36tvpdcF7nh/fCpp/Nix+WDVf2ra4CgBJ4Qw40wTCsIEqIN5KLtCCjKBHVRUPRPWgvOovJYL5YEXYR+4or4SF4FT5M4CA4E0oId4hUoiexiviGpEbKJt0jy5PzyK9Z7FjOssqy1lD4KfvY+NmqqRLUBnZN9h4OZ45XnKlcHFwt3C7cX3iqeK15Z/mO8vsKUAR6BbOE9IW+C3eJ5Ig6iAmITYlflNgnyZTykNaVEZbFZWflxuWfKDxQvKc0pPxI5aXqR7UlDW5NVS1H7Vidct1Lep8MJA39jMqMH6zhMw0ya167aOFu2WzNYhNn+9je0eG6k7PzqCvDHTxqvNZ4v/Et9V8bMLfuTBAzWD9kNrQmXIV+MlI5qiFaPqYpTiO+K9EuaTQ5LpWYVpdhkflqY0Y2cXNpLm9e1RbpgpOFJtvuFoWVIDtOlK7fTdxTUy6+d18FaX965WR1YM1wrf/Bb4eb6uj1pGPFDd8b/ZvaTvC2pJwcaTU6ffAs4Vz8+Sftdh1dXZrdzT2yF2sus1/J7v1w1a+//7r2jSO3uG8X3Jm/Gzv4dijo/pNhv4ePR7wf33qi/bTs2ccXZi9LX714rfZm8/jQhMy7jMm772U+pH28Mr3yWesfx5mALwGzrl/XfJOZI829+d49n/vD9MfMQt5P7p+HF1kWkxafLFkuVS1NLRssb11+uCKzwlg5uTKzqruasXphdRUgOUJHGwAAEDZLAMLL1dWv8gCkMoDlPauri3Wrq8tHAbDnAFdif927AAAQOQEOXAMAuJ41nvvf7z/+HxjauBDU+1d7AACAAElEQVR42uydd2AUxRfH38zs1dRLIyEk9CrSQWmCNBuKYEOkqFgQCyqKKBYU7CiC+gO7ooCoCKigKL333ns66e367cz7/TEhBkQJ5G5T2M8/4u1d3u7s7tu3b958H0FE0NHR0dGpWdDK3gEdHR0dHf+jO3cdHR2dGoju3HV0dHRqILpz19HR0amBKJW9AzoAAIh4mcxsE0IIIZW9Fzo6NR9ymfgUHR0dncsKPXKvZBCREJKbm5uZmanxg5YQTR/t0lxkZGRsbKyWh6mjc3miO/dKhnOuKMqcOXOefPJJq9XKOdfMtKqqjDFKqTYuXlEUh8Px+OOPf/DBB0IISvX5Hh2dAKI79yqB2+02m81XX321z+fTwBwhxOfzbd++vUWLFmFhYZzzQOfBEdFsNm/dutXr9WpwgDo6OrpzrxIgImPMYDBoE0SXJmQURTEYDBpMciKioiiMMQ2OTkdHB3TnXnXAM5T/J4RS+TNKqRDiYs1dklFCKRFClPlHoI5OR0enIuh5z+oKAXTZi90+TgCLi4q5wIAXGBIiVK/D4URCEX0Ou0N31To6VRbduVdLCKALlc43DGifEOoS5ltuGxAVavJxEUD/TojwekLrNOh9bTeDz2EMju9zfQ8Dct2/6+hUTXTnXi0hlHKXI6Zxp5cmTnxk7IT7b+jqKXKQwGa0CUHVpUSNffHFhpGG5tfd/eigfj63ixD9EtLRqYroOfdqiRAQGmScO+XlRp8tHNrfdP8NN+b4lBAL8ItLvF8MKBRLUN7+jUt3pV7f52Z6ZcJvi74s8tEIAnr0rqNTBdHDrmoJocTj9sS3vKpZlJqfr/bp11dwD0Jgs+4CidnAly5Y1Pn+R1uFuVeu32UJCbrYiVwdHR1t0J179QS5lwSNfuLJnHXfPPzctJsefKxHgxinxxfQikYUGBRk2rT8z5M5auaxzUeyPRaF6FG7jk7VRE/LVEuEAKuZfPb6E0UFBS4fDBmym/ncRiXQa03Ro7J+Nw6qrxS/vXgNNZlQVD/ffvmUY+oCbZc5unOvEkiPU/7FRIQQQJGfV6AohmALOIsLCGUKY+X0XKWGSBnK8SP0+pS2nZou++W7rYdPhwQFoRDl9yBVxNdUkd3Q0Qk0unOvEiiKAgA+n09V1fL/ihCiqj75D8G5KLcuDSFEVVVCCOdcVVX57/L8kDH141efF4QGBwf7LkZIABF9Pp9USdNsVM+7Gx6Pp3QQKnFPAn2YUu+hBh+jzgXRnXslI2PtoqIiu92+bNkyLU1TSrdv367x8WZlZUFlOFb5XCksLBw6dOixY8cIuYjltdULObbR0dGzZ89OTEzUNdouW3TnXsnIWxERe/To8eqrr4qLSXRcGtLNOZ3OBx988LXXXmvYsKEGAbUQgjE2Y8YMg8FQug8BtXhevF7vyZMnx40b16xZsxrp9eTAZmVljRs3zuFwVPbu6FQmunOvKsTHx/fo0UMzc4hosVh69uzZsGFDzYwuW7YsNTVVM3PnhRDStWvXpk2bVu5uBJSCggLNROh0qiy6c68qeL1ezrkG4aQM7oqKioQQhYWF2hjlnDPG3G53VfA4xcXF2hy19pSe3KowzjqVi+7cqwqEEMYYIUQb5y7Vdxlj2hiVtqrI/B6lVLOj1hh5cmvecelcAvpFoKOjo1MD0Z27jo6OTg1Ed+46Ojo6NRDduevo6OjUQPQJVZ3yck6rPEIIobRKzJDq6Oj8A92565QLwTn9R7kLci4opVWjBkZHR6csunPXuTBCIGUMfI5dO3efSsnwcAy22eo3atqifh0CIBB1/66jU9XQnbvOBZCLfXYs+vyZN6ev3Lz37w3B0f1vGTblvdeaxgZVuiKYjo7OOejOXee/kJ59y7cf3DD8qTwAYKbuvfvUjzCtXrk8KTP7tznv79yzYdXKlY0iTXr8rqNTpdCrZaoliELlXJzplYGIgnPu9w6qKAilvoITY54Zn0dIaN0W81ZtXrP0t2/mzt+/b/eEhwYQAmn7Nj3/7udACIjyCg7r6OhogO7cqx9CCEKowlhprQohhDLGGPVvayQhBAHYsmDWpiwPIBk3/Zs7u7XmnHPBg6LqTp45686rGhFK/1z6Z5YXKGPVsC+Tjk6NRU/LVDNQCEppQeqReT8u3LZz97GTSQ6vCI+Obta8Zdd+t97VtyMi+ksuXSClALs27GcKC29xw4PXdxCCE0IpJarXRw2hd/btNW/TseKk/Kw8NSZWAUAIcJNuHR2dcqI79+qE4IIyevDHL+949On92YVlN/21+JcPp0zZ+vYXU8YNFUIQ/0lHuT0+rvLoerXDjUgREEr68wGAz8sBABTKmO7TdXSqFhdw7kKIy0Q7VKokVmVQCEKpO+3AyEcf25/tiohLHDx49M03tVMQD61ZMXXm9BPZrvffmDR0+B1tYv0zvckYBYDhE6d0feS5kOhYAxAASgigEIIyA7gWrt5EKI1tUivOxgAE0bN8OjpVhgs4d107tOogEBmFjSt+3ZjtAkPQtHl/Du1e0nGiT59+V7ewXXfP8/nOgt1HM9rE1hMCaYWjafl0iG7QKLpBo9KPBOdImYHC/HefX7BpPwLc2u+2cAWEilR/D9TRqTJc4HZcvXq10+kkhGgWvxNCNO5vKfWvu3XrZrVaNTN6aXsKAJyFtm7VIapux+u7NFU5V868cDS5sl0IxTwfQX8XraAQQqqEE8IFZ0wB7vnq9cfHTP7MAxDWccBzz9yOKKDKv/ro6FxW/JdzR8SRI0ceP37cYrFwzrXp7enz+YQQJpNJm3UxhBDZlOfAgQNNmjSpyt15ZJKkz5BHdg15pPSz/Lzc4qLCEwe2vvXm60kqAOF+fwgTShkACo6EMqac3L3qhbHjvl++FQBqX91//vxZdYOoQNBVZnR0qhQXcO6qqrZr1y4mJsbn82ng3A0Gw7Fjx4qLi9u2bauBRQCglLrd7p07d1aPqQVEIAR48eIFP/+1atORQ3tXr93i9PrkRgIQoKMQQlDKgBd//d5LYyd9nGdXAcx3PDJu2jsvxwUzIVAXENPRqWpcIC0jo1qJBs5dnI02K9qlLQ0MVRAUAgh1nNp735Dbftp4FAAATK06dGzSqG5igyaxpoJ3Jk/L8fnfy6LglLLMg6vuffCpP9bvAoBm3a6b/NKLt/XrBoC6Z9fRqZoEYgqMUEqkJyIEhSYrWwilUpGWUlpWlrYmIYAwor4z7sGfNh4Fc8hzb0wdPeyOuIhQg0wjJa396s1pOf5+20EhgLKsA0tv7HfLjjQvC40b8+xbr7wwPJQCcg6UVdUklo7O5Y7fnTsB4Su2u83BIeh2ejgEB1kC7WoJQZfdTk0ms6K4HHZQTGajUtP8OwpKqShO/m37cUrpDY9OeOupkXKD1+0hzJCecjrHCwAguP+qVxGREHBlPjjkvh1p3tCYhK9//GXgNW2EqnpUoTBWIjlAiO7jdXSqGv69JwlwD0Q1GHH/8EjuTGhzzd0D+/i8HghkdoUQ9Lhp3wED29WtVeT0du13y1XNa7k8vhomYlWy9LOomHMvChERHVc6AEaz2WBQP/xoRrYAIGCwWvwVvXMhKCErvpr+y+4MQ1T9H1ZuHnhNGwCgimIyGlkpumfX0al6+DlyJ4w5C/Ja9bi1Q4N61sbtDv38kccnjCYiAhZHU8o8bnu9zrfc3TZ641u/PvH0418+c59as6J2ACBABAKNjg9TzEAd338wqXP9uFuuaWumavK+HZ9++OrMhVsYJQjulKMHC1uGB1tNFTWJCJQBuL5duJgpLKZZK5Fzcslv24AZCJwZX0IA0RIZ361TK0XXHtDRqUr417kjUKPRmf7csy8v/fWLvLWz3/piYVh8HeRq4A5AIJhNYtG8Od2fGHTnzcbCA2tX7D0ZHGQTWA3mSC8CQpALMEY9++i9a59+x3f62Oi7+r0YU9tKfKmZ2QDQtmnXpGPr83jRSyNvSEr9YObzjyBXCbv084uAjBA18+S+bbu5CmnrFt3YY9F5vxnS/ta0bQtCQCCymvW+5B90sXudSsHfkTsIN7cMvOt2R/opU72u/bq3XbE/OdhkDFwGHAWaLdbT+7bvz7xrzBODPps83iUMoRR4jROgZYwg4s1PTZ4fZHvroy8zcouKiouKDebmHbrfPXz0kw/f8eUrD7z5+a9eARaTAhUX8UIAAp5id3REo8bRlMpZ67OhTBFcbdCuuaGyB6cKIgSXHawIAArBhSBUn4DW0Q5/OndCqM9tj2vW7e7erV5/+oHI68aOfGDozjGvusDEIHDzm4jMxAtP/rRmxw3tbWs3bTcGBQm/K5tXCQghgGgY9ND4QQ89m5uZ7fD4LEGh0ZFhcvOYN7+6+/EUDxjj42oBAK1A2A5nXHlQo3Z/HDtavl/oYfvfcERW1pMTolAKAIicEH0pr44W+NO5IwpqsDhO7x05bJjbJ+DLSestFjRbiX9Vxs+BEK/bWaddv4fu7rf51x9P5fmCwyza1F9WCoQg54IxFlkrNrLks5I+1QAkpnaC3y1e+K1LTzqcjRDAKDmw7s9vf1h0MiPD6RHW4NBadevfctew3m0aAQogevyuE3AurAoppVcopeW8hYXPh4RaTAoAqqpPLl4vD7JKXVopv0VCiIoYHlu7+NDauT8sMQUFE3IRemfSUAAH2P8QKWApy/mlFE+ppKWs8PdvpZDuui8CRIFIqZj2wuMvvT2z+OwXyOlTPnz42YkfvfEEFYKQGlbPpVPl+C/nTgixWq1er9fpdKqqqsEKVZ/PJ0VsLsoiAXJg2ffP/uoLDgk1KMTpuwijhBCv18sYq3Z18dKtn+fDyt6xyxkhBGVsw3dTnnxzJgA0atflgWEPdGpVZ+eGP7/69Mt9KXmfvDmmafvOT93WkXMhxYJ0dALEBbRlAODAgQOKot2aIBlHb9iw4eJ+RgijVHAuLnIWUQpeKopit9u1OUAd/4KITqfTYrFUgTcwBMrAk/vmux8TAvU79v3j918bRpgA4NpefYcO6t/nmpv25zs/mznrsds6Gkg1CyZ0qh0XiNydTuePP/7YokULDeQSOeeMsU8++eTQoUNTp07VwKJMaxQXF99+++1mszmgtnQCgTyDLpcrPT09Ojo6LCxMvrpUSvUhCkEpyzu2af+pDKaEjnnp3YYRJo/HazAwnypiWvR44K5eY/73W0HKpnQP1DXpUpo6geXCwmEtWrRo3ry5ZjsUFxeXkZGhpUWv16soip7PqEQq8l6IiDabLS8vLzU1NS8vLyIiIjQ0lJaUpmjq4uVEafqBUyeLfGCNbdO6qUCkigJn3iatJvmmKPRLTUcDLuDcZfAudRO1idy9Xq+qqtpYlDe/w+GoCgl3KbCs2VGrqgoAnHNtjHLOpernebdW0AUzxmrVqpWWluZ2u9PS0vLy8mw2W1hYmMaJGsIoANTrdsufvzfkluDWMUZKiOyHZTRS7+mDny7agChqNb6mtqkkzNdy93QuNy5cCllaT6KB05EVMrI+RxuLpbYqFyGE2WxWFO361EVERBBCoqKitDEqrQQHB2dlZZ2zqbi42OFwVPAsyOeTvITcbnd6erqM4sPDwzUL3qWh4LiEvnGlBaki+3ROsas4af+WiS+8uPVErrl2k1defVxB5KCXu+sEFr3rpXb8R5YgMjJy0aJFY8eO1UY3HwB8Pp+qqi+//HJERIQG6Qvpdjds2HDVVVeds6m4uDgnJ6fij9jSClH5wPZ4PGlpaTk5OXFxccHBwZqlaOQLCqJgioE404dd23rpobySPSRxr73z3cD2DbjKmaL7dp3Aojv3gFPqVmRljsPhUFU1PDxcbpWbGGOEELvd7vF4NNgl2c5QUZTi4mJFUWSKJtCDYLFYhBD/fFFgjBkMhoo797I5HyEEIprN5rCwMJPJBBpW68tlB4iUAABCUJC5XmJjpz07K6+AY9bU5++Pjf1iWO9O2jc5cTgcHo8nIiJCS6M6lYju3ANFWZ8OAE6n02632+12p9NZq1at0i/IODo3N7dNmzaffPKJlnvYrFmzKVOm1K9fXzOLEydOTEpKOufDyMhIm812yX9TDqOM0/EMJpPJZrOFh4czzdt2C84FIiGUMQJBdWavPUYI9bmLli74buwTzyel7Ltv0B31tu3s3jhCS/+elZWVnZ1NCAkKCpJPO50aj+7cA4X06W632263FxcXu91uuT5LUZSwsDA4O5aUxdqyqaE2Mw1FRUVut7ugoEAbo3K23G63/3NO1S9J/9zcXLnqTbp1m81WKQUzAEDPXptktlgAwGSOvu2+p2qHsOuGP11clPzl/EXdx98HyDW4AWX0YDQaZSSRl5cXFxenC1VeDtQE5y7fwUv/t9LnSBHR7XY7HA673e52u1VVlRPFiqJwzs1ms9Fo/OevKKUyOaONc2eMyalybYwCgLToX59SWueel5dnNpv/6dY1LYVEIAR2Lv91b1p+VMP2N3ZpAXBG+R5RRex8+4hrJk1dsjdp/6E0BNAmbJcjEBYWlpeX53K5ioqKIiMjz3sF6tQwqrdzR0Qh8J/LuDnnlFaaSKGqqgUFBUVFRVLYoOz6XkQMDg4GXePbT8hotLi4OCYmJiIiouycqvbDKxAYge/efOT95Wn1ez52YuWHgqsl2pwECAcAc4QlCBFcxU4EIFr1NpEDYrPZXC6XvDhjYmI0Hhwd7anOzr0kAiXJR/fu2LUvIzsfmCGmdu0r2nRqlhANZyIp7TEYDHFxcTExMW63Ozc31263ly6bZIxJ5657dj8SFRVVWdH6WaAAoA07XqOs+Snv2OrtGb72cQaP12dgVOXcaDTa0/atS0khBJu0iKMAQqA2le5lg3eZi4uIiNCy7lanUqiuJ7hEEdGZ89Zzo6d992tmgbt0U3BsvWEjnpgy+UkrQ8TK0d6TftxgMPh8PhldEkKEEBaLRdc58C/Sm1eyW5d7AggA1/a+wfDW3MK0fY8+/twvX02JCTEAgJGx4pxTjw1+8FR6EYLpxk49AQA17EooS1HDw8NPnz7t8/kKCgqioqIqcax0NCAgzv3vDHiA7jZERKBq/pgbr5++ejsAxDe+4pabrndlHP79z5WZp0/NePvp5LycBZ+8riBHwrS/4wkhbrc7JSXF6/USQsxms9frRcSQkBDQczIBoCqMJ2VUCGze6/ZHb/tgyvwdm+dP7X50+9CRw9omhm/atOGXBT/tPZICAF3uG3tP/yuFEFRDVUg5PuHh4Xl5eV6vt6CgwGazaV9KpKMlfnbunHMp0Pgfn1QcwQVV2NrvZk5fvR2o0uu+sd998HpcMAOAjGM77xt6959bjy7+7IPvhw8f1q1ppWirer3e1NRUn88HAOHh4dHR0SdPnqSUBgUFQdXwRDoBgBCCAixvff4ztz76yZzfj+xZ8/KYNaWbjdbQQfc+/s57k83AkVSCaBhjLCwsLDs72+PxFBUVVaQCVafq40fnjohnukag8HpVIMRgNJTMcQk/XsyIjAF65n47m1Aa3aLz1/97K86IKucEMa5R23lffHBl+wFpXudPv20c1q1pABv8/Qterzc5OVkuRwoLC4uLi5PK+C6Xy2KxaLwzAUKWk0PgJSKqFzJDBOF135/1230PLvtt+Zq00xl2Nw8KCY2JT+x988BuV9QHQIRKeJuUhIeHFxQU+Hy+/Px8LbUZdLTHX84dBRBKYNXC2Qv/XLV37/7U09nIzLXr1rmiRauBw0f1aVvfb7kIeWc4sg7vSgIhrr/9oQQjqipXFAUQuRBhzbtd2zRy1p7ThccyAUBj3+Pz+ZKTk71eLwCEhobGx8eXSI4EB8uiQ213J1BUeoK76kIIoBBIruze58rufc7ZKCq7B5PRaAwNDc3NzXW73cXFxaGhoZU7WjqBwx/OHVEgUNX+xh2DXvzlr7Jx8tHD+1b/+ceML77+ecmGW7s29O9iGZUjAtRvkoBISstiCAEQXnuRDwhQswEA8CLbd1Rol1RVenZELOvZASAkJKRmhO3ybIvcU6+8+k4mCXru1cmNbSZdmvwsCKXkzFJVWc1e0n6vSvR0tNlscvFaXl5eSEiI/pCuqfjhUuNcUEpWfPGO9Oydew3+5oc/duzasWndyjceujPcAlic9ca0GZyUlBNUFHktWuPmbtt95MiRJ2/uRAgojAEAV1VKaMr65Ssy8gCxSYeGAKCZeLb07B6PR06cxsfHl72TGWM1Ytk3CiEoEW8/N/KNj2Z88b+PTtulGE7layZXNShjiqKULhVTFKUqeHYAMJlMcmLf6XQ6HI7K3h2dQFHxyB2RMgD18x8XIUDDawb+tXxu0JltV3XtqThynpuz8sjJ1AIOkYz6rfacKLUbNCy7F6qqKgaDL//Eo0+OL/AIamlwb/9rAJBq0mleena32w0AwcHBderU0eBOLk18g1Z5Es4FY8rqL9+Z+PUKg6LQ0DCDHrFXQyIiIoqKioQQeXl5cuGFTs2jwg4IgVIA8DZv37N79+sfGvqgVXAh/o7joupEIyJw6vfYDoWQwgNCcCREMRjSd664o1+PX3eeAKAjp7x3dSMbF0KDRd6c85SUFOnZrVZrQkJCoD274JwLIWUDJIQQVeUB7TqCghPKCpN3PDF2girAp6qqyvWIvTpisVikT3c4HE6ns7J3RycgVDhyJzIwtr707rSXznxmL8xPTUu3F+asWfbzGzN+g7PlWP2FzGaqnCuMoc/57cx3XnplSlK+A5hx+Ouffzz6Vs4FDXwlL+c8OTnZ6XTKkhjp2QNayS4Q5HE5CgvyC4t8HE0WS1RMjFFhEMA5BhRIGC0eP3zkngK4567h63+YlaThfIaOf4mIiCguLpbBu9Vqrezd0fE//qmWkb4sad/6z779Ye+e/Xv37T2ZmnXOFwKw8ygEKIwd3/L72HETFq3eCQAxzbtP/eDdIf2uAsGRBbzgTMbs0rNbLJaEhARZ+hkwz45CAKVk469zPvxy7v5Dh04kpbp9GBYT07BBw/a9B73+4mibInNfft4BzjljysJpEz9dvavV9ePfmnh793mztJYk1/EfQUFBVqu1VN5OXzhd8/CDc5c1MKv+9/Jdz0zKcgEA1E5seec91ycmJl7RvOG+ZbPfm7UsAIvxkAtglPzwwdOjJkzPd3Jqihj2xNOvPT820WbmnNPAe3YhRGpq6j89ewAtcqSMLprw6OA3/if1FoJDQ4OMmJuekpuesmXdqqNHMhbPecOAwr8vDkJwypSs3YsfHz9dRDf+/MvxEXnb9Jf56k5ERIQUms7Pz4+Li6vs3dHxMxV17igEpbTo1OaRYydluaFxh2s+/XTmNa2blYZ0y7LWvQfg79d3FAIZJd+8fM+9k+YAQLteA9+Z/Fbvzk3gjHR4oAdOenYpCmY2mxMSEgKtxIRCUEZz9q1+Yur/3Exp06XPc2PG9+p5BUU8uW3TxJce/2NHyrJFs9YfG39to1AukPkpqkZERErt2fc++HiqWx0/9X8d48LSk93VVZZI5wwhISFms1nXAa6pVPQOFSgY0EM7NpxwE2oKnvTpnJ5t4znnXBVeL7dYzXuPZgEAARRC+EspiXPBGNu9+LNRk+YAwPXDH/v20w+jTOD1eAhjBED2jaOUBShtID17cXGx7A6hgWcHAIHIADas/SvZBWAM+2jOgq51zIgAKKKuv/nrMHfb7nemu30nU3KubRSK6LfcOxdCYezzCU/8vvVk29ufeWVUH0RkBt23V3sIIREREWlpaboOcI2koreo9B+uYgcwIgBAMUBJq2JmUQwpO5bOXLAKAEBRgoyU+KccGgll4CueMulNN9CrBj/2+zfT5AajJoXkiJiWllbq2RMTEw0GgwZ25dR1QrMujz06xhbbqk0dM8iif0IBIKvY6UNAAcyvpZ+Cc4WxQ79/88SM74PjWn32/mtmwYFW2up5Hf8SGhqak5Pj8XgKCwt1HeAaRsXPJQGAhIZNDVwIcD3/yH2miRPaNUt0ZKRvXPXL5DfePlmgMsa82Se37j7Srmn9YJOhgiElCkEpyzm8fsnOJIXRmJjI+T98X+R0K2VSMYSAENj0qt5XNY33b+GK9OxFRUWEEKPRmJCQoI1nhzONe9pee+OH194oP8lOT9qz71B2dtaxfZtmfDYrSwAA92NZEgpBGPNkH3nwkUddPsMrUz5un2B2uz0GA6BAOaZCCM45Vu6aep1LQuoA22y206dPS6nIqKgoXbK0xlBR504pFQIbdLruoVuu/viXTSfXLxnYd0lIWJizsJADgLn+gE7xi7ascyWt79nmyvk7Dw9qU48LURGRSCGQUdi/dk2eVwCIX6e/8uv0839z6Dvzr3p2kCqEwU8peOnZCwsLCSEGgyEhIUHjNKW88ZIPrPvfzK//WLHh1MnjhU5vyTYCDID71ZoAwlTn6089si7Jcd3INyYO6QYAsqzCZDb5AACINShYV46tppRt4qHrANc8/FDnTgDRGPr+7F8avPv6nF9XFxUXudy++MT6bbr0Gf3EU92bGob0H7jxYKrBEhITaoYKZ4IJUABQaNTVna8mjBEE9o+6ckqIQOzaLF7+21+DlZ6eXurZExMTNZYTkJpTJ1bOu37gkKOFAoBc0a7HsJ6dWzRrUK9R86DCvfcMfiTV47fDRURGKeadWrFqhcloSN7+W98+y3wqBwCmGBz5mTkAYM9/YEDvMAPtfMMjk569AzknumuoViCi7Niu6wDXPPyQYiOEAKAxOPrpVz94+lUsLixUgYaGhpbmZef8vi4vN8caGmE2UKiwSCxVKAB0ffjpjQ8/XZ7v+0tKPj09vaCggFKqKIr2nl02DaTE9eorLx4tFCEJTb+ePW9Q99alm71HvcEA4O/GggSFIx88Xt/BXRsO/nOz6t22bjUAOEN6THq2JI2j7bDoVAgZEtlstvz8fFVV8/Pzw8LCqogGjk4F8df8CUFEIQRlLCQsXH4k23RQQhBIRGQU+LWpKcrqm//eJ0r9FcdmZGTk5+cTQhhjCQkJ2kuAoUBKKc85uTsllxJyx5gJg7q39rpdhDKfyq1Wy+HDR1O9AABc5cIfS8ZK3oRCE9765uvTDpAKBwCAQjBFyT228/lXpjisoRPfeb+xzRxfvyMAEH06rnpiMBhCQ0Nlh9Xi4uKwsDA9814D8NvdKB1fmbWopDR5R8586MfLhRANlAVKOH36dF5eHiFEUZSEhITKWctHgABQjgIFAiYlpwKA0WwBAIMRitP2j3/tHTsQIGAND6OECD/UJREAAFPYdbeP+Oc277F6b78yxWGy3nnvyOZnhOJ0d1B9iYiIKCwslAuawsLC9FNZA/B7qHXeq6IaXyqZmZm5ublSnCshIaGyNNkJIRyBxdRrHB6xN6lw+advDUPv3Tf3CGXq7lV/ff71h7tSXAwAFMfKBbOvCLvtiobxfnpRQn62OpjgnDKWW1DIFEVhpCA3XzWFICH+mrXWqRSkDnBBQYHT6bTb7bpUZA1Af4/+L7KysnJycirdswMAACEogAa9+s6raweNyHYUfffhxO8+LN0a+tB9j65cOO1ovuPT15/MdBcvnPKi4Cplfih1ZWcnWwQhlDHCeaaqqjk5gjBFUfySCNKpXHQd4BqG7tz/laysrOzs7FLPXunKeVJssmW/YZvXJk7/5MuTadlFDrfRGlK3acu7Bt/bq2Pj5dfXe++znz3EeGPXjgAli5v8jnwLC4lrOGbkyFxraHyICXRtyBqB1AEuKiqSOsCVfsHrVBDduZ+f7Oxs6dkJIXXq1KkiFzohRAis37bH1Jk9ztkkOO9956O973y09JMA1TwQSgEgKLH5259/XnbHKntsdPyAzWbTdYBrDBd27pxzVVX92/703wzJkhtE1MaiLAmQQjRlyc3NzcrKKvXsQUFBl/TnAwKlRAghC5MoIYiCc0EoZYwJzgllBEradQZ2PxBVVUVCFEXR/XqNoawOsMfjqRGNIS9fLuDcETEqKkobxQlpRSrVaalxERkZKTMeAEApLSwszMjIkKU+8fHxVTD5WNJnWfbYI1RRSvw4ZUy23dOiTpkQRSvdBR3NkFJiUgc4Ly9P1wGu1vyXD0VEm81277332my2gPZvKzVHCElKSiouLr711lu1OX5CiNfrdblcUkgAEa1Wa3BwsMPhSEhIkH2EqyjnS4Xo6RGdCqLrANcY/su5y57LzZs3r1OnjsfjCXhfUCHMZrPX61UUpWPHjhpYRETGmMvlOnDggHx6IaLBYJDHW6WyMTo62kAIsdlsLpdLLlitVauWvqCpmnKB7EdBQcG4cePq16+v2Q5NnTp1+/btEyZM0HIUfvrpp7KZd0VRdO1TncuW0NDQ3NxcqQMcGRl5afcCyrShTgAoZ9R74Zx7bm5uQkICBn6OjnNOKS0uLpZRgwYW5cVXVFTk8/kCaqicyJnSQFuRgZgQgpAS0QgNjEpzUAUSR1oetfbIk1uRWFu+zkodYJ/Pd8k6wPK9v7LH47Lmws9kxpiiKBrUrkhbskZFG4vykmWMVfpVKH1fyUypJlgsFs65yWTSxqg0QSnl3K+yxBePlkddWZjN5kt+dFVcB1jeuUuWLJk7dy5jTLOHqLyDKv0C0+AYX3jhhcaNG1/QQ+rJhypBcHAw5/z48eOqqmrwpCGE2O320NDQkydPGgwGznmgjQohjEaj0+ms9DlqedRms1mDo9YeGXdnZmYGBQVd8tOrgjrA8oV4+/bt3333XZ06dbxeb/l/e8lQSh0OR3FxcQ1uFigv18zMzAceeKBx48YXzHrpzr2SkScsOjp6586dAwcO/GfRfeDgnI8dO7a0DDTQKIridDqHDh0KlZecMRgMFovlmWeeMRgMNTItAyUr3YTFYrlkhTu/6AAzxsLCwjp27OhyuTSoxTAajWlpacePH+/YsWNNzfXLh+7SpUvLmUbWnXslI19477zzzt69e2uWKCibQtWyFkIIERYWBpXh3EuzDbNnz5b3Rs0L20uR8XtsbCxUYNHDP3WAL3YfVFV1uVxutzvQQ42InHOPxyMt1lTnDgCMsfLnnXTnXiUICQmp9HzF5QCltHbt2pW9F9WGsjrAoaGhl+CjyRnK/wtKAIEAXqhdw/kMgabPbNmFDkv+o5nJcqM79yrB5VM3VulFFDU1G/NPKv4iWFYH2OFwBH61NkHuc3FkVCBRTFVZbZQAqj4fgIEZfB4PMSgsMDp9FaGmOfeqU3J3UVS6y7t8qMFFMoGgVAc4Pz8/kM6dEKI63cFPvTI5b8O3y3Jjn7u9wzsvv5nJjAaocg6eMlJc4Lr1gcfq+069++n3tz81MS5r44wF60KCrRdsD6fpflb2DvgTWRqvO0odHX9hsVjkUm273e50OgNmBwkxUJG/euuuW0a99N74Bw7vWJ/u5QZKqpCzLLOzCvWeyPH0H9Q/Krr+oBuuyczIRMKqmvR1zXHugnNCyOafPh80YMBz732qAgDW5IpXHR1tiIiIkBU4eXl5gbMiEK1mw4of55xUwxOj1e9//B0NZlLlonYAACHQbA3au2LhzkzTk4+Ntp/YuWbrQYvVjFUs41dDnLsQHBjLT9p038MPL/jllz9XryYAms1y6OjUYIKDg6W2u9QBDpAVSqDY7Rs94fX4ov2r9jmnvvWSmbtEFYuFz4BUMUBx1u8rd15/a7/9a5Zk+RQj9UPbYv/if+cu13ZzzjkXQmgyI4IoBKGe4seHjTqYRxhjQXqfAR0dfyADJBm8Sx3ggJghBFWfYouvFeT835uTX3vt7RMec4Pa4R6fSqtkilUgMRLX5kNHCvMyVm/abbRc+pLgwOHPCVXZaOMfq/mRc3FRy5cvFlVwRVG+n/ri7LW7gVD5UAmcOR2dywd5LwcHB1ssFqfTebE6wOUtA0NEohhd2e+8+IIxKMREc8ePmxASGmZSCC/HvYxnuAiLFRoTqrrsYS37vf/G07uWfn04rdgUFiY0kT24qEPzn3NHJJQyAOFxpqSmFRQ5kCqhtvDExDoKY4AIgXkCC84ZU9I3L3jsxY9tV/YY0dj2wc8LIZDPEh2dyw1KaXh4uFT0KygoiImJueDaN1naYDKZLmqVXK24IBRCANQODhWcl9OTSaVug8FQajGww0EIMkJd2d9Ne/Pgnh1mW4SBEtRER/aiomT/7JA8f+6slKlvv75w1YajR47l210AEBEbVzeh/sAHx77w4CAqkFB/+3cUglDFmfXwmMdzvXzGuzMb7Pnig5+B+t2Qjs7lTVhYWKkOcERExAV1gB0Oh8fj2bNnj9fr1WCFKqXU7XYLIfbu3RvwsUAEQsTePat/91ksVoUSodUyb0opY6ycLt4Pzh1RABA169jQjt3mJ2cCgCk4ol79WtzjSknPyDudsXPrBpNp1bjhPQTn1K8xNeeoKHTmhFG/bU7rOuzZUdc1m7M0JzCjqqNz+SK9p9QBllKR/6EDLD/0+Xw2m6127drayDQSQoqKirKysurUqaPNmMiSa42XHzLGCgoKyqlA5QfnLjgyhc7+4M35yZkGa+gjYyc/POKOhgk2n8u+ddGsUc+8cCzX89ns78YM72GigP6rBeWcM4Xt/OWLcR8viKp31f/emYyIguoJGR0dPyP9dXh4eHl0gKWzMxgM/fr1+/bbbzXbySVLlrz88ssbN26s7NEKLM2bN3e73eX5ZoWdOyIyBuCZv2oDALS+fvi01x4HQFXl1Bp+7fCnXt276e4pP2RmFRepEK34zbsjCkKZO/fYmAefKvaFvfHxzFaxRgA9IaOjEyik0GM5dYBlyZyU9ApoPQXIOI8xj8cjhKjB9c+lnVjK+X0/RO6MAADcN3p8mz6nO/e6BQAAyJmUnHt/Vh4AUPDrom9EIYAxz2ujHlqbVXzLqCmP3NjG6/YYzaYae2J1dKoANputoKDA5/Pl5+eHh4dfMNF88cJhl0JZKzV7dbq2wmEl1kwDh44YCAAA9oLsgwcP7ti1ryg/e+2K335dvg0A/Jt340IwxpZ9/fr7P62MbnTde2+OYZxzyhCx9BFSgx/gOjqVhdQBzs3NlTrAoaGhMpz0+XwGg6Gy907nLPwyoYpACFGL53/98Ydf/bRv38Hcor81KMzBQW67w48LzVAIyljuoVUPj3nXY4qZ8umHjcIVQDAQIAQ8JT6dKoSA/6tzdHQud2TwLhc0hYSEEEI8Hk92drZmM5k65aTizh0RkaL7w1GDn/hiCQDENrri7gE9u3Vvl5iY2KxR3eWfTRj19o/Uf/OcKASl9PjWFcnFPsUs3nnyzimoIgIiKArLTE0CgJ2Lf2jTbiP3mt7+6scbOyZq0wC24uNY2bugETX7xblmg4j/1AFOS0ur7P3SOQ8Vde5CCEpZxu5VL36xhFBD73tGzZ3xXlTQ3y9oh8MDIhNKBVeRgytn/57z1D46C/N278wDgMxcN0DV0ww9H7rL06n6yKtU6gDLJh4Oh8Nut4eHh1f2rumcS0Wdu4w3j+/fVUQoMQU9/8Y7URbmdLkZBQTFbFLWbjsOAASQc47MD+EzYQwAmvS77/cl3ZD8XR0juFAMyu+fTJk6/88W19743gtPUh9pfVUiVIcSGq/X6/V6NX690LLBnkT2uiz/4nWdKoXP55PrTs1mc3BwcFFRkd1ux/MojuhUCSrq3AkQACBAARB8ni279veq095qKenM+8dXb33y+wYAQMbCTYz4I4iWl1FoXKPr4xr9c6tjzcKp8Gd0YsPr+/Q95ydVE1nF9dNPP7355puKomipikMp1dicz+cbNmzYc889Vy0SZTrn4Ha7MzMz4Uwnz9LqFO2jBJ3yUGHnTggANGrVIQIxj7vfHHVXzv0PX3PVFUUnj/35x8/fLl4NAIwxb/K2/30xd9DAmxMjgv1yKSCKc5qecB9nBub0+gwGA3Kvl3MmVKKYqnjULl99MjMzDx482LJly3KuPasghBBVVY8ePVq3bt2goCBtXLzRaDx69GhSUpIGtnQCgZw+TU9Pd7lc50Trl5lzR65yOFN8iSgQCKOsqo1BhZ07pUJgrZY933jloUde/bQo7fh7k8a9d2Zr3Y6DRnWr8/zU6Tz78FMPDIlpfWxIRLBArPgwEHKukAEKYIy5iop8Pl9uQTFjjBHEKjbc/4bX6w0KCkpMTPR6vRqYk7VrKSkpsbGxNptNVVUN1D/MZnN6eroGR6cTOIKDg+vXr5+enm632y9P544ogFB2lrSOfAdFIapWBtgPpZCUEkT28MRPWnXu+8PilTm5eR4VIqJrte7cc/Adt9qMPCTCtHLn8ZCouA6JURCw64AyAgBX33r3CxEN67XpRAGqUSsS2elGZt4v6lellagXVW0jnbsQQlVVr9d7Ec79LJMXYVOKk2gjM6ITUAwGQ2JiYmZmZm5uLiFEptcukyQbIhJCAV2LZ327etfezNxCoEpETK0mV3UfNuDGYKUS5rH+A/+oQhICiND5uts7X3f7OZsEZ4+++M6jZT4JkPq+vLyuuG7A69cNKP2oqgxz+bjYtXycc8oUxkD1qYTS8v+2rKGLWkOIiAKRMgaIggt6MTPkVeei16kghJDY2Fiz2Xz69OnSlvQ1HkSBhOamHnr4jrt+3rTn7I1vfdDq5tnzZ3RoVFsgVpEGI3573hICgnNV5UIgInKuqipHBMpQSkwIzjUo5Rac+3w+teZHiCgIDbXZDOhxurzBYeFGoxLo4UVExWSyWi2gqgAkKCyYVLnOYjraER4enpiYaDQaVVX1i3qMbOImSnq4VTGVGEREQn32cXcPlJ6994D7P/v2x9lfTB/Y52oKcGTPr7fd/nSuFwhiFWkV5M+XKcqYojBKCSGEMUVRZGqdyLkXqkm9FGXMYDAoNbxZB2GE2F2+W0a/OPmxoa263zrjvVfDFaGKAEbHhDLhdlgbdJj63pvRJmdcuwHvvjKG+TyBasKiUx2wWq316tULCQmp4Jy81BcDQqgULKeUUkoI8HL36wg0QghKyc7f585dd4goxtGTZixb+MUDQ28fcv/jP/+1+u3RdyhAk3cv/nnlEUKp4FXCvV8WmbIaB3IgIYq68NOZSvs7333p/oWff5yS6zYZWOCCHRTcYLGm79tVHJbQ9YpW1/S+KvPAvgKXj1FaRW4/nUpBUZS6detWaBETIiGEMUa4Ny3p5L69e/fsO3AyOdWHRFZFVPYhAgAgEADYsHahajDGXnHj5BdHgVB9Kle9HgHGx8c+3SBaIeA8dHg7AFCoEs5di9ZQOv4HgTElJfV4WoG3bd2gw8dT3YQEBdooU2hR5oIf/7zvkadcxb6v5/xFzEFQVd5BdSoNSqnJZLq038rJeVGYO+ODt77/Y+XRI0ez8ooAwBYbVz+x/vX3jJ74xD2KwEDN1JV7N4EQAPXAigOqz1uvWzcbCC5AYRSBCpWbTEYLAyAguBbVbuVEd+7VEkqxuJg/+vL0DnT3x1/73v1sxoND709yCCO7CLnni0UICA4yrf7rl3sfGByy84cth7ODQ8OFqPHTGzoBAxERiPP06Gt6fLrnCAAQQ0hCYoLwedIyMvJPZ+zYskFg8JtjBnCVM6USc61Sg5A98MaM7vkFCVe0R6BMoQBAFAMF+G3hz8cyvYiGZs06AIDwr8L5pXIB5y5L9CSB3hU57S59kzYWZd1SdZzuF1yYQ0KyD66cOGfZ5lPcUXhDSFAIFhcAC+TTGgVRFLRz1+nTf/21ykUUM6Du2nUuGc4FU9jiz6Z9uueIYrbcM+qFx0cOa9Eohntdu//4cfTYZ/anO7+e+824RwfYGMFKnd6R04dtr7u+7ZlPVK+vqKjA5yn+bd4X4ye860Bof+eou/q0RCGYP3RWKs4FfIHP57NarZRSDepYpQnZ5UMbi5Lg4GBVVavW1PwFIZRx16K53xqsIdFm+HHW18bgEIvCAvqgIgSdLuXZKa8EFxz8dc3uIKtVS/UCf1HNTnQFqPIhCwrCGOCCFasAoG6n/l9OfZECqJwrzNj1zoffPbn7uvEzMrMdeU6whVJEJH6UDr8kBOcCEQUajIZN86Zc/9CrLtUjVABiqNPs7sXfTQ83CCFIlXDtF3TuCQkJO3futNvtqqoG2tsKIRRFycvLA4AtW7ZwzgNtUa6ssdvtUVFRldtqQD7MDAbDRS1Fiq5lRRRCQExsEAouyv1bedtLiwaDoZx17gRACSHfvf/K5067Twm2MHpRi5gMBoOWz+z/PnadqgBjAIAD73kspuWNbbvcIK8MhTFgAIAHA9HErWJQxigAV1UA4O5CRpWIsLD8vCyOvtxTvz86etwnH70dYShd5FfJ/JdzR0SXy3XPPfdouUOMMUVR5s+fr6XRsLAwn8+npcVz8Hq9xcXFq1at0kZbppSdO3de5C9QVTmljFEiLvI1WVEUh8NRWFio5QH+vd+IhBC73T5x4sSTJ0/KdFyl7EmgkW4lOjr61VdfrVWrVpVaM3nOnspl5Dfddc9NdwEAuO0FR48c3r5zX2FBzuY1v8/9ZTUAINf0jvgvELkQACCVT7oMe+XkwGcJJWnH97zxwvNzl22a//m7GBo//70xKDiQyq/G/i/nTggJDg6eMGFCfHx8qQhcIIcOGWPr1q3LysoaNGiQBhblMbrd7m+++UZRKnNuWVXVZs2a3XjjjZot0Pf5fAsWLOjbt29ERMRFZSrOiCVdXHIDERVFWbt2rVztUlnuxul0rly5snv37rVr19bmAtMeQkhRUdGCBQsKCgqqtnMvFbLw/jnvsw8+m7dr996MnILSjcYgq9fhrEJJNELKrtUymC0RZgsA2CJ6zlmy2N2v58I1+3+Z9eGu8aPaRJsEQqWvj7+AR0tOTh4xYkTjxo012yG73b5t27ZHHnlEM4uI+OGHH1au7Imqqu3atZsyZYqWRn///feJEyfWq1dPM4svv/xySkoKVIaUfCler/exxx5r1KhRxf9UlcVut//yyy9VX8lHIFLK57zw4D1vzgKA8PgGt95+2zU92term9ikSYPdCz645/lPgVaBij5EIMSdl7F23VYXWNt36xYfYS6Nb1TVpxgixj82cvGqJ72O4r3Hc9pEx2Plzv8CwAWdO2OssLBQrgcOdLZUKpu73W5VVbWxKF1MZSUKzsHj8aiqqtlRFxUVIWJeXl6dOnU0O7lOp7PS5zMRMT8/X5sLrFKOjhCSm5tb9T277JdZlLz1uSmzgLKON97946wZdW1/N24rigqv7H0s3VVOmJJ7cOUdA+4pBPL5X4fuu7aRQFAUCgCMMsF5eFgtM4DXqzqKiqHk1bZqO3eZKinRDwj8nSANlSxXC7xFPLM0LtDHVR4IIbJZhzZHLdNQcoZDA6NynKuIM9XyktaYKnVJX2hXBQGacmB3uo8SIM+88W5dW5DT5WaUCCQWs3HD9qMAwIgUp6rUM0UpAETXa1I7PtSZ5VixYs3IPk2E18O5AQBVgSaDsmbruiJCSKixYaPaUDXm7Wvaxa2jo1NNIABAkCJBALFjz0EAYrWYTSaTxWzc+Mun7879HQAEIWG2Sm7jRwjlAo3xrbu1qOfz4U/TJn+5bJ9iNDFGGWMmg7L9t28nvPUVQ4yPvbpj3VBAURUUaatAPktHR+fyg1CCAIkt2tUhmII4/el7nfsf69v9Sk9GyoqlC7/4YYkXgFEG2Qe+mPHdHYNublArrBKnaggIRMNzLz23YPk9Oc6kkTf0Xfn4qLuuv4YXpi79ffGsb+c5VAAW9uq018IZCFH5s6mgO3cdHZ1KQYbDwXXbvfPO2GHPvOfKSv7wzXEfvlmy1dak9yv92734/rtYlPz86GFBDbY8fl1HLpCxyvGalDIhRMPuQ375IWv4E68dSz/93dSJ3039+wuR8Q3Gf/TN/X2vxCozl6M7dx0dncqBUYKIg8dOadS2+7fz/8jOy3N7eVhEdMuO3QYPHhwfymrFGhev32sJi+raNAHOKLxUFpRSgaLzbU9u7zbgx1lzdxw5lpVXgNQYER1Vr9XVw+4cmBARVKVm6f3l3FG2qyakktTbyhRhVIWpjAAeaCUP9N8jXbPHWUcbCCECoUOvAR16DThnE+c48tnJI5/9+5NK73BECRVchNaqP/LZF0b+YysXglUZzw7+c+6ksiYQUAjZ+K3UvFycUnWen/6l8gYauRCE0FL7QshOW5X0nqxTU6BEarYAZZQACCEQgTHKGJEaJLIndaV79pK9ZRRRcF56L6DsGcUYrVKeHfzh3BGAcI/9xPFTHmR16jYIDzaBViWeKAShlAEA8KLCYkRiCQk1MgYlnVOq1lhX9GABCGB60vGcfIctJj6hdhRotlACEc8U2DntRV4VFaMp2GoGAECBlfu2rFP9oWV0FMvWcTLGAJBUgaX8ZSGEygp3+X9Vtu60ou4PhQCAwuM7bu3UqVOn7gt3pgKAqolqh/TseelHXhn7UJdOnTq0a9u6bbtOV119131jNx9KopRijRIPkUejvn3/PZ06dXps+vcAoE2zRpQ1Ctw575Mpvbp16dShfevWrTt07NSt16DPfvhDEEqw/JJlOjoXix45XCL+SctQQLfD5dJQTlUIQShN2flb/5uH7UkrAAAgRoviSzp1Yvf2LYt+/ubTHxcP73dVjYvfCTpcHp9X9WmlpoQICETNevLum6fN3yI/Cwq2OpKTDh/Yu37lguUbJ387dQJDAVWi+ktHR6cEvzk+2QObAMg0uFoCl/N/fgaREEI8OY/eP2pPWgGjQQ889caGXXv27t414/XngsxGT1Huw8MeOpjlpARqWFQp+4wzKtW7BOf874EOwJFyIQgls6dMnDZ/CwBt0+2u+Ss27N+/f8XPs7q2bgAA8z548b25aymhosqvd9fRuazwWykkIiIgCgFAjIZz/qwQ6M/qDiEEZWzHgjl/7EoDYMPHT/vs9ZK564bNW9WLCxo08hVX1p6pc1d8Oqa/4JxW2azYxYMSgQKRsnM16Dn3ZxcYREEZUwuSZkz7llKW2Krfb4u/jw8FAKibWG9xx1Y9uvfem5w//X8zR9/RPZSRylfT0NHROYNf69wRDZZgADywc8vufftzChxh4TFtr77qysb1KAEh0F+FHrJF4ZK1q3yEhNRtPe65+1BwVQAjKIBef98TN3zw0YK92Vt++dkzpr+RaDa/qyGKkRJyOunozp07T6ZlMWZq3LJtxw7tQ8zUj5koFIIyenznmk2ZdgFw/wsvxYeCx+M1GhWvVw2r03r8iP53v/pNxqY1O07l9mwUKQQyPTejAwBnKmVlv8xAV82e06Gzsg89UFzsAl2/OXcBACZT0cm1d7/03vxlW3xnMgRma3CXnoOnfv5+q7gQgeiP+B0pI4DFp/ZuAcQWzds0DKUguKIwAiAECgjr3Kf7z3vmp2YdSrFDo2AqqrKk9cUfPgAEkcKPJj854a2ZRQ5PycfMlFivw+T/fTCsXwfBBfVH/C7TPEd3rOWEEENc7/ZNEUExGAghRoUiYsfefQ2vfaOqqbuOJPVsFFkVlPB0qgiyilHLDp1ms1n2VqvsQw8sKLuvlQP/OHdEQABQHePvv6fYpRpD4gfccI3NgDu2rN5zNGPFks+735i0/s+fW0ZZBVZ4JYJUwXcUJB0pBoCIRp0NCFyA9GZECEpZi/hmAJCX4UzNtDcKDkbEGuNzpJTrkv9NnlfsBCBX97qheWJMxsn9f6zelnx8/fCb+qbN/338LVf7JX5HoABw6mA+ILLEdvG1IkhpF0tKCSFxic2aUNjPycEjWXDjmaeBjg5AaGio0+ncunWrz+fToEMnY+zw4cMmk2nz5s2VLisdOCilZrPZarWW58v+TcvwYpdocfMD301/q229SABwFmZ+/NxTL30yt2jXX0+++NFfn4wnnINfMuCUKpwAQGLjKCCAZ/vuSFuICcDj8QlfzXxHsxc7jdGN//fNdyNu6KQAgPCs/Omb+0Y+nWQveO3hR27uuvWKSMYR/LK+yEAoAMTWt4VZAECQMpPwRmtIVJgCeSp3V2aTQp0qhXxLDgsL27t37yOPPOL1erVp4ubz+VRVfeihhyp7AAIIpdThcAQFBUE5loj7zbkTAEAR0fiahd991jgUZC9Qa1itZ2d+eyr9xP8Wb13x3Rcbn3+kS72wCibfEZAA8RbnpageAFCCznqIEYIAEBUfZgXwiErvhRIA5CEx66TPfhh5QxvBuYpIqOnaOx+a5cq9fuQLrtO7P/928dQnB4Co4HNUrpASSY5CAFDMZoX+HZsTIAighARHx5sgTyX6MlWdM8jAOScnp1OnTh999JEGne5l5L506dJp06YtWbKkpkbuMul07bXXyv5CFzxMvzl3BgBIBo8Y3TgUfF6fwWgAAK76CDM8M27M178OcTmPLVq3t0u9bgKRVjhL4nUVZ3MVANye88TmAakKrBpQQgEgodWNjwxow7lKKFMIQcFVFa655+Ge73/yx96k39esnPLkAD9k3QkBEJkeOwD4vILLjHrZkUV9/ZLO+XG5XIhos9k0s2i1Wl0ul5YWKwWn0+nzletF2T/OnRBAACCWttd0EIhEKQkYKWMEMKFJh3YhdJ0ds1OzASqamZVZ3+DI2i1M5qxie6zlPIegelQBUBPj9hJhvGa9u4eUNBcmAEAoI0KgEnFtk6a/70nKSy+wI4SRCtYmEhAIlLW2xQJAhEUx/+NvIec+D8KZk6KjU4qM1hFRdlgMqC1p4owQTY2NNmS1DKW0nGkuvwmHIQAoNNxqpGdqkko+J0QJC4ptFgRbix3HT4O/1k0RxpACwKn0PIC/w0lEAgBZp/LsAECR19AzHRlsRDjbdxMkiHVahACA70RGoRPCgmiFi0ARgDBBASA9s7DIB9EGKj8sSY4VFGadcgOAquormHTOAzmDZlZqUF3c+Y+0/F/2Vy4MCQBwUejmiGVDcyQAqt2edcoFQMxx0QBQ0SWr8i3BYAyOoACQeSQVAOkZ745AECHFVSwAzJHW8DAL1MQIPs8lzp1FRoKEpJ8qBgAWGxNiloNRIStypK0RjADkH8/Id/C/nxWIAFjsKjwlEAjExIeX/EJHR6dq4KfVLtKNCPeuLbsJwVLFLhQoBGYfO7ArWyWAkXVt/rBJBAKYIhq0rA8AKYe3FXMiUwjyjxOC+/ZsBCC1o8LqRhsBRU1KGsi3ogNrNzoIwdI5FRRIgPDiDftPAhBb3ZBgBgCigoctZ6ebtmqChIjsfQeO5aAQXCAACESB5NSeTZkcAJXWjeMAgNTwCmMdneqE325HAQAgfvxsWrqLGAwKVznnXBBKKfnqs8+KKEUa0/eqlgBAKuwDkAsAQ9s2XQHg8JY/F6w6QZnCVZ+q+hRKXSfW/7RoCyWY0LJPtAJCYE2K3OX6hZStC7/7fT9lCuecc66qQmH04PL5q/ccBcDubTsZAASvaEpKvgM2vap3LEECuZ9//C2hlAquqioShRLx5eezCaEstn27pvUAatJKMR2dao9fnTujmQdX3nXbEydPFzGFMcYUqs6a9vLEb5aCEC2vH9arZS0UvOKLVGUdyM23D4o1AYHciU+O3nksy2AwKIrBkZ00/KGnTjhRoGXIfQOh4rmJqgYiAFBhHzdi+MJV+xU5zgblyM4Vd4yekOsDMNe7797bAAArrIItu1xGNupwa8+WiHTp3Hc/+HYNNRgURVGo+s17L3z+125E0XPQwEYRBsEDvspcR0en/PhtQpUxxohCwbPu9w/btfnlxhv6NYgPX7n0jw3b9iJAcFzD/015xoRCgB8EZgilQojwFtdOenrIg2/OOblvac+rr+o/+I6GZuev3/+4Ky0LAHoNfXRE96ZC1CjVMCgZaKYIpSh7x8BrO/Xsc033rlcd3r1l2YpVeUUuABj37nvdG4QIv3T8IoQIjsw67s1JC3sMPO3OemrEDT/9OLBfp0a7f/9twYbtCGCNbfT2M6MYIic1fd23jk61wk/yA1wt4JwDf3X6t1lLP52+eO2crz8rNdGm280fzJjevXks+k87jBIiBD4w+VOPIfL1j77JyD015+N35SZmjrzjvvs+nvqWCbiocatrXMV2znmP+569M45P+vj9Vcv+WLXsD7mpVt0WY55/7fmHB/lLWwYAKGMoRP1Ot/6+8KuHn5q05eCJ9b/OXv9rydYWna6d/umX7euHCbwcJcMQRRlFa0LoRUif4r9rYVdef9xKATkv6ddYhQ4bUSCWbRd8ESflvxZ/aNols6LOXXbACmvY/rflyx1A2/fsGfb4PfdtWnHgaEp+ocMUFJJYv0WPnh1MANy/koGEUIIIQY++Ov3W4Y9s27UnIytXFSQsKqZZ8zYdWzUEAMSa1D9CFriz57/+fkhhcWzjli0SYgaMHLZp58HTmblIWWx8QvurrkmMCZJSjn41TIXANtfdu37rLavXrE9Ky3C6fSZraHzdRj16dA5S/Kn3WW1A5EIwdm4BN1c5Zaw8XqDSeuFWOQhjfhVBqTAoOBJ27vlBIQSUa6ltlXk4V3hY5WL4oLCrevWSY8AFaXN17zZXl/2SEAIC0D2WEEQuRHzD5vENm59lj3NS7lL/6oKs4m3YvmNDAADgnMc2uPLWBleW/U6AFoxQSoTgSlBE7xtuPnsLClHzdfj+QUlH2cLstL37DmRk5wNTomrFNWnRKj4iCMrV2RbTU5IK7a5zFt0QAARaK7GezWqs8QKbckmOryjjs+kz09xww5CHurWIr/RAQXBBGSMgDu/ddexEUrHbZw4OSazbsHXLJoxcsDMzAhCvq/j4qdRznQ8hgMiCwxvWidXsbvHTMxORCwEAlDJGkfOzJAFo4NqCE8IYE+c0ITrTyrlGIjhHAELoPw9cfhggu5Syf2qNUsouuwAUkQNh4P7yzXFvf/L9keTs0i1RDVs++MDTr42/T/l3F4UogFDiSBneu8Xyo67zfYW9u2TvMzc051wofn0Dq3ogAOGFpz946bWjAOa2/bu1iPeLNsml7xAKyujpHX8988JrPyxd9/caf2Lu3GfAa6+/0adjg/94/HCVM0XZ8v3r3e9/+7xfsHYaenrztyEgtMkp+Mm5n+VPtfatl1XkWHZ+WOMDJzX6qVk+UCAy6n79zoEv/rgUAIKj4q7r18eXfXLZ6g05x/e9+fz9xzNSZk97mf2bD0AkBIpSk5NOugiwkNAQVroAD4hCUEVrSA0P2c+CUiXczJgPgg2VnJyR1R5p2/+8rveA/YVuANLqqq7tm9XbtnHV3iOpG/+a13/7uoUr11/fKpH/S7WClMjet+0YIcRoDgqyGgUvWfdHKEPBI4NCtLx/qla2q2aAiLm5uVartZyyyzqXDCKqqmowGCr+p8qDfGff/cs3E39cCoS17T/su5nvt6htA4CjO1aPvP++dXtO/TD9nQF33jWka9PzugCZbDmVfPKYSoLq9t604fvaVvTxv5vYIEBwcBgAVKmwPZDjjJxzzkEgCsE5F4wS2VZJCAFA/Ng28gL7QQgF16SxT+wvdJOwWpM/+mrcPTcoBLin8LuP3nhswjv2vLQxYydu//OrIBDnS70hMAqgbk1NQ8R7n/9iyjP9ncUO5YzQFiIyxWQF0KyVvO7c/YzMJDLGTp06FRYWFhERYbFYKnunaiyEkNzcXM55VFSUyWQKtDmkFIDP+fpLldCweld+8+3nLcIY54IQaNyux8+zPmjb6Y40r2PuorVDujY9r0AeCgQK6Qd3AmDzrq2a17ZBdegCSQjJzs4GgKioKKPRGAgTnHNKmcnISi3K10Q/to38D1BwSlnmtr8WbDxCAG5/atILQ2+QxVDUFDZi7Nvph3a/8MWfR7av23rCfm3DYC7w3Hlz2T7BkZl59CAA6dKrQ7DFajFZKrGKrApFBzUDOZFis9ksFkteXl5SUlJaWprb7a7s/aq6YAUAgPDw8IKCgpMnT54+fdrj8VR4d/5rRykh4M05sPU4o6TPbQ9dGcZUn8oYpZRwzqNa9e3TohYiyT2UAf9yayEwANixYR8AXFEvEQHKenZVVUVFpZcCOM65ublynL1er7/3joRHhh/bvfGNl5+79cY+HTp26Nuv//hX3liz6RilFALfFlVaOLx9X4FKlYimj99zp5CenVKh+oQQA/vfFopI8l2ZyblyNP85vASgMOXE3kOFYIxtnBAJAKWeHQVXVa6xYuWFI3chX5ZEwDXSZQM5eTFpY1FG2dKu34mMjHS5XABQUFBQVFQUGhoaGRlpNpv/Y2e0P2rtT+4/N1WwqMlsNkdHR2dlZeXm5hYUFMi3pQBF8QQABC8qcnLO6zVrgIjkzN1LKAXg3C2AADH8S8yECIyAcOw8nQxAW3e5nriLNu/cl19QGBFbp3HTZjarAcpXbXMpO1+xP2q1WqOjo3NycnJzcwsLC+U4yyj+Yhs3n4MQANSwZtbrby/87kTe3zfjsr8Wv/PmlCenf/7OqEFUCA2KR32q6hWc2kJja4VRCrJcXSpT+bwqB0BGmHL+k4uABCAl7VQykpAr+l6ZGHb61JF9R5OoYoiv37hpvXiFgtB24c2FnXtoaCj7Z0FvAJAmzGaz0WjUxqLEZrOd896XlZVVXFzMGKuIy5NXvGwAhoj5+flFRUXylvini0fESjlq7U/uOUPqdrt9Pl8F/Y6iKIwxOdqlricyMtLPCQS5k6boz1auzfOqCY2bS3FtAOCqShVD3t5Ny5KzALFe2/oAIGQHmzIgokIJz05KO3wcDEFrFr31/VN/bjmaCgDUFNygXt0bbxv20oRxUVZ57fjTC1R8nAkhBoNBNrzmnOfk5BQUFISHh5e6+EsFgQBw7+wvvwGg1w58aNT9A2OtbMuaJR9N/yIpP3/qI4Njo1eMu61bQHXh5dKQq+54YGP7foagkLpBCCDL1VEVYFToH8v+chDKokLrNoiWw3HuYSAAQNLurQAYbEl/5K4blyxelufwAYCtVp3GjZs+89rUO669Upssk+QCzt1oNC5fvjw9Pd3j8QS6bFwIYbFYDh06dPr06TVr1rjdbm1aLxYXF5/Tw9fj8djtdkVRKhjPymtR/hFFUYQQOTk5RUVFderUCQ4OLhvvmEymjIyMtWvXulwubY7abrd7vd7ly5enpKRo0OVSCGG1Wo8dOxYSElL289zc3Ly8vApe7lLLu3ScETEvL6+wsDAkJMT/uXhiaNKuQ1nTXPUxxQDevGfHPJvh9AGtNbx/TwD8Z2JGvrmfTk06lQcGcC387EsgQVe2akOF58C+g8cO75/+xvgVq08tXfa/OBOKv98K/EB2dnZBQUEF45XScSaEyHGWb0uhoaEVzcUTAsQ8fPInXz4/TPrva3r1HXzdddf1v/NwXvEbEyYPu/73OCsRiAFaHySv/+CY2lfH1C79EFFwAUajsvePL977YhGguOqqm9vGm/F8jxlECgDbdx1VFOX0hmXfAUTXadC+aXheZvLJtNQtmal39r3mja8WPz+si2b+/b+cOyIqijJp0qSgoCAR+LSXvGiKioq8Xu/999+vwcEDACFEVdXCwsKyZ8tsNoeEhFTwBCCiTLXL+0FVVUVRoqOjbTabjNzL+lOr1bpp06YHHnggQDmifyKEyM3Nff3117UpNZHXUkZGxr333nvO53754+Q8kZRc1+7/dJNcakAplYaZYrAn73nqoaFfrtwLALe+NKlvm9pcnO/+BwCAfbvXZ3hVALhuyEOvTXi+U4t6wufavXnlK4+OWbzn2L71Myd82O2rZ+8R/mol7z8CNM6UMVB5o043/+/5YYx7VWSUgKryOp2vf/f10f0ffbvw8KrvV+56qn9bwQUNZFqjpESHEEqpUFWmKAqD5d+8PeLJiZlcQK0Wr0151oDICfmnayeMAM9btmObqqqGkJjXPphx/+03xoSa80+f+uHz/70w8f18XvDC0/f167ujfaw1cE+psvyXcyeEOJ3O5cuXt2jRItD7Ucrbb7+9Y8eOefPmaWbR4/E0b968bFvC6Ojo6OjoCv7ZoqKi1NRU+fBQFCUyMvI/csEFBQUDBgyYO3euZkft9XpbtGjx22+/NWvWTDOjL7zwQnp6etlPIiIigoODK/je4PP5srOz5UNU9lqT6YIA1SnJpQYyS0AAlv4wc9wzE/ekZALAdU+++/XEBwkXhJ7HL8ukceMru785eRINSXziieFmAERBFEvbbjf+9GeD7l17bDuZ/dOMGZNG310niPpxrUtkZGRISEgFx9nr9WZnZ8tVtaqqMsZsNtt504wXAyEoAKD/kOFBKFRksnbQQAkK0e/WYS3GTj3g8mzcfeSp/m0r2KGzHLtCGGOAQiAyRSnOOPzGS+Pf+2KhD8CS0GrGDwt6N448vyQfAQoAnD75zIQ+yfar+t5+XedmAIAobLH1Hn7xnVgLuf2Zd3jOkc9n/dp+3GDkHJSAP7kvnHN3u93ygRboVwl5t3i9XhkIaGBRRiKyk6/f/3JOTg7n3GAw/LdbL3v4Gh+1EELjk6uq6jmf+2U1QE5OjhBCJg1ktj3Q5adCcMZY7vFtz49//rOflgGAJe6K199586mhNwNypOeXl5GdDBp0uG58h+vkn+Elshzo9fqMtZpNHHffjQ+/7Tx9YOvJnDotY/wY3/llnDMzM0sfnzab7b8LBMqPvPsaNE9EQoGIM2NFkBAlsnbbhmH792bbT5V06Ax03SgKLhPwf82b+thzbx1JygKArjffO2P621fWi+H/KrZKCAAawwfd++QgACip7KSEUME5BzLgyWevnTPnr51pu/du5TCYUdSgAPbCzp2UIaC7ck4jRA0slhry+5/Nz893u91RUVEXVbmh/VFrfHLPu6mCT1afz5eVlSXdujarCjgXjLFV379z35jJp7KKAYw3Dnvw9ddeaVMvWrqG8qoHQqnCG1EYQ8TEFh2MAF6fyMsvBogBv3qACo6zx+PJycmhlIaFhclKX78NKAIAGBglZ89TIgAYmDlCAQA1zwWB94aIglCm5h15cvTjH8/7EwCimrZ7/oXnnxh+uwLALySjXbp7KERpUo4yKjggi6jfoAnsSM0pcvsgEEJb50FfxOR/SiKRBg38EtfUeCr4XMnLywsJCYmOjtZmtIUQjNHfPxp72+PvuwAatO72+qvvDB7QGf5Fta20zFR2rQfVtXfXruxib8PmVybUspUevvTiHH0qABAIRPOwio9zWFhYdHS038tMZWe2lIwi2byxZB5atrovyj6wtxAIsTapDecrQPIjiIhIffkn7r2x39zNSQCG20a+9M5bYxtEWQGFQHKuRz4jqCVlIAkh+ekn9x05xYIj2rVrbTqreT0BQI9QQdt+zvoiJv9DCKlwIlKnXCCizWZLSEjQyLNzTig9uX7B0KffdwF0vOHOP5cvHzygs+r1+FQVAGTXw7Jy3pRSWWxKZUdaV8boEQN797p28pc/UUJUn1cIRBScc0LIqfVbBAAoLCE6HCrsjv154EJERkbWqVMnIAsICAOAVYt+BkoAORcCEX0+FQhJ2r5+V6ETEBs1iAU4pyW8n0FESn2vP37/3M1J1BT05jc//PT5Sw0izR6PRz1zjjjnZYX6WMmppbJr9LYlX1xzbe/eN/Q/mOslgvtUjohc5YiCOE+n7D9GCMSHW80AGizLAt2561RrCCEaqA6UgpQS4Zn62sQ8H2nR7+6VS+Y1jDQCgGI0GWTDwzN+HM4UPp/avWf9mg1r169MzspDBAip0zyuFhAyf8Znm5LsBqOJUkIINRqNRSl7X/1oFiUkvuG1HerbAEUVkQUHAEppwMYZORdAyOZfv/rsl92KwcgoJYQYjEaiFo977X0XMrA0HtT7KgCkAWvBjpxTSpPWLZo+bzW1hL8569fxw28FACDUZDL9fWoZKz21qr1g68r1Gzau27Rzu1cQAGh0RbtQQE9e+uuTPwXKDAojhDBFMTA6a+pbaw+nI9JrOvcHAC60OLV6WkZHp1yg4IyyohOb56/bzyht1KrtjlUr8oudhjJlD4QQIURCi/ZX1qulcjQoZOqkp6fPXwGAr32/7qW7uiIYH3nioa+WP5afuu2Wa2946+2X+3RpYzV692xaOeH5l3ak5QHAs6+8EGkknGMVq4QMFJQSisDduY/cdVP226/fflOP2Ojw44d2TX3j1R9X7waAm0c+1rlBGHJOAjYiHKgCsOiX+YXIrNEJ0VaydPFvKikrDEMABbGEdenaNUQRhLD85B29e/WxE4xs02v3huW1Fazfsc9tfa/86q+98//33F2enGceGtyofmxOVuqi2TNffvdTH0DtZv1H39cDUWjT+9Nvzr0ksVhlYo2ayplpMX2ktUYuQTq8aX26kwPAL1PG/TLl/N8c/PrcuS8MVoUwAHMZVDk1yAUFAJ9PbXvLqBkvb3r4te+yT64beWe/sMjaQUZPekYuAAALemrS+4/d3o77u51WlQUFOrxCADSpe2Va0t4JY+59dXxInVjbiZPJ8gudbx722duPgBAYwBFBygige+fq1Si4I3nv/Tdfe/4vWupuP3miXS0CAIKiHRARPD6KBAC4UEKnzpx5asCglfsyf/jk1R8+eT2xXp3M1FMeFQAgrnmvnxbNiDGiEBq1G/abc68cZ4Ooqur5iwAIURSl5jnAynLqnP+rphVlyuXQQFUuQfQW0cZNmoDCKD+PYDulVAjRql4MnNF1TUhs1KRJBgDUjgoCAEaJQPbAq9+26Hbrx+99vOnwsbz8/GKfoW79hld26TnykSdv7doSUMBl06KAGiwtmjcWKn3j2/n1s7e8+t57Ww+mZmblRcfWDrfVu3vkw08/PjzMGPCWmQQAVKeV1m7cOJgRCpT+o5MSRRSW+BbhJlJSyGMOa9WymcsropvVNzEAwlCIsAZdflu9/dMPp383Z0F6QV5udnawLbZ+XNzAu+9/4KGHGkQYtWw15acG2cg9bjdHYjaZNdNfBgAgRNFKy7uK4PW4vV6f0Wg2mjQ9cMaUyyRL8K8joFAA6PrIc0ceea483zcZGAC89PbnL5Vpy8MYk20huvS9rUvf21xFBXlFxUgN4TZbsMUEAEJwEtBVmFUGWfVviG3684EjZz5rvKj/PUUFeUXFDsVoiakVRQHky2qAYxpCAMAQ8fHGbeX8PgBE1Ouwa+/Bsh8ySlAIa0T8k6+8/eTLr+dk5bi8PpMlKDIqQt46WgrLQMWdOwpOKCs8vv3OAcOT0Tr56wW3d6rLuQi4i0cBhHrzT02ZOqPADYpSVjSDEEAMjX/08UfqBDNtVvoGHuSCMKq+ef/g7zbtvfbBlz8dP0IOfqDtCiAUcNF3H67bnWIwGMqWS1MCAqHbHQ/f1K5epXe/1IwLFoyf44n+kbEklALnnFBqCQ2PDw0v+ZoQAuEy7HV1ZnxAcEEoCw2PCA2PkFs4F5SWq+G4P3flvzjr3P4zR0ooRRRCIGNKVK3Y0m/K061x6zQ/Re5ux6EDh1OAFTh9AKCBaDEKQRhN375swqR3/uUrthuGPFAnmGmxFExDMg8dOXbiRP3TuRrZk/KzvtzPXhyzOOn8XxkS0f2mdvXkfVjZw6MFFxtFnvf7f4vKnVFsIZfJ8P2D0vGhZ8akRBVT+7aOF3lqz/t1QkqmSyvzQADAX86dUGqhlBKLgcpKIRQlBaGE0oCsfhRIGMD+o2mKYois3XLgLd3B6y5Z+kEIQQRTnbrBDLRdNaABRouJUmqRDSdlkFB2jYy/QUACxJWVdiTHqLCgm+8cFB9h9PpKKrlkH4W+7RsAALsscgl+hhCiT42fgzaLtC+HA/HbhKoQQhAhpSfY2f0fZQMt/x6m9OPHk46oqq/ToNEzpj7wb9+sETmZMgcuUAghG04COetFT3D5iX8HGoFAVvLx4w6vUrf7zNmfx/zLn7+s2pTr6FR9/FrnjgjMyBiz52efOJVUaHcFBdsat2geYmIV7tZyLpRSQM/JzduBQOvWsR6PW+VCoayk1Til8lWoZjn2v+ECKGXA3ScOHzudU0CpsU6DRnVqRQAAF+jH2hUUSCic2rFNADS5Ms6qet2qD4hyJnKnhBBK2WWSbdfRqUb4r84dAAxGk3r69bGTZi/689DxZARgRmvjxo2uv+Xhia+ODjP4b9ZbzpE6szYdSgUMbtu8jclkPnv9HApR0xIyZYkINy7/+fPnJ087fPBgkZsDQHzdRi1b933jg9fa1Y/y46S8LMrbfuA4ADSrf1WwwQiGs3oycC50z66jUwXxVykkCAAAzyv3Dzp6Mg0A6jdpFqzAiaOHDu3fc2j/o8uPH1727QfRCgrwQ38ZREEIK0g+cSLfQWM7BBmdi2bN/G3NVrvD1bBl2y5XX92nV3cjhZpSJ3MWQqgAsObrt39JTSr2ga1WQqsm4fmZKSlJx9KSjq3bsW7WksWDrqzjn9oVRMIooOdQ8hEAEt+6ye5Vv81bsvzoydTYxIbtOnXuc+01CTE27VZl6FQ3yrbYDrSV0n9X9kEH8DAv6vt+TcuonqMn08Kv6P7hlHcH9u4QRMXBPZvefOrp2au37f1h+nOtOnw1YRj6o7+MXCuYcnBPkYcwNeW+69tnZNnPbJwLAO163/PZJzPbNQz2c7OyKoA8vyknk4AGP/Hm9LH3D0yMCc9NP/bdxx+8+OYMe+re0cNGXb15cZwRK97qAQEZIVCcmbT3ECF0wZsPTDueUvYL0XUavvzOt4/d3VnjAl6dqk9pAahsbxtQW9JEaQvAyj70QFEiIFruh6X/VqgCAIAppvm8nxf1a2JDRATavG33Wb/+ltejy5Ldp2ZPn/7cw3c0izJVPKgUSCnApr2H3ICQk5lBQ+968OnurRvknz7587y5O4+m71g++4YBrm2bfqhjpTUufpezCoaH3v122tO3AoBAjKzdaMzrH4VT38jJn2buXvr1T+tfuKer7ARREUuISAhkpp7YmORGgOTjKW1633bPTd0V4Vq3bPHCP9Zlpx5/fEh/S9yGkT2bXlDtWueyQnbT9nq9smdTQG1JsWXOuclk8ng8lX3ogUI+uoxGo6KUy2/7zbnLCtVbhzzWr4lN9XiZyUgAfF6vElJr0sQxfwwY48va9uOafS8N6iBQ0IpVnhNKAfB0xnGTyRTfuONXs7+8plVjuenZJ8eMH3LXB39uytr/8xtf/jrjiVuFqkVHK82QCZDIul0nPn6r4CoSyigVXBVAR4x/4ZPvf950PGf+4l/G39OVkYq/nyIAZCcd8JpNJhI+YeoHEx4eLP33k2PH/zbt1aFPvVoMeS+/9NJtK34IZ4BYk+c5dMqJDDBjYmLmzJnTvXv3sg0sA2rU6/V6vd4uXbrU4MwMpdTpdIaFhUE5ivL95NylFWK+5qZeAhHOiLooBoUgXtG+T2sj7PBB0qkMAKh4I0RGAYCMmfTV4KeKQ6MTa9nM4oyItikyYer8eVvbt9lwNH/ZvFlFj98aykhNWsYk30KuuOGmWAOiIDIZQpmCXEBQ3X7Nrtx4bGVqWq4LIIhW9MDlqpom3Ycc3t/PC9bGDWoDCFWVDQpo/zGvTDi6a9zHi9LX/bn2QNrNreOFECxgoqw61QXpW+12+xVXXDFmzBiv1xvolJ0QQlGUrVu3Llq0aNKkSTXbuT/zzDMulwvKkYL30yImAAEATIm2WSkh4u+YkSAhxoiw+i2Cd+yy24+mg78k5BFDo+JCo+JAKjackTvwqdwQnHD3nQPWT/4qqzArvRhCQ2tWJo4AAMRFByGSs5cCIyA2vtIGv4H3aFq+E4KspMIdJwkAGIPC6zYIhzPtJRWFAoDgqhBk6IMjX/rfQi8W7k/KvLl1fM29p3QumoKCgtDQ0F69emlmUVXVH3/8sW/fvpV96IHF7XY7nc7yfNOvOXdENz8nF4AEiPB67AU+AGIIDgE/BO7S3t9Oq2xcQABQCEtYJAA4XKrb7YNQA2ohiKApTk7IOQOJBAkpKnADAA0ODYiqGPl7ESohlFDCgm3BDHJVUuxwVfaQ6FQtZBJcCHHe7oP+RZqQ8azQpMlRpVAapJYzVPVbKSQFAO45dOAE6RiP/EwjRIGCiIKUk7tOeQiB0PqRUOFeWYiCEJp/YusbU78qEsZHX3ipZZxNtjEEAARASl2OQgAItjCzyQA1KCcDZ97FDu84qBJC/x5LRAIEPJv3pgKQoPq2UAOc0YW5dFMCCBWOL6a+vfHg6W633HXvzdcKjmeEM4QQwJ1FxRwIwZAg7doh6VQL5IVKKUXEQKdlpAnp8mpw1dbFZiD8NhAcAECd/9WnbkINCvp8KufcywWl9Pcf52QSghjcpU1jgAoXuiMCALpyP/xoxqf/mzZr4XpKqer1cs5Vn48qjKp5f839nVKIDoqJCwEQnNQg9y4Dk6Or5/21P5syxevxcc59Hq/CaO7e1at2HSQE2zdrYpLaahWxhCAQAMjShd9/8cVnr0/5xEMoJaLkzKpAKV327Y8qEMSQ5glxUONkfHR0qjV+c+4CABg9vObH0WM/8RHFYFAYYyajYeuyeU9+8D1BjGt3y02dGgCKCjZCJJQKhIhmnW9uF08U4yevTJi/5ojRZGKMKQYDQ/fksWN+PZIqBAy859EwCryGlXDIZIw784l7Rh1ItRtNBsaYwWRyFyTf++i4JLuKEDH0nsEAILBi78KEEM6BWu+8oQ8AOb5u8WOvzvJRQ8mZNSmb/pj99CffC8RGXe7u1TIe9VJ3HZ2qhL+qZYhiMBgI9XHPV++P2r/j1zsH3lS/dviqPxfP+f6n3GIPMMubbz8frsg5uYoaQ8GBhY177ZXf+z9kz903+MZed9w1+LrenZx5p3796affV28FgJbd7hz/YG9NFM81hSmKwWAQPt+x3T/36HJk+N23dO3c8cjebfN/nLdt7zEAuHX0+Fs61UbhB0l9yohAvPmRZ3vO+n7V4fzPJ47Yv3bhwP43JcSxtUuXzJk7v8AtwBz+3rvjQwwouN5tXUenCuEf5y583kyfzwcwctT4E0u/Wrlq8ZZVi0u3hsY0e3vmzBF9Wgo/dYZkjKLAjjc9uOjb/AfHvX0yI23ul+/N/bJkKzVZrrn14Vn/eyPCgljTGkhgQW6uz+dr3feerqbs//325/vv7Hv/zDZisN754LOfTntW8ZOwDiEUhDDZ6v/w22/3Pvjk0lVbNy5fsHH5gtIv1G7dc/r0j2/pUh8D2uFSR0fn4qmoc5e9soLjm7375pt5xHDP42MT3n581pzvdh1MKShyWELC4hNb3jn0rkaxwX5doS7dDvYeOm5Pv7vmz/lx36mk3CK7YrDG1o7tfsOAvp1agd+FKCsZOVXBRkx4rXla5pV9br2pQ7O7F89Zun53RmYOYYZacXV6XDeob5cW4Nd+k4RSRIxu1GXxyvWrFsxfuXVnRk6OyllkdEyz9h1vGzAg3AiXTw8mHZ1qRIUjd0IAwBRV56Hx4898VHv4qHHDz/5WILRHKCVC8OCYuiOefObcbSgEkJqlOiBHmvYadp+sHEaEbjcN6XbTkHOP29+OlhCCQgA19Bw4uOfAweds1VVldHSqJn7KuSOqqooAcomLynlJFxJEgUgZC9D9TymT7UFKm54IIaS+eE31N1xV5ZAySjlX8cwzrPTAA2FU6j1wzkvNIQoEwmrySOtcfiCKcnRR/e+o8T+FvYiW77j+nFD9+4+W0bUJ9K1PCDnLXE33NUz5WyiHMS0PnJQ1F/gTq6OjORdy3OX7G1WlTaBfJX91dHR0qiFCcEpZ+vaFQx+eXASMEH5O8C27/wghWgx6avZLw8/bw0BwThk7sPyrIWOnUcVAyd9L4wljyHl4h1t/nfmiBSquxl0udOeuo6Nz2SMQKBQln1y5fft/fzE39hDA+UVU5Gd7/ly6e/fu8/84L17V8Jh0566jo1MlQCHEmYS1TG5olqKWYXhs6+s/+9joJQqBvwVqBOfG0PC0tUunfP29g4v7B3eF8yt7oKCMAW5OymWM9rl97KPDe7iK7SVyHYSgEJbwelb5P5oc1IWdO+dcCgAFWkiTcw4A0pA2FmWtpLRbFdCsJ1mlGK1SQqzaHHWlHFdl78Il7jdHZPQfCw61KnuTzj28QfMHRjc/z2Zf3i1fTXWo6v0TP5444iYhOP2nFBoCowBqYUryIc7x5vseuPm6Jv9mLfADClAe5x4eHs4YC7SuGwBIE1ar1Wg0amNRYrPZSlWHKovSaEWDPSkVltPSaKmJSvc+8omuzVFrzzknt3qAiIQwQk4nHdmwcdPhU6mILDahQbt2bdu0aES1XLCCyMuKSiJygUaDe9ygfr+u2tGy9+PTXh4tVE7O55oQkRLiTjtxbHcqsKBGdYJ9qkoIZZRwrnIuKGOU0IqvGy8//+Xc5Zh+//33jRs3VlU10OOLiIqibNmyJSkpad68eRpYBABCiMPhKC4u1qZfzL+hKIqs+dHgOi41YTabZY2NNkYBgDFmMARCjPgiMJlM54xDTaL0oEwmU7U4OkREQqi34N2xYyZ/+X2R01u6iSrGawfc89GH7zWLs2l0sggpG1Nyzo1G5ecPXpry23ZLrSZffP5qMBGcnl/5EAEJQHpG8gEnGOt063RFbQOAy+XilJlMRlnQJ4SmT9wLRO6EkJdeeknLHZIMHjy44n/kopBi0JVFZGTkmjVrOnfurFmOSAhRXFw8bNgwo9GojUXGWEZGxh133KGNufNCKaWUjhgxwmq11lThb0KIz+dzOp2V/hwtB4iIVC0aO+iW9xevBYCw6KYDBvSKDDLs2PDb6q0nls//6sZTOWtX/Vw7iGrc617mXvIOrhv77DsI5JHnpnWqZ+MqZ//WsxMRAJIP7vIB1L6i1uJvP/19/s/rdu5nRmuz1h06X9X5wUdGxwZr2tL5As5dCPHxxx83b97c5/MF+skphDCbzV9//fWxY8cmTZrk9Xo1CCcZY8XFxaNGjbJYLAG19W/ISKF///6JiYkaTDOUQggxGAyqqmrm42QypHHjxlDubgN+Jyws7N133y0sLIQqkCAKEHJsrVZr7dq1ofKGujxwLhhjq76b/v7itQCkx5DRX059p0GMFQDQN3nGK2PHvP3Fye2/Tvx0+WdPX8dVQRXNchqISCh43npp7CkVa7W9fvyj16Pg5N+TKgIpBTi4Yw9jrGD9j8OWzirddPLYkd/nz/l09q/zvp/bpZlNM7mO/3Lu8rLo3bt306ZNtRpT2Lx5s8vl6tmzp2YWVVUNCgqqrDBHDnK9evXq1atXKTtQiUetvUWDwXDttddW9tFXwoFXRRAJZegp+GT6LEKp7Yrusz7/KNECqqoiCoMhZPTkt3/5+Yelhwt3LVvEn75OIRqVh0NJxbpyZM0PH/68BQAeGvt8tBG4Ckz5N/sIlAI4F2/bxzl32l1db71/7CP3No4LTTq049PpH/6ybmfq7j8HDH/44PofIhWNOslfeELVbrfL2pVAr4HknCuK4vF4fD6fNhZlIq+4uFjLkPnf9qSmZgnOQc5kVuIOVPq51oZKH+cLIiVbi5L3bdh+DAEGDX440YKqjysGBQAEIlDb539sSkrNDY6JAgBgTKvHFCJhVLjfe/c9N5Ko5n0eue0aRCT/UeIhfbu7uGnThplq+DUDRk558WG5ty2vbH3TrXeOu/OWdxeuyNn608z5G18c3IVzPyhyX5ALO3dKKWNMm2tFFjAQQrSxKJ17VbgHyNkzOTqBoyqcbh0AAEAAKCguSKcEBHTq3AaRwJmzQwkBxDr1mtWpV/p9jXy7EIJRlrVj2a9LdxMCtw19IM4MXBX/mm2HM+q4plrvff27EEApAAougBAQnFND0ORPPli6rfPeNOea5YvF4C6MCA0EPPQLXUdHpxKQ70/Fp1NQIIASG2kh5OxsBSGizLImzZCv0D/P/i7DR6gx7o7B/WQ32Av/koD8ohAcidRLpIpB4RyNMS3ad2iLiGn5xT4AIESDQ9Kdu46OTmUgNawtVkEIAM+3exHPXtWPSAlBVRV/a7QEHrnO1JP904oNhGBi1xu71gsnKM47BXpmIVzJ3gnO3U6H2+M7p080ASIQqGIAAJfHJ0CjNaq6c9fR0akoqnoJoikEAGJrN4gFBBBbVu4nBLFk5glVlSMhs6a92L1793vGvugAANCiSlwIpASSdqzbdyAFkVx/XR8zBcHP32u+RCMBiOAcADbOn3bV1Vf3vOm2VDcRXJSoByMiCEo8eZmZACQm1GjS6FB0566jo1MBEDE1NTU/P/9if0gJEQC2Ok07NapFKJ0/d0aKhxgMCuecq0JRGHGnffHBxxs3b05P8VkBhCo0CHel0929Y1OmF8Bi69LzGgAQ5HzZdkThVTlXVdUrf2U2Gffs3bd5+a+z52+gjIIQQggu0MDowT9+WLvuIBBsUa8NBRBCiwmE6u7ckav/Auc1vyRCR6dS8Xq9ycnJeXl5l5IWJwQ5h6CYEaOHoBCn96+49f5nj+Y4GGNMYfb0Y+OHDF6XVAQQPHL0KAqARJuKAwIASeu3EoCQsLj2TWIAgJ2dk5GvF/nHNne9sm3btq163HV/ro8BQKtrbupSPxwImzR25OcLNxLGZDXK7nW/3vHoCzmIYGryyKi7ztTWBJzqrgpJmFLdD0FHp1pit9vT09NVVVUU5dLmPCklKMTAB597aM5fn27dt2POlI6rf+7Tr18sKVi65PdjpwsBoP9jE+7p1UAIoUkHdgRCAXzbkgoIpUFRLWNCFAD8R6EOAoCXO7Yd26cKCCMJPgKAqsFWf+r7r153+5iCrEMPDuz5YdtuXbo0P3Fo57o1G5w+ABL2zicfdkywataZstp6RkQgRLjzl/610ulFRum5F5fF1vPaHjYT0WjBgI7O5URubm5mZiYAMMZUVb00504IRUARVGvmquX1Xn7y41mL09JOzP9qptwaUbvx/aNHvfb80wpqJT2AABQAi/cXZwshzAlxYQwABZzvpYEQemZpCqcEgFDOeadbn/jjt8jnJ05ZuXnXnp0r9uxcIb/Rrtt1jz3/xn03ttOy53B1de4oOGHK6R1LBtwy9F8Uv2qvTT7RLcEkEJnu3XV0/IQQ4vTp0/n5+dJJycV3l1ytSAghiGCNeX7KnPueOLbvwOGcgmKf1xscEdO63VUNatsAULOFqSXl6iRs7g9/FDncoTHxCgD847lCKAOAiHqdtu3YLgQag8OiDQBAGQMh8Krr71nRd9CuzdtOpqXb3V5LUFhcYkKHDm1NZ1o1aXMoECDnXvZMB2j1s0DCAI4cSiZMCQmt1bxZXVB9JVYJpSgwqHGEAqDZygcdncsAj8eTlpbmcDiUs9OhFVpfTYhcoR2b2Cg2sVHZLVzllGkamxEAANa42RXnfvYPFFNQ27btzvmQUiI4J8zSpkv3NmdtQc5R44WKfnbuctGBcpZspgqEMn+/iSAhAHAw6biXq11veWrF12P/7ZtathvX0anBOByOjIwMVVXNZrPsqFO6qYLrjOQK7XOUIQih/7UoNJDIPZGa///+LeRc1qyftcqdMiafVWVGhFBKtFRyl/jTuct0EgXwuZ2FdicQEhQSbjEqAHDefrIVgVIKwFN37QQC7bo04qrPp3IpWiC7MEBVlkzS0amGKIqSkJAgZZPT09OLiooopdId+2URadVRhijfnvyrZIhUUKnsg/Cfc5ee/eSO1e//78ttu3YcPZUmiJJYv1mrVq2GjXq8b4emfp1JQEoIeLI37zgGaLiyYSOmGJjyt6yjEEJmz3R0dPxFaZ8Tj8fjcDgAwGq1KopyiaWQOgHGP85dOu5VX70/5OGxGXJ+k1BGcHfO2t1b13777ddvff7jc8Nu8Ff8LifPnRnJB/OLia1Vk4aJR3esX7Z5t9PlTmx8Rcf27evVjqqhnXZ0dCoTeVPl5eXJnIzNZgsODnY6nVWnEbFOKX5w7oJzwljyxp9vu39sHoAtodGYMRPuHHhtmBE2LJ836eX39yRnPf/gqJYddt7U3MYFsgonwREFAZp6aHeBA5Ww4meH91y/dkfp1pDQsEEjn3930nPRViH7ZVbuEOvo1Bhkm6eioiIAsFqtwcHBlNL4+PicnBw9mKpqVNy5IxJKQZ367pQ8Qmh4wmc//35bh5Ip79tHjGvXoF6ra+5yeJI/+eiHmz4eBUIFWlGjiAQAdu0/5mEM00+sT4dmHXp0alG3ODd9xbJlhUWF30wdf+BowfKFbwYTgdUh967ruetUfaT7zs/Pl0oy4eHhMudutVpr1apV2Xuncy4V9rMCGaVFR7b+vngLQew/4onbOjTyeTzMYCSAqhANut/yynMjV+/LbNvMCACMEqxweSJSCoC79m3mnFvC4qbM/GTEbTcHGQAAjm5d8cTdw/84nrH1t7c+WHDzS7d3+a+2h1UGXc9dp+pDCFFVVTYpNJlMYWFhcKZsoTQdXxZZUaNBxkaakCUuNThBdLHvRhUPopEAZGQmH/dyJOYbbrgJhSCKgVICQAyUIirPvvX5s6U/oH5op8IoAcD7x0zudEt2dL1WXds2lDJyhNDGHXv98MdP7br0PJHj+eGTz569vYuJQsUfJ4GDc84Y++OPP77++mtFUbSM3/9ZfBZQKKU+n69///7Dhg3Tcp2ejl+QnqWwsNDr9UKZsP3f3A0hxGKxMMY0iFqkibCwMJPJVOODpPI3BPXPhGpRXrYKABZz4wZRhFJ6VrEqqj5VIBLKDH6KoAkAIDRq061RGwAAzjmlVFEUAPSpakijqx8cctNz035OzzyW4oDGQVRU4Wyg9K0HDhyYN29eQkLCJUmnXvwAEsI5z8zMjIyMNJlM2vh3g8GQnJxss9mGDRumgTkd/yKvGan+aDAYwsPD4T+rjYOCglavXj1ixAhVVTXodC+rM1NTU4cOHVrZQxVAKKWnT5+2Wq3l+XKFI3dAAHAV5QIAIedtc0iUQPSeLnO5lHlWEwIEhYiu0xAAipyq06lCkIKIVTd0BwAAznl4eHi7du1kWBRoCCFer9fhcDRr1sxms/l8vkDH0UIIi8Xi8XgUXeitGlLabbg0bJdiYef12vJa6tWrl9fr9fl8mr2M1q9fv1evXna7vbJHK4AQQsaMGdOwYUMoRzF+Re80AgQAwuPqEQB0eU4cz7+mrk1gSfZFIBCA/dvW7jmcFF6v2XXdOrAK50gQBSHUnnl84W/L7Wi8cdDtdWxB5O8ggiChHtUFAEbDmVVhVduzAwAiqqrqdrs1c+4+n09VVY/H43a7tYmtZMb2Mpk3rmEQQoQQsp5dURSbzQb/HrbLz6+++uqrr766sne8JnPBe7bCzp0QAKgX37ARgWPC9duCxff3GSM8Hk4MBIUK1MjU1566/8f1x7rd9fh13Tqg4KSC1TIogFBn2t4HHnjYA/COrfGzt3X1eDwGgwFRIKGUeHcsWU0IibIE1QqlgIJWE9n6kr4u5f8+pQQRz9x7l2CIlKGcv6TSVuk/LsaoNsOoEwjsdrvb7QaA0NBQg8Fwwcm9y6cATHsopeW5m/zg3LnA0CbtevS68ujK/b/Onfr18Fvuvaq+3AcjwPpZ7y7beByA9ul1OwNQBVEq5mkJYQgQ3fyqLvXD1qQ4pk147YbOP7esHSQtMoCFM9/6bt1eROjed3i0AkLFCtdeVkUIAY/DLpjBpBCny2OxBjES4FaThAjV5/T6LBYrcK/dwy0Ws+6wLwcQUYbtjDEZtl8QvQCs0qlwSEsIQQHM+uxzY0OFUPOTRg64/rn3Pt24++DeLaveeuqhgQ+8nC8w7oobHxraHRD9oJ5DiOCcWOLGPPMIV9W0w3/263HdlBlzt+/at27N0heeuPeOR191IdjqdHzlmTsBBWiu16MBFNCu0pseHHP71U1IcMKz456ODTV6A9qHjFDudtoatx41criFFwfFthr18BCjUPVV55cDDofD6XQCQEhIiNlsBv09rDrgh5iWMia4aNJ3xPzpycNffDkj88g7zzz8TpkvJDRt/9UPM+KsIAT6ZeKOMSoEDhj9yvSk5LHvzMk4tv7Z0evLfiH+yt5zZn/eONokUNAaeRVSxlyO3FzvuKdf7pTlDTm9OSenSDFbIJB1LwojuXmeG4fee2DFIvMNt/VsaP/C5TKGhKH+9l3Tyc/PlxUpERERoCt7VBP8k7CgjArEPo+/tK1fv/998vW2PYdz8wtVgeFRMd373jb64SGxYUEC/ePZAUBKtiOaH397do9bhn8x46v9aWm5BcWKwRpTK7rXwLuG3TU4Joj661lSBRFCBAeZl3wzrV33fndfFX73k9OKICiMQAD7xqIgJqvj1K75f+286bZhIi7ip5+/caHRDFBjF43oAACAy+WSJShBQUEWiwX0sL2a4LdsNCVEcFG76VWT378KAOTKNKPRKLcKgf7WVSeEoBDQqut107peBwBen5cxY2kOJgAWqxCUUofd3mXgyGvqOPcfdj/57JPPvfkRxyAIZNYdEYLMbPmviwbNeEvdu/KDrUeCQoL0SbMaT15enlx0poft1Qu/aqwzKoRQVVUgMsaMRiOiUDkXGCA/SyglQnBV5QhgNBgZBcE5D6DFqgEhKFQ0h93Up+vy76Y9+twbwY3bd6kf6/Z4A3rXoUCz1bhnw4ZjJ3P2bV+X6hDGQE/h6lQ2Ho+nuLgYACwWS1BQEOhhe/XBz3UkUsgfEEsWPRIaaFkXSlmJQfm/1XmCHkvH7YLfA2KmvvcnjFaRGRXywPD7LBaLycDKH0eX9lgor1EAQtDppqOeea6ltfip39cZzebyqxeU30qg4ZxXkT0JNLJ3TQX/SFl1X92tVy8CUySo+VVQ3S87qZVoNpsvapLAbDYTAogQHHzRJefyzjeZTBaLxefzlWMACSFIGRPu9P/N+OtUHo8IC76oZ4lUGqn0WRC9Pq/8+Hy+0rA9NDS0sndH5+KoiRXg1RCPx1NUVLRz506fz6eBObnoiXN+5MgRuSCl3D+ELRtXEsUYFGS92CIZg8GQm5srnYX2D2OZKXa73XPnzk1PT9fYuvZEREQMGTIkLCysIinyvLw8eUHqYXt1RHfuVQIhREJCQvPmzb3ewObNS+GcHz58uH79+larVQhRfqMy9L7YeVRENBqNRqOxclMixcXFU6ZMqVWrVmRkpDYabdrDGHM4HAcOHOjdu3dFnPs/1X11qhcXcO6EECxDQHelrAnNLIKfevtWfE+6du06d+5czSw6HI527dp9+umnLVu21Mzo888/n52dDZVXcSGzQzNnzmzSpIn21jWjsLCwV69eFVQ2LywslGG7VPet7GPSuWgu4NxVVZXJWQ0ylaV6gfLO18Ci9C9S1vyco3Y6nVomGVVVlYGkBkLncng5516vt7TLQaCNStl6VVW1yTv9By6Xq6ioSAhRIzXlS1XXHQ5HRaIWIYRU9zUajeXUG9CpalzAuYeFhbndbo/Ho4FwIOfcZDIRQoxGozYW5aI7p9MZHBxcKqTl8/nS0tLsdnvt2rVlYa8GSOkujd9X5CFr+Vp2scpogUDOXUu3XlOde+kBXvJfKCws9Hg8ABAWFsYY02vbqyP/5dwR0WazDR061GKxaJOgZIy5XC7OeYcOHbRpl0Up5Zx7PB653ooQ4vF4HA4HY+z06dOEEJvNptmVfXECjRU2pKXRquDWdcqDDDJk2H5BdV+dqsx/OXfZDHfChAmNGzfWwMHJ1+S5c+ceP378xRdf1MCiNOFwOB599FGZLhBCBAcH16lTJy0tjRCSkZFBCAkPD9cjF53LgdKmHBel7qtTNblAWqawsLBz585NmzbVbIfWrVuXlZXVtWtXzSxyzn0+X9kXhbCwMCGE9Ozp6emEkAqWlOnoVAtk2F6q7ivTkvplX025gHNXFMVut3PONZtz83q9sgRbs6nFoqKifyYN5Ntoenq67M0IALp/17kccDqdpeq+JpOpsndH59K5gHOXU46yYEaD2afSBdPaWCydfTrvVpltl5l3Gb+Hhobq/l2nZpObm1tW3Ven+qIvYvovIiIipH+nlMosfEhISLGHg9gAACFnSURBVGXvVOUgOBf/UlFDGauZovmXHy6Xy+FwQBl1X53qi+7cL0BkZCQiZmZmSv8eHx9/efp36oceWjpVHanuSwjRw/YagO7cL0xUVBQiZmVlEULS0tLq1KkTHBxc2TulHQhAAHZs+OvgySxFYWXDdylb1vTq3m3rResJq+pOqbqv1Wq9rK7wmoru3MtFdHQ0ImZnZwshUlNTExISpLZ1zadkPWvB6w/c8vNB93m/Mvz9P7556jqVC0Og9Z11AolU9y0N2/WndXWnujp3qSROKfu3yw9R/K0q7491OjExMQBQ1r9brdbKHQRELBF3JyRAFWsISIF4czOOpwuFWq9o2zo8SFF5idAYo6By6JgYBQB62r1a4/P5ioqKAMBsNsvEo+7ZqzvV1Ln/d3NU5Fwwdq7fl6WWFbEaExMjhMjNzeWcp6SkJCYmVtakEyJyzhVF+fseRKFyZP/+tLtkS0AgO+XE/iKviO7w0/L1jf5FH1DPyVdr8vPz5Sp0qe6rh+01gOrn3AUCADmyY83WQxndr+9fLzLonAsRgTDGinLSDx48kplXgEDDo2ObNb+yls0CKIBcug9CxNjYWACQ/j05OblS/DsKQShVFAWELzsnT+XCZAmKCA+VSRFE8ONdiQIJhdR9O1WERm3q1grmXo8PgRJKKKGylyEhetRevVFVtaCgAABMJpPUy9M9ew2g2jj3ErkrrgqqKNT90gO3/7Qr+9uNB+tFNhOIrDR8FUCp+s3USW988MmR5KzSn9eu3/rx554Z//BQ+Y1Lu3LlFR8bGytX8ZXG72azWbtxEIJQKgpSp3wwbcWaDbv2Hyp2uG0xCVdeeWWfAXc+dt8dJlKaqPEDAikF2LHzEAA0T2wRwhic/fbDuahx6luXHQUFBaVNOfROVTWGauPcS1QbFQMF+Pydlxfsyqb/yLgLgZTSz14a8dDkuQBATbbufXuFe7KXrVyTfnL386OGZTro1KeHoOBAK3QFx8XFSXElVVWTk5Pr1q2rzVo++WTKPrzzrv4DVh5LkQNjsVjSTh5OO3n4j19++mXJvQtnfxVmQAB/xO+IoFAAdX/qCQDSqEvPguTDv61YezIlI7p2Yqt2HTu1baEwKhD10L36IoSQYbvRaNSbctQk/Bx0IaKqcjnbiYglQgJ+kJNFp8Oem3V6/fLfH73/zgefmyIIOac7MwpOKc3ZtfS51+dSgMQmfVZv3L7q158W/rl6y/o/WzasDZR+MGH8hqRCQhmv8C7Vrl1bLmGV/t3r9fp3JM87tgiUOLMfveuWlcdSgBnuevjFdVv3JSUn71y/+N7+PYGyNfO/HvP+T5QSFP7R1GQEwJWVvHcfAF359XONmzYbdt+DL7/88iMP3Nujc7uru/f7a1syJUSIym94onOxyNunrLqvoihVoXeNjl/wp3OXyx8UhVFKZXWKlC6g5OLaN58NcgQA75i+Xesk1u3W58b/ffUjAJB/XIJcEAD4/uvZ+UhEUNz072d1a1tfitS06NT358/esKEg7pTP56wAAOSXvD9/U7t2bSkY6fP5kpKSAu3fhRCUwoZFX/+4O5USw9CJM76fOalrhxbRUZFtutz41S+LbmkdCwDfvjstwwuUUT88UREJQMHplB0n7YzxXWs2eKJaDB1x3/0j7mnVOF71eLav++u6Hjf8sT+HUuCXfop1Kodz1H3Dw8NBz7bXIPyWlkEhKKWegvR5835au2Hj4VOpQAyJDZt37Njx1jvvqhthEQIvLddNAACorXbtugU+i9mkKCZ73qmjxzPPNo9EoSCKN+3fSgCv6N7r+rZxgvuAGhgKLkTja27p1T52/vbMg5sX+2CggYJf4pPatWsjomxIJvMzBoPBX0N6zgADYQDqjzPnAiHhDTq+MW4kclUFqlDCVZUZQl+Z9Kry5RJrRKzLy8HIKj61iiAI0JRDW9N8CECGPv3K2y+Pqx1mAQBnUdaM559+8X+z3c4DY196pef8j02AWHKydKoNZdV9ZYdb3bnXGPzj3KWCY9KmP4YOuX/dyYy/N6xeOftLeP3d9z6bPW/A1S3kZOBF/m1CCQAok+YsmMiRoCDMkH3wj2YdBzjVv6MMBGRAeH562sGjCHBl06tNiAIJJQCEIAdkttbtO8/ftuBYRmaWB+JN/vHuhJD4+HhELCoq8nq9sn4mIP4dkVAComBHQT4gtrtuUIIRhSAGSgFAMRgAsd1NI+ffNLLsvlXQJiUMAOq1u3HZ0oYeCL2+X1cKIAvmrKExYz/+Njnj1IcLNx747eeNR1+9tkmUKBlxnWqDru5bg/FDWgaFAEKLjm/pf92gdSczFEvIrUPG/PjL4r+WLnnxycGRQebsE/uGDhyxM9NNCLnU/DsxGc1Wi8VitZpNRkvwP5o6IgCA1+7IP80BILxREyBElMSRhAhBABoGRwFATnpRfhEHIOif2B0IIXXq1AkJCUFEj8eTnJwsCw/8nrukAFhU4HA7AOCKJlGIBM6WAhBc9Xo8Xq/Xb5YJAYCQWg1697vhxn5dKQqBqCiKoihc9QkkTz37GENBfKe3H0sFAH9Mruhoh91ud7lcoKv71lAq7txRIFACM6ZM2lfkAlPYq5//sGD2B7fffGOffjdMmjr3x48nGgDsp7e9/7/FQIi41GR3yQwt54jI1fM3WSaESn/eoH6k/P8znyMAxNazEQCCFSh0/xfO8e8pKSk+n8+/QZD0msJt97ldAOcv1qdMMZpMRqMxQOEXAi2tiqGUUYLWmMQwBkhIYZEzICZ1AomUCaOU6i2wayQVdXQokDLqStn7w/crKIHOtz/4wpDruc+rqpyrqo+La4ePGnFTh7p16zL3MQBQyKWG7mdz7m4AAkBOTspRFQBIgZcAnBuZB4WaCECAgktKqRQUQ0S3252SkuLfrrMEiABgEbWCQmwAcPBALiF/p9RlZVJ+xrE5X38964f5qQVe8MORypUF7j/nf/v+1A+Wb94DIPDvWVNEgehzOQQQQKOx2tTU6kjKqvtWupCGTiCo6D2JiBQgPfnwwQKnAMNtg+4GIZAwRWEAwAAQwj79bavP66MKBQBgSiDCSvk3DUaTmYATIUSh8I/JvUCnE6V/T0lJcTgc0r8nJCQoSskIq6rq8/kufTkrISgQjDFXhUdsIqlbfv0peerTiSbwqlyhxOdTTSbjqrkf3TN2GgTX3nbi5jpn1BwvHQQBwNA38/2JCzacaD/goW0LPxHcywWjlPh83GQy7l7ypxcBwdiodrQGI6zjR3R13xqPf1IUhUX5LkLAZL2iRR2gtOysKQEERINBYSSgK98IAISH16pHAQCNeHbyBwkAFJy2IwD4KdV+XhhjUjASEZ1OZ2pqamlrVofDkZubW6G/jgKADbh/ICIWZGx55OUZnDCjwiilJpOx+OSW96fOZgRad7mrdbQRkVd0apMQ5BxoyPWdOwHQnUt+fmv2eqoYlTMW0w5tHDPlcyAQ3fTGXlfWAwx4W0Qdf6Gr+14O+CHnDgD27DSCSAw0yKLAuRGcXzQZy4UQQqUAAIdPZErBxJLPAQAwI6MIAcBAAlqvJ/27fM91OBwpKSnSv9vtdofDUYF6f6CUCIE97hx1W/NYFHzJu4/fMPyxeUtXHdi7c+7MN/t1u2Fdag6nQc+9+JgCgMIPB8koQYA7H3+6UQQIX87zI/rf+/hLv/2xdvuODTPfn9i7b/9DGXkC4ZXJL9YKIkLodZDVhlJ1Xz3bXoOpeKqUAIA1qjYSAm5vWoZDJNpKC55l1jYnPSU9O89si2lct3agQjsCAGAOC4tNMO454S04eYoQPFPtiEApAjlizwKAhERbtI0BCAI0QFG89O/JyckyrZmWlhYbG+tyuVRVdTgcl9zIiRCKKCC41mc//OK9945ftyf99e3Hf337cekXFGv4hI+/vbt7AyEE9YdGI6FUCBFet+PCH7+67f5xh5Myv/lo8jcfTS79Ao2oO+mdDx+9vb2/LOpogNfrLVX3lTJhOjWSCjt3AgBQt3aDOoipqnPF7+sGX323z+slRgNB4RNgVOirTw79avG2znc9/MdXU6ngSJnfQzwChCOw0PiEZi3JyZ2b160q8D0SQpALpCgAgDhPb12zlhDSKLZuJCsRaQlchkZRlFL/brfbk5OTVVVFROncL3mpCKUUUdhadly0fscP33374+KVOdk5Lo/PFBTasHmnUU88dFWzunI1mb8OhFKKQlzRa/jWHdfOnvHpn5t3ZeXl+DiNjIpu2uGqESMebFMvyr8Wqz5CXFi9gl5Ie1lwjv/6WxrQ99yCggJd3fdyoKLOnRIqEKKbtu3Upm7q3pR537x/36iBnePMAACEGSmkbPhh4a/rnR7RrGFXBYALCEiERwioHBRT345Xf7Fkx6kdiz79cfO4IVcBAABTAJZ8/dGKwwUI0LrfrRRARaIENPsOYDAY6tevn5SU5HK5ZOU7pdRut1fwXiKEohDEFHHXyDF3jRwDAIJzwkqel0JwWjFNtPNYpFQIHhKRMGrCpFElVTKkdLGx4JxeZjqCfhnhyho0VVULCwsBwGQySZkw3bPXVCoeuRPkHCyRTz75wM/3vlSUtO3mmwd+9PbEXh2uMPsKNyxe9MLzE9I8whLV9uEHbwFE4h/XTiillJ6V5KUMEODmBx9s/P4nR+2eyf9v78zDo6rOP/6+59y5k5mQZCYTkgCFhiXQIPsmdWERFaUIBRSXumGxyJOfFdn0UawKVbRStUBdEKvy8GjBqk9sfwWVokX8qQgt0BYQ0SxGIPskk0ySmXvO+/vjQAgkBEtm7mQ5n78yd27uOffMzPee8553yb7ZFXrmuunj3VbNe29vmPfAWgFgdh81f9ZFQGTDTNOyrLq6OpVAtWF+FAqFgsFgK0v0IWMqKRsAcs4Y5wAkLIGMRVzZT4wt40RSCgmMccYQgaQUUjLGO5Oyn/gMVy+9PWdPkdoCOeMEIQhJUpdeT617cXQPdzP5Mk+WLXwg+45PDpY7TUM0XATRILLAnf3UczNH9BSSeBTCfSsrK1USJK/X26nWW52QCLgnc86kkJfevHj1jv33/OHNsj1bb7x8a7feme5wxdeFpQDA3b7fvvbC4DRTRmj9TiSCISkBrEa/LkQupXT3GPbS849OvXVZwH/kl3OuWZGRmRjyf320BADAkfDcS2v6eyPWjbMRDodLS0tVwhmVOk1FqyKiEKK6ulq507Ru/o7qsdEQB8uN6HqaIzJusIYWkTGjzUiDbYYFQkAQO99+Y/vXLZ/ozS8Kju7hbpptR3U1fDw35+V3DpwlEGLC17+eOaKnjIK4CyF0dt/OQ0QUARlDiXF3v7xp8NRJq9Zu2HfwSMXxb8uJpfXoOWbc1CVL7750WFaEJBUBwBGXMCAzozYMHvdpMdOMoZRy/M8e3Nlz8PInnt29/2BZUUEVGt16/nDg0PH3PbToijFDoq3sAOBwOHw+n8vlCgQCwWBQRauqRpVlJjU1NVJiZP+auk2t4huemmCHxKurm3MeXDvseJXBWON0C5LA43Ksf+zxfaXlPxw5YmS/JCKJTSKJCQgBvi0oyBfcmdh/+eOLU91kiRM9ZwiCjItG9wIAI6I7U2pwqqqqVJowld03mmOliT0R+oARGJEknDBj3oQZ8yrLSyurg8Ky4r0pqd5EOJlZLALtMAYAyRljDhzObTjIT10Zlb4PHTftrXHTAv6yMn+AgCUm+3yJ8RHsxjkxTdM0TY/HEw6Hq6urlcpbloWI9fX1dXV1sSq+2vEoLi5WQ22DxCMAAL96TvbVzb27Y9Pa3JqKLhmDXt+8sXeiQ6oqVqejnkbf5R6sIdH7wglLs+84a1sRvYtms/tqOjaRe3ojMiQhJGM8KTkl6WTUm7INcxuX8IwxKQQyluDxJXh8J7pBUpKt3VAq43A4vF6v1+sNhUKBQEAJfWVlpcvl0l4KrUQNYHx8fF5ent/vT05OTkxMtEHiz3B0kVJwh1mw4/VZN9ztB++6FzaP7ZNuCWk0u71ECACHP/kCAIZkpYVCISRihqHyJgGqfRMejcpWZ2T3jdLgaNoOkV2anTIEN6yXMUp7fC3CmnYDo+CA2fJYNEr8goimafp8Pp/P1+A800yGnJNEtWMnqtESqdmcbY1GvAk1gF26dPF4PBUVFbW1teXl5Y0lPko03kMmKcFwhMvzbvnFwlKA2YsfunNylrCssxg9iBgHEJ998y0ADB1yuWmaQEBAiAiGAWpxGZ3ON2T31YFLnYSo2N1sCkhtP91Qfyg9dblcTW0yKnK1YZvUhv6YpimEcDgc9jSqxA6b1OQSQrQmalcNaUJCQiAQQMRgMBgMBl0ul8/ni7bEKyQRZ2zNknt2flmU0nvCk8sWkBR4tvEk4gyh+mhu3mEw4okff37F/Zs++Pi7Y8W9Mi8YOWr0zJnXjh02gKTASM+IAoFAQ3ZfO+u5a2KI3lSxjxa0xu12M8ZKSkosy4r2roASxOrq6oSEhNLS0uLiYiFEtBsVQqjHyRluoCUlJX6/v5WtN5hi1HVqa2sLCwvdbrfH40lMTIzeo0tKwTgv+Gzzig3vAmD2Y49kJKEQcDYvFyJChKqj+YUFVQzjfnPntfUnHWaOHDmyfUvOs6ueWfTr1x5f+JOIbw7V1NRYltVQlEPTGdDiHmOUMPl8vk8//XTSpEnKYmNDo1LKcDg8b948znlr5s7fH4fDEQgEbrrpJmj0nLMsKxQKtV7IGiu4uqPq6upwOGyaZiujCs4OETAm61es+HW5BanDp2TPGk9StjDplgQc4MChfV8GCaCWedMXLLh/5mWjrGDF+zl/XLfujYrasicW3dR7xM5fTBgkhOSRi/fr2rVrXFxcfX293snvPGhxjzHKEl1eXj5kyJCVK1fa4M+jWgwGg7fddtvKlSszMzNtaFQIwTlfvXp1eXk5NNrw7NKlS+uj7aWUgUCgYS9BSul0OpOTkz0eT/TuSwrJOT/80R9ff+9fADg3+96uJgiL+Nl/UuourWD1BQOzHAkZq1958dKsnuqtiVdOnXbxmClzFlVZVY8/uupn416LZ5GsScs51x4ynY1ziLuKu7Esy57fv/plEpE9LSqJiWxVjfOjpqYmPj5+0KBBtrUYDofr6uoGDhw4YMAA2xpNSUkpLCxsfMTj8bRedCoqKvx+v9ofjouL83q9SUlJUd5IIAmMgdzw+xeDAl09fnzHdRMJCFtsVPkWXHL9kr0zF5DhdDAQwlL1Ey1JP77plw9+9rcla/5cuHvb7oKq8RmJ0Yhj0nQezj1zT01NtSfeQbWSlJTkdrvtjLDw+XwxD+hgjMmT2PNIq6mpYYwFg0F7GlUzdxWyG/ErFxcXK1lPTk5OSkqyIZSBpOScV+V+8dbf/olAk679ad9ERsJi/Ht8kZAZphOApCR+6nwhBU2ece19a94V4WDecf/4jERdkVbTGlr6Lqp17pIlS7p3766KtkS1K0p0du3aVVxcvGDBAnvcwBGxrq6upKSkLeTZaIhijWoramAb2rKt0SglOywrK0PEHj162CPrCmU9//zvfz1UUQcO95QrryECAex7zRGILCEZ43j6rJxxAEccB5AW1dXXqzMjZ5jRdDpa+jYi4vz583Nzc/1+vw2u0GpZPXToUMMwKioq1Mtot6j+mDt3bkpKCrSx2HrNOSEi5fhogzdn42YBGYC15a3/BYSE1CFXTOiPSOfIaE8EiBDInz/vrn98U3Xr/cuzp08UQqqkQEQkCYNFx8IA4KDkhHgAXbdQ0yrOIe4PPfRQrHtoK1rc2xfKyR1szB0GACqrKPnzdxzIA4IBV0zu62ZAgrVcSBJJErK4hK/2/nPXwaLqNRt+/tNJcQaqQl3MMBhYr655hTFmxmcMzvABkLa3a1rDOZaxotMQ6w9C0yrsfCoTEQJUfHnQf6wUAMYNzkSAZtL/SgCAZxdmXzjqotFjh61/fy9DAEfyHbOnAMDB7W/clL2quFpwzjnnrK585eJfvLRzv5Ry+u0LfpTslCJaoaqaTsI5jIT2rnY1mnYAESDAN0ePF9dzzpzd0jMBgKhpMgkAgEPHD+za8ykATC2rBwBLyNkLHtn8ly05e46/89ySXX/deOWVl3njg9u2bN1/KB8ABlw4+ckHbyEiiEHaDk2HQvu5a1pCOaciMnZ2G4HyXj35ChlrE1kfojgmAACQX1YYkAIAk3ulAwA1zRQEAADCOrEoJCQAICkdnl5vbP1oyeIHNm3O+S5v3yvr9qkT3CndJl9/55qVy3okcCLQNhlNK9HirmmJc2SeIRKSmgZSKsfHWPc9WiifnInX3LH9b+PIdA0f0R0AmgwCGgwAYOmja2+8qxQA+g0ZDACGwyCSrpQBa199a+HCPXsPfllUXkFodk1Nyxo2fFCfngAgtbJrIoEWd03zEEkiCJbkvvWXHT8YeuGkUQOBJJxWfYIAkXMsKjhy4NDhUn8AmJGS3mPQ4OFdk5xNTu44qHVJclqviWm9Th1s5jQAgMysIZlZcNppyFSRxD5DRvYZMrLxv0ghVHnsWN+ipiOgxV1zBkQERBQOW06n+f6rT95+/0tT73lk0qiHScpTJXCJJCAT5b9Z9sCz6zceK6tp+P+e/UcuXvbAL2+ZaVtplBgNk1SbqIzxFtS4wWbV2M0fkXEOUorGvr6ojmo0EUKLu+YMEBEQ0ek0D36xdeGzbzLG3Obp3xMiScRY6FdzZ6x4bQcAxPl6XnHlRF6c+97fP/728J57br2uiv667NbJUopY5PO3Z5i+lxS38HjrqCOjaSN02IlVR4eEEOJkNkei0162hlB9sKT4+KG9u1YtX3r5VdfmH/dLKc+4spSCMXZwy8bHXtvBAAaPvXn37n+8+/pr72zb8cn2t/v+wIcoly+975C/njEmdRC9RhMLtLi3P1Q0I+e8oWqg2vbkjEl5/lqq/Dq2/f6x7t1/kDX8wiUPP3W0vIYZzdRjk8AB6NX1r0tEnn7Bq2+/dEFGihDCkmL4pTM2rrovjiBctH/jO7sBUOoYAo0mFmizTDtDhWIiiA/effODbR9+sf9AdU1dcnqv4SNGXjF1+qTRFwBJwvPytkAEAHdKatbAgabL5WAGWYHDhw9WVJ2+W0iScUY13+4+8m8gGjdl2ohucdKymGGAlELKsVfPGtV3xcffBPbv2gpzLuZMT901mhigxb09QSQlMFlVuujm2Wv+/GGjd3a//5e3n3xi5fz7H17z6GKUEth/re/KmW/czdlfXH8XY2hJNKDmhmvGv/3B/sZZU4iIIVQV5hbnFgOw4QNHE5FKtgIMSSIk9hw0aMjHX39yIL8oSOBmWt01mhigzTLtCCJCLuuW3TJdKfvgsdOef2Xzjo8/2fjC46P794JQ9fPLlyzfuJMxRudrDGHMcDqdDodpmg6H082NM+ttKgePYFWwKoAAprd3H0SkE5N7BCkBHP1cXgA4VugPhAEAQau7RmM7eubebhBCcs4Pbd/8u3f/jyG/+JYFW15dFa9E9ZKLZk6fMf6iS77ILVv1yNP33niJh+H5pos9UdFISmRMEDW/ScsQBRCYzoyeHvVaHUeQAKxbHw8AoM5Xq9HEDj1zby8oywdt+t3L9cBcqZmrn1kVjxQKW1KKUCjsSv/RI4t+3rdfv/6pNcdrBCA734TJ2Jjm+gEAUFiSfxQAJPrD2HCwgfhEE07O8TUaTUzQM/d2AgEwBFmxM7cAQQ6+4oZhySClNB0GAJgmJ5JTsp+8av5KZfwGgCgFOqqLupwuJ0Adg0SDQZMZug6x1Ghijp65txeIAUCwym/VE8DwYb1UIGnD24iMpAQAknZIa1dPeioAAPEzjfsIAOXfVcd6uDSazo4W9/aBMqCLQHm4uhIA3HG86fQYVdE8W5JOWcqhPlR3pKAE4JQJhoARwdFj1QDATdRGd40mVmhxbx8gAAHwpGQjwQMAeQXVCKfvmBLVBcr27d69Z/9//EErij1BAICkFE9qCgDUl+cXAhGeEHcCjoihg8FSAOjT2+d1AJDUEq/R2I8W93YCopQA7vShcYmI+Omf36sEBCBLSiIKhUKE+FnOi2MvvnjC1dMOVVoAIKIT+I+IksDVvV9a796I8NEH2y1UlYhIWBZKGT7673279yLAwJ59HABSktZ2jcZ+tLi3FxBIADh/MnMiER07/N6v1m9j3DAYQ0TTNDFU9PxvX6kLhZJTxwzqFgcko2WfQSaFBNM3efhwIty7bcPGbV9xw8EQueHgnL28+un9RSECc/TkqQAg9XdMo4kF+ofXbmAIRDRl7t2jUhwk6lffe+PCp1/+T9531VX+f3/63h2TJv9p7xEAyL7/3i4AIkLzZWXHP8MnkjEigBvuye5qEGDlvdfPenHTB8crAiUF3/z+scULV/8JANJHTLnl8gFEsmkpD41GYwPaFbLdgIxLIePSsjas/8OMOXO+rCh9ZtHcZx5O7te1y5HcAnXOrMVPLpg9RkoZqczg9bVBKWV9KNT4IGNcSpk68LL1z9573f884y//1103XPmrH/bhFcePVQUBwJWa8fK6VSkGSKmLCmk0sUHPqtoTjDMpZdb0m/++65P7sm/P7Ne3qymPFZenpPUYcdFPXnpzy5tPLTVBYiQsMggAwDP6ZfXv37939/RTx1RPGJOSpmU//fHWTddcfmmfXj3qyopquDOjX+asWxfs3PnRlJF9JUEHLtah0bRx9My9ncEYk1Km9RvzxNoxj4VqS8srrbCFDmf39K4AcP4pIc9E1Vxy/G7d5kaHTlsNMIZS0pjJs9+dPLu6ssIfqAHkHl9KlzgHAHTsMkwaTdtHi3v7gzFGUkhAbrrS0l0njhIJKTnnEbaCENHJqqHN9QRV2c8uSd4uSV51UEoJoOfsGk2M0eLeLjlR4o2IGjK8I/JoVODEc8S7NnSEiNTJWtY1mraAFvf2DCKeW35t6khb6IZGo2lAT7I0Go2mA6LFXaPRaDogWtw1Go2mA6Jt7m0FKaVlWUKIaG9Iqg1Yy7IAwLKscDhsg9uilJKIlCNNzLHtru2n8Yer6eRocW8rJCQkGIZhGDZ9IsnJyaZppqenOxwO2+7R4/GUlZXZ1lyzGIZh813bT/fu3U3TjHUvNDFGi3ubwDCMnJyc2267TQgRbbcTNbkLhUJfffXVnXfe6fP51JFoN8o5//DDDy+77LKoNnROSkpK5s6dm56eLqXseB4+6qMMBAJ5eXkd7+40/xV4vpU2NZFBGQc+//zznJyc2tpa2wwXiOjxeAKBgG1LeMaY0+mcMGHCVVddZcPjpFlqa2vXrVuXn5+vzET2d8AGlFtqWlravHnzvF5vrIZaE3O0uGs0Gk0HRJtl2gRSyjay2RhtVCXAGHZACNFJJjSccz1n78zombtGo9F0QDqaK5hGo9FoQIu7RqPRdEi0uGs0Gk0HRIu7RqPRdEC0uGs0Gk0HRIu7RqPRdED+HxFjp0MVQZ9MAAAAAElFTkSuQmCC)"
      ]
    },
    {
      "cell_type": "markdown",
      "metadata": {
        "id": "810hMPgsYNLF"
      },
      "source": [
        "### 01. Importar biblioteca"
      ]
    },
    {
      "cell_type": "code",
      "metadata": {
        "id": "mhSl-SK_YNLG"
      },
      "source": [
        "import pandas as pd"
      ],
      "execution_count": null,
      "outputs": []
    },
    {
      "cell_type": "markdown",
      "metadata": {
        "id": "EfEEC8CMYNLM"
      },
      "source": [
        "### 02. importar dados deste link: https://raw.githubusercontent.com/justmarkham/DAT8/master/data/drinks.csv "
      ]
    },
    {
      "cell_type": "code",
      "metadata": {
        "id": "WTTQ-FCmYNLO",
        "colab": {
          "base_uri": "https://localhost:8080/",
          "height": 206
        },
        "outputId": "d47613b4-987a-4d17-a24e-f3fd3a18331a"
      },
      "source": [
        "drinks = pd.read_csv('https://raw.githubusercontent.com/justmarkham/DAT8/master/data/drinks.csv')\n",
        "drinks.head()"
      ],
      "execution_count": null,
      "outputs": [
        {
          "output_type": "execute_result",
          "data": {
            "text/html": [
              "<div>\n",
              "<style scoped>\n",
              "    .dataframe tbody tr th:only-of-type {\n",
              "        vertical-align: middle;\n",
              "    }\n",
              "\n",
              "    .dataframe tbody tr th {\n",
              "        vertical-align: top;\n",
              "    }\n",
              "\n",
              "    .dataframe thead th {\n",
              "        text-align: right;\n",
              "    }\n",
              "</style>\n",
              "<table border=\"1\" class=\"dataframe\">\n",
              "  <thead>\n",
              "    <tr style=\"text-align: right;\">\n",
              "      <th></th>\n",
              "      <th>country</th>\n",
              "      <th>beer_servings</th>\n",
              "      <th>spirit_servings</th>\n",
              "      <th>wine_servings</th>\n",
              "      <th>total_litres_of_pure_alcohol</th>\n",
              "      <th>continent</th>\n",
              "    </tr>\n",
              "  </thead>\n",
              "  <tbody>\n",
              "    <tr>\n",
              "      <th>0</th>\n",
              "      <td>Afghanistan</td>\n",
              "      <td>0</td>\n",
              "      <td>0</td>\n",
              "      <td>0</td>\n",
              "      <td>0.0</td>\n",
              "      <td>AS</td>\n",
              "    </tr>\n",
              "    <tr>\n",
              "      <th>1</th>\n",
              "      <td>Albania</td>\n",
              "      <td>89</td>\n",
              "      <td>132</td>\n",
              "      <td>54</td>\n",
              "      <td>4.9</td>\n",
              "      <td>EU</td>\n",
              "    </tr>\n",
              "    <tr>\n",
              "      <th>2</th>\n",
              "      <td>Algeria</td>\n",
              "      <td>25</td>\n",
              "      <td>0</td>\n",
              "      <td>14</td>\n",
              "      <td>0.7</td>\n",
              "      <td>AF</td>\n",
              "    </tr>\n",
              "    <tr>\n",
              "      <th>3</th>\n",
              "      <td>Andorra</td>\n",
              "      <td>245</td>\n",
              "      <td>138</td>\n",
              "      <td>312</td>\n",
              "      <td>12.4</td>\n",
              "      <td>EU</td>\n",
              "    </tr>\n",
              "    <tr>\n",
              "      <th>4</th>\n",
              "      <td>Angola</td>\n",
              "      <td>217</td>\n",
              "      <td>57</td>\n",
              "      <td>45</td>\n",
              "      <td>5.9</td>\n",
              "      <td>AF</td>\n",
              "    </tr>\n",
              "  </tbody>\n",
              "</table>\n",
              "</div>"
            ],
            "text/plain": [
              "       country  beer_servings  ...  total_litres_of_pure_alcohol  continent\n",
              "0  Afghanistan              0  ...                           0.0         AS\n",
              "1      Albania             89  ...                           4.9         EU\n",
              "2      Algeria             25  ...                           0.7         AF\n",
              "3      Andorra            245  ...                          12.4         EU\n",
              "4       Angola            217  ...                           5.9         AF\n",
              "\n",
              "[5 rows x 6 columns]"
            ]
          },
          "metadata": {},
          "execution_count": 2
        }
      ]
    },
    {
      "cell_type": "markdown",
      "metadata": {
        "id": "ysJ8zFBiZ908"
      },
      "source": [
        "### 03. Exibir as informações gerais do dataframe"
      ]
    },
    {
      "cell_type": "code",
      "metadata": {
        "id": "WwvzcFtTaLWG",
        "colab": {
          "base_uri": "https://localhost:8080/"
        },
        "outputId": "969430e5-d146-465a-eaad-0ef5da1effaf"
      },
      "source": [
        "drinks.info()"
      ],
      "execution_count": null,
      "outputs": [
        {
          "output_type": "stream",
          "text": [
            "<class 'pandas.core.frame.DataFrame'>\n",
            "RangeIndex: 193 entries, 0 to 192\n",
            "Data columns (total 6 columns):\n",
            " #   Column                        Non-Null Count  Dtype  \n",
            "---  ------                        --------------  -----  \n",
            " 0   country                       193 non-null    object \n",
            " 1   beer_servings                 193 non-null    int64  \n",
            " 2   spirit_servings               193 non-null    int64  \n",
            " 3   wine_servings                 193 non-null    int64  \n",
            " 4   total_litres_of_pure_alcohol  193 non-null    float64\n",
            " 5   continent                     170 non-null    object \n",
            "dtypes: float64(1), int64(3), object(2)\n",
            "memory usage: 9.2+ KB\n"
          ],
          "name": "stdout"
        }
      ]
    },
    {
      "cell_type": "markdown",
      "metadata": {
        "id": "9WeNVUhlYNLh"
      },
      "source": [
        "### 04. Qual continente consome mais cerveja em média?"
      ]
    },
    {
      "cell_type": "code",
      "metadata": {
        "id": "JmVDpmigYNLi",
        "colab": {
          "base_uri": "https://localhost:8080/"
        },
        "outputId": "7e5449e4-c4b1-4a95-85a9-989010989168"
      },
      "source": [
        "drinks.groupby('continent').beer_servings.mean()"
      ],
      "execution_count": null,
      "outputs": [
        {
          "output_type": "execute_result",
          "data": {
            "text/plain": [
              "continent\n",
              "AF     61.471698\n",
              "AS     37.045455\n",
              "EU    193.777778\n",
              "OC     89.687500\n",
              "SA    175.083333\n",
              "Name: beer_servings, dtype: float64"
            ]
          },
          "metadata": {
            "tags": []
          },
          "execution_count": 60
        }
      ]
    },
    {
      "cell_type": "markdown",
      "metadata": {
        "id": "Wz_ajAbuYNLq"
      },
      "source": [
        "### 05. Para cada continente, exiba as estatísticas de consumo de vinho."
      ]
    },
    {
      "cell_type": "code",
      "metadata": {
        "id": "nO71Z74uYNLr",
        "colab": {
          "base_uri": "https://localhost:8080/"
        },
        "outputId": "3dc08a6a-b882-4208-c53e-d7e240a70279"
      },
      "source": [
        "drinks.groupby('continent').wine_servings.describe()"
      ],
      "execution_count": null,
      "outputs": [
        {
          "output_type": "execute_result",
          "data": {
            "text/html": [
              "<div>\n",
              "<style scoped>\n",
              "    .dataframe tbody tr th:only-of-type {\n",
              "        vertical-align: middle;\n",
              "    }\n",
              "\n",
              "    .dataframe tbody tr th {\n",
              "        vertical-align: top;\n",
              "    }\n",
              "\n",
              "    .dataframe thead th {\n",
              "        text-align: right;\n",
              "    }\n",
              "</style>\n",
              "<table border=\"1\" class=\"dataframe\">\n",
              "  <thead>\n",
              "    <tr style=\"text-align: right;\">\n",
              "      <th></th>\n",
              "      <th>count</th>\n",
              "      <th>mean</th>\n",
              "      <th>std</th>\n",
              "      <th>min</th>\n",
              "      <th>25%</th>\n",
              "      <th>50%</th>\n",
              "      <th>75%</th>\n",
              "      <th>max</th>\n",
              "    </tr>\n",
              "    <tr>\n",
              "      <th>continent</th>\n",
              "      <th></th>\n",
              "      <th></th>\n",
              "      <th></th>\n",
              "      <th></th>\n",
              "      <th></th>\n",
              "      <th></th>\n",
              "      <th></th>\n",
              "      <th></th>\n",
              "    </tr>\n",
              "  </thead>\n",
              "  <tbody>\n",
              "    <tr>\n",
              "      <th>AF</th>\n",
              "      <td>53.0</td>\n",
              "      <td>16.264151</td>\n",
              "      <td>38.846419</td>\n",
              "      <td>0.0</td>\n",
              "      <td>1.0</td>\n",
              "      <td>2.0</td>\n",
              "      <td>13.00</td>\n",
              "      <td>233.0</td>\n",
              "    </tr>\n",
              "    <tr>\n",
              "      <th>AS</th>\n",
              "      <td>44.0</td>\n",
              "      <td>9.068182</td>\n",
              "      <td>21.667034</td>\n",
              "      <td>0.0</td>\n",
              "      <td>0.0</td>\n",
              "      <td>1.0</td>\n",
              "      <td>8.00</td>\n",
              "      <td>123.0</td>\n",
              "    </tr>\n",
              "    <tr>\n",
              "      <th>EU</th>\n",
              "      <td>45.0</td>\n",
              "      <td>142.222222</td>\n",
              "      <td>97.421738</td>\n",
              "      <td>0.0</td>\n",
              "      <td>59.0</td>\n",
              "      <td>128.0</td>\n",
              "      <td>195.00</td>\n",
              "      <td>370.0</td>\n",
              "    </tr>\n",
              "    <tr>\n",
              "      <th>OC</th>\n",
              "      <td>16.0</td>\n",
              "      <td>35.625000</td>\n",
              "      <td>64.555790</td>\n",
              "      <td>0.0</td>\n",
              "      <td>1.0</td>\n",
              "      <td>8.5</td>\n",
              "      <td>23.25</td>\n",
              "      <td>212.0</td>\n",
              "    </tr>\n",
              "    <tr>\n",
              "      <th>SA</th>\n",
              "      <td>12.0</td>\n",
              "      <td>62.416667</td>\n",
              "      <td>88.620189</td>\n",
              "      <td>1.0</td>\n",
              "      <td>3.0</td>\n",
              "      <td>12.0</td>\n",
              "      <td>98.50</td>\n",
              "      <td>221.0</td>\n",
              "    </tr>\n",
              "  </tbody>\n",
              "</table>\n",
              "</div>"
            ],
            "text/plain": [
              "           count        mean        std  min   25%    50%     75%    max\n",
              "continent                                                               \n",
              "AF          53.0   16.264151  38.846419  0.0   1.0    2.0   13.00  233.0\n",
              "AS          44.0    9.068182  21.667034  0.0   0.0    1.0    8.00  123.0\n",
              "EU          45.0  142.222222  97.421738  0.0  59.0  128.0  195.00  370.0\n",
              "OC          16.0   35.625000  64.555790  0.0   1.0    8.5   23.25  212.0\n",
              "SA          12.0   62.416667  88.620189  1.0   3.0   12.0   98.50  221.0"
            ]
          },
          "metadata": {
            "tags": []
          },
          "execution_count": 61
        }
      ]
    },
    {
      "cell_type": "markdown",
      "metadata": {
        "id": "lBO5jQLTYNL2"
      },
      "source": [
        "### 06. Exibir a média de consumo de cada bebida por continente."
      ]
    },
    {
      "cell_type": "code",
      "metadata": {
        "id": "G-z7dpkacO4Y",
        "colab": {
          "base_uri": "https://localhost:8080/"
        },
        "outputId": "aece6943-c0f9-4553-d03a-0f69ae619346"
      },
      "source": [
        "drinks[['continent','beer_servings', 'spirit_servings', 'wine_servings']].groupby('continent').mean()"
      ],
      "execution_count": null,
      "outputs": [
        {
          "output_type": "execute_result",
          "data": {
            "text/html": [
              "<div>\n",
              "<style scoped>\n",
              "    .dataframe tbody tr th:only-of-type {\n",
              "        vertical-align: middle;\n",
              "    }\n",
              "\n",
              "    .dataframe tbody tr th {\n",
              "        vertical-align: top;\n",
              "    }\n",
              "\n",
              "    .dataframe thead th {\n",
              "        text-align: right;\n",
              "    }\n",
              "</style>\n",
              "<table border=\"1\" class=\"dataframe\">\n",
              "  <thead>\n",
              "    <tr style=\"text-align: right;\">\n",
              "      <th></th>\n",
              "      <th>beer_servings</th>\n",
              "      <th>spirit_servings</th>\n",
              "      <th>wine_servings</th>\n",
              "    </tr>\n",
              "    <tr>\n",
              "      <th>continent</th>\n",
              "      <th></th>\n",
              "      <th></th>\n",
              "      <th></th>\n",
              "    </tr>\n",
              "  </thead>\n",
              "  <tbody>\n",
              "    <tr>\n",
              "      <th>AF</th>\n",
              "      <td>61.471698</td>\n",
              "      <td>16.339623</td>\n",
              "      <td>16.264151</td>\n",
              "    </tr>\n",
              "    <tr>\n",
              "      <th>AS</th>\n",
              "      <td>37.045455</td>\n",
              "      <td>60.840909</td>\n",
              "      <td>9.068182</td>\n",
              "    </tr>\n",
              "    <tr>\n",
              "      <th>EU</th>\n",
              "      <td>193.777778</td>\n",
              "      <td>132.555556</td>\n",
              "      <td>142.222222</td>\n",
              "    </tr>\n",
              "    <tr>\n",
              "      <th>OC</th>\n",
              "      <td>89.687500</td>\n",
              "      <td>58.437500</td>\n",
              "      <td>35.625000</td>\n",
              "    </tr>\n",
              "    <tr>\n",
              "      <th>SA</th>\n",
              "      <td>175.083333</td>\n",
              "      <td>114.750000</td>\n",
              "      <td>62.416667</td>\n",
              "    </tr>\n",
              "  </tbody>\n",
              "</table>\n",
              "</div>"
            ],
            "text/plain": [
              "           beer_servings  spirit_servings  wine_servings\n",
              "continent                                               \n",
              "AF             61.471698        16.339623      16.264151\n",
              "AS             37.045455        60.840909       9.068182\n",
              "EU            193.777778       132.555556     142.222222\n",
              "OC             89.687500        58.437500      35.625000\n",
              "SA            175.083333       114.750000      62.416667"
            ]
          },
          "metadata": {
            "tags": []
          },
          "execution_count": 62
        }
      ]
    },
    {
      "cell_type": "markdown",
      "metadata": {
        "id": "htorPPnaYNL9"
      },
      "source": [
        "### 07. Exibir os valores mínimo, médio e máximo de consumo de litros de puro álcool por continente. "
      ]
    },
    {
      "cell_type": "code",
      "metadata": {
        "id": "4_5X18H1YNL-",
        "colab": {
          "base_uri": "https://localhost:8080/"
        },
        "outputId": "11ae1f0b-f0e6-4a1a-ae52-588f2b000ea1"
      },
      "source": [
        "drinks.groupby('continent').total_litres_of_pure_alcohol.agg(['mean', 'min', 'max'])"
      ],
      "execution_count": null,
      "outputs": [
        {
          "output_type": "execute_result",
          "data": {
            "text/html": [
              "<div>\n",
              "<style scoped>\n",
              "    .dataframe tbody tr th:only-of-type {\n",
              "        vertical-align: middle;\n",
              "    }\n",
              "\n",
              "    .dataframe tbody tr th {\n",
              "        vertical-align: top;\n",
              "    }\n",
              "\n",
              "    .dataframe thead th {\n",
              "        text-align: right;\n",
              "    }\n",
              "</style>\n",
              "<table border=\"1\" class=\"dataframe\">\n",
              "  <thead>\n",
              "    <tr style=\"text-align: right;\">\n",
              "      <th></th>\n",
              "      <th>mean</th>\n",
              "      <th>min</th>\n",
              "      <th>max</th>\n",
              "    </tr>\n",
              "    <tr>\n",
              "      <th>continent</th>\n",
              "      <th></th>\n",
              "      <th></th>\n",
              "      <th></th>\n",
              "    </tr>\n",
              "  </thead>\n",
              "  <tbody>\n",
              "    <tr>\n",
              "      <th>AF</th>\n",
              "      <td>3.007547</td>\n",
              "      <td>0.0</td>\n",
              "      <td>9.1</td>\n",
              "    </tr>\n",
              "    <tr>\n",
              "      <th>AS</th>\n",
              "      <td>2.170455</td>\n",
              "      <td>0.0</td>\n",
              "      <td>11.5</td>\n",
              "    </tr>\n",
              "    <tr>\n",
              "      <th>EU</th>\n",
              "      <td>8.617778</td>\n",
              "      <td>0.0</td>\n",
              "      <td>14.4</td>\n",
              "    </tr>\n",
              "    <tr>\n",
              "      <th>OC</th>\n",
              "      <td>3.381250</td>\n",
              "      <td>0.0</td>\n",
              "      <td>10.4</td>\n",
              "    </tr>\n",
              "    <tr>\n",
              "      <th>SA</th>\n",
              "      <td>6.308333</td>\n",
              "      <td>3.8</td>\n",
              "      <td>8.3</td>\n",
              "    </tr>\n",
              "  </tbody>\n",
              "</table>\n",
              "</div>"
            ],
            "text/plain": [
              "               mean  min   max\n",
              "continent                     \n",
              "AF         3.007547  0.0   9.1\n",
              "AS         2.170455  0.0  11.5\n",
              "EU         8.617778  0.0  14.4\n",
              "OC         3.381250  0.0  10.4\n",
              "SA         6.308333  3.8   8.3"
            ]
          },
          "metadata": {
            "tags": []
          },
          "execution_count": 63
        }
      ]
    },
    {
      "cell_type": "markdown",
      "metadata": {
        "id": "UVnCDLcvdBYC"
      },
      "source": [
        "### 08. Exibir a quantitade de países, a média e a mediana do consumo de cada bebida e o somatório do total de litros de álcool por continente.\n"
      ]
    },
    {
      "cell_type": "code",
      "metadata": {
        "id": "HgCNHDNnYNL3",
        "colab": {
          "base_uri": "https://localhost:8080/"
        },
        "outputId": "013e8d5a-9135-45dd-edb4-acefdefa0558"
      },
      "source": [
        "drinks.groupby('continent').agg({'country':'count', 'beer_servings':['mean', 'median'], \\\n",
        "                               'spirit_servings':['mean', 'median'], 'wine_servings': ['mean', 'median'], \\\n",
        "                               'total_litres_of_pure_alcohol': 'sum'})"
      ],
      "execution_count": null,
      "outputs": [
        {
          "output_type": "execute_result",
          "data": {
            "text/html": [
              "<div>\n",
              "<style scoped>\n",
              "    .dataframe tbody tr th:only-of-type {\n",
              "        vertical-align: middle;\n",
              "    }\n",
              "\n",
              "    .dataframe tbody tr th {\n",
              "        vertical-align: top;\n",
              "    }\n",
              "\n",
              "    .dataframe thead tr th {\n",
              "        text-align: left;\n",
              "    }\n",
              "\n",
              "    .dataframe thead tr:last-of-type th {\n",
              "        text-align: right;\n",
              "    }\n",
              "</style>\n",
              "<table border=\"1\" class=\"dataframe\">\n",
              "  <thead>\n",
              "    <tr>\n",
              "      <th></th>\n",
              "      <th>country</th>\n",
              "      <th colspan=\"2\" halign=\"left\">beer_servings</th>\n",
              "      <th colspan=\"2\" halign=\"left\">spirit_servings</th>\n",
              "      <th colspan=\"2\" halign=\"left\">wine_servings</th>\n",
              "      <th>total_litres_of_pure_alcohol</th>\n",
              "    </tr>\n",
              "    <tr>\n",
              "      <th></th>\n",
              "      <th>count</th>\n",
              "      <th>mean</th>\n",
              "      <th>median</th>\n",
              "      <th>mean</th>\n",
              "      <th>median</th>\n",
              "      <th>mean</th>\n",
              "      <th>median</th>\n",
              "      <th>sum</th>\n",
              "    </tr>\n",
              "    <tr>\n",
              "      <th>continent</th>\n",
              "      <th></th>\n",
              "      <th></th>\n",
              "      <th></th>\n",
              "      <th></th>\n",
              "      <th></th>\n",
              "      <th></th>\n",
              "      <th></th>\n",
              "      <th></th>\n",
              "    </tr>\n",
              "  </thead>\n",
              "  <tbody>\n",
              "    <tr>\n",
              "      <th>AF</th>\n",
              "      <td>53</td>\n",
              "      <td>61.471698</td>\n",
              "      <td>32.0</td>\n",
              "      <td>16.339623</td>\n",
              "      <td>3.0</td>\n",
              "      <td>16.264151</td>\n",
              "      <td>2.0</td>\n",
              "      <td>159.4</td>\n",
              "    </tr>\n",
              "    <tr>\n",
              "      <th>AS</th>\n",
              "      <td>44</td>\n",
              "      <td>37.045455</td>\n",
              "      <td>17.5</td>\n",
              "      <td>60.840909</td>\n",
              "      <td>16.0</td>\n",
              "      <td>9.068182</td>\n",
              "      <td>1.0</td>\n",
              "      <td>95.5</td>\n",
              "    </tr>\n",
              "    <tr>\n",
              "      <th>EU</th>\n",
              "      <td>45</td>\n",
              "      <td>193.777778</td>\n",
              "      <td>219.0</td>\n",
              "      <td>132.555556</td>\n",
              "      <td>122.0</td>\n",
              "      <td>142.222222</td>\n",
              "      <td>128.0</td>\n",
              "      <td>387.8</td>\n",
              "    </tr>\n",
              "    <tr>\n",
              "      <th>OC</th>\n",
              "      <td>16</td>\n",
              "      <td>89.687500</td>\n",
              "      <td>52.5</td>\n",
              "      <td>58.437500</td>\n",
              "      <td>37.0</td>\n",
              "      <td>35.625000</td>\n",
              "      <td>8.5</td>\n",
              "      <td>54.1</td>\n",
              "    </tr>\n",
              "    <tr>\n",
              "      <th>SA</th>\n",
              "      <td>12</td>\n",
              "      <td>175.083333</td>\n",
              "      <td>162.5</td>\n",
              "      <td>114.750000</td>\n",
              "      <td>108.5</td>\n",
              "      <td>62.416667</td>\n",
              "      <td>12.0</td>\n",
              "      <td>75.7</td>\n",
              "    </tr>\n",
              "  </tbody>\n",
              "</table>\n",
              "</div>"
            ],
            "text/plain": [
              "          country beer_servings  ... wine_servings total_litres_of_pure_alcohol\n",
              "            count          mean  ...        median                          sum\n",
              "continent                        ...                                           \n",
              "AF             53     61.471698  ...           2.0                        159.4\n",
              "AS             44     37.045455  ...           1.0                         95.5\n",
              "EU             45    193.777778  ...         128.0                        387.8\n",
              "OC             16     89.687500  ...           8.5                         54.1\n",
              "SA             12    175.083333  ...          12.0                         75.7\n",
              "\n",
              "[5 rows x 8 columns]"
            ]
          },
          "metadata": {
            "tags": []
          },
          "execution_count": 64
        }
      ]
    },
    {
      "cell_type": "markdown",
      "metadata": {
        "id": "4bNuUzO4Y28M"
      },
      "source": [
        "## Mesclando dataframes"
      ]
    },
    {
      "cell_type": "markdown",
      "metadata": {
        "id": "wAPdjQU4Y28N"
      },
      "source": [
        "### 01. Importar biblioteca"
      ]
    },
    {
      "cell_type": "code",
      "metadata": {
        "id": "c9Ydq6g9Y28O"
      },
      "source": [
        "import pandas as pd"
      ],
      "execution_count": null,
      "outputs": []
    },
    {
      "cell_type": "markdown",
      "metadata": {
        "id": "0CNREhrbY28T"
      },
      "source": [
        "### 02. Criar os dataframes data1, data2 e data3 baseados nos dados abaixo"
      ]
    },
    {
      "cell_type": "code",
      "metadata": {
        "id": "k7YBRU-WY28U"
      },
      "source": [
        "raw_data_1 = {\n",
        "        'subject_id': ['1', '2', '3', '4', '5'],\n",
        "        'first_name': ['Alex', 'Amy', 'Allen', 'Alice', 'Ayoung'], \n",
        "        'last_name': ['Anderson', 'Ackerman', 'Ali', 'Aoni', 'Atiches']}\n",
        "\n",
        "raw_data_2 = {\n",
        "        'subject_id': ['4', '5', '6', '7', '8'],\n",
        "        'first_name': ['Billy', 'Brian', 'Bran', 'Bryce', 'Betty'], \n",
        "        'last_name': ['Bonder', 'Black', 'Balwner', 'Brice', 'Btisan']}\n",
        "\n",
        "raw_data_3 = {\n",
        "        'subject_id': ['1', '2', '3', '4', '5', '7', '8', '9', '10', '11'],\n",
        "        'test_id': [51, 15, 15, 61, 16, 14, 15, 1, 61, 16]}"
      ],
      "execution_count": null,
      "outputs": []
    },
    {
      "cell_type": "code",
      "metadata": {
        "id": "2muXfPAHY28Y",
        "colab": {
          "base_uri": "https://localhost:8080/",
          "height": 204
        },
        "outputId": "a275d099-51dc-448c-d762-1c90db23208a"
      },
      "source": [
        "data1 = pd.DataFrame(raw_data_1, columns = ['subject_id', 'first_name', 'last_name'])\n",
        "data2 = pd.DataFrame(raw_data_2, columns = ['subject_id', 'first_name', 'last_name'])\n",
        "data3 = pd.DataFrame(raw_data_3, columns = ['subject_id','test_id'])\n",
        "\n",
        "data1"
      ],
      "execution_count": null,
      "outputs": [
        {
          "output_type": "execute_result",
          "data": {
            "text/html": [
              "<div>\n",
              "<style scoped>\n",
              "    .dataframe tbody tr th:only-of-type {\n",
              "        vertical-align: middle;\n",
              "    }\n",
              "\n",
              "    .dataframe tbody tr th {\n",
              "        vertical-align: top;\n",
              "    }\n",
              "\n",
              "    .dataframe thead th {\n",
              "        text-align: right;\n",
              "    }\n",
              "</style>\n",
              "<table border=\"1\" class=\"dataframe\">\n",
              "  <thead>\n",
              "    <tr style=\"text-align: right;\">\n",
              "      <th></th>\n",
              "      <th>subject_id</th>\n",
              "      <th>first_name</th>\n",
              "      <th>last_name</th>\n",
              "    </tr>\n",
              "  </thead>\n",
              "  <tbody>\n",
              "    <tr>\n",
              "      <th>0</th>\n",
              "      <td>1</td>\n",
              "      <td>Alex</td>\n",
              "      <td>Anderson</td>\n",
              "    </tr>\n",
              "    <tr>\n",
              "      <th>1</th>\n",
              "      <td>2</td>\n",
              "      <td>Amy</td>\n",
              "      <td>Ackerman</td>\n",
              "    </tr>\n",
              "    <tr>\n",
              "      <th>2</th>\n",
              "      <td>3</td>\n",
              "      <td>Allen</td>\n",
              "      <td>Ali</td>\n",
              "    </tr>\n",
              "    <tr>\n",
              "      <th>3</th>\n",
              "      <td>4</td>\n",
              "      <td>Alice</td>\n",
              "      <td>Aoni</td>\n",
              "    </tr>\n",
              "    <tr>\n",
              "      <th>4</th>\n",
              "      <td>5</td>\n",
              "      <td>Ayoung</td>\n",
              "      <td>Atiches</td>\n",
              "    </tr>\n",
              "  </tbody>\n",
              "</table>\n",
              "</div>"
            ],
            "text/plain": [
              "  subject_id first_name last_name\n",
              "0          1       Alex  Anderson\n",
              "1          2        Amy  Ackerman\n",
              "2          3      Allen       Ali\n",
              "3          4      Alice      Aoni\n",
              "4          5     Ayoung   Atiches"
            ]
          },
          "metadata": {
            "tags": []
          },
          "execution_count": 67
        }
      ]
    },
    {
      "cell_type": "markdown",
      "metadata": {
        "id": "0g3kF3OiY28d"
      },
      "source": [
        "### 03. Crie um novo dataframe fruto da junção de data1 e data2 ao longo das linhas e armazene na variável 'all_data'"
      ]
    },
    {
      "cell_type": "code",
      "metadata": {
        "id": "J-w4N5sBY28e",
        "colab": {
          "base_uri": "https://localhost:8080/",
          "height": 359
        },
        "outputId": "144d1c17-89a3-4166-a827-456fcc47bc9f"
      },
      "source": [
        "all_data = pd.concat([data1, data2])\n",
        "all_data"
      ],
      "execution_count": null,
      "outputs": [
        {
          "output_type": "execute_result",
          "data": {
            "text/html": [
              "<div>\n",
              "<style scoped>\n",
              "    .dataframe tbody tr th:only-of-type {\n",
              "        vertical-align: middle;\n",
              "    }\n",
              "\n",
              "    .dataframe tbody tr th {\n",
              "        vertical-align: top;\n",
              "    }\n",
              "\n",
              "    .dataframe thead th {\n",
              "        text-align: right;\n",
              "    }\n",
              "</style>\n",
              "<table border=\"1\" class=\"dataframe\">\n",
              "  <thead>\n",
              "    <tr style=\"text-align: right;\">\n",
              "      <th></th>\n",
              "      <th>subject_id</th>\n",
              "      <th>first_name</th>\n",
              "      <th>last_name</th>\n",
              "    </tr>\n",
              "  </thead>\n",
              "  <tbody>\n",
              "    <tr>\n",
              "      <th>0</th>\n",
              "      <td>1</td>\n",
              "      <td>Alex</td>\n",
              "      <td>Anderson</td>\n",
              "    </tr>\n",
              "    <tr>\n",
              "      <th>1</th>\n",
              "      <td>2</td>\n",
              "      <td>Amy</td>\n",
              "      <td>Ackerman</td>\n",
              "    </tr>\n",
              "    <tr>\n",
              "      <th>2</th>\n",
              "      <td>3</td>\n",
              "      <td>Allen</td>\n",
              "      <td>Ali</td>\n",
              "    </tr>\n",
              "    <tr>\n",
              "      <th>3</th>\n",
              "      <td>4</td>\n",
              "      <td>Alice</td>\n",
              "      <td>Aoni</td>\n",
              "    </tr>\n",
              "    <tr>\n",
              "      <th>4</th>\n",
              "      <td>5</td>\n",
              "      <td>Ayoung</td>\n",
              "      <td>Atiches</td>\n",
              "    </tr>\n",
              "    <tr>\n",
              "      <th>0</th>\n",
              "      <td>4</td>\n",
              "      <td>Billy</td>\n",
              "      <td>Bonder</td>\n",
              "    </tr>\n",
              "    <tr>\n",
              "      <th>1</th>\n",
              "      <td>5</td>\n",
              "      <td>Brian</td>\n",
              "      <td>Black</td>\n",
              "    </tr>\n",
              "    <tr>\n",
              "      <th>2</th>\n",
              "      <td>6</td>\n",
              "      <td>Bran</td>\n",
              "      <td>Balwner</td>\n",
              "    </tr>\n",
              "    <tr>\n",
              "      <th>3</th>\n",
              "      <td>7</td>\n",
              "      <td>Bryce</td>\n",
              "      <td>Brice</td>\n",
              "    </tr>\n",
              "    <tr>\n",
              "      <th>4</th>\n",
              "      <td>8</td>\n",
              "      <td>Betty</td>\n",
              "      <td>Btisan</td>\n",
              "    </tr>\n",
              "  </tbody>\n",
              "</table>\n",
              "</div>"
            ],
            "text/plain": [
              "  subject_id first_name last_name\n",
              "0          1       Alex  Anderson\n",
              "1          2        Amy  Ackerman\n",
              "2          3      Allen       Ali\n",
              "3          4      Alice      Aoni\n",
              "4          5     Ayoung   Atiches\n",
              "0          4      Billy    Bonder\n",
              "1          5      Brian     Black\n",
              "2          6       Bran   Balwner\n",
              "3          7      Bryce     Brice\n",
              "4          8      Betty    Btisan"
            ]
          },
          "metadata": {
            "tags": []
          },
          "execution_count": 68
        }
      ]
    },
    {
      "cell_type": "markdown",
      "metadata": {
        "id": "EEjkedONbfsB"
      },
      "source": [
        "Observe que o índice dos dois dataframes foram mantidos. Contudo, a busca por índice fica prejudicada. Selecione a linha de índice 4 e observe que apenas a primeira ocorrência é exibida."
      ]
    },
    {
      "cell_type": "code",
      "metadata": {
        "id": "6vFmGjjXbshM",
        "colab": {
          "base_uri": "https://localhost:8080/"
        },
        "outputId": "9c38cbef-6c27-4dd6-b439-bb873e11643b"
      },
      "source": [
        "all_data.iloc[4,:]"
      ],
      "execution_count": null,
      "outputs": [
        {
          "output_type": "execute_result",
          "data": {
            "text/plain": [
              "subject_id          5\n",
              "first_name     Ayoung\n",
              "last_name     Atiches\n",
              "Name: 4, dtype: object"
            ]
          },
          "metadata": {
            "tags": []
          },
          "execution_count": 69
        }
      ]
    },
    {
      "cell_type": "markdown",
      "metadata": {
        "id": "MHgfuBcWcK2T"
      },
      "source": [
        "### 04. Resetar o índice de 'all_data'"
      ]
    },
    {
      "cell_type": "code",
      "metadata": {
        "id": "bFNLOp8yce7p",
        "colab": {
          "base_uri": "https://localhost:8080/",
          "height": 359
        },
        "outputId": "8cfc81b6-ab08-46bc-fa8e-4673ad4cf109"
      },
      "source": [
        "all_data.reset_index()"
      ],
      "execution_count": null,
      "outputs": [
        {
          "output_type": "execute_result",
          "data": {
            "text/html": [
              "<div>\n",
              "<style scoped>\n",
              "    .dataframe tbody tr th:only-of-type {\n",
              "        vertical-align: middle;\n",
              "    }\n",
              "\n",
              "    .dataframe tbody tr th {\n",
              "        vertical-align: top;\n",
              "    }\n",
              "\n",
              "    .dataframe thead th {\n",
              "        text-align: right;\n",
              "    }\n",
              "</style>\n",
              "<table border=\"1\" class=\"dataframe\">\n",
              "  <thead>\n",
              "    <tr style=\"text-align: right;\">\n",
              "      <th></th>\n",
              "      <th>index</th>\n",
              "      <th>subject_id</th>\n",
              "      <th>first_name</th>\n",
              "      <th>last_name</th>\n",
              "    </tr>\n",
              "  </thead>\n",
              "  <tbody>\n",
              "    <tr>\n",
              "      <th>0</th>\n",
              "      <td>0</td>\n",
              "      <td>1</td>\n",
              "      <td>Alex</td>\n",
              "      <td>Anderson</td>\n",
              "    </tr>\n",
              "    <tr>\n",
              "      <th>1</th>\n",
              "      <td>1</td>\n",
              "      <td>2</td>\n",
              "      <td>Amy</td>\n",
              "      <td>Ackerman</td>\n",
              "    </tr>\n",
              "    <tr>\n",
              "      <th>2</th>\n",
              "      <td>2</td>\n",
              "      <td>3</td>\n",
              "      <td>Allen</td>\n",
              "      <td>Ali</td>\n",
              "    </tr>\n",
              "    <tr>\n",
              "      <th>3</th>\n",
              "      <td>3</td>\n",
              "      <td>4</td>\n",
              "      <td>Alice</td>\n",
              "      <td>Aoni</td>\n",
              "    </tr>\n",
              "    <tr>\n",
              "      <th>4</th>\n",
              "      <td>4</td>\n",
              "      <td>5</td>\n",
              "      <td>Ayoung</td>\n",
              "      <td>Atiches</td>\n",
              "    </tr>\n",
              "    <tr>\n",
              "      <th>5</th>\n",
              "      <td>0</td>\n",
              "      <td>4</td>\n",
              "      <td>Billy</td>\n",
              "      <td>Bonder</td>\n",
              "    </tr>\n",
              "    <tr>\n",
              "      <th>6</th>\n",
              "      <td>1</td>\n",
              "      <td>5</td>\n",
              "      <td>Brian</td>\n",
              "      <td>Black</td>\n",
              "    </tr>\n",
              "    <tr>\n",
              "      <th>7</th>\n",
              "      <td>2</td>\n",
              "      <td>6</td>\n",
              "      <td>Bran</td>\n",
              "      <td>Balwner</td>\n",
              "    </tr>\n",
              "    <tr>\n",
              "      <th>8</th>\n",
              "      <td>3</td>\n",
              "      <td>7</td>\n",
              "      <td>Bryce</td>\n",
              "      <td>Brice</td>\n",
              "    </tr>\n",
              "    <tr>\n",
              "      <th>9</th>\n",
              "      <td>4</td>\n",
              "      <td>8</td>\n",
              "      <td>Betty</td>\n",
              "      <td>Btisan</td>\n",
              "    </tr>\n",
              "  </tbody>\n",
              "</table>\n",
              "</div>"
            ],
            "text/plain": [
              "   index subject_id first_name last_name\n",
              "0      0          1       Alex  Anderson\n",
              "1      1          2        Amy  Ackerman\n",
              "2      2          3      Allen       Ali\n",
              "3      3          4      Alice      Aoni\n",
              "4      4          5     Ayoung   Atiches\n",
              "5      0          4      Billy    Bonder\n",
              "6      1          5      Brian     Black\n",
              "7      2          6       Bran   Balwner\n",
              "8      3          7      Bryce     Brice\n",
              "9      4          8      Betty    Btisan"
            ]
          },
          "metadata": {
            "tags": []
          },
          "execution_count": 70
        }
      ]
    },
    {
      "cell_type": "code",
      "metadata": {
        "id": "v50PA7IpcjYE",
        "colab": {
          "base_uri": "https://localhost:8080/",
          "height": 359
        },
        "outputId": "b28ae940-4584-498c-afb9-b364a62fd05e"
      },
      "source": [
        "all_data #reset_index() por padrão retorna um novo objeto"
      ],
      "execution_count": null,
      "outputs": [
        {
          "output_type": "execute_result",
          "data": {
            "text/html": [
              "<div>\n",
              "<style scoped>\n",
              "    .dataframe tbody tr th:only-of-type {\n",
              "        vertical-align: middle;\n",
              "    }\n",
              "\n",
              "    .dataframe tbody tr th {\n",
              "        vertical-align: top;\n",
              "    }\n",
              "\n",
              "    .dataframe thead th {\n",
              "        text-align: right;\n",
              "    }\n",
              "</style>\n",
              "<table border=\"1\" class=\"dataframe\">\n",
              "  <thead>\n",
              "    <tr style=\"text-align: right;\">\n",
              "      <th></th>\n",
              "      <th>subject_id</th>\n",
              "      <th>first_name</th>\n",
              "      <th>last_name</th>\n",
              "    </tr>\n",
              "  </thead>\n",
              "  <tbody>\n",
              "    <tr>\n",
              "      <th>0</th>\n",
              "      <td>1</td>\n",
              "      <td>Alex</td>\n",
              "      <td>Anderson</td>\n",
              "    </tr>\n",
              "    <tr>\n",
              "      <th>1</th>\n",
              "      <td>2</td>\n",
              "      <td>Amy</td>\n",
              "      <td>Ackerman</td>\n",
              "    </tr>\n",
              "    <tr>\n",
              "      <th>2</th>\n",
              "      <td>3</td>\n",
              "      <td>Allen</td>\n",
              "      <td>Ali</td>\n",
              "    </tr>\n",
              "    <tr>\n",
              "      <th>3</th>\n",
              "      <td>4</td>\n",
              "      <td>Alice</td>\n",
              "      <td>Aoni</td>\n",
              "    </tr>\n",
              "    <tr>\n",
              "      <th>4</th>\n",
              "      <td>5</td>\n",
              "      <td>Ayoung</td>\n",
              "      <td>Atiches</td>\n",
              "    </tr>\n",
              "    <tr>\n",
              "      <th>0</th>\n",
              "      <td>4</td>\n",
              "      <td>Billy</td>\n",
              "      <td>Bonder</td>\n",
              "    </tr>\n",
              "    <tr>\n",
              "      <th>1</th>\n",
              "      <td>5</td>\n",
              "      <td>Brian</td>\n",
              "      <td>Black</td>\n",
              "    </tr>\n",
              "    <tr>\n",
              "      <th>2</th>\n",
              "      <td>6</td>\n",
              "      <td>Bran</td>\n",
              "      <td>Balwner</td>\n",
              "    </tr>\n",
              "    <tr>\n",
              "      <th>3</th>\n",
              "      <td>7</td>\n",
              "      <td>Bryce</td>\n",
              "      <td>Brice</td>\n",
              "    </tr>\n",
              "    <tr>\n",
              "      <th>4</th>\n",
              "      <td>8</td>\n",
              "      <td>Betty</td>\n",
              "      <td>Btisan</td>\n",
              "    </tr>\n",
              "  </tbody>\n",
              "</table>\n",
              "</div>"
            ],
            "text/plain": [
              "  subject_id first_name last_name\n",
              "0          1       Alex  Anderson\n",
              "1          2        Amy  Ackerman\n",
              "2          3      Allen       Ali\n",
              "3          4      Alice      Aoni\n",
              "4          5     Ayoung   Atiches\n",
              "0          4      Billy    Bonder\n",
              "1          5      Brian     Black\n",
              "2          6       Bran   Balwner\n",
              "3          7      Bryce     Brice\n",
              "4          8      Betty    Btisan"
            ]
          },
          "metadata": {
            "tags": []
          },
          "execution_count": 71
        }
      ]
    },
    {
      "cell_type": "code",
      "metadata": {
        "id": "EyMPcOxLc5pe",
        "colab": {
          "base_uri": "https://localhost:8080/",
          "height": 359
        },
        "outputId": "331f6d61-6f81-4c25-804e-997d4bdf2f56"
      },
      "source": [
        "all_data.reset_index(inplace=True)\n",
        "all_data"
      ],
      "execution_count": null,
      "outputs": [
        {
          "output_type": "execute_result",
          "data": {
            "text/html": [
              "<div>\n",
              "<style scoped>\n",
              "    .dataframe tbody tr th:only-of-type {\n",
              "        vertical-align: middle;\n",
              "    }\n",
              "\n",
              "    .dataframe tbody tr th {\n",
              "        vertical-align: top;\n",
              "    }\n",
              "\n",
              "    .dataframe thead th {\n",
              "        text-align: right;\n",
              "    }\n",
              "</style>\n",
              "<table border=\"1\" class=\"dataframe\">\n",
              "  <thead>\n",
              "    <tr style=\"text-align: right;\">\n",
              "      <th></th>\n",
              "      <th>index</th>\n",
              "      <th>subject_id</th>\n",
              "      <th>first_name</th>\n",
              "      <th>last_name</th>\n",
              "    </tr>\n",
              "  </thead>\n",
              "  <tbody>\n",
              "    <tr>\n",
              "      <th>0</th>\n",
              "      <td>0</td>\n",
              "      <td>1</td>\n",
              "      <td>Alex</td>\n",
              "      <td>Anderson</td>\n",
              "    </tr>\n",
              "    <tr>\n",
              "      <th>1</th>\n",
              "      <td>1</td>\n",
              "      <td>2</td>\n",
              "      <td>Amy</td>\n",
              "      <td>Ackerman</td>\n",
              "    </tr>\n",
              "    <tr>\n",
              "      <th>2</th>\n",
              "      <td>2</td>\n",
              "      <td>3</td>\n",
              "      <td>Allen</td>\n",
              "      <td>Ali</td>\n",
              "    </tr>\n",
              "    <tr>\n",
              "      <th>3</th>\n",
              "      <td>3</td>\n",
              "      <td>4</td>\n",
              "      <td>Alice</td>\n",
              "      <td>Aoni</td>\n",
              "    </tr>\n",
              "    <tr>\n",
              "      <th>4</th>\n",
              "      <td>4</td>\n",
              "      <td>5</td>\n",
              "      <td>Ayoung</td>\n",
              "      <td>Atiches</td>\n",
              "    </tr>\n",
              "    <tr>\n",
              "      <th>5</th>\n",
              "      <td>0</td>\n",
              "      <td>4</td>\n",
              "      <td>Billy</td>\n",
              "      <td>Bonder</td>\n",
              "    </tr>\n",
              "    <tr>\n",
              "      <th>6</th>\n",
              "      <td>1</td>\n",
              "      <td>5</td>\n",
              "      <td>Brian</td>\n",
              "      <td>Black</td>\n",
              "    </tr>\n",
              "    <tr>\n",
              "      <th>7</th>\n",
              "      <td>2</td>\n",
              "      <td>6</td>\n",
              "      <td>Bran</td>\n",
              "      <td>Balwner</td>\n",
              "    </tr>\n",
              "    <tr>\n",
              "      <th>8</th>\n",
              "      <td>3</td>\n",
              "      <td>7</td>\n",
              "      <td>Bryce</td>\n",
              "      <td>Brice</td>\n",
              "    </tr>\n",
              "    <tr>\n",
              "      <th>9</th>\n",
              "      <td>4</td>\n",
              "      <td>8</td>\n",
              "      <td>Betty</td>\n",
              "      <td>Btisan</td>\n",
              "    </tr>\n",
              "  </tbody>\n",
              "</table>\n",
              "</div>"
            ],
            "text/plain": [
              "   index subject_id first_name last_name\n",
              "0      0          1       Alex  Anderson\n",
              "1      1          2        Amy  Ackerman\n",
              "2      2          3      Allen       Ali\n",
              "3      3          4      Alice      Aoni\n",
              "4      4          5     Ayoung   Atiches\n",
              "5      0          4      Billy    Bonder\n",
              "6      1          5      Brian     Black\n",
              "7      2          6       Bran   Balwner\n",
              "8      3          7      Bryce     Brice\n",
              "9      4          8      Betty    Btisan"
            ]
          },
          "metadata": {
            "tags": []
          },
          "execution_count": 72
        }
      ]
    },
    {
      "cell_type": "markdown",
      "metadata": {
        "id": "7vKe6SjgY28i"
      },
      "source": [
        "### 05. Crie um outro dataframe fruto da junção de data1 e data2 ao longo das colunas e armazene na variável 'all_data_col'."
      ]
    },
    {
      "cell_type": "code",
      "metadata": {
        "id": "kt_q6vE-Y28j",
        "colab": {
          "base_uri": "https://localhost:8080/",
          "height": 204
        },
        "outputId": "a8a0678a-be79-4009-e7f8-e88a7a8ab26c"
      },
      "source": [
        "all_data_col = pd.concat([data1, data2], axis = 1)\n",
        "all_data_col"
      ],
      "execution_count": null,
      "outputs": [
        {
          "output_type": "execute_result",
          "data": {
            "text/html": [
              "<div>\n",
              "<style scoped>\n",
              "    .dataframe tbody tr th:only-of-type {\n",
              "        vertical-align: middle;\n",
              "    }\n",
              "\n",
              "    .dataframe tbody tr th {\n",
              "        vertical-align: top;\n",
              "    }\n",
              "\n",
              "    .dataframe thead th {\n",
              "        text-align: right;\n",
              "    }\n",
              "</style>\n",
              "<table border=\"1\" class=\"dataframe\">\n",
              "  <thead>\n",
              "    <tr style=\"text-align: right;\">\n",
              "      <th></th>\n",
              "      <th>subject_id</th>\n",
              "      <th>first_name</th>\n",
              "      <th>last_name</th>\n",
              "      <th>subject_id</th>\n",
              "      <th>first_name</th>\n",
              "      <th>last_name</th>\n",
              "    </tr>\n",
              "  </thead>\n",
              "  <tbody>\n",
              "    <tr>\n",
              "      <th>0</th>\n",
              "      <td>1</td>\n",
              "      <td>Alex</td>\n",
              "      <td>Anderson</td>\n",
              "      <td>4</td>\n",
              "      <td>Billy</td>\n",
              "      <td>Bonder</td>\n",
              "    </tr>\n",
              "    <tr>\n",
              "      <th>1</th>\n",
              "      <td>2</td>\n",
              "      <td>Amy</td>\n",
              "      <td>Ackerman</td>\n",
              "      <td>5</td>\n",
              "      <td>Brian</td>\n",
              "      <td>Black</td>\n",
              "    </tr>\n",
              "    <tr>\n",
              "      <th>2</th>\n",
              "      <td>3</td>\n",
              "      <td>Allen</td>\n",
              "      <td>Ali</td>\n",
              "      <td>6</td>\n",
              "      <td>Bran</td>\n",
              "      <td>Balwner</td>\n",
              "    </tr>\n",
              "    <tr>\n",
              "      <th>3</th>\n",
              "      <td>4</td>\n",
              "      <td>Alice</td>\n",
              "      <td>Aoni</td>\n",
              "      <td>7</td>\n",
              "      <td>Bryce</td>\n",
              "      <td>Brice</td>\n",
              "    </tr>\n",
              "    <tr>\n",
              "      <th>4</th>\n",
              "      <td>5</td>\n",
              "      <td>Ayoung</td>\n",
              "      <td>Atiches</td>\n",
              "      <td>8</td>\n",
              "      <td>Betty</td>\n",
              "      <td>Btisan</td>\n",
              "    </tr>\n",
              "  </tbody>\n",
              "</table>\n",
              "</div>"
            ],
            "text/plain": [
              "  subject_id first_name last_name subject_id first_name last_name\n",
              "0          1       Alex  Anderson          4      Billy    Bonder\n",
              "1          2        Amy  Ackerman          5      Brian     Black\n",
              "2          3      Allen       Ali          6       Bran   Balwner\n",
              "3          4      Alice      Aoni          7      Bryce     Brice\n",
              "4          5     Ayoung   Atiches          8      Betty    Btisan"
            ]
          },
          "metadata": {
            "tags": []
          },
          "execution_count": 73
        }
      ]
    },
    {
      "cell_type": "markdown",
      "metadata": {
        "id": "61HIJBwJY28r"
      },
      "source": [
        "### 06. Mescle os dataframes all_data e data3 com base na coluna 'subject_id'"
      ]
    },
    {
      "cell_type": "code",
      "metadata": {
        "id": "qQe3cuPzY28s",
        "colab": {
          "base_uri": "https://localhost:8080/",
          "height": 328
        },
        "outputId": "6ee4fcf5-46ce-48ce-d628-6002e498cf82"
      },
      "source": [
        "pd.merge(all_data, data3, on='subject_id')"
      ],
      "execution_count": null,
      "outputs": [
        {
          "output_type": "execute_result",
          "data": {
            "text/html": [
              "<div>\n",
              "<style scoped>\n",
              "    .dataframe tbody tr th:only-of-type {\n",
              "        vertical-align: middle;\n",
              "    }\n",
              "\n",
              "    .dataframe tbody tr th {\n",
              "        vertical-align: top;\n",
              "    }\n",
              "\n",
              "    .dataframe thead th {\n",
              "        text-align: right;\n",
              "    }\n",
              "</style>\n",
              "<table border=\"1\" class=\"dataframe\">\n",
              "  <thead>\n",
              "    <tr style=\"text-align: right;\">\n",
              "      <th></th>\n",
              "      <th>index</th>\n",
              "      <th>subject_id</th>\n",
              "      <th>first_name</th>\n",
              "      <th>last_name</th>\n",
              "      <th>test_id</th>\n",
              "    </tr>\n",
              "  </thead>\n",
              "  <tbody>\n",
              "    <tr>\n",
              "      <th>0</th>\n",
              "      <td>0</td>\n",
              "      <td>1</td>\n",
              "      <td>Alex</td>\n",
              "      <td>Anderson</td>\n",
              "      <td>51</td>\n",
              "    </tr>\n",
              "    <tr>\n",
              "      <th>1</th>\n",
              "      <td>1</td>\n",
              "      <td>2</td>\n",
              "      <td>Amy</td>\n",
              "      <td>Ackerman</td>\n",
              "      <td>15</td>\n",
              "    </tr>\n",
              "    <tr>\n",
              "      <th>2</th>\n",
              "      <td>2</td>\n",
              "      <td>3</td>\n",
              "      <td>Allen</td>\n",
              "      <td>Ali</td>\n",
              "      <td>15</td>\n",
              "    </tr>\n",
              "    <tr>\n",
              "      <th>3</th>\n",
              "      <td>3</td>\n",
              "      <td>4</td>\n",
              "      <td>Alice</td>\n",
              "      <td>Aoni</td>\n",
              "      <td>61</td>\n",
              "    </tr>\n",
              "    <tr>\n",
              "      <th>4</th>\n",
              "      <td>0</td>\n",
              "      <td>4</td>\n",
              "      <td>Billy</td>\n",
              "      <td>Bonder</td>\n",
              "      <td>61</td>\n",
              "    </tr>\n",
              "    <tr>\n",
              "      <th>5</th>\n",
              "      <td>4</td>\n",
              "      <td>5</td>\n",
              "      <td>Ayoung</td>\n",
              "      <td>Atiches</td>\n",
              "      <td>16</td>\n",
              "    </tr>\n",
              "    <tr>\n",
              "      <th>6</th>\n",
              "      <td>1</td>\n",
              "      <td>5</td>\n",
              "      <td>Brian</td>\n",
              "      <td>Black</td>\n",
              "      <td>16</td>\n",
              "    </tr>\n",
              "    <tr>\n",
              "      <th>7</th>\n",
              "      <td>3</td>\n",
              "      <td>7</td>\n",
              "      <td>Bryce</td>\n",
              "      <td>Brice</td>\n",
              "      <td>14</td>\n",
              "    </tr>\n",
              "    <tr>\n",
              "      <th>8</th>\n",
              "      <td>4</td>\n",
              "      <td>8</td>\n",
              "      <td>Betty</td>\n",
              "      <td>Btisan</td>\n",
              "      <td>15</td>\n",
              "    </tr>\n",
              "  </tbody>\n",
              "</table>\n",
              "</div>"
            ],
            "text/plain": [
              "   index subject_id first_name last_name  test_id\n",
              "0      0          1       Alex  Anderson       51\n",
              "1      1          2        Amy  Ackerman       15\n",
              "2      2          3      Allen       Ali       15\n",
              "3      3          4      Alice      Aoni       61\n",
              "4      0          4      Billy    Bonder       61\n",
              "5      4          5     Ayoung   Atiches       16\n",
              "6      1          5      Brian     Black       16\n",
              "7      3          7      Bryce     Brice       14\n",
              "8      4          8      Betty    Btisan       15"
            ]
          },
          "metadata": {
            "tags": []
          },
          "execution_count": 74
        }
      ]
    },
    {
      "cell_type": "markdown",
      "metadata": {
        "id": "YkIvRM75Y28v"
      },
      "source": [
        "### 07. Mescle apenas os dados que têm o mesmo 'subject_id' em data1 e data2"
      ]
    },
    {
      "cell_type": "code",
      "metadata": {
        "id": "TP1u3yTOY28w",
        "colab": {
          "base_uri": "https://localhost:8080/",
          "height": 111
        },
        "outputId": "026d1074-9d3d-4739-b189-1a1ba86fba85"
      },
      "source": [
        "pd.merge(data1, data2, on='subject_id', how='inner')"
      ],
      "execution_count": null,
      "outputs": [
        {
          "output_type": "execute_result",
          "data": {
            "text/html": [
              "<div>\n",
              "<style scoped>\n",
              "    .dataframe tbody tr th:only-of-type {\n",
              "        vertical-align: middle;\n",
              "    }\n",
              "\n",
              "    .dataframe tbody tr th {\n",
              "        vertical-align: top;\n",
              "    }\n",
              "\n",
              "    .dataframe thead th {\n",
              "        text-align: right;\n",
              "    }\n",
              "</style>\n",
              "<table border=\"1\" class=\"dataframe\">\n",
              "  <thead>\n",
              "    <tr style=\"text-align: right;\">\n",
              "      <th></th>\n",
              "      <th>subject_id</th>\n",
              "      <th>first_name_x</th>\n",
              "      <th>last_name_x</th>\n",
              "      <th>first_name_y</th>\n",
              "      <th>last_name_y</th>\n",
              "    </tr>\n",
              "  </thead>\n",
              "  <tbody>\n",
              "    <tr>\n",
              "      <th>0</th>\n",
              "      <td>4</td>\n",
              "      <td>Alice</td>\n",
              "      <td>Aoni</td>\n",
              "      <td>Billy</td>\n",
              "      <td>Bonder</td>\n",
              "    </tr>\n",
              "    <tr>\n",
              "      <th>1</th>\n",
              "      <td>5</td>\n",
              "      <td>Ayoung</td>\n",
              "      <td>Atiches</td>\n",
              "      <td>Brian</td>\n",
              "      <td>Black</td>\n",
              "    </tr>\n",
              "  </tbody>\n",
              "</table>\n",
              "</div>"
            ],
            "text/plain": [
              "  subject_id first_name_x last_name_x first_name_y last_name_y\n",
              "0          4        Alice        Aoni        Billy      Bonder\n",
              "1          5       Ayoung     Atiches        Brian       Black"
            ]
          },
          "metadata": {
            "tags": []
          },
          "execution_count": 75
        }
      ]
    },
    {
      "cell_type": "markdown",
      "metadata": {
        "id": "KJyw9fMxY28z"
      },
      "source": [
        "### 08. Mescle todos os valores em data1 e data2 a partir de 'subject_id', com registros correspondentes de ambos os lados, quando disponíveis."
      ]
    },
    {
      "cell_type": "code",
      "metadata": {
        "id": "0ycSHxkGY280",
        "colab": {
          "base_uri": "https://localhost:8080/",
          "height": 297
        },
        "outputId": "0921bb33-ecc5-4619-8a41-199c7e0c2424"
      },
      "source": [
        "pd.merge(data1, data2, on='subject_id', how='outer')"
      ],
      "execution_count": null,
      "outputs": [
        {
          "output_type": "execute_result",
          "data": {
            "text/html": [
              "<div>\n",
              "<style scoped>\n",
              "    .dataframe tbody tr th:only-of-type {\n",
              "        vertical-align: middle;\n",
              "    }\n",
              "\n",
              "    .dataframe tbody tr th {\n",
              "        vertical-align: top;\n",
              "    }\n",
              "\n",
              "    .dataframe thead th {\n",
              "        text-align: right;\n",
              "    }\n",
              "</style>\n",
              "<table border=\"1\" class=\"dataframe\">\n",
              "  <thead>\n",
              "    <tr style=\"text-align: right;\">\n",
              "      <th></th>\n",
              "      <th>subject_id</th>\n",
              "      <th>first_name_x</th>\n",
              "      <th>last_name_x</th>\n",
              "      <th>first_name_y</th>\n",
              "      <th>last_name_y</th>\n",
              "    </tr>\n",
              "  </thead>\n",
              "  <tbody>\n",
              "    <tr>\n",
              "      <th>0</th>\n",
              "      <td>1</td>\n",
              "      <td>Alex</td>\n",
              "      <td>Anderson</td>\n",
              "      <td>NaN</td>\n",
              "      <td>NaN</td>\n",
              "    </tr>\n",
              "    <tr>\n",
              "      <th>1</th>\n",
              "      <td>2</td>\n",
              "      <td>Amy</td>\n",
              "      <td>Ackerman</td>\n",
              "      <td>NaN</td>\n",
              "      <td>NaN</td>\n",
              "    </tr>\n",
              "    <tr>\n",
              "      <th>2</th>\n",
              "      <td>3</td>\n",
              "      <td>Allen</td>\n",
              "      <td>Ali</td>\n",
              "      <td>NaN</td>\n",
              "      <td>NaN</td>\n",
              "    </tr>\n",
              "    <tr>\n",
              "      <th>3</th>\n",
              "      <td>4</td>\n",
              "      <td>Alice</td>\n",
              "      <td>Aoni</td>\n",
              "      <td>Billy</td>\n",
              "      <td>Bonder</td>\n",
              "    </tr>\n",
              "    <tr>\n",
              "      <th>4</th>\n",
              "      <td>5</td>\n",
              "      <td>Ayoung</td>\n",
              "      <td>Atiches</td>\n",
              "      <td>Brian</td>\n",
              "      <td>Black</td>\n",
              "    </tr>\n",
              "    <tr>\n",
              "      <th>5</th>\n",
              "      <td>6</td>\n",
              "      <td>NaN</td>\n",
              "      <td>NaN</td>\n",
              "      <td>Bran</td>\n",
              "      <td>Balwner</td>\n",
              "    </tr>\n",
              "    <tr>\n",
              "      <th>6</th>\n",
              "      <td>7</td>\n",
              "      <td>NaN</td>\n",
              "      <td>NaN</td>\n",
              "      <td>Bryce</td>\n",
              "      <td>Brice</td>\n",
              "    </tr>\n",
              "    <tr>\n",
              "      <th>7</th>\n",
              "      <td>8</td>\n",
              "      <td>NaN</td>\n",
              "      <td>NaN</td>\n",
              "      <td>Betty</td>\n",
              "      <td>Btisan</td>\n",
              "    </tr>\n",
              "  </tbody>\n",
              "</table>\n",
              "</div>"
            ],
            "text/plain": [
              "  subject_id first_name_x last_name_x first_name_y last_name_y\n",
              "0          1         Alex    Anderson          NaN         NaN\n",
              "1          2          Amy    Ackerman          NaN         NaN\n",
              "2          3        Allen         Ali          NaN         NaN\n",
              "3          4        Alice        Aoni        Billy      Bonder\n",
              "4          5       Ayoung     Atiches        Brian       Black\n",
              "5          6          NaN         NaN         Bran     Balwner\n",
              "6          7          NaN         NaN        Bryce       Brice\n",
              "7          8          NaN         NaN        Betty      Btisan"
            ]
          },
          "metadata": {
            "tags": []
          },
          "execution_count": 76
        }
      ]
    },
    {
      "cell_type": "markdown",
      "metadata": {
        "id": "EplGY3kY_bDf"
      },
      "source": [
        "## Séries temporais"
      ]
    },
    {
      "cell_type": "markdown",
      "metadata": {
        "id": "TNSQ5PuY_bDg"
      },
      "source": [
        "### 01. Importar as bibliotecas necessárias"
      ]
    },
    {
      "cell_type": "code",
      "metadata": {
        "id": "vn-MdCIF_bDh"
      },
      "source": [
        "import pandas as pd\n",
        "import numpy as np\n",
        "\n",
        "# visualization\n",
        "import matplotlib.pyplot as plt\n",
        "\n",
        "%matplotlib inline"
      ],
      "execution_count": null,
      "outputs": []
    },
    {
      "cell_type": "markdown",
      "metadata": {
        "id": "VCg2Jn5B_bDm"
      },
      "source": [
        "### 02. Importar os dados do link https://raw.githubusercontent.com/guipsamora/pandas_exercises/master/09_Time_Series/Apple_Stock/appl_1980_2014.csv"
      ]
    },
    {
      "cell_type": "code",
      "metadata": {
        "id": "3SeQXSkh_bDn",
        "colab": {
          "base_uri": "https://localhost:8080/"
        },
        "outputId": "3546ae48-3992-48d8-c6c8-5f5aa92847f6"
      },
      "source": [
        "url = 'https://raw.githubusercontent.com/guipsamora/pandas_exercises/master/09_Time_Series/Apple_Stock/appl_1980_2014.csv'\n",
        "apple = pd.read_csv(url)\n",
        "\n",
        "apple.head()"
      ],
      "execution_count": null,
      "outputs": [
        {
          "output_type": "execute_result",
          "data": {
            "text/html": [
              "<div>\n",
              "<style scoped>\n",
              "    .dataframe tbody tr th:only-of-type {\n",
              "        vertical-align: middle;\n",
              "    }\n",
              "\n",
              "    .dataframe tbody tr th {\n",
              "        vertical-align: top;\n",
              "    }\n",
              "\n",
              "    .dataframe thead th {\n",
              "        text-align: right;\n",
              "    }\n",
              "</style>\n",
              "<table border=\"1\" class=\"dataframe\">\n",
              "  <thead>\n",
              "    <tr style=\"text-align: right;\">\n",
              "      <th></th>\n",
              "      <th>Date</th>\n",
              "      <th>Open</th>\n",
              "      <th>High</th>\n",
              "      <th>Low</th>\n",
              "      <th>Close</th>\n",
              "      <th>Volume</th>\n",
              "      <th>Adj Close</th>\n",
              "    </tr>\n",
              "  </thead>\n",
              "  <tbody>\n",
              "    <tr>\n",
              "      <th>0</th>\n",
              "      <td>2014-07-08</td>\n",
              "      <td>96.27</td>\n",
              "      <td>96.80</td>\n",
              "      <td>93.92</td>\n",
              "      <td>95.35</td>\n",
              "      <td>65130000</td>\n",
              "      <td>95.35</td>\n",
              "    </tr>\n",
              "    <tr>\n",
              "      <th>1</th>\n",
              "      <td>2014-07-07</td>\n",
              "      <td>94.14</td>\n",
              "      <td>95.99</td>\n",
              "      <td>94.10</td>\n",
              "      <td>95.97</td>\n",
              "      <td>56305400</td>\n",
              "      <td>95.97</td>\n",
              "    </tr>\n",
              "    <tr>\n",
              "      <th>2</th>\n",
              "      <td>2014-07-03</td>\n",
              "      <td>93.67</td>\n",
              "      <td>94.10</td>\n",
              "      <td>93.20</td>\n",
              "      <td>94.03</td>\n",
              "      <td>22891800</td>\n",
              "      <td>94.03</td>\n",
              "    </tr>\n",
              "    <tr>\n",
              "      <th>3</th>\n",
              "      <td>2014-07-02</td>\n",
              "      <td>93.87</td>\n",
              "      <td>94.06</td>\n",
              "      <td>93.09</td>\n",
              "      <td>93.48</td>\n",
              "      <td>28420900</td>\n",
              "      <td>93.48</td>\n",
              "    </tr>\n",
              "    <tr>\n",
              "      <th>4</th>\n",
              "      <td>2014-07-01</td>\n",
              "      <td>93.52</td>\n",
              "      <td>94.07</td>\n",
              "      <td>93.13</td>\n",
              "      <td>93.52</td>\n",
              "      <td>38170200</td>\n",
              "      <td>93.52</td>\n",
              "    </tr>\n",
              "  </tbody>\n",
              "</table>\n",
              "</div>"
            ],
            "text/plain": [
              "         Date   Open   High    Low  Close    Volume  Adj Close\n",
              "0  2014-07-08  96.27  96.80  93.92  95.35  65130000      95.35\n",
              "1  2014-07-07  94.14  95.99  94.10  95.97  56305400      95.97\n",
              "2  2014-07-03  93.67  94.10  93.20  94.03  22891800      94.03\n",
              "3  2014-07-02  93.87  94.06  93.09  93.48  28420900      93.48\n",
              "4  2014-07-01  93.52  94.07  93.13  93.52  38170200      93.52"
            ]
          },
          "metadata": {
            "tags": []
          },
          "execution_count": 78
        }
      ]
    },
    {
      "cell_type": "markdown",
      "metadata": {
        "id": "xN_3nEas_bDt"
      },
      "source": [
        "### 03. Checar as informações das colunas"
      ]
    },
    {
      "cell_type": "code",
      "metadata": {
        "id": "MvnL0Tcg_bDu",
        "colab": {
          "base_uri": "https://localhost:8080/"
        },
        "outputId": "b3c97f7b-9a5b-4e70-8352-55cf7303a718"
      },
      "source": [
        "apple.info()"
      ],
      "execution_count": null,
      "outputs": [
        {
          "output_type": "stream",
          "text": [
            "<class 'pandas.core.frame.DataFrame'>\n",
            "RangeIndex: 8465 entries, 0 to 8464\n",
            "Data columns (total 7 columns):\n",
            " #   Column     Non-Null Count  Dtype  \n",
            "---  ------     --------------  -----  \n",
            " 0   Date       8465 non-null   object \n",
            " 1   Open       8465 non-null   float64\n",
            " 2   High       8465 non-null   float64\n",
            " 3   Low        8465 non-null   float64\n",
            " 4   Close      8465 non-null   float64\n",
            " 5   Volume     8465 non-null   int64  \n",
            " 6   Adj Close  8465 non-null   float64\n",
            "dtypes: float64(5), int64(1), object(1)\n",
            "memory usage: 463.1+ KB\n"
          ],
          "name": "stdout"
        }
      ]
    },
    {
      "cell_type": "markdown",
      "metadata": {
        "id": "Wo2TZBZD_bDy"
      },
      "source": [
        "### 04. Transformar a coluna 'Date' para o formato datetime."
      ]
    },
    {
      "cell_type": "code",
      "metadata": {
        "id": "gib5xvSP_bDy",
        "colab": {
          "base_uri": "https://localhost:8080/"
        },
        "outputId": "c86b8078-15f6-48c8-8a3a-ff8ca5a538f5"
      },
      "source": [
        "apple.Date = pd.to_datetime(apple.Date)\n",
        "\n",
        "apple['Date'].head()"
      ],
      "execution_count": null,
      "outputs": [
        {
          "output_type": "execute_result",
          "data": {
            "text/plain": [
              "0   2014-07-08\n",
              "1   2014-07-07\n",
              "2   2014-07-03\n",
              "3   2014-07-02\n",
              "4   2014-07-01\n",
              "Name: Date, dtype: datetime64[ns]"
            ]
          },
          "metadata": {
            "tags": []
          },
          "execution_count": 80
        }
      ]
    },
    {
      "cell_type": "markdown",
      "metadata": {
        "id": "dn2b-Ki0_bD6"
      },
      "source": [
        "### 05. Verificar se existe alguma data repetida no dataframe"
      ]
    },
    {
      "cell_type": "code",
      "metadata": {
        "id": "TIYa_Su91dF7",
        "colab": {
          "base_uri": "https://localhost:8080/"
        },
        "outputId": "202d214c-749f-4af7-c5e2-3ea06aca3eca"
      },
      "source": [
        "apple.Date.is_unique"
      ],
      "execution_count": null,
      "outputs": [
        {
          "output_type": "execute_result",
          "data": {
            "text/plain": [
              "True"
            ]
          },
          "metadata": {
            "tags": []
          },
          "execution_count": 81
        }
      ]
    },
    {
      "cell_type": "markdown",
      "metadata": {
        "id": "TBKgK8i4_bD2"
      },
      "source": [
        "### 06.  Definir a coluna 'Date' como índice"
      ]
    },
    {
      "cell_type": "code",
      "metadata": {
        "id": "QBJ-W5j6_bD2",
        "colab": {
          "base_uri": "https://localhost:8080/"
        },
        "outputId": "d73d9039-f850-4450-cffc-987aabd1e3b0"
      },
      "source": [
        "apple = apple.set_index('Date')\n",
        "\n",
        "apple.head()"
      ],
      "execution_count": null,
      "outputs": [
        {
          "output_type": "execute_result",
          "data": {
            "text/html": [
              "<div>\n",
              "<style scoped>\n",
              "    .dataframe tbody tr th:only-of-type {\n",
              "        vertical-align: middle;\n",
              "    }\n",
              "\n",
              "    .dataframe tbody tr th {\n",
              "        vertical-align: top;\n",
              "    }\n",
              "\n",
              "    .dataframe thead th {\n",
              "        text-align: right;\n",
              "    }\n",
              "</style>\n",
              "<table border=\"1\" class=\"dataframe\">\n",
              "  <thead>\n",
              "    <tr style=\"text-align: right;\">\n",
              "      <th></th>\n",
              "      <th>Open</th>\n",
              "      <th>High</th>\n",
              "      <th>Low</th>\n",
              "      <th>Close</th>\n",
              "      <th>Volume</th>\n",
              "      <th>Adj Close</th>\n",
              "    </tr>\n",
              "    <tr>\n",
              "      <th>Date</th>\n",
              "      <th></th>\n",
              "      <th></th>\n",
              "      <th></th>\n",
              "      <th></th>\n",
              "      <th></th>\n",
              "      <th></th>\n",
              "    </tr>\n",
              "  </thead>\n",
              "  <tbody>\n",
              "    <tr>\n",
              "      <th>2014-07-08</th>\n",
              "      <td>96.27</td>\n",
              "      <td>96.80</td>\n",
              "      <td>93.92</td>\n",
              "      <td>95.35</td>\n",
              "      <td>65130000</td>\n",
              "      <td>95.35</td>\n",
              "    </tr>\n",
              "    <tr>\n",
              "      <th>2014-07-07</th>\n",
              "      <td>94.14</td>\n",
              "      <td>95.99</td>\n",
              "      <td>94.10</td>\n",
              "      <td>95.97</td>\n",
              "      <td>56305400</td>\n",
              "      <td>95.97</td>\n",
              "    </tr>\n",
              "    <tr>\n",
              "      <th>2014-07-03</th>\n",
              "      <td>93.67</td>\n",
              "      <td>94.10</td>\n",
              "      <td>93.20</td>\n",
              "      <td>94.03</td>\n",
              "      <td>22891800</td>\n",
              "      <td>94.03</td>\n",
              "    </tr>\n",
              "    <tr>\n",
              "      <th>2014-07-02</th>\n",
              "      <td>93.87</td>\n",
              "      <td>94.06</td>\n",
              "      <td>93.09</td>\n",
              "      <td>93.48</td>\n",
              "      <td>28420900</td>\n",
              "      <td>93.48</td>\n",
              "    </tr>\n",
              "    <tr>\n",
              "      <th>2014-07-01</th>\n",
              "      <td>93.52</td>\n",
              "      <td>94.07</td>\n",
              "      <td>93.13</td>\n",
              "      <td>93.52</td>\n",
              "      <td>38170200</td>\n",
              "      <td>93.52</td>\n",
              "    </tr>\n",
              "  </tbody>\n",
              "</table>\n",
              "</div>"
            ],
            "text/plain": [
              "             Open   High    Low  Close    Volume  Adj Close\n",
              "Date                                                       \n",
              "2014-07-08  96.27  96.80  93.92  95.35  65130000      95.35\n",
              "2014-07-07  94.14  95.99  94.10  95.97  56305400      95.97\n",
              "2014-07-03  93.67  94.10  93.20  94.03  22891800      94.03\n",
              "2014-07-02  93.87  94.06  93.09  93.48  28420900      93.48\n",
              "2014-07-01  93.52  94.07  93.13  93.52  38170200      93.52"
            ]
          },
          "metadata": {
            "tags": []
          },
          "execution_count": 82
        }
      ]
    },
    {
      "cell_type": "markdown",
      "metadata": {
        "id": "QGCWMGUa_bEC"
      },
      "source": [
        "### 07.  Ops... as observações estão ordenadas da data mais recente para a mais antiga. É importante que a série temporal comece da observação mais antiga para a mais recente, uma vez que o tempo passa em sentido crescente."
      ]
    },
    {
      "cell_type": "code",
      "metadata": {
        "id": "B_6HMuVV_bED",
        "colab": {
          "base_uri": "https://localhost:8080/"
        },
        "outputId": "7e21e425-1abe-42d9-c2ed-0fb152b26130"
      },
      "source": [
        "apple.sort_index(ascending = True).head()"
      ],
      "execution_count": null,
      "outputs": [
        {
          "output_type": "execute_result",
          "data": {
            "text/html": [
              "<div>\n",
              "<style scoped>\n",
              "    .dataframe tbody tr th:only-of-type {\n",
              "        vertical-align: middle;\n",
              "    }\n",
              "\n",
              "    .dataframe tbody tr th {\n",
              "        vertical-align: top;\n",
              "    }\n",
              "\n",
              "    .dataframe thead th {\n",
              "        text-align: right;\n",
              "    }\n",
              "</style>\n",
              "<table border=\"1\" class=\"dataframe\">\n",
              "  <thead>\n",
              "    <tr style=\"text-align: right;\">\n",
              "      <th></th>\n",
              "      <th>Open</th>\n",
              "      <th>High</th>\n",
              "      <th>Low</th>\n",
              "      <th>Close</th>\n",
              "      <th>Volume</th>\n",
              "      <th>Adj Close</th>\n",
              "    </tr>\n",
              "    <tr>\n",
              "      <th>Date</th>\n",
              "      <th></th>\n",
              "      <th></th>\n",
              "      <th></th>\n",
              "      <th></th>\n",
              "      <th></th>\n",
              "      <th></th>\n",
              "    </tr>\n",
              "  </thead>\n",
              "  <tbody>\n",
              "    <tr>\n",
              "      <th>1980-12-12</th>\n",
              "      <td>28.75</td>\n",
              "      <td>28.87</td>\n",
              "      <td>28.75</td>\n",
              "      <td>28.75</td>\n",
              "      <td>117258400</td>\n",
              "      <td>0.45</td>\n",
              "    </tr>\n",
              "    <tr>\n",
              "      <th>1980-12-15</th>\n",
              "      <td>27.38</td>\n",
              "      <td>27.38</td>\n",
              "      <td>27.25</td>\n",
              "      <td>27.25</td>\n",
              "      <td>43971200</td>\n",
              "      <td>0.42</td>\n",
              "    </tr>\n",
              "    <tr>\n",
              "      <th>1980-12-16</th>\n",
              "      <td>25.37</td>\n",
              "      <td>25.37</td>\n",
              "      <td>25.25</td>\n",
              "      <td>25.25</td>\n",
              "      <td>26432000</td>\n",
              "      <td>0.39</td>\n",
              "    </tr>\n",
              "    <tr>\n",
              "      <th>1980-12-17</th>\n",
              "      <td>25.87</td>\n",
              "      <td>26.00</td>\n",
              "      <td>25.87</td>\n",
              "      <td>25.87</td>\n",
              "      <td>21610400</td>\n",
              "      <td>0.40</td>\n",
              "    </tr>\n",
              "    <tr>\n",
              "      <th>1980-12-18</th>\n",
              "      <td>26.63</td>\n",
              "      <td>26.75</td>\n",
              "      <td>26.63</td>\n",
              "      <td>26.63</td>\n",
              "      <td>18362400</td>\n",
              "      <td>0.41</td>\n",
              "    </tr>\n",
              "  </tbody>\n",
              "</table>\n",
              "</div>"
            ],
            "text/plain": [
              "             Open   High    Low  Close     Volume  Adj Close\n",
              "Date                                                        \n",
              "1980-12-12  28.75  28.87  28.75  28.75  117258400       0.45\n",
              "1980-12-15  27.38  27.38  27.25  27.25   43971200       0.42\n",
              "1980-12-16  25.37  25.37  25.25  25.25   26432000       0.39\n",
              "1980-12-17  25.87  26.00  25.87  25.87   21610400       0.40\n",
              "1980-12-18  26.63  26.75  26.63  26.63   18362400       0.41"
            ]
          },
          "metadata": {
            "tags": []
          },
          "execution_count": 83
        }
      ]
    },
    {
      "cell_type": "markdown",
      "metadata": {
        "id": "-QcofmWt_bEH"
      },
      "source": [
        "### 08. Vamos criar um novo dataframe com apenas a observação do último dia útil de cada mês."
      ]
    },
    {
      "cell_type": "code",
      "metadata": {
        "id": "1KtJFErz_bEH",
        "colab": {
          "base_uri": "https://localhost:8080/"
        },
        "outputId": "1db54215-3b54-4841-ae91-bbd74d7a14d4"
      },
      "source": [
        "apple_month = apple.resample('BM').last()\n",
        "\n",
        "apple_month.head()"
      ],
      "execution_count": null,
      "outputs": [
        {
          "output_type": "execute_result",
          "data": {
            "text/html": [
              "<div>\n",
              "<style scoped>\n",
              "    .dataframe tbody tr th:only-of-type {\n",
              "        vertical-align: middle;\n",
              "    }\n",
              "\n",
              "    .dataframe tbody tr th {\n",
              "        vertical-align: top;\n",
              "    }\n",
              "\n",
              "    .dataframe thead th {\n",
              "        text-align: right;\n",
              "    }\n",
              "</style>\n",
              "<table border=\"1\" class=\"dataframe\">\n",
              "  <thead>\n",
              "    <tr style=\"text-align: right;\">\n",
              "      <th></th>\n",
              "      <th>Open</th>\n",
              "      <th>High</th>\n",
              "      <th>Low</th>\n",
              "      <th>Close</th>\n",
              "      <th>Volume</th>\n",
              "      <th>Adj Close</th>\n",
              "    </tr>\n",
              "    <tr>\n",
              "      <th>Date</th>\n",
              "      <th></th>\n",
              "      <th></th>\n",
              "      <th></th>\n",
              "      <th></th>\n",
              "      <th></th>\n",
              "      <th></th>\n",
              "    </tr>\n",
              "  </thead>\n",
              "  <tbody>\n",
              "    <tr>\n",
              "      <th>1980-12-31</th>\n",
              "      <td>34.25</td>\n",
              "      <td>34.25</td>\n",
              "      <td>34.13</td>\n",
              "      <td>34.13</td>\n",
              "      <td>8937600</td>\n",
              "      <td>0.53</td>\n",
              "    </tr>\n",
              "    <tr>\n",
              "      <th>1981-01-30</th>\n",
              "      <td>28.50</td>\n",
              "      <td>28.50</td>\n",
              "      <td>28.25</td>\n",
              "      <td>28.25</td>\n",
              "      <td>11547200</td>\n",
              "      <td>0.44</td>\n",
              "    </tr>\n",
              "    <tr>\n",
              "      <th>1981-02-27</th>\n",
              "      <td>26.50</td>\n",
              "      <td>26.75</td>\n",
              "      <td>26.50</td>\n",
              "      <td>26.50</td>\n",
              "      <td>3690400</td>\n",
              "      <td>0.41</td>\n",
              "    </tr>\n",
              "    <tr>\n",
              "      <th>1981-03-31</th>\n",
              "      <td>24.75</td>\n",
              "      <td>24.75</td>\n",
              "      <td>24.50</td>\n",
              "      <td>24.50</td>\n",
              "      <td>3998400</td>\n",
              "      <td>0.38</td>\n",
              "    </tr>\n",
              "    <tr>\n",
              "      <th>1981-04-30</th>\n",
              "      <td>28.38</td>\n",
              "      <td>28.62</td>\n",
              "      <td>28.38</td>\n",
              "      <td>28.38</td>\n",
              "      <td>3152800</td>\n",
              "      <td>0.44</td>\n",
              "    </tr>\n",
              "  </tbody>\n",
              "</table>\n",
              "</div>"
            ],
            "text/plain": [
              "             Open   High    Low  Close    Volume  Adj Close\n",
              "Date                                                       \n",
              "1980-12-31  34.25  34.25  34.13  34.13   8937600       0.53\n",
              "1981-01-30  28.50  28.50  28.25  28.25  11547200       0.44\n",
              "1981-02-27  26.50  26.75  26.50  26.50   3690400       0.41\n",
              "1981-03-31  24.75  24.75  24.50  24.50   3998400       0.38\n",
              "1981-04-30  28.38  28.62  28.38  28.38   3152800       0.44"
            ]
          },
          "metadata": {
            "tags": []
          },
          "execution_count": 84
        }
      ]
    },
    {
      "cell_type": "markdown",
      "metadata": {
        "id": "d-nz5TKj_bEL"
      },
      "source": [
        "### 09. Qual a diferença em dias da data mais antiga para a mais recente?"
      ]
    },
    {
      "cell_type": "code",
      "metadata": {
        "id": "l8v0t5Tb_bEM",
        "colab": {
          "base_uri": "https://localhost:8080/"
        },
        "outputId": "4a2a81c8-409f-40ec-bf9c-bf70c2b8dfee"
      },
      "source": [
        "(apple.index.max() - apple.index.min()).days"
      ],
      "execution_count": null,
      "outputs": [
        {
          "output_type": "execute_result",
          "data": {
            "text/plain": [
              "12261"
            ]
          },
          "metadata": {
            "tags": []
          },
          "execution_count": 85
        }
      ]
    },
    {
      "cell_type": "markdown",
      "metadata": {
        "id": "qJ4831jE_bEV"
      },
      "source": [
        "### 10.  Quantos meses nós temos na base?"
      ]
    },
    {
      "cell_type": "code",
      "metadata": {
        "id": "VW_RJd63_bEX",
        "colab": {
          "base_uri": "https://localhost:8080/"
        },
        "outputId": "844029f5-912c-447c-f5a9-4a155a319b75"
      },
      "source": [
        "apple_months = apple.resample('M').mean()\n",
        "\n",
        "len(apple_months.index)"
      ],
      "execution_count": null,
      "outputs": [
        {
          "output_type": "execute_result",
          "data": {
            "text/plain": [
              "404"
            ]
          },
          "metadata": {
            "tags": []
          },
          "execution_count": 86
        }
      ]
    },
    {
      "cell_type": "markdown",
      "metadata": {
        "id": "ZYNwQskg_bEb"
      },
      "source": [
        "### 11. Exibir o gráfico da coluna 'Adj Close' do dataframe apple. Defina o tamanho da figura como 14 x 9 polegadas.\n"
      ]
    },
    {
      "cell_type": "code",
      "metadata": {
        "id": "pY50NEjw_bEb",
        "colab": {
          "base_uri": "https://localhost:8080/"
        },
        "outputId": "10d5f7df-82c3-4bae-d066-fae016150116"
      },
      "source": [
        "# Cria um gráfico e atribui a uma variável\n",
        "appl_open = apple['Adj Close'].plot(title = \"Ações da Apple\")\n",
        "\n",
        "# Muda o tamanho da figura\n",
        "fig = appl_open.get_figure()\n",
        "fig.set_size_inches(14, 9)"
      ],
      "execution_count": null,
      "outputs": [
        {
          "output_type": "display_data",
          "data": {
            "image/png": "[encoded data removed]",
            "text/plain": [
              "<Figure size 1008x648 with 1 Axes>"
            ]
          },
          "metadata": {
            "tags": [],
            "needs_background": "light"
          }
        }
      ]
    },
    {
      "cell_type": "markdown",
      "metadata": {
        "id": "-VObfqZr5EiW"
      },
      "source": [
        "### 12. Exibir o gráfico da coluna 'Adj Close' do dataframe apple_month. Defina o tamanho da figura como 13.5 x 9 polegadas."
      ]
    },
    {
      "cell_type": "code",
      "metadata": {
        "id": "KoQJwSYa40Hz",
        "colab": {
          "base_uri": "https://localhost:8080/"
        },
        "outputId": "823e3b16-2c93-40b3-93cb-24974f202539"
      },
      "source": [
        "# Cria um gráfico e atribui a uma variável\n",
        "appl_open = apple_month['Adj Close'].plot(title = \"Ações da Apple - fechamento mensal\")\n",
        "\n",
        "# Muda o tamanho da figura\n",
        "fig = appl_open.get_figure()\n",
        "fig.set_size_inches(14, 9)"
      ],
      "execution_count": null,
      "outputs": [
        {
          "output_type": "display_data",
          "data": {
            "image/png": "[encoded data removed]",
            "text/plain": [
              "<Figure size 1008x648 with 1 Axes>"
            ]
          },
          "metadata": {
            "tags": [],
            "needs_background": "light"
          }
        }
      ]
    }
  ]
}