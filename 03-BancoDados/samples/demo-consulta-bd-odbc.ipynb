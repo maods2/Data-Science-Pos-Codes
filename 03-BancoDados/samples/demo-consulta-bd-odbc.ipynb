{
 "metadata": {
  "language_info": {
   "codemirror_mode": {
    "name": "ipython",
    "version": 3
   },
   "file_extension": ".py",
   "mimetype": "text/x-python",
   "name": "python",
   "nbconvert_exporter": "python",
   "pygments_lexer": "ipython3",
   "version": "3.8.6-final"
  },
  "orig_nbformat": 2,
  "kernelspec": {
   "name": "python3",
   "display_name": "Python 3"
  }
 },
 "nbformat": 4,
 "nbformat_minor": 2,
 "cells": [
  {
   "source": [
    "# BANCO DE DADOS - DEMONSTRAÇÃO\n",
    "## Consultando um Banco de Dados usando ODBC"
   ],
   "cell_type": "markdown",
   "metadata": {}
  },
  {
   "cell_type": "code",
   "execution_count": 11,
   "metadata": {},
   "outputs": [],
   "source": [
    "# Importando o conector ODBC\n",
    "import pyodbc"
   ]
  },
  {
   "cell_type": "code",
   "execution_count": 12,
   "metadata": {},
   "outputs": [
    {
     "output_type": "execute_result",
     "data": {
      "text/plain": [
       "{'DSN_SAKILA': 'MySQL ODBC 8.0 ANSI Driver',\n",
       " 'BANCO_DADOS_EXEMPLO': 'MySQL ODBC 8.0 ANSI Driver',\n",
       " 'Amazon Redshift ODBC DSN': 'Amazon Redshift (x64)'}"
      ]
     },
     "metadata": {},
     "execution_count": 12
    }
   ],
   "source": [
    "# Listando as fontes de dados ODBC\n",
    "# Obs: A criacao do datasource deve ser realizada no Sistema Operacional \n",
    "pyodbc.dataSources()"
   ]
  },
  {
   "cell_type": "code",
   "execution_count": 13,
   "metadata": {},
   "outputs": [],
   "source": [
    "# Estabelecendo uma conexão com banco de dados\n",
    "conexao_odbc = pyodbc.connect(DSN='DSN_SAKILA')"
   ]
  },
  {
   "cell_type": "code",
   "execution_count": 14,
   "metadata": {
    "tags": []
   },
   "outputs": [
    {
     "output_type": "execute_result",
     "data": {
      "text/plain": [
       "<pyodbc.Cursor at 0x299647e9e30>"
      ]
     },
     "metadata": {},
     "execution_count": 14
    }
   ],
   "source": [
    "# Consultando dados do banco SAKILA\n",
    "cursor = conexao_odbc.cursor()\n",
    "cursor.execute('select first_name, email from customer order by first_name')"
   ]
  },
  {
   "cell_type": "code",
   "execution_count": 15,
   "metadata": {},
   "outputs": [
    {
     "output_type": "stream",
     "name": "stdout",
     "text": [
      "Total de registros: 599\nTamanho padrao do bloco de registro: 1\n"
     ]
    }
   ],
   "source": [
    "# Verificando alguns atributos do cursor\n",
    "print(f'Total de registros: {cursor.rowcount}')\n",
    "print(f'Tamanho padrao do bloco de registro: {cursor.arraysize}')"
   ]
  },
  {
   "cell_type": "code",
   "execution_count": 16,
   "metadata": {},
   "outputs": [
    {
     "output_type": "stream",
     "name": "stdout",
     "text": [
      "('AARON', 'AARON.SELBY@sakilacustomer.org')\n"
     ]
    }
   ],
   "source": [
    "# Buscando um registro\n",
    "regs = cursor.fetchone()\n",
    "if regs:\n",
    "    print(regs)"
   ]
  },
  {
   "cell_type": "code",
   "execution_count": 17,
   "metadata": {},
   "outputs": [
    {
     "output_type": "stream",
     "name": "stdout",
     "text": [
      "[('ADAM', 'ADAM.GOOCH@sakilacustomer.org')]\n"
     ]
    }
   ],
   "source": [
    "# Buscando varios registros um a um\n",
    "regs = cursor.fetchmany()\n",
    "if regs:\n",
    "    print(regs)"
   ]
  },
  {
   "cell_type": "code",
   "execution_count": 18,
   "metadata": {
    "tags": [
     "outputPrepend"
    ]
   },
   "outputs": [
    {
     "output_type": "stream",
     "name": "stdout",
     "text": [
      "tomer.org'), ('ELLEN', 'ELLEN.SIMPSON@sakilacustomer.org'), ('ELMER', 'ELMER.NOE@sakilacustomer.org'), ('ELSIE', 'ELSIE.KELLEY@sakilacustomer.org'), ('EMILY', 'EMILY.DIAZ@sakilacustomer.org'), ('EMMA', 'EMMA.BOYD@sakilacustomer.org'), ('ENRIQUE', 'ENRIQUE.FORSYTHE@sakilacustomer.org'), ('ERIC', 'ERIC.ROBERT@sakilacustomer.org'), ('ERICA', 'ERICA.MATTHEWS@sakilacustomer.org'), ('ERIK', 'ERIK.GUILLEN@sakilacustomer.org'), ('ERIKA', 'ERIKA.PENA@sakilacustomer.org'), ('ERIN', 'ERIN.DUNN@sakilacustomer.org'), ('ERNEST', 'ERNEST.STEPP@sakilacustomer.org'), ('ESTHER', 'ESTHER.CRAWFORD@sakilacustomer.org'), ('ETHEL', 'ETHEL.WEBB@sakilacustomer.org'), ('EUGENE', 'EUGENE.CULPEPPER@sakilacustomer.org'), ('EVA', 'EVA.RAMOS@sakilacustomer.org'), ('EVELYN', 'EVELYN.MORGAN@sakilacustomer.org'), ('EVERETT', 'EVERETT.BANDA@sakilacustomer.org'), ('FELICIA', 'FELICIA.SUTTON@sakilacustomer.org'), ('FELIX', 'FELIX.GAFFNEY@sakilacustomer.org'), ('FERNANDO', 'FERNANDO.CHURCHILL@sakilacustomer.org'), ('FLORENCE', 'FLORENCE.WOODS@sakilacustomer.org'), ('FLOYD', 'FLOYD.GANDY@sakilacustomer.org'), ('FRANCES', 'FRANCES.PARKER@sakilacustomer.org'), ('FRANCIS', 'FRANCIS.SIKES@sakilacustomer.org'), ('FRANCISCO', 'FRANCISCO.SKIDMORE@sakilacustomer.org'), ('FRANK', 'FRANK.WAGGONER@sakilacustomer.org'), ('FRANKLIN', 'FRANKLIN.TROUTMAN@sakilacustomer.org'), ('FRED', 'FRED.WHEAT@sakilacustomer.org'), ('FREDDIE', 'FREDDIE.DUGGAN@sakilacustomer.org'), ('FREDERICK', 'FREDERICK.ISBELL@sakilacustomer.org'), ('GABRIEL', 'GABRIEL.HARDER@sakilacustomer.org'), ('GAIL', 'GAIL.KNIGHT@sakilacustomer.org'), ('GARY', 'GARY.COY@sakilacustomer.org'), ('GENE', 'GENE.SANBORN@sakilacustomer.org'), ('GEORGE', 'GEORGE.LINTON@sakilacustomer.org'), ('GEORGIA', 'GEORGIA.JACOBS@sakilacustomer.org'), ('GERALD', 'GERALD.FULTZ@sakilacustomer.org'), ('GERALDINE', 'GERALDINE.PERKINS@sakilacustomer.org'), ('GERTRUDE', 'GERTRUDE.CASTILLO@sakilacustomer.org'), ('GILBERT', 'GILBERT.SLEDGE@sakilacustomer.org'), ('GINA', 'GINA.WILLIAMSON@sakilacustomer.org'), ('GLADYS', 'GLADYS.HAMILTON@sakilacustomer.org'), ('GLEN', 'GLEN.TALBERT@sakilacustomer.org'), ('GLENDA', 'GLENDA.FRAZIER@sakilacustomer.org'), ('GLENN', 'GLENN.PULLEN@sakilacustomer.org'), ('GLORIA', 'GLORIA.COOK@sakilacustomer.org'), ('GORDON', 'GORDON.ALLARD@sakilacustomer.org'), ('GRACE', 'GRACE.ELLIS@sakilacustomer.org'), ('GREG', 'GREG.ROBINS@sakilacustomer.org'), ('GREGORY', 'GREGORY.MAULDIN@sakilacustomer.org'), ('GUY', 'GUY.BROWNLEE@sakilacustomer.org'), ('GWENDOLYN', 'GWENDOLYN.MAY@sakilacustomer.org'), ('HAROLD', 'HAROLD.MARTINO@sakilacustomer.org'), ('HARRY', 'HARRY.ARCE@sakilacustomer.org'), ('HARVEY', 'HARVEY.GUAJARDO@sakilacustomer.org'), ('HAZEL', 'HAZEL.WARREN@sakilacustomer.org'), ('HEATHER', 'HEATHER.MORRIS@sakilacustomer.org'), ('HECTOR', 'HECTOR.POINDEXTER@sakilacustomer.org'), ('HEIDI', 'HEIDI.LARSON@sakilacustomer.org'), ('HELEN', 'HELEN.HARRIS@sakilacustomer.org'), ('HENRY', 'HENRY.BILLINGSLEY@sakilacustomer.org'), ('HERBERT', 'HERBERT.KRUGER@sakilacustomer.org'), ('HERMAN', 'HERMAN.DEVORE@sakilacustomer.org'), ('HILDA', 'HILDA.HOPKINS@sakilacustomer.org'), ('HOLLY', 'HOLLY.FOX@sakilacustomer.org'), ('HOWARD', 'HOWARD.FORTNER@sakilacustomer.org'), ('HUGH', 'HUGH.WALDROP@sakilacustomer.org'), ('IAN', 'IAN.STILL@sakilacustomer.org'), ('IDA', 'IDA.ANDREWS@sakilacustomer.org'), ('IRENE', 'IRENE.PRICE@sakilacustomer.org'), ('IRMA', 'IRMA.PEARSON@sakilacustomer.org'), ('ISAAC', 'ISAAC.OGLESBY@sakilacustomer.org'), ('IVAN', 'IVAN.CROMWELL@sakilacustomer.org'), ('JACK', 'JACK.FOUST@sakilacustomer.org'), ('JACKIE', 'JACKIE.LYNCH@sakilacustomer.org'), ('JACOB', 'JACOB.LANCE@sakilacustomer.org'), ('JACQUELINE', 'JACQUELINE.LONG@sakilacustomer.org'), ('JAIME', 'JAIME.NETTLES@sakilacustomer.org'), ('JAMES', 'JAMES.GANNON@sakilacustomer.org'), ('JAMIE', 'JAMIE.RICE@sakilacustomer.org'), ('JAMIE', 'JAMIE.WAUGH@sakilacustomer.org'), ('JANE', 'JANE.BENNETT@sakilacustomer.org'), ('JANET', 'JANET.PHILLIPS@sakilacustomer.org'), ('JANICE', 'JANICE.WARD@sakilacustomer.org'), ('JARED', 'JARED.ELY@sakilacustomer.org'), ('JASON', 'JASON.MORRISSEY@sakilacustomer.org'), ('JAVIER', 'JAVIER.ELROD@sakilacustomer.org'), ('JAY', 'JAY.ROBB@sakilacustomer.org'), ('JEAN', 'JEAN.BELL@sakilacustomer.org'), ('JEANETTE', 'JEANETTE.GREENE@sakilacustomer.org'), ('JEANNE', 'JEANNE.LAWSON@sakilacustomer.org'), ('JEFF', 'JEFF.EAST@sakilacustomer.org'), ('JEFFERY', 'JEFFERY.PINSON@sakilacustomer.org'), ('JEFFREY', 'JEFFREY.SPEAR@sakilacustomer.org'), ('JENNIE', 'JENNIE.TERRY@sakilacustomer.org'), ('JENNIFER', 'JENNIFER.DAVIS@sakilacustomer.org'), ('JENNY', 'JENNY.CASTRO@sakilacustomer.org'), ('JEREMY', 'JEREMY.HURTADO@sakilacustomer.org'), ('JEROME', 'JEROME.KENYON@sakilacustomer.org'), ('JERRY', 'JERRY.JORDON@sakilacustomer.org'), ('JESSE', 'JESSE.SCHILLING@sakilacustomer.org'), ('JESSICA', 'JESSICA.HALL@sakilacustomer.org'), ('JESSIE', 'JESSIE.BANKS@sakilacustomer.org'), ('JESSIE', 'JESSIE.MILAM@sakilacustomer.org'), ('JESUS', 'JESUS.MCCARTNEY@sakilacustomer.org'), ('JILL', 'JILL.HAWKINS@sakilacustomer.org'), ('JIM', 'JIM.REA@sakilacustomer.org'), ('JIMMIE', 'JIMMIE.EGGLESTON@sakilacustomer.org'), ('JIMMY', 'JIMMY.SCHRADER@sakilacustomer.org'), ('JO', 'JO.FOWLER@sakilacustomer.org'), ('JOAN', 'JOAN.COOPER@sakilacustomer.org'), ('JOANN', 'JOANN.GARDNER@sakilacustomer.org'), ('JOANNE', 'JOANNE.ROBERTSON@sakilacustomer.org'), ('JOE', 'JOE.GILLILAND@sakilacustomer.org'), ('JOEL', 'JOEL.FRANCISCO@sakilacustomer.org'), ('JOHN', 'JOHN.FARNSWORTH@sakilacustomer.org'), ('JOHNNIE', 'JOHNNIE.CHISHOLM@sakilacustomer.org'), ('JOHNNY', 'JOHNNY.TURPIN@sakilacustomer.org'), ('JON', 'JON.WILES@sakilacustomer.org'), ('JONATHAN', 'JONATHAN.SCARBOROUGH@sakilacustomer.org'), ('JORDAN', 'JORDAN.ARCHULETA@sakilacustomer.org'), ('JORGE', 'JORGE.OLIVARES@sakilacustomer.org'), ('JOSE', 'JOSE.ANDREW@sakilacustomer.org'), ('JOSEPH', 'JOSEPH.JOY@sakilacustomer.org'), ('JOSEPHINE', 'JOSEPHINE.GOMEZ@sakilacustomer.org'), ('JOSHUA', 'JOSHUA.MARK@sakilacustomer.org'), ('JOY', 'JOY.GEORGE@sakilacustomer.org'), ('JOYCE', 'JOYCE.EDWARDS@sakilacustomer.org'), ('JUAN', 'JUAN.FRALEY@sakilacustomer.org'), ('JUANITA', 'JUANITA.MASON@sakilacustomer.org'), ('JUDITH', 'JUDITH.COX@sakilacustomer.org'), ('JUDY', 'JUDY.GRAY@sakilacustomer.org'), ('JULIA', 'JULIA.FLORES@sakilacustomer.org'), ('JULIAN', 'JULIAN.VEST@sakilacustomer.org'), ('JULIE', 'JULIE.SANCHEZ@sakilacustomer.org'), ('JULIO', 'JULIO.NOLAND@sakilacustomer.org'), ('JUNE', 'JUNE.CARROLL@sakilacustomer.org'), ('JUSTIN', 'JUSTIN.NGO@sakilacustomer.org'), ('KAREN', 'KAREN.JACKSON@sakilacustomer.org'), ('KARL', 'KARL.SEAL@sakilacustomer.org'), ('KATHERINE', 'KATHERINE.RIVERA@sakilacustomer.org'), ('KATHLEEN', 'KATHLEEN.ADAMS@sakilacustomer.org'), ('KATHRYN', 'KATHRYN.COLEMAN@sakilacustomer.org'), ('KATHY', 'KATHY.JAMES@sakilacustomer.org'), ('KATIE', 'KATIE.ELLIOTT@sakilacustomer.org'), ('KAY', 'KAY.CALDWELL@sakilacustomer.org'), ('KEITH', 'KEITH.RICO@sakilacustomer.org'), ('KELLY', 'KELLY.TORRES@sakilacustomer.org'), ('KELLY', 'KELLY.KNOTT@sakilacustomer.org'), ('KEN', 'KEN.PREWITT@sakilacustomer.org'), ('KENNETH', 'KENNETH.GOODEN@sakilacustomer.org'), ('KENT', 'KENT.ARSENAULT@sakilacustomer.org'), ('KEVIN', 'KEVIN.SCHULER@sakilacustomer.org'), ('KIM', 'KIM.CRUZ@sakilacustomer.org'), ('KIMBERLY', 'KIMBERLY.LEE@sakilacustomer.org'), ('KIRK', 'KIRK.STCLAIR@sakilacustomer.org'), ('KRISTEN', 'KRISTEN.CHAVEZ@sakilacustomer.org'), ('KRISTIN', 'KRISTIN.JOHNSTON@sakilacustomer.org'), ('KRISTINA', 'KRISTINA.CHAMBERS@sakilacustomer.org'), ('KURT', 'KURT.EMMONS@sakilacustomer.org'), ('KYLE', 'KYLE.SPURLOCK@sakilacustomer.org'), ('LANCE', 'LANCE.PEMBERTON@sakilacustomer.org'), ('LARRY', 'LARRY.THRASHER@sakilacustomer.org'), ('LAURA', 'LAURA.RODRIGUEZ@sakilacustomer.org'), ('LAUREN', 'LAUREN.HUDSON@sakilacustomer.org'), ('LAURIE', 'LAURIE.LAWRENCE@sakilacustomer.org'), ('LAWRENCE', 'LAWRENCE.LAWTON@sakilacustomer.org'), ('LEAH', 'LEAH.CURTIS@sakilacustomer.org'), ('LEE', 'LEE.HAWKS@sakilacustomer.org'), ('LENA', 'LENA.JENSEN@sakilacustomer.org'), ('LEO', 'LEO.EBERT@sakilacustomer.org'), ('LEON', 'LEON.BOSTIC@sakilacustomer.org'), ('LEONA', 'LEONA.OBRIEN@sakilacustomer.org'), ('LEONARD', 'LEONARD.SCHOFIELD@sakilacustomer.org'), ('LEROY', 'LEROY.BUSTAMANTE@sakilacustomer.org'), ('LESLIE', 'LESLIE.GORDON@sakilacustomer.org'), ('LESLIE', 'LESLIE.SEWARD@sakilacustomer.org'), ('LESTER', 'LESTER.KRAUS@sakilacustomer.org'), ('LEWIS', 'LEWIS.LYMAN@sakilacustomer.org'), ('LILLIAN', 'LILLIAN.GRIFFIN@sakilacustomer.org'), ('LILLIE', 'LILLIE.KIM@sakilacustomer.org'), ('LINDA', 'LINDA.WILLIAMS@sakilacustomer.org'), ('LISA', 'LISA.ANDERSON@sakilacustomer.org'), ('LLOYD', 'LLOYD.DOWD@sakilacustomer.org'), ('LOIS', 'LOIS.BUTLER@sakilacustomer.org'), ('LONNIE', 'LONNIE.TIRADO@sakilacustomer.org'), ('LORETTA', 'LORETTA.CARPENTER@sakilacustomer.org'), ('LORI', 'LORI.WOOD@sakilacustomer.org'), ('LORRAINE', 'LORRAINE.STEPHENS@sakilacustomer.org'), ('LOUIS', 'LOUIS.LEONE@sakilacustomer.org'), ('LOUISE', 'LOUISE.JENKINS@sakilacustomer.org'), ('LUCILLE', 'LUCILLE.HOLMES@sakilacustomer.org'), ('LUCY', 'LUCY.WHEELER@sakilacustomer.org'), ('LUIS', 'LUIS.YANEZ@sakilacustomer.org'), ('LYDIA', 'LYDIA.BURKE@sakilacustomer.org'), ('LYNN', 'LYNN.PAYNE@sakilacustomer.org'), ('MABEL', 'MABEL.HOLLAND@sakilacustomer.org'), ('MAE', 'MAE.FLETCHER@sakilacustomer.org'), ('MANUEL', 'MANUEL.MURRELL@sakilacustomer.org'), ('MARC', 'MARC.OUTLAW@sakilacustomer.org'), ('MARCIA', 'MARCIA.DEAN@sakilacustomer.org'), ('MARCUS', 'MARCUS.HIDALGO@sakilacustomer.org'), ('MARGARET', 'MARGARET.MOORE@sakilacustomer.org'), ('MARGIE', 'MARGIE.WADE@sakilacustomer.org'), ('MARIA', 'MARIA.MILLER@sakilacustomer.org'), ('MARIAN', 'MARIAN.MENDOZA@sakilacustomer.org'), ('MARIE', 'MARIE.TURNER@sakilacustomer.org'), ('MARILYN', 'MARILYN.ROSS@sakilacustomer.org'), ('MARIO', 'MARIO.CHEATHAM@sakilacustomer.org'), ('MARION', 'MARION.SNYDER@sakilacustomer.org'), ('MARION', 'MARION.OCAMPO@sakilacustomer.org'), ('MARJORIE', 'MARJORIE.TUCKER@sakilacustomer.org'), ('MARK', 'MARK.RINEHART@sakilacustomer.org'), ('MARLENE', 'MARLENE.WELCH@sakilacustomer.org'), ('MARSHA', 'MARSHA.DOUGLAS@sakilacustomer.org'), ('MARSHALL', 'MARSHALL.THORN@sakilacustomer.org'), ('MARTHA', 'MARTHA.GONZALEZ@sakilacustomer.org'), ('MARTIN', 'MARTIN.BALES@sakilacustomer.org'), ('MARVIN', 'MARVIN.YEE@sakilacustomer.org'), ('MARY', 'MARY.SMITH@sakilacustomer.org'), ('MATHEW', 'MATHEW.BOLIN@sakilacustomer.org'), ('MATTHEW', 'MATTHEW.MAHAN@sakilacustomer.org'), ('MATTIE', 'MATTIE.HOFFMAN@sakilacustomer.org'), ('MAUREEN', 'MAUREEN.LITTLE@sakilacustomer.org'), ('MAURICE', 'MAURICE.CRAWLEY@sakilacustomer.org'), ('MAX', 'MAX.PITT@sakilacustomer.org'), ('MAXINE', 'MAXINE.SILVA@sakilacustomer.org'), ('MEGAN', 'MEGAN.PALMER@sakilacustomer.org'), ('MELANIE', 'MELANIE.ARMSTRONG@sakilacustomer.org'), ('MELINDA', 'MELINDA.FERNANDEZ@sakilacustomer.org'), ('MELISSA', 'MELISSA.KING@sakilacustomer.org'), ('MELVIN', 'MELVIN.ELLINGTON@sakilacustomer.org'), ('MICHAEL', 'MICHAEL.SILVERMAN@sakilacustomer.org'), ('MICHEAL', 'MICHEAL.FORMAN@sakilacustomer.org'), ('MICHELE', 'MICHELE.GRANT@sakilacustomer.org'), ('MICHELLE', 'MICHELLE.CLARK@sakilacustomer.org'), ('MIGUEL', 'MIGUEL.BETANCOURT@sakilacustomer.org'), ('MIKE', 'MIKE.WAY@sakilacustomer.org'), ('MILDRED', 'MILDRED.BAILEY@sakilacustomer.org'), ('MILTON', 'MILTON.HOWLAND@sakilacustomer.org'), ('MINNIE', 'MINNIE.ROMERO@sakilacustomer.org'), ('MIRIAM', 'MIRIAM.MCKINNEY@sakilacustomer.org'), ('MISTY', 'MISTY.LAMBERT@sakilacustomer.org'), ('MITCHELL', 'MITCHELL.WESTMORELAND@sakilacustomer.org'), ('MONICA', 'MONICA.HICKS@sakilacustomer.org'), ('MORRIS', 'MORRIS.MCCARTER@sakilacustomer.org'), ('MYRTLE', 'MYRTLE.FLEMING@sakilacustomer.org'), ('NANCY', 'NANCY.THOMAS@sakilacustomer.org'), ('NAOMI', 'NAOMI.JENNINGS@sakilacustomer.org'), ('NATALIE', 'NATALIE.MEYER@sakilacustomer.org'), ('NATHAN', 'NATHAN.RUNYON@sakilacustomer.org'), ('NATHANIEL', 'NATHANIEL.ADAM@sakilacustomer.org'), ('NEIL', 'NEIL.RENNER@sakilacustomer.org'), ('NELLIE', 'NELLIE.GARRETT@sakilacustomer.org'), ('NELSON', 'NELSON.CHRISTENSON@sakilacustomer.org'), ('NICHOLAS', 'NICHOLAS.BARFIELD@sakilacustomer.org'), ('NICOLE', 'NICOLE.PETERSON@sakilacustomer.org'), ('NINA', 'NINA.SOTO@sakilacustomer.org'), ('NORA', 'NORA.HERRERA@sakilacustomer.org'), ('NORMA', 'NORMA.GONZALES@sakilacustomer.org'), ('NORMAN', 'NORMAN.CURRIER@sakilacustomer.org'), ('OLGA', 'OLGA.JIMENEZ@sakilacustomer.org'), ('OSCAR', 'OSCAR.AQUINO@sakilacustomer.org'), ('PAMELA', 'PAMELA.BAKER@sakilacustomer.org'), ('PATRICIA', 'PATRICIA.JOHNSON@sakilacustomer.org'), ('PATRICK', 'PATRICK.NEWSOM@sakilacustomer.org'), ('PATSY', 'PATSY.DAVIDSON@sakilacustomer.org'), ('PAUL', 'PAUL.TROUT@sakilacustomer.org'), ('PAULA', 'PAULA.BRYANT@sakilacustomer.org'), ('PAULINE', 'PAULINE.HENRY@sakilacustomer.org'), ('PEARL', 'PEARL.GARZA@sakilacustomer.org'), ('PEDRO', 'PEDRO.CHESTNUT@sakilacustomer.org'), ('PEGGY', 'PEGGY.MYERS@sakilacustomer.org'), ('PENNY', 'PENNY.NEAL@sakilacustomer.org'), ('PERRY', 'PERRY.SWAFFORD@sakilacustomer.org'), ('PETER', 'PETER.MENARD@sakilacustomer.org'), ('PHILIP', 'PHILIP.CAUSEY@sakilacustomer.org'), ('PHILLIP', 'PHILLIP.HOLM@sakilacustomer.org'), ('PHYLLIS', 'PHYLLIS.FOSTER@sakilacustomer.org'), ('PRISCILLA', 'PRISCILLA.LOWE@sakilacustomer.org'), ('RACHEL', 'RACHEL.BARNES@sakilacustomer.org'), ('RAFAEL', 'RAFAEL.ABNEY@sakilacustomer.org'), ('RALPH', 'RALPH.MADRIGAL@sakilacustomer.org'), ('RAMON', 'RAMON.CHOATE@sakilacustomer.org'), ('RAMONA', 'RAMONA.HALE@sakilacustomer.org'), ('RANDALL', 'RANDALL.NEUMANN@sakilacustomer.org'), ('RANDY', 'RANDY.GAITHER@sakilacustomer.org'), ('RAUL', 'RAUL.FORTIER@sakilacustomer.org'), ('RAY', 'RAY.HOULE@sakilacustomer.org'), ('RAYMOND', 'RAYMOND.MCWHORTER@sakilacustomer.org'), ('REBECCA', 'REBECCA.SCOTT@sakilacustomer.org'), ('REGINA', 'REGINA.BERRY@sakilacustomer.org'), ('REGINALD', 'REGINALD.KINDER@sakilacustomer.org'), ('RENE', 'RENE.MCALISTER@sakilacustomer.org'), ('RENEE', 'RENEE.LANE@sakilacustomer.org'), ('RHONDA', 'RHONDA.KENNEDY@sakilacustomer.org'), ('RICARDO', 'RICARDO.MEADOR@sakilacustomer.org'), ('RICHARD', 'RICHARD.MCCRARY@sakilacustomer.org'), ('RICK', 'RICK.MATTOX@sakilacustomer.org'), ('RICKY', 'RICKY.SHELBY@sakilacustomer.org'), ('RITA', 'RITA.GRAHAM@sakilacustomer.org'), ('ROBERT', 'ROBERT.BAUGHMAN@sakilacustomer.org'), ('ROBERTA', 'ROBERTA.HARPER@sakilacustomer.org'), ('ROBERTO', 'ROBERTO.VU@sakilacustomer.org'), ('ROBIN', 'ROBIN.HAYES@sakilacustomer.org'), ('RODNEY', 'RODNEY.MOELLER@sakilacustomer.org'), ('ROGER', 'ROGER.QUINTANILLA@sakilacustomer.org'), ('ROLAND', 'ROLAND.SOUTH@sakilacustomer.org'), ('RON', 'RON.DELUCA@sakilacustomer.org'), ('RONALD', 'RONALD.WEINER@sakilacustomer.org'), ('RONNIE', 'RONNIE.RICKETTS@sakilacustomer.org'), ('ROSA', 'ROSA.REYNOLDS@sakilacustomer.org'), ('ROSE', 'ROSE.HOWARD@sakilacustomer.org'), ('ROSEMARY', 'ROSEMARY.SCHMIDT@sakilacustomer.org'), ('ROSS', 'ROSS.GREY@sakilacustomer.org'), ('ROY', 'ROY.WHITING@sakilacustomer.org'), ('RUBEN', 'RUBEN.GEARY@sakilacustomer.org'), ('RUBY', 'RUBY.WASHINGTON@sakilacustomer.org'), ('RUSSELL', 'RUSSELL.BRINSON@sakilacustomer.org'), ('RUTH', 'RUTH.MARTINEZ@sakilacustomer.org'), ('RYAN', 'RYAN.SALISBURY@sakilacustomer.org'), ('SALLY', 'SALLY.PIERCE@sakilacustomer.org'), ('SALVADOR', 'SALVADOR.TEEL@sakilacustomer.org'), ('SAM', 'SAM.MCDUFFIE@sakilacustomer.org'), ('SAMANTHA', 'SAMANTHA.DUNCAN@sakilacustomer.org'), ('SAMUEL', 'SAMUEL.MARLOW@sakilacustomer.org'), ('SANDRA', 'SANDRA.MARTIN@sakilacustomer.org'), ('SARA', 'SARA.PERRY@sakilacustomer.org'), ('SARAH', 'SARAH.LEWIS@sakilacustomer.org'), ('SCOTT', 'SCOTT.SHELLEY@sakilacustomer.org'), ('SEAN', 'SEAN.DOUGLASS@sakilacustomer.org'), ('SERGIO', 'SERGIO.STANFIELD@sakilacustomer.org'), ('SETH', 'SETH.HANNON@sakilacustomer.org'), ('SHANE', 'SHANE.MILLARD@sakilacustomer.org'), ('SHANNON', 'SHANNON.FREEMAN@sakilacustomer.org'), ('SHARON', 'SHARON.ROBINSON@sakilacustomer.org'), ('SHAWN', 'SHAWN.HEATON@sakilacustomer.org'), ('SHEILA', 'SHEILA.WELLS@sakilacustomer.org'), ('SHELLY', 'SHELLY.WATTS@sakilacustomer.org'), ('SHERRI', 'SHERRI.RHODES@sakilacustomer.org'), ('SHERRY', 'SHERRY.MARSHALL@sakilacustomer.org'), ('SHIRLEY', 'SHIRLEY.ALLEN@sakilacustomer.org'), ('SIDNEY', 'SIDNEY.BURLESON@sakilacustomer.org'), ('SONIA', 'SONIA.GREGORY@sakilacustomer.org'), ('STACEY', 'STACEY.MONTGOMERY@sakilacustomer.org'), ('STACY', 'STACY.CUNNINGHAM@sakilacustomer.org'), ('STANLEY', 'STANLEY.SCROGGINS@sakilacustomer.org'), ('STELLA', 'STELLA.MORENO@sakilacustomer.org'), ('STEPHANIE', 'STEPHANIE.MITCHELL@sakilacustomer.org'), ('STEPHEN', 'STEPHEN.QUALLS@sakilacustomer.org'), ('STEVE', 'STEVE.MACKENZIE@sakilacustomer.org'), ('STEVEN', 'STEVEN.CURLEY@sakilacustomer.org'), ('SUE', 'SUE.PETERS@sakilacustomer.org'), ('SUSAN', 'SUSAN.WILSON@sakilacustomer.org'), ('SUZANNE', 'SUZANNE.NICHOLS@sakilacustomer.org'), ('SYLVIA', 'SYLVIA.ORTIZ@sakilacustomer.org'), ('TAMARA', 'TAMARA.NGUYEN@sakilacustomer.org'), ('TAMMY', 'TAMMY.SANDERS@sakilacustomer.org'), ('TANYA', 'TANYA.GILBERT@sakilacustomer.org'), ('TARA', 'TARA.RYAN@sakilacustomer.org'), ('TED', 'TED.BREAUX@sakilacustomer.org'), ('TERESA', 'TERESA.ROGERS@sakilacustomer.org'), ('TERRANCE', 'TERRANCE.ROUSH@sakilacustomer.org'), ('TERRENCE', 'TERRENCE.GUNDERSON@sakilacustomer.org'), ('TERRI', 'TERRI.VASQUEZ@sakilacustomer.org'), ('TERRY', 'TERRY.CARLSON@sakilacustomer.org'), ('TERRY', 'TERRY.GRISSOM@sakilacustomer.org'), ('THELMA', 'THELMA.MURRAY@sakilacustomer.org'), ('THEODORE', 'THEODORE.CULP@sakilacustomer.org'), ('THERESA', 'THERESA.WATSON@sakilacustomer.org'), ('THOMAS', 'THOMAS.GRIGSBY@sakilacustomer.org'), ('TIFFANY', 'TIFFANY.JORDAN@sakilacustomer.org'), ('TIM', 'TIM.CARY@sakilacustomer.org'), ('TIMOTHY', 'TIMOTHY.BUNN@sakilacustomer.org'), ('TINA', 'TINA.SIMMONS@sakilacustomer.org'), ('TODD', 'TODD.TAN@sakilacustomer.org'), ('TOM', 'TOM.MILNER@sakilacustomer.org'), ('TOMMY', 'TOMMY.COLLAZO@sakilacustomer.org'), ('TONI', 'TONI.HOLT@sakilacustomer.org'), ('TONY', 'TONY.CARRANZA@sakilacustomer.org'), ('TONYA', 'TONYA.CHAPMAN@sakilacustomer.org'), ('TRACEY', 'TRACEY.BARRETT@sakilacustomer.org'), ('TRACY', 'TRACY.COLE@sakilacustomer.org'), ('TRACY', 'TRACY.HERRMANN@sakilacustomer.org'), ('TRAVIS', 'TRAVIS.ESTEP@sakilacustomer.org'), ('TROY', 'TROY.QUIGLEY@sakilacustomer.org'), ('TYLER', 'TYLER.WREN@sakilacustomer.org'), ('TYRONE', 'TYRONE.ASHER@sakilacustomer.org'), ('VALERIE', 'VALERIE.BLACK@sakilacustomer.org'), ('VANESSA', 'VANESSA.SIMS@sakilacustomer.org'), ('VELMA', 'VELMA.LUCAS@sakilacustomer.org'), ('VERA', 'VERA.MCCOY@sakilacustomer.org'), ('VERNON', 'VERNON.CHAPA@sakilacustomer.org'), ('VERONICA', 'VERONICA.STONE@sakilacustomer.org'), ('VICKI', 'VICKI.FIELDS@sakilacustomer.org'), ('VICKIE', 'VICKIE.BREWER@sakilacustomer.org'), ('VICTOR', 'VICTOR.BARKLEY@sakilacustomer.org'), ('VICTORIA', 'VICTORIA.GIBSON@sakilacustomer.org'), ('VINCENT', 'VINCENT.RALSTON@sakilacustomer.org'), ('VIOLA', 'VIOLA.HANSON@sakilacustomer.org'), ('VIOLET', 'VIOLET.RODRIQUEZ@sakilacustomer.org'), ('VIRGIL', 'VIRGIL.WOFFORD@sakilacustomer.org'), ('VIRGINIA', 'VIRGINIA.GREEN@sakilacustomer.org'), ('VIVIAN', 'VIVIAN.RUIZ@sakilacustomer.org'), ('WADE', 'WADE.DELVALLE@sakilacustomer.org'), ('WALLACE', 'WALLACE.SLONE@sakilacustomer.org'), ('WALTER', 'WALTER.PERRYMAN@sakilacustomer.org'), ('WANDA', 'WANDA.PATTERSON@sakilacustomer.org'), ('WARREN', 'WARREN.SHERROD@sakilacustomer.org'), ('WAYNE', 'WAYNE.TRUONG@sakilacustomer.org'), ('WENDY', 'WENDY.HARRISON@sakilacustomer.org'), ('WESLEY', 'WESLEY.BULL@sakilacustomer.org'), ('WILLARD', 'WILLARD.LUMPKIN@sakilacustomer.org'), ('WILLIAM', 'WILLIAM.SATTERFIELD@sakilacustomer.org'), ('WILLIE', 'WILLIE.HOWELL@sakilacustomer.org'), ('WILLIE', 'WILLIE.MARKHAM@sakilacustomer.org'), ('WILMA', 'WILMA.RICHARDS@sakilacustomer.org'), ('YOLANDA', 'YOLANDA.WEAVER@sakilacustomer.org'), ('YVONNE', 'YVONNE.WATKINS@sakilacustomer.org'), ('ZACHARY', 'ZACHARY.HITE@sakilacustomer.org')]\n"
     ]
    }
   ],
   "source": [
    "# Buscando todos os registros - CUIDADO! - :)\n",
    "regs = cursor.fetchall()\n",
    "if regs:\n",
    "    print(regs)"
   ]
  },
  {
   "cell_type": "code",
   "execution_count": 19,
   "metadata": {},
   "outputs": [
    {
     "output_type": "execute_result",
     "data": {
      "text/plain": [
       "     nome                            email\n",
       "0   AARON   AARON.SELBY@sakilacustomer.org\n",
       "1    ADAM    ADAM.GOOCH@sakilacustomer.org\n",
       "2  ADRIAN  ADRIAN.CLARY@sakilacustomer.org\n",
       "3   AGNES  AGNES.BISHOP@sakilacustomer.org\n",
       "4    ALAN     ALAN.KAHN@sakilacustomer.org"
      ],
      "text/html": "<div>\n<style scoped>\n    .dataframe tbody tr th:only-of-type {\n        vertical-align: middle;\n    }\n\n    .dataframe tbody tr th {\n        vertical-align: top;\n    }\n\n    .dataframe thead th {\n        text-align: right;\n    }\n</style>\n<table border=\"1\" class=\"dataframe\">\n  <thead>\n    <tr style=\"text-align: right;\">\n      <th></th>\n      <th>nome</th>\n      <th>email</th>\n    </tr>\n  </thead>\n  <tbody>\n    <tr>\n      <th>0</th>\n      <td>AARON</td>\n      <td>AARON.SELBY@sakilacustomer.org</td>\n    </tr>\n    <tr>\n      <th>1</th>\n      <td>ADAM</td>\n      <td>ADAM.GOOCH@sakilacustomer.org</td>\n    </tr>\n    <tr>\n      <th>2</th>\n      <td>ADRIAN</td>\n      <td>ADRIAN.CLARY@sakilacustomer.org</td>\n    </tr>\n    <tr>\n      <th>3</th>\n      <td>AGNES</td>\n      <td>AGNES.BISHOP@sakilacustomer.org</td>\n    </tr>\n    <tr>\n      <th>4</th>\n      <td>ALAN</td>\n      <td>ALAN.KAHN@sakilacustomer.org</td>\n    </tr>\n  </tbody>\n</table>\n</div>"
     },
     "metadata": {},
     "execution_count": 19
    }
   ],
   "source": [
    "# Atribuindo os registros a um Data Frame do Pandas\n",
    "import pandas as pd\n",
    "cursor.execute('select first_name, email from customer order by first_name')\n",
    "regs = cursor.fetchall()\n",
    "df = pd.DataFrame.from_records(regs, columns=['nome', 'email'])\n",
    "df.head(5)"
   ]
  },
  {
   "cell_type": "code",
   "execution_count": 20,
   "metadata": {},
   "outputs": [],
   "source": [
    "# Encerrando o cursor e a conexao\n",
    "cursor.close()\n",
    "conexao_odbc.close()"
   ]
  }
 ]
}