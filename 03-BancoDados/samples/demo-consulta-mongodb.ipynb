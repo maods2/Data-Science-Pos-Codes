{
 "metadata": {
  "language_info": {
   "codemirror_mode": {
    "name": "ipython",
    "version": 3
   },
   "file_extension": ".py",
   "mimetype": "text/x-python",
   "name": "python",
   "nbconvert_exporter": "python",
   "pygments_lexer": "ipython3",
   "version": "3.8.6-final"
  },
  "orig_nbformat": 2,
  "kernelspec": {
   "name": "python38164bitfa149c23ec8940ab964fab18c70037fb",
   "display_name": "Python 3.8.1 64-bit",
   "language": "python"
  }
 },
 "nbformat": 4,
 "nbformat_minor": 2,
 "cells": [
  {
   "source": [
    "# DEMONSTRACAO NOSQL\n",
    "## Bancos de Dados Orientados a Documentos\n",
    "## MongoDB com Python"
   ],
   "cell_type": "markdown",
   "metadata": {}
  },
  {
   "cell_type": "code",
   "execution_count": 42,
   "metadata": {},
   "outputs": [],
   "source": [
    "import pymongo  # Conector Python para MongoDB"
   ]
  },
  {
   "cell_type": "code",
   "execution_count": 43,
   "metadata": {},
   "outputs": [],
   "source": [
    "# Conectando a um servidor MongoDB local\n",
    "mongodb = pymongo.MongoClient('mongodb://localhost:27017/')"
   ]
  },
  {
   "source": [
    "## Bancos de Dados e Coleções"
   ],
   "cell_type": "markdown",
   "metadata": {}
  },
  {
   "cell_type": "code",
   "execution_count": 44,
   "metadata": {},
   "outputs": [
    {
     "output_type": "execute_result",
     "data": {
      "text/plain": [
       "['admin', 'config', 'livraria', 'local']"
      ]
     },
     "metadata": {},
     "execution_count": 44
    }
   ],
   "source": [
    "# Listando os bancos de dados existentes\n",
    "mongodb.list_database_names()"
   ]
  },
  {
   "cell_type": "code",
   "execution_count": 45,
   "metadata": {},
   "outputs": [],
   "source": [
    "# Acessando um banco de dados\n",
    "# Caso o banco de dados nao exista, sera criado automaticamente\n",
    "bd_livraria = mongodb['livraria']"
   ]
  },
  {
   "cell_type": "code",
   "execution_count": 46,
   "metadata": {},
   "outputs": [
    {
     "output_type": "execute_result",
     "data": {
      "text/plain": [
       "['ebooks']"
      ]
     },
     "metadata": {},
     "execution_count": 46
    }
   ],
   "source": [
    "# Listando as colecoes existentes\n",
    "bd_livraria.list_collection_names()"
   ]
  },
  {
   "cell_type": "code",
   "execution_count": 47,
   "metadata": {},
   "outputs": [],
   "source": [
    "# Acessando uma colecao\n",
    "# Caso a colecao nao exista, sera criada automaticamente\n",
    "col_ebooks = bd_livraria['ebooks']"
   ]
  },
  {
   "source": [
    "## Criando Documentos"
   ],
   "cell_type": "markdown",
   "metadata": {}
  },
  {
   "cell_type": "code",
   "execution_count": 48,
   "metadata": {},
   "outputs": [
    {
     "output_type": "stream",
     "name": "stdout",
     "text": [
      "600083ccac99c411dfaca523\n"
     ]
    }
   ],
   "source": [
    "# Inserindo um documento (livro) na colecao\n",
    "livro = {'titulo': 'NoSQL Essencial', 'editora': 'Novatec', 'ano': '2016'}\n",
    "doc = col_ebooks.insert_one(livro)\n",
    "print(doc.inserted_id)"
   ]
  },
  {
   "cell_type": "code",
   "execution_count": 49,
   "metadata": {},
   "outputs": [
    {
     "output_type": "execute_result",
     "data": {
      "text/plain": [
       "[ObjectId('600083ccac99c411dfaca524'), ObjectId('600083ccac99c411dfaca525')]"
      ]
     },
     "metadata": {},
     "execution_count": 49
    }
   ],
   "source": [
    "# Inserindo multiplos documentos (livros) na colecao\n",
    "livros = [\n",
    "    {'titulo': 'Graph Databases', 'editora': 'O Reilly Media', 'ano': '2015', 'edicao': '1'},\n",
    "    {'titulo': 'Fluent Python', 'editora': 'O Reilly Media', 'ano': '2015', 'autor': 'Ramalho L.'}\n",
    "]\n",
    "\n",
    "doc = col_ebooks.insert_many(livros)\n",
    "doc.inserted_ids"
   ]
  },
  {
   "source": [
    "## Consultando Documentos"
   ],
   "cell_type": "markdown",
   "metadata": {}
  },
  {
   "cell_type": "code",
   "execution_count": 50,
   "metadata": {},
   "outputs": [
    {
     "output_type": "stream",
     "name": "stdout",
     "text": [
      "{'_id': ObjectId('60007badac99c411dfaca51e'), 'titulo': 'NoSQL Essencial', 'editora': 'Novatec', 'ano': '2016'}\n"
     ]
    }
   ],
   "source": [
    "# Buscando o primeiro documento de uma colecao\n",
    "doc = col_ebooks.find_one()\n",
    "print(doc)"
   ]
  },
  {
   "cell_type": "code",
   "execution_count": 51,
   "metadata": {},
   "outputs": [
    {
     "output_type": "stream",
     "name": "stdout",
     "text": [
      "{'_id': ObjectId('60007badac99c411dfaca51e'), 'titulo': 'NoSQL Essencial', 'editora': 'Novatec', 'ano': '2016'}\n{'_id': ObjectId('60007bd1ac99c411dfaca51f'), 'titulo': 'NoSQL Essencial', 'editora': 'Novatec', 'ano': '2016'}\n{'_id': ObjectId('60007bf0ac99c411dfaca520'), 'titulo': 'Graph Databases', 'editora': 'O Reilly Media', 'ano': '2016', 'edicao': '1'}\n{'_id': ObjectId('60007bf0ac99c411dfaca521'), 'titulo': 'Fluent Python', 'editora': 'O Reilly Media', 'ano': '2016', 'autor': 'Ramalho L.'}\n{'_id': ObjectId('600083ccac99c411dfaca523'), 'titulo': 'NoSQL Essencial', 'editora': 'Novatec', 'ano': '2016'}\n{'_id': ObjectId('600083ccac99c411dfaca524'), 'titulo': 'Graph Databases', 'editora': 'O Reilly Media', 'ano': '2015', 'edicao': '1'}\n{'_id': ObjectId('600083ccac99c411dfaca525'), 'titulo': 'Fluent Python', 'editora': 'O Reilly Media', 'ano': '2015', 'autor': 'Ramalho L.'}\n"
     ]
    }
   ],
   "source": [
    "# Buscando todos os documentos de uma colecao\n",
    "docs = col_ebooks.find()\n",
    "for livro in docs: print(livro)"
   ]
  },
  {
   "cell_type": "code",
   "execution_count": 52,
   "metadata": {},
   "outputs": [
    {
     "output_type": "stream",
     "name": "stdout",
     "text": [
      "{'_id': ObjectId('600083ccac99c411dfaca524'), 'titulo': 'Graph Databases', 'editora': 'O Reilly Media', 'ano': '2015', 'edicao': '1'}\n{'_id': ObjectId('600083ccac99c411dfaca525'), 'titulo': 'Fluent Python', 'editora': 'O Reilly Media', 'ano': '2015', 'autor': 'Ramalho L.'}\n"
     ]
    }
   ],
   "source": [
    "# Realizando buscas com filtros\n",
    "docs = col_ebooks.find({'ano': '2015'})\n",
    "for livro in docs: print(livro)"
   ]
  },
  {
   "cell_type": "code",
   "execution_count": 53,
   "metadata": {},
   "outputs": [
    {
     "output_type": "stream",
     "name": "stdout",
     "text": [
      "{'_id': ObjectId('600083ccac99c411dfaca524'), 'titulo': 'Graph Databases'}\n{'_id': ObjectId('600083ccac99c411dfaca525'), 'titulo': 'Fluent Python'}\n"
     ]
    }
   ],
   "source": [
    "# Restringindo os atributos retornados\n",
    "docs = col_ebooks.find({'ano': '2015'}, {'titulo':1})\n",
    "for livro in docs: print(livro)"
   ]
  },
  {
   "cell_type": "code",
   "execution_count": 54,
   "metadata": {},
   "outputs": [],
   "source": [
    "# Utilizando operadores\n",
    "#docs = col_ebooks.find({'ano': {'$gt':'2015'}})\n",
    "#docs = col_ebooks.find({'titulo': {'$gt':'G'}})\n",
    "#docs = col_ebooks.find({'editora': 'O Reilly Media', 'ano':'2015'})\n",
    "#docs = col_ebooks.find({'$or':[{'editora': 'O Reilly Media'}, {'ano':'2016'}]})\n",
    "#docs = col_ebooks.find({'autor': {'$exists':'true'}})\n",
    "#docs = col_ebooks.find({'titulo':{'$in':['NoSQL Essencial', 'Fluent Python']}})\n",
    "for livro in docs: print(livro)"
   ]
  },
  {
   "cell_type": "code",
   "execution_count": 55,
   "metadata": {},
   "outputs": [],
   "source": [
    "# Ordenando resultados de busca\n",
    "#docs = col_ebooks.find().sort('titulo')\n",
    "#docs = col_ebooks.find().sort('ano', -1)\n",
    "for livro in docs: print(livro)"
   ]
  },
  {
   "source": [
    "## Atualizando Documentos"
   ],
   "cell_type": "markdown",
   "metadata": {}
  },
  {
   "cell_type": "code",
   "execution_count": 62,
   "metadata": {},
   "outputs": [
    {
     "output_type": "stream",
     "name": "stdout",
     "text": [
      "Encontrados: 0 Atualizados: 0 Criado: None\n"
     ]
    }
   ],
   "source": [
    "# Atualizando valores\n",
    "#log = col_ebooks.update_one({'ano':'2015'}, {'$set':{'ano':'2017'}})\n",
    "#log = col_ebooks.update_many({'ano':'2016'}, {'$set':{'ano':'2014'}})\n",
    "#log = col_ebooks.update_many({'ano':'1999'}, {'$set':{'ano':'2013'}}, upsert=True)\n",
    "print(f'Encontrados: {log.matched_count} Atualizados: {log.modified_count} Criado: {log.upserted_id}')"
   ]
  },
  {
   "cell_type": "code",
   "execution_count": 63,
   "metadata": {},
   "outputs": [
    {
     "output_type": "stream",
     "name": "stdout",
     "text": [
      "{'_id': ObjectId('60007badac99c411dfaca51e'), 'titulo': 'NoSQL Essencial', 'editora': 'Novatec', 'ano': '2014'}\n{'_id': ObjectId('60007bd1ac99c411dfaca51f'), 'titulo': 'NoSQL Essencial', 'editora': 'Novatec', 'ano': '2014'}\n{'_id': ObjectId('60007bf0ac99c411dfaca520'), 'titulo': 'Graph Databases', 'editora': 'O Reilly Media', 'ano': '2014', 'edicao': '1'}\n{'_id': ObjectId('60007bf0ac99c411dfaca521'), 'titulo': 'Fluent Python', 'editora': 'O Reilly Media', 'ano': '2014', 'autor': 'Ramalho L.'}\n{'_id': ObjectId('600083ccac99c411dfaca523'), 'titulo': 'NoSQL Essencial', 'editora': 'Novatec', 'ano': '2014'}\n{'_id': ObjectId('600083ccac99c411dfaca524'), 'titulo': 'Graph Databases', 'editora': 'O Reilly Media', 'ano': '2014', 'edicao': '1'}\n{'_id': ObjectId('600083ccac99c411dfaca525'), 'titulo': 'Fluent Python', 'editora': 'O Reilly Media', 'ano': '2014', 'autor': 'Ramalho L.'}\n{'_id': ObjectId('600086e2c59f63c2010f0269'), 'ano': '2013'}\n"
     ]
    }
   ],
   "source": [
    "docs = col_ebooks.find()\n",
    "for livro in docs: print(livro)"
   ]
  },
  {
   "source": [
    "## Excluindo Documentos e Coleções"
   ],
   "cell_type": "markdown",
   "metadata": {}
  },
  {
   "cell_type": "code",
   "execution_count": 68,
   "metadata": {},
   "outputs": [
    {
     "output_type": "stream",
     "name": "stdout",
     "text": [
      "Excluidos: 7\n"
     ]
    }
   ],
   "source": [
    "# Excluindo documentos\n",
    "#log = col_ebooks.delete_one({'ano':'2017'})\n",
    "log = col_ebooks.delete_many({'ano':{'$lt':'2020'}})\n",
    "print(f'Excluidos: {log.deleted_count}')"
   ]
  },
  {
   "cell_type": "code",
   "execution_count": 69,
   "metadata": {},
   "outputs": [],
   "source": [
    "docs = col_ebooks.find()\n",
    "for livro in docs: print(livro)"
   ]
  },
  {
   "cell_type": "code",
   "execution_count": 72,
   "metadata": {},
   "outputs": [
    {
     "output_type": "stream",
     "name": "stdout",
     "text": [
      "None\n"
     ]
    }
   ],
   "source": [
    "# Excluindo uma colecao\n",
    "col_ebooks.drop()"
   ]
  }
 ]
}