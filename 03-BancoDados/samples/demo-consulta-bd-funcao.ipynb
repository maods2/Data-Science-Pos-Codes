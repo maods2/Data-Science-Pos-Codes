{
 "metadata": {
  "language_info": {
   "codemirror_mode": {
    "name": "ipython",
    "version": 3
   },
   "file_extension": ".py",
   "mimetype": "text/x-python",
   "name": "python",
   "nbconvert_exporter": "python",
   "pygments_lexer": "ipython3",
   "version": "3.8.6-final"
  },
  "orig_nbformat": 2,
  "kernelspec": {
   "name": "python38164bitfa149c23ec8940ab964fab18c70037fb",
   "display_name": "Python 3.8.1 64-bit"
  }
 },
 "nbformat": 4,
 "nbformat_minor": 2,
 "cells": [
  {
   "source": [
    "# BANCO DE DADOS - DEMONSTRAÇÃO\n",
    "## Consultando um banco de dados usando uma função"
   ],
   "cell_type": "markdown",
   "metadata": {}
  },
  {
   "cell_type": "code",
   "execution_count": 16,
   "metadata": {},
   "outputs": [],
   "source": [
    "import pyodbc\n",
    "import mysql.connector as msql\n",
    "import pandas as pd"
   ]
  },
  {
   "cell_type": "code",
   "execution_count": 17,
   "metadata": {},
   "outputs": [],
   "source": [
    "# Funcao para consultar dados em um BD\n",
    "def consulta_bd(conexao, consulta):\n",
    "    cursor = conexao.cursor()\n",
    "    cursor.execute(consulta)\n",
    "    resultado = cursor.fetchall()\n",
    "    resultado_df = pd.DataFrame.from_records(resultado)\n",
    "    cursor.close()\n",
    "    return resultado_df"
   ]
  },
  {
   "cell_type": "code",
   "execution_count": 18,
   "metadata": {},
   "outputs": [],
   "source": [
    "# Consultas SQL\n",
    "consulta_sql_1 = 'SELECT first_name, last_name, email FROM customer ORDER BY first_name'\n",
    "consulta_sql_2 = 'SELECT title, release_year FROM film ORDER BY title;'"
   ]
  },
  {
   "cell_type": "code",
   "execution_count": 19,
   "metadata": {},
   "outputs": [],
   "source": [
    "# Conexoes ODBC e Nativa\n",
    "conexao_odbc = pyodbc.connect(DSN='DSN_SAKILA')\n",
    "conexao_nativa = msql.connect(user='root', password='labsqlbd', database='sakila')"
   ]
  },
  {
   "source": [
    "### Executando a funcão passando uma conexão ODBC"
   ],
   "cell_type": "markdown",
   "metadata": {}
  },
  {
   "cell_type": "code",
   "execution_count": 20,
   "metadata": {
    "tags": []
   },
   "outputs": [
    {
     "output_type": "execute_result",
     "data": {
      "text/plain": [
       "           0         1                                  2\n",
       "0      AARON     SELBY     AARON.SELBY@sakilacustomer.org\n",
       "1       ADAM     GOOCH      ADAM.GOOCH@sakilacustomer.org\n",
       "2     ADRIAN     CLARY    ADRIAN.CLARY@sakilacustomer.org\n",
       "3      AGNES    BISHOP    AGNES.BISHOP@sakilacustomer.org\n",
       "4       ALAN      KAHN       ALAN.KAHN@sakilacustomer.org\n",
       "..       ...       ...                                ...\n",
       "594   WILLIE   MARKHAM  WILLIE.MARKHAM@sakilacustomer.org\n",
       "595    WILMA  RICHARDS  WILMA.RICHARDS@sakilacustomer.org\n",
       "596  YOLANDA    WEAVER  YOLANDA.WEAVER@sakilacustomer.org\n",
       "597   YVONNE   WATKINS  YVONNE.WATKINS@sakilacustomer.org\n",
       "598  ZACHARY      HITE    ZACHARY.HITE@sakilacustomer.org\n",
       "\n",
       "[599 rows x 3 columns]"
      ],
      "text/html": "<div>\n<style scoped>\n    .dataframe tbody tr th:only-of-type {\n        vertical-align: middle;\n    }\n\n    .dataframe tbody tr th {\n        vertical-align: top;\n    }\n\n    .dataframe thead th {\n        text-align: right;\n    }\n</style>\n<table border=\"1\" class=\"dataframe\">\n  <thead>\n    <tr style=\"text-align: right;\">\n      <th></th>\n      <th>0</th>\n      <th>1</th>\n      <th>2</th>\n    </tr>\n  </thead>\n  <tbody>\n    <tr>\n      <th>0</th>\n      <td>AARON</td>\n      <td>SELBY</td>\n      <td>AARON.SELBY@sakilacustomer.org</td>\n    </tr>\n    <tr>\n      <th>1</th>\n      <td>ADAM</td>\n      <td>GOOCH</td>\n      <td>ADAM.GOOCH@sakilacustomer.org</td>\n    </tr>\n    <tr>\n      <th>2</th>\n      <td>ADRIAN</td>\n      <td>CLARY</td>\n      <td>ADRIAN.CLARY@sakilacustomer.org</td>\n    </tr>\n    <tr>\n      <th>3</th>\n      <td>AGNES</td>\n      <td>BISHOP</td>\n      <td>AGNES.BISHOP@sakilacustomer.org</td>\n    </tr>\n    <tr>\n      <th>4</th>\n      <td>ALAN</td>\n      <td>KAHN</td>\n      <td>ALAN.KAHN@sakilacustomer.org</td>\n    </tr>\n    <tr>\n      <th>...</th>\n      <td>...</td>\n      <td>...</td>\n      <td>...</td>\n    </tr>\n    <tr>\n      <th>594</th>\n      <td>WILLIE</td>\n      <td>MARKHAM</td>\n      <td>WILLIE.MARKHAM@sakilacustomer.org</td>\n    </tr>\n    <tr>\n      <th>595</th>\n      <td>WILMA</td>\n      <td>RICHARDS</td>\n      <td>WILMA.RICHARDS@sakilacustomer.org</td>\n    </tr>\n    <tr>\n      <th>596</th>\n      <td>YOLANDA</td>\n      <td>WEAVER</td>\n      <td>YOLANDA.WEAVER@sakilacustomer.org</td>\n    </tr>\n    <tr>\n      <th>597</th>\n      <td>YVONNE</td>\n      <td>WATKINS</td>\n      <td>YVONNE.WATKINS@sakilacustomer.org</td>\n    </tr>\n    <tr>\n      <th>598</th>\n      <td>ZACHARY</td>\n      <td>HITE</td>\n      <td>ZACHARY.HITE@sakilacustomer.org</td>\n    </tr>\n  </tbody>\n</table>\n<p>599 rows × 3 columns</p>\n</div>"
     },
     "metadata": {},
     "execution_count": 20
    }
   ],
   "source": [
    "resultado_odbc = consulta_bd(conexao_odbc, consulta_sql_1)\n",
    "resultado_odbc"
   ]
  },
  {
   "source": [
    "### Executando a função passando uma conexão via acesso nativo"
   ],
   "cell_type": "markdown",
   "metadata": {}
  },
  {
   "cell_type": "code",
   "execution_count": 21,
   "metadata": {
    "tags": []
   },
   "outputs": [
    {
     "output_type": "execute_result",
     "data": {
      "text/plain": [
       "                     0     1\n",
       "0     ACADEMY DINOSAUR  2006\n",
       "1       ACE GOLDFINGER  2006\n",
       "2     ADAPTATION HOLES  2006\n",
       "3     AFFAIR PREJUDICE  2006\n",
       "4          AFRICAN EGG  2006\n",
       "..                 ...   ...\n",
       "995     YOUNG LANGUAGE  2006\n",
       "996         YOUTH KICK  2006\n",
       "997       ZHIVAGO CORE  2006\n",
       "998  ZOOLANDER FICTION  2006\n",
       "999          ZORRO ARK  2006\n",
       "\n",
       "[1000 rows x 2 columns]"
      ],
      "text/html": "<div>\n<style scoped>\n    .dataframe tbody tr th:only-of-type {\n        vertical-align: middle;\n    }\n\n    .dataframe tbody tr th {\n        vertical-align: top;\n    }\n\n    .dataframe thead th {\n        text-align: right;\n    }\n</style>\n<table border=\"1\" class=\"dataframe\">\n  <thead>\n    <tr style=\"text-align: right;\">\n      <th></th>\n      <th>0</th>\n      <th>1</th>\n    </tr>\n  </thead>\n  <tbody>\n    <tr>\n      <th>0</th>\n      <td>ACADEMY DINOSAUR</td>\n      <td>2006</td>\n    </tr>\n    <tr>\n      <th>1</th>\n      <td>ACE GOLDFINGER</td>\n      <td>2006</td>\n    </tr>\n    <tr>\n      <th>2</th>\n      <td>ADAPTATION HOLES</td>\n      <td>2006</td>\n    </tr>\n    <tr>\n      <th>3</th>\n      <td>AFFAIR PREJUDICE</td>\n      <td>2006</td>\n    </tr>\n    <tr>\n      <th>4</th>\n      <td>AFRICAN EGG</td>\n      <td>2006</td>\n    </tr>\n    <tr>\n      <th>...</th>\n      <td>...</td>\n      <td>...</td>\n    </tr>\n    <tr>\n      <th>995</th>\n      <td>YOUNG LANGUAGE</td>\n      <td>2006</td>\n    </tr>\n    <tr>\n      <th>996</th>\n      <td>YOUTH KICK</td>\n      <td>2006</td>\n    </tr>\n    <tr>\n      <th>997</th>\n      <td>ZHIVAGO CORE</td>\n      <td>2006</td>\n    </tr>\n    <tr>\n      <th>998</th>\n      <td>ZOOLANDER FICTION</td>\n      <td>2006</td>\n    </tr>\n    <tr>\n      <th>999</th>\n      <td>ZORRO ARK</td>\n      <td>2006</td>\n    </tr>\n  </tbody>\n</table>\n<p>1000 rows × 2 columns</p>\n</div>"
     },
     "metadata": {},
     "execution_count": 21
    }
   ],
   "source": [
    "resultado_nativa = consulta_bd(conexao_nativa, consulta_sql_2)\n",
    "resultado_nativa"
   ]
  },
  {
   "cell_type": "code",
   "execution_count": 22,
   "metadata": {},
   "outputs": [],
   "source": [
    "# Encerrando as conexões\n",
    "conexao_odbc.close()\n",
    "conexao_nativa.close()"
   ]
  }
 ]
}